{
 "cells": [
  {
   "cell_type": "code",
   "execution_count": 91,
   "metadata": {
    "collapsed": false
   },
   "outputs": [],
   "source": [
    "import pandas as pd\n",
    "import geopandas as gpd\n",
    "import numpy as np\n",
    "import matplotlib\n",
    "%matplotlib inline\n",
    "import matplotlib.pyplot as plt\n",
    "from geopandas.tools import sjoin\n",
    "from shapely.geometry import Point, mapping,shape"
   ]
  },
  {
   "cell_type": "code",
   "execution_count": 92,
   "metadata": {
    "collapsed": true
   },
   "outputs": [],
   "source": [
    "#Importing the median household income dataframe\n",
    "mhincome = pd.read_csv('2014 Median Household Income.csv', skiprows=[0])"
   ]
  },
  {
   "cell_type": "code",
   "execution_count": 93,
   "metadata": {
    "collapsed": false
   },
   "outputs": [
    {
     "data": {
      "text/plain": [
       "Index([u'Id', u'Id2', u'Geography', u'Total; Estimate; Households',\n",
       "       u'Total; Margin of Error; Households',\n",
       "       u'Median income (dollars); Estimate; Households',\n",
       "       u'Median income (dollars); Margin of Error; Households',\n",
       "       u'Total; Estimate; Households - One race-- - White',\n",
       "       u'Total; Margin of Error; Households - One race-- - White',\n",
       "       u'Median income (dollars); Estimate; Households - One race-- - White',\n",
       "       ...\n",
       "       u'Median income (dollars); Estimate; PERCENT IMPUTED - Household income in the past 12 months',\n",
       "       u'Median income (dollars); Margin of Error; PERCENT IMPUTED - Household income in the past 12 months',\n",
       "       u'Total; Estimate; PERCENT IMPUTED - Family income in the past 12 months',\n",
       "       u'Total; Margin of Error; PERCENT IMPUTED - Family income in the past 12 months',\n",
       "       u'Median income (dollars); Estimate; PERCENT IMPUTED - Family income in the past 12 months',\n",
       "       u'Median income (dollars); Margin of Error; PERCENT IMPUTED - Family income in the past 12 months',\n",
       "       u'Total; Estimate; PERCENT IMPUTED - Nonfamily income in the past 12 months',\n",
       "       u'Total; Margin of Error; PERCENT IMPUTED - Nonfamily income in the past 12 months',\n",
       "       u'Median income (dollars); Estimate; PERCENT IMPUTED - Nonfamily income in the past 12 months',\n",
       "       u'Median income (dollars); Margin of Error; PERCENT IMPUTED - Nonfamily income in the past 12 months'],\n",
       "      dtype='object', length=123)"
      ]
     },
     "execution_count": 93,
     "metadata": {},
     "output_type": "execute_result"
    }
   ],
   "source": [
    "mhincome.columns"
   ]
  },
  {
   "cell_type": "code",
   "execution_count": 94,
   "metadata": {
    "collapsed": false
   },
   "outputs": [
    {
     "data": {
      "text/plain": [
       "2167"
      ]
     },
     "execution_count": 94,
     "metadata": {},
     "output_type": "execute_result"
    }
   ],
   "source": [
    "len(mhincome)"
   ]
  },
  {
   "cell_type": "code",
   "execution_count": 95,
   "metadata": {
    "collapsed": true
   },
   "outputs": [],
   "source": [
    "mhincome = mhincome[['Id2','Total; Estimate; Households', 'Median income (dollars); Estimate; Households']]"
   ]
  },
  {
   "cell_type": "code",
   "execution_count": 96,
   "metadata": {
    "collapsed": false
   },
   "outputs": [],
   "source": [
    "mhincome.columns = [['BoroCT2010', 'Total Households', 'Median Income']]"
   ]
  },
  {
   "cell_type": "code",
   "execution_count": 97,
   "metadata": {
    "collapsed": false
   },
   "outputs": [],
   "source": [
    "#The next lines (bewteen 7 and 17) are used for procesing the census ttacys numbers\n",
    "#to match the shapefile numbers from NYCBytes\n",
    "mhincome['BoroCT2010'] = mhincome['BoroCT2010'].map(lambda x: str(x)[3:])"
   ]
  },
  {
   "cell_type": "code",
   "execution_count": 98,
   "metadata": {
    "collapsed": true
   },
   "outputs": [],
   "source": [
    "mhincome['Borocode'] = mhincome['BoroCT2010'].str[:2]"
   ]
  },
  {
   "cell_type": "code",
   "execution_count": 99,
   "metadata": {
    "collapsed": true
   },
   "outputs": [],
   "source": [
    "mhincome['Median Income'].replace(regex=True,inplace=True,to_replace=r'\\D',value=r'')"
   ]
  },
  {
   "cell_type": "code",
   "execution_count": 100,
   "metadata": {
    "collapsed": false
   },
   "outputs": [],
   "source": [
    "mhincome['Median Income'] = mhincome['Median Income'].replace('', 'NaN')"
   ]
  },
  {
   "cell_type": "code",
   "execution_count": 101,
   "metadata": {
    "collapsed": false
   },
   "outputs": [],
   "source": [
    "mhincome['Median Income'] = mhincome['Median Income'].astype(float)"
   ]
  },
  {
   "cell_type": "code",
   "execution_count": 102,
   "metadata": {
    "collapsed": true
   },
   "outputs": [],
   "source": [
    "mhincome['Total Households'] = mhincome['Total Households'].astype(float)"
   ]
  },
  {
   "cell_type": "code",
   "execution_count": 103,
   "metadata": {
    "collapsed": false
   },
   "outputs": [],
   "source": [
    "bcorr = {'05': '2', '47': '3', '61' : '1', '81': '4', '85' : '5'}"
   ]
  },
  {
   "cell_type": "code",
   "execution_count": 104,
   "metadata": {
    "collapsed": false
   },
   "outputs": [],
   "source": [
    "mhincome['Borocode2'] = mhincome['Borocode'].map(bcorr)"
   ]
  },
  {
   "cell_type": "code",
   "execution_count": 105,
   "metadata": {
    "collapsed": true
   },
   "outputs": [],
   "source": [
    "mhincome['BoroCT2010'] = mhincome['BoroCT2010'].map(lambda x: str(x)[2:])"
   ]
  },
  {
   "cell_type": "code",
   "execution_count": 106,
   "metadata": {
    "collapsed": false
   },
   "outputs": [],
   "source": [
    "mhincome['BoroCT2010'] = mhincome.Borocode2 + mhincome.BoroCT2010.astype(str)"
   ]
  },
  {
   "cell_type": "code",
   "execution_count": 107,
   "metadata": {
    "collapsed": false
   },
   "outputs": [],
   "source": [
    "mhincome = mhincome[['BoroCT2010', 'Total Households', 'Median Income']]"
   ]
  },
  {
   "cell_type": "code",
   "execution_count": 108,
   "metadata": {
    "collapsed": false
   },
   "outputs": [
    {
     "data": {
      "text/html": [
       "<div>\n",
       "<table border=\"1\" class=\"dataframe\">\n",
       "  <thead>\n",
       "    <tr style=\"text-align: right;\">\n",
       "      <th></th>\n",
       "      <th>BoroCT2010</th>\n",
       "      <th>Total Households</th>\n",
       "      <th>Median Income</th>\n",
       "    </tr>\n",
       "  </thead>\n",
       "  <tbody>\n",
       "    <tr>\n",
       "      <th>2162</th>\n",
       "      <td>5030302</td>\n",
       "      <td>1938.0</td>\n",
       "      <td>80887.0</td>\n",
       "    </tr>\n",
       "    <tr>\n",
       "      <th>2163</th>\n",
       "      <td>5031901</td>\n",
       "      <td>1086.0</td>\n",
       "      <td>27031.0</td>\n",
       "    </tr>\n",
       "    <tr>\n",
       "      <th>2164</th>\n",
       "      <td>5031902</td>\n",
       "      <td>1619.0</td>\n",
       "      <td>31750.0</td>\n",
       "    </tr>\n",
       "    <tr>\n",
       "      <th>2165</th>\n",
       "      <td>5032300</td>\n",
       "      <td>464.0</td>\n",
       "      <td>58804.0</td>\n",
       "    </tr>\n",
       "    <tr>\n",
       "      <th>2166</th>\n",
       "      <td>5990100</td>\n",
       "      <td>0.0</td>\n",
       "      <td>NaN</td>\n",
       "    </tr>\n",
       "  </tbody>\n",
       "</table>\n",
       "</div>"
      ],
      "text/plain": [
       "     BoroCT2010  Total Households  Median Income\n",
       "2162    5030302            1938.0        80887.0\n",
       "2163    5031901            1086.0        27031.0\n",
       "2164    5031902            1619.0        31750.0\n",
       "2165    5032300             464.0        58804.0\n",
       "2166    5990100               0.0            NaN"
      ]
     },
     "execution_count": 108,
     "metadata": {},
     "output_type": "execute_result"
    }
   ],
   "source": [
    "mhincome.tail()"
   ]
  },
  {
   "cell_type": "code",
   "execution_count": 109,
   "metadata": {
    "collapsed": false,
    "scrolled": true
   },
   "outputs": [],
   "source": [
    "#Importing the car ownership data\n",
    "carowner = pd.read_csv('2014 Car Ownership.csv', skiprows=[0])"
   ]
  },
  {
   "cell_type": "code",
   "execution_count": 110,
   "metadata": {
    "collapsed": false
   },
   "outputs": [
    {
     "data": {
      "text/plain": [
       "Index([u'Id', u'Id2', u'Geography',\n",
       "       u'Estimate; Aggregate number of vehicles available:',\n",
       "       u'Margin of Error; Aggregate number of vehicles available:',\n",
       "       u'Estimate; Aggregate number of vehicles available: - Owner occupied',\n",
       "       u'Margin of Error; Aggregate number of vehicles available: - Owner occupied',\n",
       "       u'Estimate; Aggregate number of vehicles available: - Renter occupied',\n",
       "       u'Margin of Error; Aggregate number of vehicles available: - Renter occupied'],\n",
       "      dtype='object')"
      ]
     },
     "execution_count": 110,
     "metadata": {},
     "output_type": "execute_result"
    }
   ],
   "source": [
    "carowner.columns"
   ]
  },
  {
   "cell_type": "code",
   "execution_count": 111,
   "metadata": {
    "collapsed": false
   },
   "outputs": [],
   "source": [
    "carowner = carowner[['Id2','Estimate; Aggregate number of vehicles available:']]"
   ]
  },
  {
   "cell_type": "code",
   "execution_count": 112,
   "metadata": {
    "collapsed": false
   },
   "outputs": [],
   "source": [
    "carowner.columns = [['BoroCT2010', 'Total cars']]"
   ]
  },
  {
   "cell_type": "code",
   "execution_count": 113,
   "metadata": {
    "collapsed": false
   },
   "outputs": [],
   "source": [
    "# Same procedure to match the census tracts numbers from census to the NYCbytes\n",
    "#numbers\n",
    "carowner['BoroCT2010'] = carowner['BoroCT2010'].map(lambda x: str(x)[3:])"
   ]
  },
  {
   "cell_type": "code",
   "execution_count": 114,
   "metadata": {
    "collapsed": false
   },
   "outputs": [],
   "source": [
    "carowner['Borocode'] = carowner['BoroCT2010'].str[:2]"
   ]
  },
  {
   "cell_type": "code",
   "execution_count": 115,
   "metadata": {
    "collapsed": true
   },
   "outputs": [],
   "source": [
    "carowner.replace(regex=True,inplace=True,to_replace=r'\\D',value=r'')"
   ]
  },
  {
   "cell_type": "code",
   "execution_count": 116,
   "metadata": {
    "collapsed": true
   },
   "outputs": [],
   "source": [
    "carowner = carowner.replace('', 'NaN')"
   ]
  },
  {
   "cell_type": "code",
   "execution_count": 117,
   "metadata": {
    "collapsed": true
   },
   "outputs": [],
   "source": [
    "carowner['Borocode2'] = carowner['Borocode'].map(bcorr)"
   ]
  },
  {
   "cell_type": "code",
   "execution_count": 118,
   "metadata": {
    "collapsed": false
   },
   "outputs": [
    {
     "data": {
      "text/html": [
       "<div>\n",
       "<table border=\"1\" class=\"dataframe\">\n",
       "  <thead>\n",
       "    <tr style=\"text-align: right;\">\n",
       "      <th></th>\n",
       "      <th>BoroCT2010</th>\n",
       "      <th>Total cars</th>\n",
       "      <th>Borocode</th>\n",
       "      <th>Borocode2</th>\n",
       "    </tr>\n",
       "  </thead>\n",
       "  <tbody>\n",
       "    <tr>\n",
       "      <th>0</th>\n",
       "      <td>05000100</td>\n",
       "      <td>NaN</td>\n",
       "      <td>05</td>\n",
       "      <td>2</td>\n",
       "    </tr>\n",
       "    <tr>\n",
       "      <th>1</th>\n",
       "      <td>05000200</td>\n",
       "      <td>1709</td>\n",
       "      <td>05</td>\n",
       "      <td>2</td>\n",
       "    </tr>\n",
       "    <tr>\n",
       "      <th>2</th>\n",
       "      <td>05000400</td>\n",
       "      <td>1872</td>\n",
       "      <td>05</td>\n",
       "      <td>2</td>\n",
       "    </tr>\n",
       "    <tr>\n",
       "      <th>3</th>\n",
       "      <td>05001600</td>\n",
       "      <td>1294</td>\n",
       "      <td>05</td>\n",
       "      <td>2</td>\n",
       "    </tr>\n",
       "    <tr>\n",
       "      <th>4</th>\n",
       "      <td>05001900</td>\n",
       "      <td>354</td>\n",
       "      <td>05</td>\n",
       "      <td>2</td>\n",
       "    </tr>\n",
       "  </tbody>\n",
       "</table>\n",
       "</div>"
      ],
      "text/plain": [
       "  BoroCT2010 Total cars Borocode Borocode2\n",
       "0   05000100        NaN       05         2\n",
       "1   05000200       1709       05         2\n",
       "2   05000400       1872       05         2\n",
       "3   05001600       1294       05         2\n",
       "4   05001900        354       05         2"
      ]
     },
     "execution_count": 118,
     "metadata": {},
     "output_type": "execute_result"
    }
   ],
   "source": [
    "carowner.head()"
   ]
  },
  {
   "cell_type": "code",
   "execution_count": 119,
   "metadata": {
    "collapsed": true
   },
   "outputs": [],
   "source": [
    "carowner['BoroCT2010'] = carowner['BoroCT2010'].map(lambda x: str(x)[2:])"
   ]
  },
  {
   "cell_type": "code",
   "execution_count": 120,
   "metadata": {
    "collapsed": false
   },
   "outputs": [],
   "source": [
    "carowner['BoroCT2010'] = carowner.Borocode2.astype(str) + carowner.BoroCT2010.astype(str)"
   ]
  },
  {
   "cell_type": "code",
   "execution_count": 121,
   "metadata": {
    "collapsed": false
   },
   "outputs": [],
   "source": [
    "carowner = carowner[['BoroCT2010', 'Total cars']]"
   ]
  },
  {
   "cell_type": "code",
   "execution_count": 122,
   "metadata": {
    "collapsed": false
   },
   "outputs": [
    {
     "data": {
      "text/plain": [
       "2083"
      ]
     },
     "execution_count": 122,
     "metadata": {},
     "output_type": "execute_result"
    }
   ],
   "source": [
    "len(carowner)"
   ]
  },
  {
   "cell_type": "code",
   "execution_count": 123,
   "metadata": {
    "collapsed": false
   },
   "outputs": [],
   "source": [
    "carowner['Total cars'] = carowner['Total cars'].astype(float)"
   ]
  },
  {
   "cell_type": "code",
   "execution_count": 124,
   "metadata": {
    "collapsed": false
   },
   "outputs": [
    {
     "data": {
      "text/html": [
       "<div>\n",
       "<table border=\"1\" class=\"dataframe\">\n",
       "  <thead>\n",
       "    <tr style=\"text-align: right;\">\n",
       "      <th></th>\n",
       "      <th>BoroCT2010</th>\n",
       "      <th>Total cars</th>\n",
       "    </tr>\n",
       "  </thead>\n",
       "  <tbody>\n",
       "    <tr>\n",
       "      <th>2078</th>\n",
       "      <td>5030302</td>\n",
       "      <td>2860.0</td>\n",
       "    </tr>\n",
       "    <tr>\n",
       "      <th>2079</th>\n",
       "      <td>5031901</td>\n",
       "      <td>691.0</td>\n",
       "    </tr>\n",
       "    <tr>\n",
       "      <th>2080</th>\n",
       "      <td>5031902</td>\n",
       "      <td>1396.0</td>\n",
       "    </tr>\n",
       "    <tr>\n",
       "      <th>2081</th>\n",
       "      <td>5032300</td>\n",
       "      <td>578.0</td>\n",
       "    </tr>\n",
       "    <tr>\n",
       "      <th>2082</th>\n",
       "      <td>5990100</td>\n",
       "      <td>NaN</td>\n",
       "    </tr>\n",
       "  </tbody>\n",
       "</table>\n",
       "</div>"
      ],
      "text/plain": [
       "     BoroCT2010  Total cars\n",
       "2078    5030302      2860.0\n",
       "2079    5031901       691.0\n",
       "2080    5031902      1396.0\n",
       "2081    5032300       578.0\n",
       "2082    5990100         NaN"
      ]
     },
     "execution_count": 124,
     "metadata": {},
     "output_type": "execute_result"
    }
   ],
   "source": [
    "carowner.tail()"
   ]
  },
  {
   "cell_type": "code",
   "execution_count": 125,
   "metadata": {
    "collapsed": true
   },
   "outputs": [],
   "source": [
    "#Importing education level data\n",
    "education = pd.read_csv('2014 Education level.csv', skiprows=[0])"
   ]
  },
  {
   "cell_type": "code",
   "execution_count": 126,
   "metadata": {
    "collapsed": false
   },
   "outputs": [
    {
     "data": {
      "text/plain": [
       "Index([u'Id', u'Id2', u'Geography', u'Estimate; Total:',\n",
       "       u'Margin of Error; Total:',\n",
       "       u'Estimate; Total: - No schooling completed',\n",
       "       u'Margin of Error; Total: - No schooling completed',\n",
       "       u'Estimate; Total: - Nursery school',\n",
       "       u'Margin of Error; Total: - Nursery school',\n",
       "       u'Estimate; Total: - Kindergarten',\n",
       "       u'Margin of Error; Total: - Kindergarten',\n",
       "       u'Estimate; Total: - 1st grade', u'Margin of Error; Total: - 1st grade',\n",
       "       u'Estimate; Total: - 2nd grade', u'Margin of Error; Total: - 2nd grade',\n",
       "       u'Estimate; Total: - 3rd grade', u'Margin of Error; Total: - 3rd grade',\n",
       "       u'Estimate; Total: - 4th grade', u'Margin of Error; Total: - 4th grade',\n",
       "       u'Estimate; Total: - 5th grade', u'Margin of Error; Total: - 5th grade',\n",
       "       u'Estimate; Total: - 6th grade', u'Margin of Error; Total: - 6th grade',\n",
       "       u'Estimate; Total: - 7th grade', u'Margin of Error; Total: - 7th grade',\n",
       "       u'Estimate; Total: - 8th grade', u'Margin of Error; Total: - 8th grade',\n",
       "       u'Estimate; Total: - 9th grade', u'Margin of Error; Total: - 9th grade',\n",
       "       u'Estimate; Total: - 10th grade',\n",
       "       u'Margin of Error; Total: - 10th grade',\n",
       "       u'Estimate; Total: - 11th grade',\n",
       "       u'Margin of Error; Total: - 11th grade',\n",
       "       u'Estimate; Total: - 12th grade, no diploma',\n",
       "       u'Margin of Error; Total: - 12th grade, no diploma',\n",
       "       u'Estimate; Total: - Regular high school diploma',\n",
       "       u'Margin of Error; Total: - Regular high school diploma',\n",
       "       u'Estimate; Total: - GED or alternative credential',\n",
       "       u'Margin of Error; Total: - GED or alternative credential',\n",
       "       u'Estimate; Total: - Some college, less than 1 year',\n",
       "       u'Margin of Error; Total: - Some college, less than 1 year',\n",
       "       u'Estimate; Total: - Some college, 1 or more years, no degree',\n",
       "       u'Margin of Error; Total: - Some college, 1 or more years, no degree',\n",
       "       u'Estimate; Total: - Associate's degree',\n",
       "       u'Margin of Error; Total: - Associate's degree',\n",
       "       u'Estimate; Total: - Bachelor's degree',\n",
       "       u'Margin of Error; Total: - Bachelor's degree',\n",
       "       u'Estimate; Total: - Master's degree',\n",
       "       u'Margin of Error; Total: - Master's degree',\n",
       "       u'Estimate; Total: - Professional school degree',\n",
       "       u'Margin of Error; Total: - Professional school degree',\n",
       "       u'Estimate; Total: - Doctorate degree',\n",
       "       u'Margin of Error; Total: - Doctorate degree'],\n",
       "      dtype='object')"
      ]
     },
     "execution_count": 126,
     "metadata": {},
     "output_type": "execute_result"
    }
   ],
   "source": [
    "education.columns"
   ]
  },
  {
   "cell_type": "code",
   "execution_count": 127,
   "metadata": {
    "collapsed": false
   },
   "outputs": [],
   "source": [
    "education = education[[1, 3, 35, 45, 47, 51]]"
   ]
  },
  {
   "cell_type": "code",
   "execution_count": 128,
   "metadata": {
    "collapsed": false
   },
   "outputs": [],
   "source": [
    "education.columns = [['BoroCT2010', 'Total educated', 'Total High School', 'Total bachelors', \"Total masters\", 'Total PHD']]"
   ]
  },
  {
   "cell_type": "code",
   "execution_count": 129,
   "metadata": {
    "collapsed": false
   },
   "outputs": [
    {
     "data": {
      "text/plain": [
       "2167"
      ]
     },
     "execution_count": 129,
     "metadata": {},
     "output_type": "execute_result"
    }
   ],
   "source": [
    "len(education)"
   ]
  },
  {
   "cell_type": "code",
   "execution_count": 130,
   "metadata": {
    "collapsed": true
   },
   "outputs": [],
   "source": [
    "education.replace(regex=True,inplace=True,to_replace=r'\\D',value=r'')"
   ]
  },
  {
   "cell_type": "code",
   "execution_count": 131,
   "metadata": {
    "collapsed": true
   },
   "outputs": [],
   "source": [
    "education = education.replace('', 'NaN')"
   ]
  },
  {
   "cell_type": "code",
   "execution_count": 132,
   "metadata": {
    "collapsed": true
   },
   "outputs": [],
   "source": [
    "education = education.astype(float)"
   ]
  },
  {
   "cell_type": "code",
   "execution_count": 133,
   "metadata": {
    "collapsed": false
   },
   "outputs": [],
   "source": [
    "education['BoroCT2010'] = mhincome['BoroCT2010']"
   ]
  },
  {
   "cell_type": "code",
   "execution_count": 134,
   "metadata": {
    "collapsed": false
   },
   "outputs": [
    {
     "data": {
      "text/html": [
       "<div>\n",
       "<table border=\"1\" class=\"dataframe\">\n",
       "  <thead>\n",
       "    <tr style=\"text-align: right;\">\n",
       "      <th></th>\n",
       "      <th>BoroCT2010</th>\n",
       "      <th>Total educated</th>\n",
       "      <th>Total High School</th>\n",
       "      <th>Total bachelors</th>\n",
       "      <th>Total masters</th>\n",
       "      <th>Total PHD</th>\n",
       "    </tr>\n",
       "  </thead>\n",
       "  <tbody>\n",
       "    <tr>\n",
       "      <th>2162</th>\n",
       "      <td>5030302</td>\n",
       "      <td>4038.0</td>\n",
       "      <td>1065.0</td>\n",
       "      <td>746.0</td>\n",
       "      <td>393.0</td>\n",
       "      <td>74.0</td>\n",
       "    </tr>\n",
       "    <tr>\n",
       "      <th>2163</th>\n",
       "      <td>5031901</td>\n",
       "      <td>1709.0</td>\n",
       "      <td>395.0</td>\n",
       "      <td>240.0</td>\n",
       "      <td>24.0</td>\n",
       "      <td>0.0</td>\n",
       "    </tr>\n",
       "    <tr>\n",
       "      <th>2164</th>\n",
       "      <td>5031902</td>\n",
       "      <td>2664.0</td>\n",
       "      <td>835.0</td>\n",
       "      <td>435.0</td>\n",
       "      <td>129.0</td>\n",
       "      <td>0.0</td>\n",
       "    </tr>\n",
       "    <tr>\n",
       "      <th>2165</th>\n",
       "      <td>5032300</td>\n",
       "      <td>826.0</td>\n",
       "      <td>195.0</td>\n",
       "      <td>111.0</td>\n",
       "      <td>19.0</td>\n",
       "      <td>0.0</td>\n",
       "    </tr>\n",
       "    <tr>\n",
       "      <th>2166</th>\n",
       "      <td>5990100</td>\n",
       "      <td>0.0</td>\n",
       "      <td>0.0</td>\n",
       "      <td>0.0</td>\n",
       "      <td>0.0</td>\n",
       "      <td>0.0</td>\n",
       "    </tr>\n",
       "  </tbody>\n",
       "</table>\n",
       "</div>"
      ],
      "text/plain": [
       "     BoroCT2010  Total educated  Total High School  Total bachelors  \\\n",
       "2162    5030302          4038.0             1065.0            746.0   \n",
       "2163    5031901          1709.0              395.0            240.0   \n",
       "2164    5031902          2664.0              835.0            435.0   \n",
       "2165    5032300           826.0              195.0            111.0   \n",
       "2166    5990100             0.0                0.0              0.0   \n",
       "\n",
       "      Total masters  Total PHD  \n",
       "2162          393.0       74.0  \n",
       "2163           24.0        0.0  \n",
       "2164          129.0        0.0  \n",
       "2165           19.0        0.0  \n",
       "2166            0.0        0.0  "
      ]
     },
     "execution_count": 134,
     "metadata": {},
     "output_type": "execute_result"
    }
   ],
   "source": [
    "education.tail()"
   ]
  },
  {
   "cell_type": "code",
   "execution_count": 135,
   "metadata": {
    "collapsed": false
   },
   "outputs": [
    {
     "data": {
      "text/plain": [
       "Index([u'Id', u'Id2', u'Geography', u'Total; Estimate; Total population',\n",
       "       u'Total; Margin of Error; Total population',\n",
       "       u'Male; Estimate; Total population',\n",
       "       u'Male; Margin of Error; Total population',\n",
       "       u'Female; Estimate; Total population',\n",
       "       u'Female; Margin of Error; Total population',\n",
       "       u'Total; Estimate; AGE - Under 5 years',\n",
       "       ...\n",
       "       u'Male; Estimate; PERCENT IMPUTED - Sex',\n",
       "       u'Male; Margin of Error; PERCENT IMPUTED - Sex',\n",
       "       u'Female; Estimate; PERCENT IMPUTED - Sex',\n",
       "       u'Female; Margin of Error; PERCENT IMPUTED - Sex',\n",
       "       u'Total; Estimate; PERCENT IMPUTED - Age',\n",
       "       u'Total; Margin of Error; PERCENT IMPUTED - Age',\n",
       "       u'Male; Estimate; PERCENT IMPUTED - Age',\n",
       "       u'Male; Margin of Error; PERCENT IMPUTED - Age',\n",
       "       u'Female; Estimate; PERCENT IMPUTED - Age',\n",
       "       u'Female; Margin of Error; PERCENT IMPUTED - Age'],\n",
       "      dtype='object', length=219)"
      ]
     },
     "execution_count": 135,
     "metadata": {},
     "output_type": "execute_result"
    }
   ],
   "source": [
    "#Import median age dataframe\n",
    "age = pd.read_csv('2014 estimated age.csv', skiprows=[0])\n",
    "age.columns"
   ]
  },
  {
   "cell_type": "code",
   "execution_count": 136,
   "metadata": {
    "collapsed": true
   },
   "outputs": [],
   "source": [
    "age = age[['Id2', 'Total; Estimate; SUMMARY INDICATORS - Median age (years)']]"
   ]
  },
  {
   "cell_type": "code",
   "execution_count": 137,
   "metadata": {
    "collapsed": false
   },
   "outputs": [],
   "source": [
    "age.columns = [['BoroCT2010', 'Median Age']]"
   ]
  },
  {
   "cell_type": "code",
   "execution_count": 138,
   "metadata": {
    "collapsed": false
   },
   "outputs": [
    {
     "data": {
      "text/plain": [
       "2167"
      ]
     },
     "execution_count": 138,
     "metadata": {},
     "output_type": "execute_result"
    }
   ],
   "source": [
    "len(age)"
   ]
  },
  {
   "cell_type": "code",
   "execution_count": 139,
   "metadata": {
    "collapsed": true
   },
   "outputs": [],
   "source": [
    "age.replace(regex=True,inplace=True,to_replace=r'\\D',value=r'')"
   ]
  },
  {
   "cell_type": "code",
   "execution_count": 140,
   "metadata": {
    "collapsed": true
   },
   "outputs": [],
   "source": [
    "age = age.replace('', 'NaN')"
   ]
  },
  {
   "cell_type": "code",
   "execution_count": 141,
   "metadata": {
    "collapsed": false
   },
   "outputs": [],
   "source": [
    "age = age.astype(float)/10"
   ]
  },
  {
   "cell_type": "code",
   "execution_count": 142,
   "metadata": {
    "collapsed": true
   },
   "outputs": [],
   "source": [
    "age['BoroCT2010'] = mhincome['BoroCT2010']"
   ]
  },
  {
   "cell_type": "code",
   "execution_count": 143,
   "metadata": {
    "collapsed": false
   },
   "outputs": [
    {
     "data": {
      "text/html": [
       "<div>\n",
       "<table border=\"1\" class=\"dataframe\">\n",
       "  <thead>\n",
       "    <tr style=\"text-align: right;\">\n",
       "      <th></th>\n",
       "      <th>BoroCT2010</th>\n",
       "      <th>Median Age</th>\n",
       "    </tr>\n",
       "  </thead>\n",
       "  <tbody>\n",
       "    <tr>\n",
       "      <th>2162</th>\n",
       "      <td>5030302</td>\n",
       "      <td>36.5</td>\n",
       "    </tr>\n",
       "    <tr>\n",
       "      <th>2163</th>\n",
       "      <td>5031901</td>\n",
       "      <td>30.8</td>\n",
       "    </tr>\n",
       "    <tr>\n",
       "      <th>2164</th>\n",
       "      <td>5031902</td>\n",
       "      <td>30.6</td>\n",
       "    </tr>\n",
       "    <tr>\n",
       "      <th>2165</th>\n",
       "      <td>5032300</td>\n",
       "      <td>42.0</td>\n",
       "    </tr>\n",
       "    <tr>\n",
       "      <th>2166</th>\n",
       "      <td>5990100</td>\n",
       "      <td>NaN</td>\n",
       "    </tr>\n",
       "  </tbody>\n",
       "</table>\n",
       "</div>"
      ],
      "text/plain": [
       "     BoroCT2010  Median Age\n",
       "2162    5030302        36.5\n",
       "2163    5031901        30.8\n",
       "2164    5031902        30.6\n",
       "2165    5032300        42.0\n",
       "2166    5990100         NaN"
      ]
     },
     "execution_count": 143,
     "metadata": {},
     "output_type": "execute_result"
    }
   ],
   "source": [
    "age.tail()"
   ]
  },
  {
   "cell_type": "code",
   "execution_count": 144,
   "metadata": {
    "collapsed": false
   },
   "outputs": [
    {
     "data": {
      "text/plain": [
       "Index([u'Id', u'Id2', u'Geography', u'Estimate; Total:',\n",
       "       u'Margin of Error; Total:', u'Estimate; Family households:',\n",
       "       u'Margin of Error; Family households:',\n",
       "       u'Estimate; Family households: - 2-person household',\n",
       "       u'Margin of Error; Family households: - 2-person household',\n",
       "       u'Estimate; Family households: - 3-person household',\n",
       "       u'Margin of Error; Family households: - 3-person household',\n",
       "       u'Estimate; Family households: - 4-person household',\n",
       "       u'Margin of Error; Family households: - 4-person household',\n",
       "       u'Estimate; Family households: - 5-person household',\n",
       "       u'Margin of Error; Family households: - 5-person household',\n",
       "       u'Estimate; Family households: - 6-person household',\n",
       "       u'Margin of Error; Family households: - 6-person household',\n",
       "       u'Estimate; Family households: - 7-or-more person household',\n",
       "       u'Margin of Error; Family households: - 7-or-more person household',\n",
       "       u'Estimate; Nonfamily households:',\n",
       "       u'Margin of Error; Nonfamily households:',\n",
       "       u'Estimate; Nonfamily households: - 1-person household',\n",
       "       u'Margin of Error; Nonfamily households: - 1-person household',\n",
       "       u'Estimate; Nonfamily households: - 2-person household',\n",
       "       u'Margin of Error; Nonfamily households: - 2-person household',\n",
       "       u'Estimate; Nonfamily households: - 3-person household',\n",
       "       u'Margin of Error; Nonfamily households: - 3-person household',\n",
       "       u'Estimate; Nonfamily households: - 4-person household',\n",
       "       u'Margin of Error; Nonfamily households: - 4-person household',\n",
       "       u'Estimate; Nonfamily households: - 5-person household',\n",
       "       u'Margin of Error; Nonfamily households: - 5-person household',\n",
       "       u'Estimate; Nonfamily households: - 6-person household',\n",
       "       u'Margin of Error; Nonfamily households: - 6-person household',\n",
       "       u'Estimate; Nonfamily households: - 7-or-more person household',\n",
       "       u'Margin of Error; Nonfamily households: - 7-or-more person household'],\n",
       "      dtype='object')"
      ]
     },
     "execution_count": 144,
     "metadata": {},
     "output_type": "execute_result"
    }
   ],
   "source": [
    "#Import type of household (family or non-family) \n",
    "housetype = pd.read_csv('2014 Household Type.csv', skiprows=[0])\n",
    "housetype.columns"
   ]
  },
  {
   "cell_type": "code",
   "execution_count": 145,
   "metadata": {
    "collapsed": false
   },
   "outputs": [],
   "source": [
    "housetype = housetype[['Id2', 'Estimate; Total:', 'Estimate; Family households:', 'Estimate; Nonfamily households:']]"
   ]
  },
  {
   "cell_type": "code",
   "execution_count": 146,
   "metadata": {
    "collapsed": false
   },
   "outputs": [],
   "source": [
    "housetype.columns = ['BoroCT2010', 'Total households' , 'Total family households', 'Total non-family households']"
   ]
  },
  {
   "cell_type": "code",
   "execution_count": 147,
   "metadata": {
    "collapsed": false
   },
   "outputs": [
    {
     "data": {
      "text/plain": [
       "2167"
      ]
     },
     "execution_count": 147,
     "metadata": {},
     "output_type": "execute_result"
    }
   ],
   "source": [
    "len(housetype)"
   ]
  },
  {
   "cell_type": "code",
   "execution_count": 148,
   "metadata": {
    "collapsed": true
   },
   "outputs": [],
   "source": [
    "housetype.replace(regex=True,inplace=True,to_replace=r'\\D',value=r'')"
   ]
  },
  {
   "cell_type": "code",
   "execution_count": 149,
   "metadata": {
    "collapsed": true
   },
   "outputs": [],
   "source": [
    "housetype = housetype.replace('', 'NaN')"
   ]
  },
  {
   "cell_type": "code",
   "execution_count": 150,
   "metadata": {
    "collapsed": true
   },
   "outputs": [],
   "source": [
    "housetype = housetype.astype(float)"
   ]
  },
  {
   "cell_type": "code",
   "execution_count": 151,
   "metadata": {
    "collapsed": false
   },
   "outputs": [],
   "source": [
    "housetype['BoroCT2010'] = mhincome['BoroCT2010']"
   ]
  },
  {
   "cell_type": "code",
   "execution_count": 152,
   "metadata": {
    "collapsed": false
   },
   "outputs": [
    {
     "data": {
      "text/html": [
       "<div>\n",
       "<table border=\"1\" class=\"dataframe\">\n",
       "  <thead>\n",
       "    <tr style=\"text-align: right;\">\n",
       "      <th></th>\n",
       "      <th>BoroCT2010</th>\n",
       "      <th>Total households</th>\n",
       "      <th>Total family households</th>\n",
       "      <th>Total non-family households</th>\n",
       "    </tr>\n",
       "  </thead>\n",
       "  <tbody>\n",
       "    <tr>\n",
       "      <th>2162</th>\n",
       "      <td>5030302</td>\n",
       "      <td>1938.0</td>\n",
       "      <td>1622.0</td>\n",
       "      <td>316.0</td>\n",
       "    </tr>\n",
       "    <tr>\n",
       "      <th>2163</th>\n",
       "      <td>5031901</td>\n",
       "      <td>1086.0</td>\n",
       "      <td>837.0</td>\n",
       "      <td>249.0</td>\n",
       "    </tr>\n",
       "    <tr>\n",
       "      <th>2164</th>\n",
       "      <td>5031902</td>\n",
       "      <td>1619.0</td>\n",
       "      <td>1171.0</td>\n",
       "      <td>448.0</td>\n",
       "    </tr>\n",
       "    <tr>\n",
       "      <th>2165</th>\n",
       "      <td>5032300</td>\n",
       "      <td>464.0</td>\n",
       "      <td>335.0</td>\n",
       "      <td>129.0</td>\n",
       "    </tr>\n",
       "    <tr>\n",
       "      <th>2166</th>\n",
       "      <td>5990100</td>\n",
       "      <td>0.0</td>\n",
       "      <td>0.0</td>\n",
       "      <td>0.0</td>\n",
       "    </tr>\n",
       "  </tbody>\n",
       "</table>\n",
       "</div>"
      ],
      "text/plain": [
       "     BoroCT2010  Total households  Total family households  \\\n",
       "2162    5030302            1938.0                   1622.0   \n",
       "2163    5031901            1086.0                    837.0   \n",
       "2164    5031902            1619.0                   1171.0   \n",
       "2165    5032300             464.0                    335.0   \n",
       "2166    5990100               0.0                      0.0   \n",
       "\n",
       "      Total non-family households  \n",
       "2162                        316.0  \n",
       "2163                        249.0  \n",
       "2164                        448.0  \n",
       "2165                        129.0  \n",
       "2166                          0.0  "
      ]
     },
     "execution_count": 152,
     "metadata": {},
     "output_type": "execute_result"
    }
   ],
   "source": [
    "housetype.tail()"
   ]
  },
  {
   "cell_type": "code",
   "execution_count": 153,
   "metadata": {
    "collapsed": false
   },
   "outputs": [
    {
     "data": {
      "text/plain": [
       "Index([u'Id', u'Id2', u'Geography', u'Estimate; Median value (dollars)',\n",
       "       u'Margin of Error; Median value (dollars)'],\n",
       "      dtype='object')"
      ]
     },
     "execution_count": 153,
     "metadata": {},
     "output_type": "execute_result"
    }
   ],
   "source": [
    "housevalue = pd.read_csv('2014 Median House Value.csv', skiprows=[0])\n",
    "housevalue.columns"
   ]
  },
  {
   "cell_type": "code",
   "execution_count": 154,
   "metadata": {
    "collapsed": true
   },
   "outputs": [],
   "source": [
    "housevalue = housevalue[['Id2', 'Estimate; Median value (dollars)']]"
   ]
  },
  {
   "cell_type": "code",
   "execution_count": 155,
   "metadata": {
    "collapsed": true
   },
   "outputs": [],
   "source": [
    "housevalue.columns = ['BoroCT2010', 'Median House Value']"
   ]
  },
  {
   "cell_type": "code",
   "execution_count": 156,
   "metadata": {
    "collapsed": false
   },
   "outputs": [
    {
     "data": {
      "text/plain": [
       "2167"
      ]
     },
     "execution_count": 156,
     "metadata": {},
     "output_type": "execute_result"
    }
   ],
   "source": [
    "len(housevalue)"
   ]
  },
  {
   "cell_type": "code",
   "execution_count": 157,
   "metadata": {
    "collapsed": true
   },
   "outputs": [],
   "source": [
    "housevalue.replace(regex=True,inplace=True,to_replace=r'\\D',value=r'')"
   ]
  },
  {
   "cell_type": "code",
   "execution_count": 158,
   "metadata": {
    "collapsed": true
   },
   "outputs": [],
   "source": [
    "housevalue = housevalue.replace('', 'NaN')"
   ]
  },
  {
   "cell_type": "code",
   "execution_count": 159,
   "metadata": {
    "collapsed": true
   },
   "outputs": [],
   "source": [
    "housevalue = housevalue.astype(float)"
   ]
  },
  {
   "cell_type": "code",
   "execution_count": 160,
   "metadata": {
    "collapsed": true
   },
   "outputs": [],
   "source": [
    "housevalue['BoroCT2010'] = mhincome['BoroCT2010']"
   ]
  },
  {
   "cell_type": "code",
   "execution_count": 161,
   "metadata": {
    "collapsed": false
   },
   "outputs": [
    {
     "data": {
      "text/html": [
       "<div>\n",
       "<table border=\"1\" class=\"dataframe\">\n",
       "  <thead>\n",
       "    <tr style=\"text-align: right;\">\n",
       "      <th></th>\n",
       "      <th>BoroCT2010</th>\n",
       "      <th>Median House Value</th>\n",
       "    </tr>\n",
       "  </thead>\n",
       "  <tbody>\n",
       "    <tr>\n",
       "      <th>2162</th>\n",
       "      <td>5030302</td>\n",
       "      <td>321700.0</td>\n",
       "    </tr>\n",
       "    <tr>\n",
       "      <th>2163</th>\n",
       "      <td>5031901</td>\n",
       "      <td>344600.0</td>\n",
       "    </tr>\n",
       "    <tr>\n",
       "      <th>2164</th>\n",
       "      <td>5031902</td>\n",
       "      <td>312700.0</td>\n",
       "    </tr>\n",
       "    <tr>\n",
       "      <th>2165</th>\n",
       "      <td>5032300</td>\n",
       "      <td>186600.0</td>\n",
       "    </tr>\n",
       "    <tr>\n",
       "      <th>2166</th>\n",
       "      <td>5990100</td>\n",
       "      <td>NaN</td>\n",
       "    </tr>\n",
       "  </tbody>\n",
       "</table>\n",
       "</div>"
      ],
      "text/plain": [
       "     BoroCT2010  Median House Value\n",
       "2162    5030302            321700.0\n",
       "2163    5031901            344600.0\n",
       "2164    5031902            312700.0\n",
       "2165    5032300            186600.0\n",
       "2166    5990100                 NaN"
      ]
     },
     "execution_count": 161,
     "metadata": {},
     "output_type": "execute_result"
    }
   ],
   "source": [
    "housevalue.tail()"
   ]
  },
  {
   "cell_type": "code",
   "execution_count": 162,
   "metadata": {
    "collapsed": false
   },
   "outputs": [
    {
     "data": {
      "text/plain": [
       "Index([u'Id', u'Id2', u'Geography', u'Estimate; Total:',\n",
       "       u'Margin of Error; Total:', u'Estimate; Total: - Owner occupied',\n",
       "       u'Margin of Error; Total: - Owner occupied',\n",
       "       u'Estimate; Total: - Renter occupied',\n",
       "       u'Margin of Error; Total: - Renter occupied'],\n",
       "      dtype='object')"
      ]
     },
     "execution_count": 162,
     "metadata": {},
     "output_type": "execute_result"
    }
   ],
   "source": [
    "#Importing type of resident data (owner vs renter)\n",
    "ownorrent = pd.read_csv('2014 Owner and renter units.csv', skiprows=[0])\n",
    "ownorrent.columns"
   ]
  },
  {
   "cell_type": "code",
   "execution_count": 163,
   "metadata": {
    "collapsed": true
   },
   "outputs": [],
   "source": [
    "ownorrent = ownorrent[['Id2', 'Estimate; Total:', 'Estimate; Total: - Owner occupied', 'Estimate; Total: - Renter occupied' ]]"
   ]
  },
  {
   "cell_type": "code",
   "execution_count": 164,
   "metadata": {
    "collapsed": true
   },
   "outputs": [],
   "source": [
    "ownorrent.columns = ['BoroCT2010', 'Total Hunits' , 'Owner Occupied' , 'Renter Occupied']"
   ]
  },
  {
   "cell_type": "code",
   "execution_count": 165,
   "metadata": {
    "collapsed": false
   },
   "outputs": [
    {
     "data": {
      "text/plain": [
       "2167"
      ]
     },
     "execution_count": 165,
     "metadata": {},
     "output_type": "execute_result"
    }
   ],
   "source": [
    "len(ownorrent)"
   ]
  },
  {
   "cell_type": "code",
   "execution_count": 166,
   "metadata": {
    "collapsed": true
   },
   "outputs": [],
   "source": [
    "ownorrent.replace(regex=True,inplace=True,to_replace=r'\\D',value=r'')"
   ]
  },
  {
   "cell_type": "code",
   "execution_count": 167,
   "metadata": {
    "collapsed": true
   },
   "outputs": [],
   "source": [
    "ownorrent = ownorrent.replace('', 'NaN')"
   ]
  },
  {
   "cell_type": "code",
   "execution_count": 168,
   "metadata": {
    "collapsed": true
   },
   "outputs": [],
   "source": [
    "ownorrent = ownorrent.astype(float)"
   ]
  },
  {
   "cell_type": "code",
   "execution_count": 169,
   "metadata": {
    "collapsed": true
   },
   "outputs": [],
   "source": [
    "ownorrent['BoroCT2010'] = mhincome['BoroCT2010']"
   ]
  },
  {
   "cell_type": "code",
   "execution_count": 170,
   "metadata": {
    "collapsed": false
   },
   "outputs": [
    {
     "data": {
      "text/html": [
       "<div>\n",
       "<table border=\"1\" class=\"dataframe\">\n",
       "  <thead>\n",
       "    <tr style=\"text-align: right;\">\n",
       "      <th></th>\n",
       "      <th>BoroCT2010</th>\n",
       "      <th>Total Hunits</th>\n",
       "      <th>Owner Occupied</th>\n",
       "      <th>Renter Occupied</th>\n",
       "    </tr>\n",
       "  </thead>\n",
       "  <tbody>\n",
       "    <tr>\n",
       "      <th>2162</th>\n",
       "      <td>5030302</td>\n",
       "      <td>6205.0</td>\n",
       "      <td>4159.0</td>\n",
       "      <td>2046.0</td>\n",
       "    </tr>\n",
       "    <tr>\n",
       "      <th>2163</th>\n",
       "      <td>5031901</td>\n",
       "      <td>2916.0</td>\n",
       "      <td>592.0</td>\n",
       "      <td>2324.0</td>\n",
       "    </tr>\n",
       "    <tr>\n",
       "      <th>2164</th>\n",
       "      <td>5031902</td>\n",
       "      <td>4514.0</td>\n",
       "      <td>2359.0</td>\n",
       "      <td>2155.0</td>\n",
       "    </tr>\n",
       "    <tr>\n",
       "      <th>2165</th>\n",
       "      <td>5032300</td>\n",
       "      <td>1106.0</td>\n",
       "      <td>853.0</td>\n",
       "      <td>253.0</td>\n",
       "    </tr>\n",
       "    <tr>\n",
       "      <th>2166</th>\n",
       "      <td>5990100</td>\n",
       "      <td>0.0</td>\n",
       "      <td>0.0</td>\n",
       "      <td>0.0</td>\n",
       "    </tr>\n",
       "  </tbody>\n",
       "</table>\n",
       "</div>"
      ],
      "text/plain": [
       "     BoroCT2010  Total Hunits  Owner Occupied  Renter Occupied\n",
       "2162    5030302        6205.0          4159.0           2046.0\n",
       "2163    5031901        2916.0           592.0           2324.0\n",
       "2164    5031902        4514.0          2359.0           2155.0\n",
       "2165    5032300        1106.0           853.0            253.0\n",
       "2166    5990100           0.0             0.0              0.0"
      ]
     },
     "execution_count": 170,
     "metadata": {},
     "output_type": "execute_result"
    }
   ],
   "source": [
    "ownorrent.tail()"
   ]
  },
  {
   "cell_type": "code",
   "execution_count": 171,
   "metadata": {
    "collapsed": false
   },
   "outputs": [
    {
     "data": {
      "text/plain": [
       "Index([u'Id', u'Id2', u'Geography', u'Estimate; Total',\n",
       "       u'Margin of Error; Total'],\n",
       "      dtype='object')"
      ]
     },
     "execution_count": 171,
     "metadata": {},
     "output_type": "execute_result"
    }
   ],
   "source": [
    "#Import population data\n",
    "population = pd.read_csv('2014 population.csv', skiprows=[0])\n",
    "population.columns"
   ]
  },
  {
   "cell_type": "code",
   "execution_count": 172,
   "metadata": {
    "collapsed": true
   },
   "outputs": [],
   "source": [
    "population = population[['Id2', 'Estimate; Total']]"
   ]
  },
  {
   "cell_type": "code",
   "execution_count": 173,
   "metadata": {
    "collapsed": false
   },
   "outputs": [],
   "source": [
    "population.columns = ['BoroCT2010', 'Total Population']"
   ]
  },
  {
   "cell_type": "code",
   "execution_count": 174,
   "metadata": {
    "collapsed": true
   },
   "outputs": [],
   "source": [
    "population.replace(regex=True,inplace=True,to_replace=r'\\D',value=r'')"
   ]
  },
  {
   "cell_type": "code",
   "execution_count": 175,
   "metadata": {
    "collapsed": true
   },
   "outputs": [],
   "source": [
    "population = population.replace('', 'NaN')"
   ]
  },
  {
   "cell_type": "code",
   "execution_count": 176,
   "metadata": {
    "collapsed": true
   },
   "outputs": [],
   "source": [
    "population = population.astype(float)"
   ]
  },
  {
   "cell_type": "code",
   "execution_count": 177,
   "metadata": {
    "collapsed": true
   },
   "outputs": [],
   "source": [
    "population['BoroCT2010'] = mhincome['BoroCT2010']"
   ]
  },
  {
   "cell_type": "code",
   "execution_count": 178,
   "metadata": {
    "collapsed": false
   },
   "outputs": [
    {
     "data": {
      "text/html": [
       "<div>\n",
       "<table border=\"1\" class=\"dataframe\">\n",
       "  <thead>\n",
       "    <tr style=\"text-align: right;\">\n",
       "      <th></th>\n",
       "      <th>BoroCT2010</th>\n",
       "      <th>Total Population</th>\n",
       "    </tr>\n",
       "  </thead>\n",
       "  <tbody>\n",
       "    <tr>\n",
       "      <th>2162</th>\n",
       "      <td>5030302</td>\n",
       "      <td>6205.0</td>\n",
       "    </tr>\n",
       "    <tr>\n",
       "      <th>2163</th>\n",
       "      <td>5031901</td>\n",
       "      <td>2916.0</td>\n",
       "    </tr>\n",
       "    <tr>\n",
       "      <th>2164</th>\n",
       "      <td>5031902</td>\n",
       "      <td>4535.0</td>\n",
       "    </tr>\n",
       "    <tr>\n",
       "      <th>2165</th>\n",
       "      <td>5032300</td>\n",
       "      <td>1106.0</td>\n",
       "    </tr>\n",
       "    <tr>\n",
       "      <th>2166</th>\n",
       "      <td>5990100</td>\n",
       "      <td>0.0</td>\n",
       "    </tr>\n",
       "  </tbody>\n",
       "</table>\n",
       "</div>"
      ],
      "text/plain": [
       "     BoroCT2010  Total Population\n",
       "2162    5030302            6205.0\n",
       "2163    5031901            2916.0\n",
       "2164    5031902            4535.0\n",
       "2165    5032300            1106.0\n",
       "2166    5990100               0.0"
      ]
     },
     "execution_count": 178,
     "metadata": {},
     "output_type": "execute_result"
    }
   ],
   "source": [
    "population.tail()"
   ]
  },
  {
   "cell_type": "code",
   "execution_count": 179,
   "metadata": {
    "collapsed": false
   },
   "outputs": [
    {
     "data": {
      "text/plain": [
       "Index([u'GEO.id', u'GEO.id2', u'GEO.display-label', u'HC01_VC03', u'HC02_VC03',\n",
       "       u'HC03_VC03', u'HC04_VC03', u'HC01_VC04', u'HC02_VC04', u'HC03_VC04',\n",
       "       ...\n",
       "       u'HC03_VC101', u'HC04_VC101', u'HC01_VC102', u'HC02_VC102',\n",
       "       u'HC03_VC102', u'HC04_VC102', u'HC01_VC104', u'HC02_VC104',\n",
       "       u'HC03_VC104', u'HC04_VC104'],\n",
       "      dtype='object', length=327)"
      ]
     },
     "execution_count": 179,
     "metadata": {},
     "output_type": "execute_result"
    }
   ],
   "source": [
    "#Import race data\n",
    "race = pd.read_csv('2014 Race and sex.csv', skiprows=[1])\n",
    "race.columns"
   ]
  },
  {
   "cell_type": "code",
   "execution_count": 180,
   "metadata": {
    "collapsed": false
   },
   "outputs": [],
   "source": [
    "race = race[['GEO.id2', 'HC03_VC87', 'HC01_VC94', 'HC01_VC95', 'HC01_VC97', 'HC01_VC88']]"
   ]
  },
  {
   "cell_type": "code",
   "execution_count": 181,
   "metadata": {
    "collapsed": false
   },
   "outputs": [],
   "source": [
    "race.columns = ['BoroCT2010', 'Total Population', 'White only', 'Black only', 'Asian only', 'Hispanic only']"
   ]
  },
  {
   "cell_type": "code",
   "execution_count": 182,
   "metadata": {
    "collapsed": false
   },
   "outputs": [],
   "source": [
    "race.replace(regex=True,inplace=True,to_replace=r'\\D',value=r'')"
   ]
  },
  {
   "cell_type": "code",
   "execution_count": 183,
   "metadata": {
    "collapsed": true
   },
   "outputs": [],
   "source": [
    "race = race.replace('', 'NaN')"
   ]
  },
  {
   "cell_type": "code",
   "execution_count": 184,
   "metadata": {
    "collapsed": true
   },
   "outputs": [],
   "source": [
    "race = race.astype(float)"
   ]
  },
  {
   "cell_type": "code",
   "execution_count": 185,
   "metadata": {
    "collapsed": false
   },
   "outputs": [
    {
     "data": {
      "text/plain": [
       "2167"
      ]
     },
     "execution_count": 185,
     "metadata": {},
     "output_type": "execute_result"
    }
   ],
   "source": [
    "len(race)"
   ]
  },
  {
   "cell_type": "code",
   "execution_count": 186,
   "metadata": {
    "collapsed": true
   },
   "outputs": [],
   "source": [
    "race['BoroCT2010'] = mhincome['BoroCT2010']"
   ]
  },
  {
   "cell_type": "code",
   "execution_count": 187,
   "metadata": {
    "collapsed": false
   },
   "outputs": [],
   "source": [
    "race['Other Only'] = race['Total Population'] - race['White only'] - race['Black only'] - race['Asian only'] - race['Hispanic only']"
   ]
  },
  {
   "cell_type": "code",
   "execution_count": 188,
   "metadata": {
    "collapsed": true
   },
   "outputs": [],
   "source": [
    "del(race['Total Population'])"
   ]
  },
  {
   "cell_type": "code",
   "execution_count": 189,
   "metadata": {
    "collapsed": false
   },
   "outputs": [
    {
     "data": {
      "text/html": [
       "<div>\n",
       "<table border=\"1\" class=\"dataframe\">\n",
       "  <thead>\n",
       "    <tr style=\"text-align: right;\">\n",
       "      <th></th>\n",
       "      <th>BoroCT2010</th>\n",
       "      <th>White only</th>\n",
       "      <th>Black only</th>\n",
       "      <th>Asian only</th>\n",
       "      <th>Hispanic only</th>\n",
       "      <th>Other Only</th>\n",
       "    </tr>\n",
       "  </thead>\n",
       "  <tbody>\n",
       "    <tr>\n",
       "      <th>0</th>\n",
       "      <td>2000100</td>\n",
       "      <td>585.0</td>\n",
       "      <td>4647.0</td>\n",
       "      <td>167.0</td>\n",
       "      <td>2943.0</td>\n",
       "      <td>88.0</td>\n",
       "    </tr>\n",
       "    <tr>\n",
       "      <th>1</th>\n",
       "      <td>2000200</td>\n",
       "      <td>115.0</td>\n",
       "      <td>1041.0</td>\n",
       "      <td>331.0</td>\n",
       "      <td>3505.0</td>\n",
       "      <td>103.0</td>\n",
       "    </tr>\n",
       "    <tr>\n",
       "      <th>2</th>\n",
       "      <td>2000400</td>\n",
       "      <td>160.0</td>\n",
       "      <td>1709.0</td>\n",
       "      <td>21.0</td>\n",
       "      <td>3533.0</td>\n",
       "      <td>149.0</td>\n",
       "    </tr>\n",
       "    <tr>\n",
       "      <th>3</th>\n",
       "      <td>2001600</td>\n",
       "      <td>75.0</td>\n",
       "      <td>1609.0</td>\n",
       "      <td>0.0</td>\n",
       "      <td>3694.0</td>\n",
       "      <td>34.0</td>\n",
       "    </tr>\n",
       "    <tr>\n",
       "      <th>4</th>\n",
       "      <td>2001900</td>\n",
       "      <td>209.0</td>\n",
       "      <td>705.0</td>\n",
       "      <td>39.0</td>\n",
       "      <td>1509.0</td>\n",
       "      <td>107.0</td>\n",
       "    </tr>\n",
       "  </tbody>\n",
       "</table>\n",
       "</div>"
      ],
      "text/plain": [
       "  BoroCT2010  White only  Black only  Asian only  Hispanic only  Other Only\n",
       "0    2000100       585.0      4647.0       167.0         2943.0        88.0\n",
       "1    2000200       115.0      1041.0       331.0         3505.0       103.0\n",
       "2    2000400       160.0      1709.0        21.0         3533.0       149.0\n",
       "3    2001600        75.0      1609.0         0.0         3694.0        34.0\n",
       "4    2001900       209.0       705.0        39.0         1509.0       107.0"
      ]
     },
     "execution_count": 189,
     "metadata": {},
     "output_type": "execute_result"
    }
   ],
   "source": [
    "race.head()"
   ]
  },
  {
   "cell_type": "code",
   "execution_count": 190,
   "metadata": {
    "collapsed": false
   },
   "outputs": [
    {
     "data": {
      "text/plain": [
       "Index([u'GEO.id', u'GEO.id2', u'GEO.display-label', u'HC01_VC03', u'HC02_VC03',\n",
       "       u'HC03_VC03', u'HC04_VC03', u'HC01_VC04', u'HC02_VC04', u'HC03_VC04',\n",
       "       ...\n",
       "       u'HC03_VC201', u'HC04_VC201', u'HC01_VC202', u'HC02_VC202',\n",
       "       u'HC03_VC202', u'HC04_VC202', u'HC01_VC205', u'HC02_VC205',\n",
       "       u'HC03_VC205', u'HC04_VC205'],\n",
       "      dtype='object', length=567)"
      ]
     },
     "execution_count": 190,
     "metadata": {},
     "output_type": "execute_result"
    }
   ],
   "source": [
    "#Import median rent data\n",
    "mrent = pd.read_csv('2014 Median rent.csv', skiprows=[1])\n",
    "mrent.columns"
   ]
  },
  {
   "cell_type": "code",
   "execution_count": 191,
   "metadata": {
    "collapsed": false
   },
   "outputs": [],
   "source": [
    "mrent = mrent[['GEO.id2', 'HC01_VC189']]"
   ]
  },
  {
   "cell_type": "code",
   "execution_count": 192,
   "metadata": {
    "collapsed": false
   },
   "outputs": [],
   "source": [
    "mrent.columns = ['BoroCT2010', 'Median Rent']"
   ]
  },
  {
   "cell_type": "code",
   "execution_count": 193,
   "metadata": {
    "collapsed": true
   },
   "outputs": [],
   "source": [
    "mrent.replace(regex=True,inplace=True,to_replace=r'\\D',value=r'')"
   ]
  },
  {
   "cell_type": "code",
   "execution_count": 194,
   "metadata": {
    "collapsed": true
   },
   "outputs": [],
   "source": [
    "mrent = mrent.replace('', 'NaN')"
   ]
  },
  {
   "cell_type": "code",
   "execution_count": 195,
   "metadata": {
    "collapsed": true
   },
   "outputs": [],
   "source": [
    "mrent = mrent.astype(float)"
   ]
  },
  {
   "cell_type": "code",
   "execution_count": 196,
   "metadata": {
    "collapsed": false
   },
   "outputs": [
    {
     "data": {
      "text/plain": [
       "2167"
      ]
     },
     "execution_count": 196,
     "metadata": {},
     "output_type": "execute_result"
    }
   ],
   "source": [
    "len(mrent)"
   ]
  },
  {
   "cell_type": "code",
   "execution_count": 197,
   "metadata": {
    "collapsed": true
   },
   "outputs": [],
   "source": [
    "mrent['BoroCT2010'] = mhincome['BoroCT2010']"
   ]
  },
  {
   "cell_type": "code",
   "execution_count": 198,
   "metadata": {
    "collapsed": false
   },
   "outputs": [
    {
     "data": {
      "text/html": [
       "<div>\n",
       "<table border=\"1\" class=\"dataframe\">\n",
       "  <thead>\n",
       "    <tr style=\"text-align: right;\">\n",
       "      <th></th>\n",
       "      <th>BoroCT2010</th>\n",
       "      <th>Median Rent</th>\n",
       "    </tr>\n",
       "  </thead>\n",
       "  <tbody>\n",
       "    <tr>\n",
       "      <th>2162</th>\n",
       "      <td>5030302</td>\n",
       "      <td>1650.0</td>\n",
       "    </tr>\n",
       "    <tr>\n",
       "      <th>2163</th>\n",
       "      <td>5031901</td>\n",
       "      <td>603.0</td>\n",
       "    </tr>\n",
       "    <tr>\n",
       "      <th>2164</th>\n",
       "      <td>5031902</td>\n",
       "      <td>754.0</td>\n",
       "    </tr>\n",
       "    <tr>\n",
       "      <th>2165</th>\n",
       "      <td>5032300</td>\n",
       "      <td>1281.0</td>\n",
       "    </tr>\n",
       "    <tr>\n",
       "      <th>2166</th>\n",
       "      <td>5990100</td>\n",
       "      <td>NaN</td>\n",
       "    </tr>\n",
       "  </tbody>\n",
       "</table>\n",
       "</div>"
      ],
      "text/plain": [
       "     BoroCT2010  Median Rent\n",
       "2162    5030302       1650.0\n",
       "2163    5031901        603.0\n",
       "2164    5031902        754.0\n",
       "2165    5032300       1281.0\n",
       "2166    5990100          NaN"
      ]
     },
     "execution_count": 198,
     "metadata": {},
     "output_type": "execute_result"
    }
   ],
   "source": [
    "mrent.tail()"
   ]
  },
  {
   "cell_type": "code",
   "execution_count": 199,
   "metadata": {
    "collapsed": false
   },
   "outputs": [],
   "source": [
    "#Importing 311 total call by Census Tracts\n",
    "tcomplaints = pd.read_csv('2014 total complaints by CT.csv')\n",
    "tcomplaints.columns = ['BoroCT2010', '311 calls']\n",
    "tcomplaints.BoroCT2010 = tcomplaints.BoroCT2010.astype(str)"
   ]
  },
  {
   "cell_type": "code",
   "execution_count": 200,
   "metadata": {
    "collapsed": false
   },
   "outputs": [],
   "source": [
    "#The next lones (100 to 108) are created to merge all the demographic data sets\n",
    "#with the 311 call data\n",
    "merged = pd.merge(tcomplaints, mhincome, on='BoroCT2010')"
   ]
  },
  {
   "cell_type": "code",
   "execution_count": 201,
   "metadata": {
    "collapsed": false
   },
   "outputs": [],
   "source": [
    "merged = pd.merge(merged, education, on='BoroCT2010')"
   ]
  },
  {
   "cell_type": "code",
   "execution_count": 202,
   "metadata": {
    "collapsed": false
   },
   "outputs": [],
   "source": [
    "merged = pd.merge(merged, age, on='BoroCT2010')"
   ]
  },
  {
   "cell_type": "code",
   "execution_count": 203,
   "metadata": {
    "collapsed": false
   },
   "outputs": [],
   "source": [
    "merged = pd.merge(merged, housetype, on='BoroCT2010')"
   ]
  },
  {
   "cell_type": "code",
   "execution_count": 204,
   "metadata": {
    "collapsed": false
   },
   "outputs": [],
   "source": [
    "merged = pd.merge(merged, housevalue, on='BoroCT2010')"
   ]
  },
  {
   "cell_type": "code",
   "execution_count": 205,
   "metadata": {
    "collapsed": false
   },
   "outputs": [],
   "source": [
    "merged = pd.merge(merged, ownorrent, on='BoroCT2010')"
   ]
  },
  {
   "cell_type": "code",
   "execution_count": 206,
   "metadata": {
    "collapsed": false
   },
   "outputs": [],
   "source": [
    "merged = pd.merge(merged, population, on='BoroCT2010')"
   ]
  },
  {
   "cell_type": "code",
   "execution_count": 207,
   "metadata": {
    "collapsed": false
   },
   "outputs": [],
   "source": [
    "merged = pd.merge(merged, race, on='BoroCT2010')"
   ]
  },
  {
   "cell_type": "code",
   "execution_count": 208,
   "metadata": {
    "collapsed": false
   },
   "outputs": [],
   "source": [
    "merged = pd.merge(merged, mrent, on='BoroCT2010')"
   ]
  },
  {
   "cell_type": "code",
   "execution_count": 209,
   "metadata": {
    "collapsed": true
   },
   "outputs": [],
   "source": [
    "merged = pd.merge(merged, carowner, on='BoroCT2010', how='left')"
   ]
  },
  {
   "cell_type": "code",
   "execution_count": 210,
   "metadata": {
    "collapsed": false
   },
   "outputs": [
    {
     "data": {
      "text/html": [
       "<div>\n",
       "<table border=\"1\" class=\"dataframe\">\n",
       "  <thead>\n",
       "    <tr style=\"text-align: right;\">\n",
       "      <th></th>\n",
       "      <th>BoroCT2010</th>\n",
       "      <th>311 calls</th>\n",
       "      <th>Total Households</th>\n",
       "      <th>Median Income</th>\n",
       "      <th>Total educated</th>\n",
       "      <th>Total High School</th>\n",
       "      <th>Total bachelors</th>\n",
       "      <th>Total masters</th>\n",
       "      <th>Total PHD</th>\n",
       "      <th>Median Age</th>\n",
       "      <th>...</th>\n",
       "      <th>Owner Occupied</th>\n",
       "      <th>Renter Occupied</th>\n",
       "      <th>Total Population</th>\n",
       "      <th>White only</th>\n",
       "      <th>Black only</th>\n",
       "      <th>Asian only</th>\n",
       "      <th>Hispanic only</th>\n",
       "      <th>Other Only</th>\n",
       "      <th>Median Rent</th>\n",
       "      <th>Total cars</th>\n",
       "    </tr>\n",
       "  </thead>\n",
       "  <tbody>\n",
       "    <tr>\n",
       "      <th>2157</th>\n",
       "      <td>5030301</td>\n",
       "      <td>736</td>\n",
       "      <td>1820.0</td>\n",
       "      <td>59625.0</td>\n",
       "      <td>3124.0</td>\n",
       "      <td>984.0</td>\n",
       "      <td>455.0</td>\n",
       "      <td>257.0</td>\n",
       "      <td>20.0</td>\n",
       "      <td>32.2</td>\n",
       "      <td>...</td>\n",
       "      <td>2904.0</td>\n",
       "      <td>2152.0</td>\n",
       "      <td>5061.0</td>\n",
       "      <td>2393.0</td>\n",
       "      <td>545.0</td>\n",
       "      <td>656.0</td>\n",
       "      <td>1391.0</td>\n",
       "      <td>76.0</td>\n",
       "      <td>1294.0</td>\n",
       "      <td>2326.0</td>\n",
       "    </tr>\n",
       "    <tr>\n",
       "      <th>2158</th>\n",
       "      <td>5030302</td>\n",
       "      <td>859</td>\n",
       "      <td>1938.0</td>\n",
       "      <td>80887.0</td>\n",
       "      <td>4038.0</td>\n",
       "      <td>1065.0</td>\n",
       "      <td>746.0</td>\n",
       "      <td>393.0</td>\n",
       "      <td>74.0</td>\n",
       "      <td>36.5</td>\n",
       "      <td>...</td>\n",
       "      <td>4159.0</td>\n",
       "      <td>2046.0</td>\n",
       "      <td>6205.0</td>\n",
       "      <td>1480.0</td>\n",
       "      <td>1373.0</td>\n",
       "      <td>889.0</td>\n",
       "      <td>2293.0</td>\n",
       "      <td>170.0</td>\n",
       "      <td>1650.0</td>\n",
       "      <td>2860.0</td>\n",
       "    </tr>\n",
       "    <tr>\n",
       "      <th>2159</th>\n",
       "      <td>5031901</td>\n",
       "      <td>350</td>\n",
       "      <td>1086.0</td>\n",
       "      <td>27031.0</td>\n",
       "      <td>1709.0</td>\n",
       "      <td>395.0</td>\n",
       "      <td>240.0</td>\n",
       "      <td>24.0</td>\n",
       "      <td>0.0</td>\n",
       "      <td>30.8</td>\n",
       "      <td>...</td>\n",
       "      <td>592.0</td>\n",
       "      <td>2324.0</td>\n",
       "      <td>2916.0</td>\n",
       "      <td>132.0</td>\n",
       "      <td>1743.0</td>\n",
       "      <td>140.0</td>\n",
       "      <td>888.0</td>\n",
       "      <td>13.0</td>\n",
       "      <td>603.0</td>\n",
       "      <td>691.0</td>\n",
       "    </tr>\n",
       "    <tr>\n",
       "      <th>2160</th>\n",
       "      <td>5031902</td>\n",
       "      <td>1126</td>\n",
       "      <td>1619.0</td>\n",
       "      <td>31750.0</td>\n",
       "      <td>2664.0</td>\n",
       "      <td>835.0</td>\n",
       "      <td>435.0</td>\n",
       "      <td>129.0</td>\n",
       "      <td>0.0</td>\n",
       "      <td>30.6</td>\n",
       "      <td>...</td>\n",
       "      <td>2359.0</td>\n",
       "      <td>2155.0</td>\n",
       "      <td>4535.0</td>\n",
       "      <td>654.0</td>\n",
       "      <td>2900.0</td>\n",
       "      <td>16.0</td>\n",
       "      <td>920.0</td>\n",
       "      <td>45.0</td>\n",
       "      <td>754.0</td>\n",
       "      <td>1396.0</td>\n",
       "    </tr>\n",
       "    <tr>\n",
       "      <th>2161</th>\n",
       "      <td>5032300</td>\n",
       "      <td>320</td>\n",
       "      <td>464.0</td>\n",
       "      <td>58804.0</td>\n",
       "      <td>826.0</td>\n",
       "      <td>195.0</td>\n",
       "      <td>111.0</td>\n",
       "      <td>19.0</td>\n",
       "      <td>0.0</td>\n",
       "      <td>42.0</td>\n",
       "      <td>...</td>\n",
       "      <td>853.0</td>\n",
       "      <td>253.0</td>\n",
       "      <td>1106.0</td>\n",
       "      <td>345.0</td>\n",
       "      <td>247.0</td>\n",
       "      <td>0.0</td>\n",
       "      <td>508.0</td>\n",
       "      <td>6.0</td>\n",
       "      <td>1281.0</td>\n",
       "      <td>578.0</td>\n",
       "    </tr>\n",
       "  </tbody>\n",
       "</table>\n",
       "<p>5 rows × 25 columns</p>\n",
       "</div>"
      ],
      "text/plain": [
       "     BoroCT2010  311 calls  Total Households  Median Income  Total educated  \\\n",
       "2157    5030301        736            1820.0        59625.0          3124.0   \n",
       "2158    5030302        859            1938.0        80887.0          4038.0   \n",
       "2159    5031901        350            1086.0        27031.0          1709.0   \n",
       "2160    5031902       1126            1619.0        31750.0          2664.0   \n",
       "2161    5032300        320             464.0        58804.0           826.0   \n",
       "\n",
       "      Total High School  Total bachelors  Total masters  Total PHD  \\\n",
       "2157              984.0            455.0          257.0       20.0   \n",
       "2158             1065.0            746.0          393.0       74.0   \n",
       "2159              395.0            240.0           24.0        0.0   \n",
       "2160              835.0            435.0          129.0        0.0   \n",
       "2161              195.0            111.0           19.0        0.0   \n",
       "\n",
       "      Median Age     ...      Owner Occupied  Renter Occupied  \\\n",
       "2157        32.2     ...              2904.0           2152.0   \n",
       "2158        36.5     ...              4159.0           2046.0   \n",
       "2159        30.8     ...               592.0           2324.0   \n",
       "2160        30.6     ...              2359.0           2155.0   \n",
       "2161        42.0     ...               853.0            253.0   \n",
       "\n",
       "      Total Population  White only  Black only  Asian only  Hispanic only  \\\n",
       "2157            5061.0      2393.0       545.0       656.0         1391.0   \n",
       "2158            6205.0      1480.0      1373.0       889.0         2293.0   \n",
       "2159            2916.0       132.0      1743.0       140.0          888.0   \n",
       "2160            4535.0       654.0      2900.0        16.0          920.0   \n",
       "2161            1106.0       345.0       247.0         0.0          508.0   \n",
       "\n",
       "      Other Only  Median Rent  Total cars  \n",
       "2157        76.0       1294.0      2326.0  \n",
       "2158       170.0       1650.0      2860.0  \n",
       "2159        13.0        603.0       691.0  \n",
       "2160        45.0        754.0      1396.0  \n",
       "2161         6.0       1281.0       578.0  \n",
       "\n",
       "[5 rows x 25 columns]"
      ]
     },
     "execution_count": 210,
     "metadata": {},
     "output_type": "execute_result"
    }
   ],
   "source": [
    "merged.tail()"
   ]
  },
  {
   "cell_type": "code",
   "execution_count": 211,
   "metadata": {
    "collapsed": false
   },
   "outputs": [
    {
     "data": {
      "text/plain": [
       "<matplotlib.axes._subplots.AxesSubplot at 0x10791278>"
      ]
     },
     "execution_count": 211,
     "metadata": {},
     "output_type": "execute_result"
    },
    {
     "data": {
      "image/png": "[encoded data removed]",
      "text/plain": [
       "<matplotlib.figure.Figure at 0x10791048>"
      ]
     },
     "metadata": {},
     "output_type": "display_data"
    }
   ],
   "source": [
    "merged.plot(x='311 calls', y='Total Population', kind='scatter', grid=True, figsize=(12,8))"
   ]
  },
  {
   "cell_type": "code",
   "execution_count": 212,
   "metadata": {
    "collapsed": false
   },
   "outputs": [
    {
     "data": {
      "text/plain": [
       "<matplotlib.axes._subplots.AxesSubplot at 0x8d9d2b0>"
      ]
     },
     "execution_count": 212,
     "metadata": {},
     "output_type": "execute_result"
    },
    {
     "data": {
      "image/png": "[encoded data removed]",
      "text/plain": [
       "<matplotlib.figure.Figure at 0x10c307f0>"
      ]
     },
     "metadata": {},
     "output_type": "display_data"
    }
   ],
   "source": [
    "merged.plot(x='311 calls', y='Total Hunits', kind='scatter', grid=True, figsize=(12,8))"
   ]
  },
  {
   "cell_type": "code",
   "execution_count": 213,
   "metadata": {
    "collapsed": false
   },
   "outputs": [],
   "source": [
    "NNcorr = merged.corr(method='pearson', min_periods=1)"
   ]
  },
  {
   "cell_type": "code",
   "execution_count": 214,
   "metadata": {
    "collapsed": false
   },
   "outputs": [
    {
     "data": {
      "text/plain": [
       "311 calls                      1.000000\n",
       "Total Households               0.550508\n",
       "Median Income                 -0.087318\n",
       "Total educated                 0.566597\n",
       "Total High School              0.376980\n",
       "Total bachelors                0.384308\n",
       "Total masters                  0.295561\n",
       "Total PHD                      0.178182\n",
       "Median Age                    -0.171611\n",
       "Total households               0.550508\n",
       "Total family households        0.502020\n",
       "Total non-family households    0.470357\n",
       "Median House Value             0.026866\n",
       "Total Hunits                   0.588256\n",
       "Owner Occupied                 0.040398\n",
       "Renter Occupied                0.612292\n",
       "Total Population               0.589524\n",
       "White only                     0.190150\n",
       "Black only                     0.231715\n",
       "Asian only                     0.039470\n",
       "Hispanic only                  0.492669\n",
       "Other Only                     0.188199\n",
       "Median Rent                    0.004588\n",
       "Total cars                     0.105361\n",
       "Name: 311 calls, dtype: float64"
      ]
     },
     "execution_count": 214,
     "metadata": {},
     "output_type": "execute_result"
    }
   ],
   "source": [
    "NNcorr.iloc[0]"
   ]
  },
  {
   "cell_type": "code",
   "execution_count": 215,
   "metadata": {
    "collapsed": true
   },
   "outputs": [],
   "source": [
    "#merged.to_csv('Demographic and 311 calls merged - without normalization.csv')"
   ]
  },
  {
   "cell_type": "code",
   "execution_count": 216,
   "metadata": {
    "collapsed": false
   },
   "outputs": [
    {
     "data": {
      "text/plain": [
       "Index([u'BoroCT2010', u'311 calls', u'Total Households', u'Median Income',\n",
       "       u'Total educated', u'Total High School', u'Total bachelors',\n",
       "       u'Total masters', u'Total PHD', u'Median Age', u'Total households',\n",
       "       u'Total family households', u'Total non-family households',\n",
       "       u'Median House Value', u'Total Hunits', u'Owner Occupied',\n",
       "       u'Renter Occupied', u'Total Population', u'White only', u'Black only',\n",
       "       u'Asian only', u'Hispanic only', u'Other Only', u'Median Rent',\n",
       "       u'Total cars'],\n",
       "      dtype='object')"
      ]
     },
     "execution_count": 216,
     "metadata": {},
     "output_type": "execute_result"
    }
   ],
   "source": [
    "merged.columns"
   ]
  },
  {
   "cell_type": "code",
   "execution_count": 217,
   "metadata": {
    "collapsed": false
   },
   "outputs": [
    {
     "data": {
      "text/html": [
       "<div>\n",
       "<table border=\"1\" class=\"dataframe\">\n",
       "  <thead>\n",
       "    <tr style=\"text-align: right;\">\n",
       "      <th></th>\n",
       "      <th>BoroCT2010</th>\n",
       "      <th>311 calls</th>\n",
       "      <th>Total Households</th>\n",
       "      <th>Median Income</th>\n",
       "      <th>Total educated</th>\n",
       "      <th>Total High School</th>\n",
       "      <th>Total bachelors</th>\n",
       "      <th>Total masters</th>\n",
       "      <th>Total PHD</th>\n",
       "      <th>Median Age</th>\n",
       "      <th>...</th>\n",
       "      <th>Owner Occupied</th>\n",
       "      <th>Renter Occupied</th>\n",
       "      <th>Total Population</th>\n",
       "      <th>White only</th>\n",
       "      <th>Black only</th>\n",
       "      <th>Asian only</th>\n",
       "      <th>Hispanic only</th>\n",
       "      <th>Other Only</th>\n",
       "      <th>Median Rent</th>\n",
       "      <th>Total cars</th>\n",
       "    </tr>\n",
       "  </thead>\n",
       "  <tbody>\n",
       "    <tr>\n",
       "      <th>2157</th>\n",
       "      <td>5030301</td>\n",
       "      <td>736</td>\n",
       "      <td>1820.0</td>\n",
       "      <td>59625.0</td>\n",
       "      <td>3124.0</td>\n",
       "      <td>984.0</td>\n",
       "      <td>455.0</td>\n",
       "      <td>257.0</td>\n",
       "      <td>20.0</td>\n",
       "      <td>32.2</td>\n",
       "      <td>...</td>\n",
       "      <td>2904.0</td>\n",
       "      <td>2152.0</td>\n",
       "      <td>5061.0</td>\n",
       "      <td>2393.0</td>\n",
       "      <td>545.0</td>\n",
       "      <td>656.0</td>\n",
       "      <td>1391.0</td>\n",
       "      <td>76.0</td>\n",
       "      <td>1294.0</td>\n",
       "      <td>2326.0</td>\n",
       "    </tr>\n",
       "    <tr>\n",
       "      <th>2158</th>\n",
       "      <td>5030302</td>\n",
       "      <td>859</td>\n",
       "      <td>1938.0</td>\n",
       "      <td>80887.0</td>\n",
       "      <td>4038.0</td>\n",
       "      <td>1065.0</td>\n",
       "      <td>746.0</td>\n",
       "      <td>393.0</td>\n",
       "      <td>74.0</td>\n",
       "      <td>36.5</td>\n",
       "      <td>...</td>\n",
       "      <td>4159.0</td>\n",
       "      <td>2046.0</td>\n",
       "      <td>6205.0</td>\n",
       "      <td>1480.0</td>\n",
       "      <td>1373.0</td>\n",
       "      <td>889.0</td>\n",
       "      <td>2293.0</td>\n",
       "      <td>170.0</td>\n",
       "      <td>1650.0</td>\n",
       "      <td>2860.0</td>\n",
       "    </tr>\n",
       "    <tr>\n",
       "      <th>2159</th>\n",
       "      <td>5031901</td>\n",
       "      <td>350</td>\n",
       "      <td>1086.0</td>\n",
       "      <td>27031.0</td>\n",
       "      <td>1709.0</td>\n",
       "      <td>395.0</td>\n",
       "      <td>240.0</td>\n",
       "      <td>24.0</td>\n",
       "      <td>0.0</td>\n",
       "      <td>30.8</td>\n",
       "      <td>...</td>\n",
       "      <td>592.0</td>\n",
       "      <td>2324.0</td>\n",
       "      <td>2916.0</td>\n",
       "      <td>132.0</td>\n",
       "      <td>1743.0</td>\n",
       "      <td>140.0</td>\n",
       "      <td>888.0</td>\n",
       "      <td>13.0</td>\n",
       "      <td>603.0</td>\n",
       "      <td>691.0</td>\n",
       "    </tr>\n",
       "    <tr>\n",
       "      <th>2160</th>\n",
       "      <td>5031902</td>\n",
       "      <td>1126</td>\n",
       "      <td>1619.0</td>\n",
       "      <td>31750.0</td>\n",
       "      <td>2664.0</td>\n",
       "      <td>835.0</td>\n",
       "      <td>435.0</td>\n",
       "      <td>129.0</td>\n",
       "      <td>0.0</td>\n",
       "      <td>30.6</td>\n",
       "      <td>...</td>\n",
       "      <td>2359.0</td>\n",
       "      <td>2155.0</td>\n",
       "      <td>4535.0</td>\n",
       "      <td>654.0</td>\n",
       "      <td>2900.0</td>\n",
       "      <td>16.0</td>\n",
       "      <td>920.0</td>\n",
       "      <td>45.0</td>\n",
       "      <td>754.0</td>\n",
       "      <td>1396.0</td>\n",
       "    </tr>\n",
       "    <tr>\n",
       "      <th>2161</th>\n",
       "      <td>5032300</td>\n",
       "      <td>320</td>\n",
       "      <td>464.0</td>\n",
       "      <td>58804.0</td>\n",
       "      <td>826.0</td>\n",
       "      <td>195.0</td>\n",
       "      <td>111.0</td>\n",
       "      <td>19.0</td>\n",
       "      <td>0.0</td>\n",
       "      <td>42.0</td>\n",
       "      <td>...</td>\n",
       "      <td>853.0</td>\n",
       "      <td>253.0</td>\n",
       "      <td>1106.0</td>\n",
       "      <td>345.0</td>\n",
       "      <td>247.0</td>\n",
       "      <td>0.0</td>\n",
       "      <td>508.0</td>\n",
       "      <td>6.0</td>\n",
       "      <td>1281.0</td>\n",
       "      <td>578.0</td>\n",
       "    </tr>\n",
       "  </tbody>\n",
       "</table>\n",
       "<p>5 rows × 25 columns</p>\n",
       "</div>"
      ],
      "text/plain": [
       "     BoroCT2010  311 calls  Total Households  Median Income  Total educated  \\\n",
       "2157    5030301        736            1820.0        59625.0          3124.0   \n",
       "2158    5030302        859            1938.0        80887.0          4038.0   \n",
       "2159    5031901        350            1086.0        27031.0          1709.0   \n",
       "2160    5031902       1126            1619.0        31750.0          2664.0   \n",
       "2161    5032300        320             464.0        58804.0           826.0   \n",
       "\n",
       "      Total High School  Total bachelors  Total masters  Total PHD  \\\n",
       "2157              984.0            455.0          257.0       20.0   \n",
       "2158             1065.0            746.0          393.0       74.0   \n",
       "2159              395.0            240.0           24.0        0.0   \n",
       "2160              835.0            435.0          129.0        0.0   \n",
       "2161              195.0            111.0           19.0        0.0   \n",
       "\n",
       "      Median Age     ...      Owner Occupied  Renter Occupied  \\\n",
       "2157        32.2     ...              2904.0           2152.0   \n",
       "2158        36.5     ...              4159.0           2046.0   \n",
       "2159        30.8     ...               592.0           2324.0   \n",
       "2160        30.6     ...              2359.0           2155.0   \n",
       "2161        42.0     ...               853.0            253.0   \n",
       "\n",
       "      Total Population  White only  Black only  Asian only  Hispanic only  \\\n",
       "2157            5061.0      2393.0       545.0       656.0         1391.0   \n",
       "2158            6205.0      1480.0      1373.0       889.0         2293.0   \n",
       "2159            2916.0       132.0      1743.0       140.0          888.0   \n",
       "2160            4535.0       654.0      2900.0        16.0          920.0   \n",
       "2161            1106.0       345.0       247.0         0.0          508.0   \n",
       "\n",
       "      Other Only  Median Rent  Total cars  \n",
       "2157        76.0       1294.0      2326.0  \n",
       "2158       170.0       1650.0      2860.0  \n",
       "2159        13.0        603.0       691.0  \n",
       "2160        45.0        754.0      1396.0  \n",
       "2161         6.0       1281.0       578.0  \n",
       "\n",
       "[5 rows x 25 columns]"
      ]
     },
     "execution_count": 217,
     "metadata": {},
     "output_type": "execute_result"
    }
   ],
   "source": [
    "merged.tail()"
   ]
  },
  {
   "cell_type": "code",
   "execution_count": 218,
   "metadata": {
    "collapsed": true
   },
   "outputs": [],
   "source": [
    "Normcorr = merged.corr(method='pearson', min_periods=1)"
   ]
  },
  {
   "cell_type": "code",
   "execution_count": 219,
   "metadata": {
    "collapsed": false
   },
   "outputs": [
    {
     "data": {
      "text/plain": [
       "311 calls                      1.000000\n",
       "Total Households               0.550508\n",
       "Median Income                 -0.087318\n",
       "Total educated                 0.566597\n",
       "Total High School              0.376980\n",
       "Total bachelors                0.384308\n",
       "Total masters                  0.295561\n",
       "Total PHD                      0.178182\n",
       "Median Age                    -0.171611\n",
       "Total households               0.550508\n",
       "Total family households        0.502020\n",
       "Total non-family households    0.470357\n",
       "Median House Value             0.026866\n",
       "Total Hunits                   0.588256\n",
       "Owner Occupied                 0.040398\n",
       "Renter Occupied                0.612292\n",
       "Total Population               0.589524\n",
       "White only                     0.190150\n",
       "Black only                     0.231715\n",
       "Asian only                     0.039470\n",
       "Hispanic only                  0.492669\n",
       "Other Only                     0.188199\n",
       "Median Rent                    0.004588\n",
       "Total cars                     0.105361\n",
       "Name: 311 calls, dtype: float64"
      ]
     },
     "execution_count": 219,
     "metadata": {},
     "output_type": "execute_result"
    }
   ],
   "source": [
    "Normcorr.iloc[0]"
   ]
  },
  {
   "cell_type": "code",
   "execution_count": 131,
   "metadata": {
    "collapsed": false
   },
   "outputs": [],
   "source": [
    "merged.to_csv('Demographic and 311 calls merged - 3.csv')"
   ]
  },
  {
   "cell_type": "code",
   "execution_count": 220,
   "metadata": {
    "collapsed": true
   },
   "outputs": [],
   "source": [
    "NTAtoCT = pd.read_excel('GeoID to Neighborhoods.xlsx')"
   ]
  },
  {
   "cell_type": "code",
   "execution_count": 221,
   "metadata": {
    "collapsed": true
   },
   "outputs": [],
   "source": [
    "NTAtoCT.columns = ['BoroCT2010', 'Neighborhood']"
   ]
  },
  {
   "cell_type": "code",
   "execution_count": 222,
   "metadata": {
    "collapsed": false
   },
   "outputs": [
    {
     "data": {
      "text/html": [
       "<div>\n",
       "<table border=\"1\" class=\"dataframe\">\n",
       "  <thead>\n",
       "    <tr style=\"text-align: right;\">\n",
       "      <th></th>\n",
       "      <th>BoroCT2010</th>\n",
       "      <th>Neighborhood</th>\n",
       "    </tr>\n",
       "  </thead>\n",
       "  <tbody>\n",
       "    <tr>\n",
       "      <th>0</th>\n",
       "      <td>36005000100</td>\n",
       "      <td>Rikers Island</td>\n",
       "    </tr>\n",
       "    <tr>\n",
       "      <th>1</th>\n",
       "      <td>36005000100</td>\n",
       "      <td>Rikers Island</td>\n",
       "    </tr>\n",
       "    <tr>\n",
       "      <th>2</th>\n",
       "      <td>36005000200</td>\n",
       "      <td>Soundview-Castle Hill-Clason Point-Harding Park</td>\n",
       "    </tr>\n",
       "    <tr>\n",
       "      <th>3</th>\n",
       "      <td>36005000200</td>\n",
       "      <td>Soundview-Castle Hill-Clason Point-Harding Park</td>\n",
       "    </tr>\n",
       "    <tr>\n",
       "      <th>4</th>\n",
       "      <td>36005000200</td>\n",
       "      <td>Soundview-Castle Hill-Clason Point-Harding Park</td>\n",
       "    </tr>\n",
       "  </tbody>\n",
       "</table>\n",
       "</div>"
      ],
      "text/plain": [
       "    BoroCT2010                                     Neighborhood\n",
       "0  36005000100                                    Rikers Island\n",
       "1  36005000100                                    Rikers Island\n",
       "2  36005000200  Soundview-Castle Hill-Clason Point-Harding Park\n",
       "3  36005000200  Soundview-Castle Hill-Clason Point-Harding Park\n",
       "4  36005000200  Soundview-Castle Hill-Clason Point-Harding Park"
      ]
     },
     "execution_count": 222,
     "metadata": {},
     "output_type": "execute_result"
    }
   ],
   "source": [
    "NTAtoCT.head()"
   ]
  },
  {
   "cell_type": "code",
   "execution_count": 223,
   "metadata": {
    "collapsed": false
   },
   "outputs": [],
   "source": [
    "NTAtoCT['BoroCT2010'] = NTAtoCT['BoroCT2010'].map(lambda x: str(x)[3:])"
   ]
  },
  {
   "cell_type": "code",
   "execution_count": 224,
   "metadata": {
    "collapsed": true
   },
   "outputs": [],
   "source": [
    "NTAtoCT['Borocode'] = NTAtoCT['BoroCT2010'].str[:2]"
   ]
  },
  {
   "cell_type": "code",
   "execution_count": 225,
   "metadata": {
    "collapsed": false
   },
   "outputs": [
    {
     "data": {
      "text/plain": [
       "47    2052\n",
       "81    1707\n",
       "05    1138\n",
       "61    1091\n",
       "85     307\n",
       "Name: Borocode, dtype: int64"
      ]
     },
     "execution_count": 225,
     "metadata": {},
     "output_type": "execute_result"
    }
   ],
   "source": [
    "NTAtoCT.Borocode.value_counts()"
   ]
  },
  {
   "cell_type": "code",
   "execution_count": 226,
   "metadata": {
    "collapsed": true
   },
   "outputs": [],
   "source": [
    "bcorr = {'05': '2', '47': '3', '61' : '1', '81': '4', '85' : '5'}"
   ]
  },
  {
   "cell_type": "code",
   "execution_count": 227,
   "metadata": {
    "collapsed": true
   },
   "outputs": [],
   "source": [
    "NTAtoCT['Borocode2'] = NTAtoCT['Borocode'].map(bcorr)"
   ]
  },
  {
   "cell_type": "code",
   "execution_count": 228,
   "metadata": {
    "collapsed": true
   },
   "outputs": [],
   "source": [
    "NTAtoCT['BoroCT2010'] = NTAtoCT['BoroCT2010'].map(lambda x: str(x)[2:])"
   ]
  },
  {
   "cell_type": "code",
   "execution_count": 229,
   "metadata": {
    "collapsed": true
   },
   "outputs": [],
   "source": [
    "NTAtoCT['BoroCT2010'] = NTAtoCT.Borocode2 + NTAtoCT.BoroCT2010.astype(str)"
   ]
  },
  {
   "cell_type": "code",
   "execution_count": 230,
   "metadata": {
    "collapsed": true
   },
   "outputs": [],
   "source": [
    "NTAtoCT = NTAtoCT[['BoroCT2010', 'Neighborhood']]"
   ]
  },
  {
   "cell_type": "code",
   "execution_count": 231,
   "metadata": {
    "collapsed": false
   },
   "outputs": [
    {
     "data": {
      "text/html": [
       "<div>\n",
       "<table border=\"1\" class=\"dataframe\">\n",
       "  <thead>\n",
       "    <tr style=\"text-align: right;\">\n",
       "      <th></th>\n",
       "      <th>BoroCT2010</th>\n",
       "      <th>Neighborhood</th>\n",
       "    </tr>\n",
       "  </thead>\n",
       "  <tbody>\n",
       "    <tr>\n",
       "      <th>0</th>\n",
       "      <td>2000100</td>\n",
       "      <td>Rikers Island</td>\n",
       "    </tr>\n",
       "    <tr>\n",
       "      <th>1</th>\n",
       "      <td>2000100</td>\n",
       "      <td>Rikers Island</td>\n",
       "    </tr>\n",
       "    <tr>\n",
       "      <th>2</th>\n",
       "      <td>2000200</td>\n",
       "      <td>Soundview-Castle Hill-Clason Point-Harding Park</td>\n",
       "    </tr>\n",
       "    <tr>\n",
       "      <th>3</th>\n",
       "      <td>2000200</td>\n",
       "      <td>Soundview-Castle Hill-Clason Point-Harding Park</td>\n",
       "    </tr>\n",
       "    <tr>\n",
       "      <th>4</th>\n",
       "      <td>2000200</td>\n",
       "      <td>Soundview-Castle Hill-Clason Point-Harding Park</td>\n",
       "    </tr>\n",
       "  </tbody>\n",
       "</table>\n",
       "</div>"
      ],
      "text/plain": [
       "  BoroCT2010                                     Neighborhood\n",
       "0    2000100                                    Rikers Island\n",
       "1    2000100                                    Rikers Island\n",
       "2    2000200  Soundview-Castle Hill-Clason Point-Harding Park\n",
       "3    2000200  Soundview-Castle Hill-Clason Point-Harding Park\n",
       "4    2000200  Soundview-Castle Hill-Clason Point-Harding Park"
      ]
     },
     "execution_count": 231,
     "metadata": {},
     "output_type": "execute_result"
    }
   ],
   "source": [
    "NTAtoCT.head()"
   ]
  },
  {
   "cell_type": "code",
   "execution_count": 232,
   "metadata": {
    "collapsed": false
   },
   "outputs": [
    {
     "data": {
      "text/plain": [
       "6295"
      ]
     },
     "execution_count": 232,
     "metadata": {},
     "output_type": "execute_result"
    }
   ],
   "source": [
    "len(NTAtoCT)"
   ]
  },
  {
   "cell_type": "code",
   "execution_count": 233,
   "metadata": {
    "collapsed": false
   },
   "outputs": [],
   "source": [
    "NTAtoCT1 = NTAtoCT.drop_duplicates('BoroCT2010')"
   ]
  },
  {
   "cell_type": "code",
   "execution_count": 234,
   "metadata": {
    "collapsed": false
   },
   "outputs": [
    {
     "data": {
      "text/plain": [
       "2162"
      ]
     },
     "execution_count": 234,
     "metadata": {},
     "output_type": "execute_result"
    }
   ],
   "source": [
    "len(NTAtoCT1)"
   ]
  },
  {
   "cell_type": "code",
   "execution_count": 235,
   "metadata": {
    "collapsed": true
   },
   "outputs": [],
   "source": [
    "NTAtoCT1.to_csv('NTA and CT correspondence.csv')"
   ]
  },
  {
   "cell_type": "code",
   "execution_count": 236,
   "metadata": {
    "collapsed": false
   },
   "outputs": [],
   "source": [
    "merged2 = pd.merge(merged, NTAtoCT1, on='BoroCT2010')"
   ]
  },
  {
   "cell_type": "code",
   "execution_count": 237,
   "metadata": {
    "collapsed": false
   },
   "outputs": [
    {
     "data": {
      "text/plain": [
       "2162"
      ]
     },
     "execution_count": 237,
     "metadata": {},
     "output_type": "execute_result"
    }
   ],
   "source": [
    "len(merged2)"
   ]
  },
  {
   "cell_type": "code",
   "execution_count": 238,
   "metadata": {
    "collapsed": false
   },
   "outputs": [
    {
     "data": {
      "text/html": [
       "<div>\n",
       "<table border=\"1\" class=\"dataframe\">\n",
       "  <thead>\n",
       "    <tr style=\"text-align: right;\">\n",
       "      <th></th>\n",
       "      <th>BoroCT2010</th>\n",
       "      <th>311 calls</th>\n",
       "      <th>Total Households</th>\n",
       "      <th>Median Income</th>\n",
       "      <th>Total educated</th>\n",
       "      <th>Total High School</th>\n",
       "      <th>Total bachelors</th>\n",
       "      <th>Total masters</th>\n",
       "      <th>Total PHD</th>\n",
       "      <th>Median Age</th>\n",
       "      <th>...</th>\n",
       "      <th>Renter Occupied</th>\n",
       "      <th>Total Population</th>\n",
       "      <th>White only</th>\n",
       "      <th>Black only</th>\n",
       "      <th>Asian only</th>\n",
       "      <th>Hispanic only</th>\n",
       "      <th>Other Only</th>\n",
       "      <th>Median Rent</th>\n",
       "      <th>Total cars</th>\n",
       "      <th>Neighborhood</th>\n",
       "    </tr>\n",
       "  </thead>\n",
       "  <tbody>\n",
       "    <tr>\n",
       "      <th>0</th>\n",
       "      <td>1000201</td>\n",
       "      <td>287</td>\n",
       "      <td>927.0</td>\n",
       "      <td>23036.0</td>\n",
       "      <td>1985.0</td>\n",
       "      <td>479.0</td>\n",
       "      <td>217.0</td>\n",
       "      <td>63.0</td>\n",
       "      <td>0.0</td>\n",
       "      <td>40.3</td>\n",
       "      <td>...</td>\n",
       "      <td>2578.0</td>\n",
       "      <td>2709.0</td>\n",
       "      <td>330.0</td>\n",
       "      <td>145.0</td>\n",
       "      <td>1334.0</td>\n",
       "      <td>882.0</td>\n",
       "      <td>18.0</td>\n",
       "      <td>654.0</td>\n",
       "      <td>NaN</td>\n",
       "      <td>Lower East Side</td>\n",
       "    </tr>\n",
       "    <tr>\n",
       "      <th>1</th>\n",
       "      <td>1000202</td>\n",
       "      <td>580</td>\n",
       "      <td>3447.0</td>\n",
       "      <td>29418.0</td>\n",
       "      <td>6073.0</td>\n",
       "      <td>1481.0</td>\n",
       "      <td>959.0</td>\n",
       "      <td>326.0</td>\n",
       "      <td>30.0</td>\n",
       "      <td>44.1</td>\n",
       "      <td>...</td>\n",
       "      <td>6383.0</td>\n",
       "      <td>8308.0</td>\n",
       "      <td>2050.0</td>\n",
       "      <td>753.0</td>\n",
       "      <td>2044.0</td>\n",
       "      <td>3168.0</td>\n",
       "      <td>293.0</td>\n",
       "      <td>621.0</td>\n",
       "      <td>744.0</td>\n",
       "      <td>Lower East Side</td>\n",
       "    </tr>\n",
       "    <tr>\n",
       "      <th>2</th>\n",
       "      <td>1000500</td>\n",
       "      <td>8</td>\n",
       "      <td>0.0</td>\n",
       "      <td>NaN</td>\n",
       "      <td>0.0</td>\n",
       "      <td>0.0</td>\n",
       "      <td>0.0</td>\n",
       "      <td>0.0</td>\n",
       "      <td>0.0</td>\n",
       "      <td>NaN</td>\n",
       "      <td>...</td>\n",
       "      <td>0.0</td>\n",
       "      <td>0.0</td>\n",
       "      <td>0.0</td>\n",
       "      <td>0.0</td>\n",
       "      <td>0.0</td>\n",
       "      <td>0.0</td>\n",
       "      <td>0.0</td>\n",
       "      <td>NaN</td>\n",
       "      <td>NaN</td>\n",
       "      <td>park-cemetery-etc-Manhattan</td>\n",
       "    </tr>\n",
       "    <tr>\n",
       "      <th>3</th>\n",
       "      <td>1000600</td>\n",
       "      <td>1151</td>\n",
       "      <td>3954.0</td>\n",
       "      <td>18944.0</td>\n",
       "      <td>8360.0</td>\n",
       "      <td>1177.0</td>\n",
       "      <td>965.0</td>\n",
       "      <td>238.0</td>\n",
       "      <td>23.0</td>\n",
       "      <td>46.3</td>\n",
       "      <td>...</td>\n",
       "      <td>10817.0</td>\n",
       "      <td>11354.0</td>\n",
       "      <td>521.0</td>\n",
       "      <td>983.0</td>\n",
       "      <td>6189.0</td>\n",
       "      <td>3500.0</td>\n",
       "      <td>161.0</td>\n",
       "      <td>589.0</td>\n",
       "      <td>768.0</td>\n",
       "      <td>Lower East Side</td>\n",
       "    </tr>\n",
       "    <tr>\n",
       "      <th>4</th>\n",
       "      <td>1000700</td>\n",
       "      <td>1633</td>\n",
       "      <td>4610.0</td>\n",
       "      <td>114519.0</td>\n",
       "      <td>6758.0</td>\n",
       "      <td>103.0</td>\n",
       "      <td>3175.0</td>\n",
       "      <td>1714.0</td>\n",
       "      <td>277.0</td>\n",
       "      <td>28.9</td>\n",
       "      <td>...</td>\n",
       "      <td>6852.0</td>\n",
       "      <td>8598.0</td>\n",
       "      <td>5894.0</td>\n",
       "      <td>284.0</td>\n",
       "      <td>1683.0</td>\n",
       "      <td>574.0</td>\n",
       "      <td>163.0</td>\n",
       "      <td>2000.0</td>\n",
       "      <td>581.0</td>\n",
       "      <td>Battery Park City-Lower Manhattan</td>\n",
       "    </tr>\n",
       "  </tbody>\n",
       "</table>\n",
       "<p>5 rows × 26 columns</p>\n",
       "</div>"
      ],
      "text/plain": [
       "  BoroCT2010  311 calls  Total Households  Median Income  Total educated  \\\n",
       "0    1000201        287             927.0        23036.0          1985.0   \n",
       "1    1000202        580            3447.0        29418.0          6073.0   \n",
       "2    1000500          8               0.0            NaN             0.0   \n",
       "3    1000600       1151            3954.0        18944.0          8360.0   \n",
       "4    1000700       1633            4610.0       114519.0          6758.0   \n",
       "\n",
       "   Total High School  Total bachelors  Total masters  Total PHD  Median Age  \\\n",
       "0              479.0            217.0           63.0        0.0        40.3   \n",
       "1             1481.0            959.0          326.0       30.0        44.1   \n",
       "2                0.0              0.0            0.0        0.0         NaN   \n",
       "3             1177.0            965.0          238.0       23.0        46.3   \n",
       "4              103.0           3175.0         1714.0      277.0        28.9   \n",
       "\n",
       "                 ...                  Renter Occupied  Total Population  \\\n",
       "0                ...                           2578.0            2709.0   \n",
       "1                ...                           6383.0            8308.0   \n",
       "2                ...                              0.0               0.0   \n",
       "3                ...                          10817.0           11354.0   \n",
       "4                ...                           6852.0            8598.0   \n",
       "\n",
       "   White only  Black only  Asian only  Hispanic only  Other Only  Median Rent  \\\n",
       "0       330.0       145.0      1334.0          882.0        18.0        654.0   \n",
       "1      2050.0       753.0      2044.0         3168.0       293.0        621.0   \n",
       "2         0.0         0.0         0.0            0.0         0.0          NaN   \n",
       "3       521.0       983.0      6189.0         3500.0       161.0        589.0   \n",
       "4      5894.0       284.0      1683.0          574.0       163.0       2000.0   \n",
       "\n",
       "   Total cars                       Neighborhood  \n",
       "0         NaN                    Lower East Side  \n",
       "1       744.0                    Lower East Side  \n",
       "2         NaN        park-cemetery-etc-Manhattan  \n",
       "3       768.0                    Lower East Side  \n",
       "4       581.0  Battery Park City-Lower Manhattan  \n",
       "\n",
       "[5 rows x 26 columns]"
      ]
     },
     "execution_count": 238,
     "metadata": {},
     "output_type": "execute_result"
    }
   ],
   "source": [
    "merged2.head()"
   ]
  },
  {
   "cell_type": "code",
   "execution_count": 239,
   "metadata": {
    "collapsed": false
   },
   "outputs": [
    {
     "data": {
      "text/plain": [
       "Index([u'BoroCT2010', u'311 calls', u'Total Households', u'Median Income',\n",
       "       u'Total educated', u'Total High School', u'Total bachelors',\n",
       "       u'Total masters', u'Total PHD', u'Median Age', u'Total households',\n",
       "       u'Total family households', u'Total non-family households',\n",
       "       u'Median House Value', u'Total Hunits', u'Owner Occupied',\n",
       "       u'Renter Occupied', u'Total Population', u'White only', u'Black only',\n",
       "       u'Asian only', u'Hispanic only', u'Other Only', u'Median Rent',\n",
       "       u'Total cars', u'Neighborhood'],\n",
       "      dtype='object')"
      ]
     },
     "execution_count": 239,
     "metadata": {},
     "output_type": "execute_result"
    }
   ],
   "source": [
    "merged2.columns"
   ]
  },
  {
   "cell_type": "code",
   "execution_count": 240,
   "metadata": {
    "collapsed": true
   },
   "outputs": [],
   "source": [
    "Totalsum =  (merged2.groupby(merged2['Neighborhood']).sum())"
   ]
  },
  {
   "cell_type": "code",
   "execution_count": 241,
   "metadata": {
    "collapsed": false
   },
   "outputs": [
    {
     "data": {
      "text/html": [
       "<div>\n",
       "<table border=\"1\" class=\"dataframe\">\n",
       "  <thead>\n",
       "    <tr style=\"text-align: right;\">\n",
       "      <th></th>\n",
       "      <th>311 calls</th>\n",
       "      <th>Total Households</th>\n",
       "      <th>Median Income</th>\n",
       "      <th>Total educated</th>\n",
       "      <th>Total High School</th>\n",
       "      <th>Total bachelors</th>\n",
       "      <th>Total masters</th>\n",
       "      <th>Total PHD</th>\n",
       "      <th>Median Age</th>\n",
       "      <th>Total households</th>\n",
       "      <th>...</th>\n",
       "      <th>Owner Occupied</th>\n",
       "      <th>Renter Occupied</th>\n",
       "      <th>Total Population</th>\n",
       "      <th>White only</th>\n",
       "      <th>Black only</th>\n",
       "      <th>Asian only</th>\n",
       "      <th>Hispanic only</th>\n",
       "      <th>Other Only</th>\n",
       "      <th>Median Rent</th>\n",
       "      <th>Total cars</th>\n",
       "    </tr>\n",
       "    <tr>\n",
       "      <th>Neighborhood</th>\n",
       "      <th></th>\n",
       "      <th></th>\n",
       "      <th></th>\n",
       "      <th></th>\n",
       "      <th></th>\n",
       "      <th></th>\n",
       "      <th></th>\n",
       "      <th></th>\n",
       "      <th></th>\n",
       "      <th></th>\n",
       "      <th></th>\n",
       "      <th></th>\n",
       "      <th></th>\n",
       "      <th></th>\n",
       "      <th></th>\n",
       "      <th></th>\n",
       "      <th></th>\n",
       "      <th></th>\n",
       "      <th></th>\n",
       "      <th></th>\n",
       "      <th></th>\n",
       "    </tr>\n",
       "  </thead>\n",
       "  <tbody>\n",
       "    <tr>\n",
       "      <th>Airport</th>\n",
       "      <td>1038</td>\n",
       "      <td>0.0</td>\n",
       "      <td>NaN</td>\n",
       "      <td>0.0</td>\n",
       "      <td>0.0</td>\n",
       "      <td>0.0</td>\n",
       "      <td>0.0</td>\n",
       "      <td>0.0</td>\n",
       "      <td>NaN</td>\n",
       "      <td>0.0</td>\n",
       "      <td>...</td>\n",
       "      <td>0.0</td>\n",
       "      <td>0.0</td>\n",
       "      <td>0.0</td>\n",
       "      <td>0.0</td>\n",
       "      <td>0.0</td>\n",
       "      <td>0.0</td>\n",
       "      <td>0.0</td>\n",
       "      <td>0.0</td>\n",
       "      <td>NaN</td>\n",
       "      <td>NaN</td>\n",
       "    </tr>\n",
       "    <tr>\n",
       "      <th>Allerton-Pelham Gardens</th>\n",
       "      <td>4727</td>\n",
       "      <td>9587.0</td>\n",
       "      <td>716588.0</td>\n",
       "      <td>23541.0</td>\n",
       "      <td>5773.0</td>\n",
       "      <td>3512.0</td>\n",
       "      <td>1779.0</td>\n",
       "      <td>249.0</td>\n",
       "      <td>437.6</td>\n",
       "      <td>9587.0</td>\n",
       "      <td>...</td>\n",
       "      <td>19280.0</td>\n",
       "      <td>12767.0</td>\n",
       "      <td>33848.0</td>\n",
       "      <td>8785.0</td>\n",
       "      <td>10594.0</td>\n",
       "      <td>2872.0</td>\n",
       "      <td>10633.0</td>\n",
       "      <td>964.0</td>\n",
       "      <td>15574.0</td>\n",
       "      <td>10832.0</td>\n",
       "    </tr>\n",
       "    <tr>\n",
       "      <th>Annadale-Huguenot-Prince's Bay-Eltingville</th>\n",
       "      <td>4878</td>\n",
       "      <td>9885.0</td>\n",
       "      <td>524859.0</td>\n",
       "      <td>19861.0</td>\n",
       "      <td>6072.0</td>\n",
       "      <td>4189.0</td>\n",
       "      <td>1670.0</td>\n",
       "      <td>149.0</td>\n",
       "      <td>247.3</td>\n",
       "      <td>9885.0</td>\n",
       "      <td>...</td>\n",
       "      <td>24134.0</td>\n",
       "      <td>4564.0</td>\n",
       "      <td>28853.0</td>\n",
       "      <td>25831.0</td>\n",
       "      <td>151.0</td>\n",
       "      <td>854.0</td>\n",
       "      <td>1820.0</td>\n",
       "      <td>197.0</td>\n",
       "      <td>8259.0</td>\n",
       "      <td>18371.0</td>\n",
       "    </tr>\n",
       "    <tr>\n",
       "      <th>Arden Heights</th>\n",
       "      <td>3766</td>\n",
       "      <td>8960.0</td>\n",
       "      <td>359603.0</td>\n",
       "      <td>17883.0</td>\n",
       "      <td>4817.0</td>\n",
       "      <td>3895.0</td>\n",
       "      <td>1782.0</td>\n",
       "      <td>141.0</td>\n",
       "      <td>162.0</td>\n",
       "      <td>8960.0</td>\n",
       "      <td>...</td>\n",
       "      <td>23227.0</td>\n",
       "      <td>2353.0</td>\n",
       "      <td>25602.0</td>\n",
       "      <td>20381.0</td>\n",
       "      <td>362.0</td>\n",
       "      <td>1605.0</td>\n",
       "      <td>3040.0</td>\n",
       "      <td>214.0</td>\n",
       "      <td>5062.0</td>\n",
       "      <td>15606.0</td>\n",
       "    </tr>\n",
       "    <tr>\n",
       "      <th>Astoria</th>\n",
       "      <td>14200</td>\n",
       "      <td>34310.0</td>\n",
       "      <td>1314120.0</td>\n",
       "      <td>59888.0</td>\n",
       "      <td>10883.0</td>\n",
       "      <td>16794.0</td>\n",
       "      <td>6921.0</td>\n",
       "      <td>848.0</td>\n",
       "      <td>812.0</td>\n",
       "      <td>34310.0</td>\n",
       "      <td>...</td>\n",
       "      <td>13114.0</td>\n",
       "      <td>63879.0</td>\n",
       "      <td>77095.0</td>\n",
       "      <td>39620.0</td>\n",
       "      <td>3555.0</td>\n",
       "      <td>10772.0</td>\n",
       "      <td>21201.0</td>\n",
       "      <td>1947.0</td>\n",
       "      <td>32028.0</td>\n",
       "      <td>14487.0</td>\n",
       "    </tr>\n",
       "  </tbody>\n",
       "</table>\n",
       "<p>5 rows × 24 columns</p>\n",
       "</div>"
      ],
      "text/plain": [
       "                                            311 calls  Total Households  \\\n",
       "Neighborhood                                                              \n",
       "Airport                                          1038               0.0   \n",
       "Allerton-Pelham Gardens                          4727            9587.0   \n",
       "Annadale-Huguenot-Prince's Bay-Eltingville       4878            9885.0   \n",
       "Arden Heights                                    3766            8960.0   \n",
       "Astoria                                         14200           34310.0   \n",
       "\n",
       "                                            Median Income  Total educated  \\\n",
       "Neighborhood                                                                \n",
       "Airport                                               NaN             0.0   \n",
       "Allerton-Pelham Gardens                          716588.0         23541.0   \n",
       "Annadale-Huguenot-Prince's Bay-Eltingville       524859.0         19861.0   \n",
       "Arden Heights                                    359603.0         17883.0   \n",
       "Astoria                                         1314120.0         59888.0   \n",
       "\n",
       "                                            Total High School  \\\n",
       "Neighborhood                                                    \n",
       "Airport                                                   0.0   \n",
       "Allerton-Pelham Gardens                                5773.0   \n",
       "Annadale-Huguenot-Prince's Bay-Eltingville             6072.0   \n",
       "Arden Heights                                          4817.0   \n",
       "Astoria                                               10883.0   \n",
       "\n",
       "                                            Total bachelors  Total masters  \\\n",
       "Neighborhood                                                                 \n",
       "Airport                                                 0.0            0.0   \n",
       "Allerton-Pelham Gardens                              3512.0         1779.0   \n",
       "Annadale-Huguenot-Prince's Bay-Eltingville           4189.0         1670.0   \n",
       "Arden Heights                                        3895.0         1782.0   \n",
       "Astoria                                             16794.0         6921.0   \n",
       "\n",
       "                                            Total PHD  Median Age  \\\n",
       "Neighborhood                                                        \n",
       "Airport                                           0.0         NaN   \n",
       "Allerton-Pelham Gardens                         249.0       437.6   \n",
       "Annadale-Huguenot-Prince's Bay-Eltingville      149.0       247.3   \n",
       "Arden Heights                                   141.0       162.0   \n",
       "Astoria                                         848.0       812.0   \n",
       "\n",
       "                                            Total households     ...      \\\n",
       "Neighborhood                                                     ...       \n",
       "Airport                                                  0.0     ...       \n",
       "Allerton-Pelham Gardens                               9587.0     ...       \n",
       "Annadale-Huguenot-Prince's Bay-Eltingville            9885.0     ...       \n",
       "Arden Heights                                         8960.0     ...       \n",
       "Astoria                                              34310.0     ...       \n",
       "\n",
       "                                            Owner Occupied  Renter Occupied  \\\n",
       "Neighborhood                                                                  \n",
       "Airport                                                0.0              0.0   \n",
       "Allerton-Pelham Gardens                            19280.0          12767.0   \n",
       "Annadale-Huguenot-Prince's Bay-Eltingville         24134.0           4564.0   \n",
       "Arden Heights                                      23227.0           2353.0   \n",
       "Astoria                                            13114.0          63879.0   \n",
       "\n",
       "                                            Total Population  White only  \\\n",
       "Neighborhood                                                               \n",
       "Airport                                                  0.0         0.0   \n",
       "Allerton-Pelham Gardens                              33848.0      8785.0   \n",
       "Annadale-Huguenot-Prince's Bay-Eltingville           28853.0     25831.0   \n",
       "Arden Heights                                        25602.0     20381.0   \n",
       "Astoria                                              77095.0     39620.0   \n",
       "\n",
       "                                            Black only  Asian only  \\\n",
       "Neighborhood                                                         \n",
       "Airport                                            0.0         0.0   \n",
       "Allerton-Pelham Gardens                        10594.0      2872.0   \n",
       "Annadale-Huguenot-Prince's Bay-Eltingville       151.0       854.0   \n",
       "Arden Heights                                    362.0      1605.0   \n",
       "Astoria                                         3555.0     10772.0   \n",
       "\n",
       "                                            Hispanic only  Other Only  \\\n",
       "Neighborhood                                                            \n",
       "Airport                                               0.0         0.0   \n",
       "Allerton-Pelham Gardens                           10633.0       964.0   \n",
       "Annadale-Huguenot-Prince's Bay-Eltingville         1820.0       197.0   \n",
       "Arden Heights                                      3040.0       214.0   \n",
       "Astoria                                           21201.0      1947.0   \n",
       "\n",
       "                                            Median Rent  Total cars  \n",
       "Neighborhood                                                         \n",
       "Airport                                             NaN         NaN  \n",
       "Allerton-Pelham Gardens                         15574.0     10832.0  \n",
       "Annadale-Huguenot-Prince's Bay-Eltingville       8259.0     18371.0  \n",
       "Arden Heights                                    5062.0     15606.0  \n",
       "Astoria                                         32028.0     14487.0  \n",
       "\n",
       "[5 rows x 24 columns]"
      ]
     },
     "execution_count": 241,
     "metadata": {},
     "output_type": "execute_result"
    }
   ],
   "source": [
    "Totalsum.head()"
   ]
  },
  {
   "cell_type": "code",
   "execution_count": 242,
   "metadata": {
    "collapsed": false
   },
   "outputs": [
    {
     "data": {
      "text/plain": [
       "Index([u'311 calls', u'Total Households', u'Median Income', u'Total educated',\n",
       "       u'Total High School', u'Total bachelors', u'Total masters',\n",
       "       u'Total PHD', u'Median Age', u'Total households',\n",
       "       u'Total family households', u'Total non-family households',\n",
       "       u'Median House Value', u'Total Hunits', u'Owner Occupied',\n",
       "       u'Renter Occupied', u'Total Population', u'White only', u'Black only',\n",
       "       u'Asian only', u'Hispanic only', u'Other Only', u'Median Rent',\n",
       "       u'Total cars'],\n",
       "      dtype='object')"
      ]
     },
     "execution_count": 242,
     "metadata": {},
     "output_type": "execute_result"
    }
   ],
   "source": [
    "Totalsum.columns"
   ]
  },
  {
   "cell_type": "code",
   "execution_count": 243,
   "metadata": {
    "collapsed": false
   },
   "outputs": [],
   "source": [
    "Totalsum = Totalsum[['311 calls', 'Total Households', 'Total educated',\n",
    "       'Total High School', 'Total bachelors', 'Total masters',\n",
    "       'Total PHD', 'Total households',\n",
    "       'Total family households', 'Total non-family households',\n",
    "       'Total Hunits', 'Owner Occupied',\n",
    "       'Renter Occupied', 'Total Population', 'White only', 'Black only',\n",
    "       'Asian only', 'Hispanic only', 'Other Only',\n",
    "       'Total cars']]"
   ]
  },
  {
   "cell_type": "code",
   "execution_count": 244,
   "metadata": {
    "collapsed": false
   },
   "outputs": [
    {
     "data": {
      "text/html": [
       "<div>\n",
       "<table border=\"1\" class=\"dataframe\">\n",
       "  <thead>\n",
       "    <tr style=\"text-align: right;\">\n",
       "      <th></th>\n",
       "      <th>311 calls</th>\n",
       "      <th>Total Households</th>\n",
       "      <th>Total educated</th>\n",
       "      <th>Total High School</th>\n",
       "      <th>Total bachelors</th>\n",
       "      <th>Total masters</th>\n",
       "      <th>Total PHD</th>\n",
       "      <th>Total households</th>\n",
       "      <th>Total family households</th>\n",
       "      <th>Total non-family households</th>\n",
       "      <th>Total Hunits</th>\n",
       "      <th>Owner Occupied</th>\n",
       "      <th>Renter Occupied</th>\n",
       "      <th>Total Population</th>\n",
       "      <th>White only</th>\n",
       "      <th>Black only</th>\n",
       "      <th>Asian only</th>\n",
       "      <th>Hispanic only</th>\n",
       "      <th>Other Only</th>\n",
       "      <th>Total cars</th>\n",
       "    </tr>\n",
       "    <tr>\n",
       "      <th>Neighborhood</th>\n",
       "      <th></th>\n",
       "      <th></th>\n",
       "      <th></th>\n",
       "      <th></th>\n",
       "      <th></th>\n",
       "      <th></th>\n",
       "      <th></th>\n",
       "      <th></th>\n",
       "      <th></th>\n",
       "      <th></th>\n",
       "      <th></th>\n",
       "      <th></th>\n",
       "      <th></th>\n",
       "      <th></th>\n",
       "      <th></th>\n",
       "      <th></th>\n",
       "      <th></th>\n",
       "      <th></th>\n",
       "      <th></th>\n",
       "      <th></th>\n",
       "    </tr>\n",
       "  </thead>\n",
       "  <tbody>\n",
       "    <tr>\n",
       "      <th>Airport</th>\n",
       "      <td>1038</td>\n",
       "      <td>0.0</td>\n",
       "      <td>0.0</td>\n",
       "      <td>0.0</td>\n",
       "      <td>0.0</td>\n",
       "      <td>0.0</td>\n",
       "      <td>0.0</td>\n",
       "      <td>0.0</td>\n",
       "      <td>0.0</td>\n",
       "      <td>0.0</td>\n",
       "      <td>0.0</td>\n",
       "      <td>0.0</td>\n",
       "      <td>0.0</td>\n",
       "      <td>0.0</td>\n",
       "      <td>0.0</td>\n",
       "      <td>0.0</td>\n",
       "      <td>0.0</td>\n",
       "      <td>0.0</td>\n",
       "      <td>0.0</td>\n",
       "      <td>NaN</td>\n",
       "    </tr>\n",
       "    <tr>\n",
       "      <th>Allerton-Pelham Gardens</th>\n",
       "      <td>4727</td>\n",
       "      <td>9587.0</td>\n",
       "      <td>23541.0</td>\n",
       "      <td>5773.0</td>\n",
       "      <td>3512.0</td>\n",
       "      <td>1779.0</td>\n",
       "      <td>249.0</td>\n",
       "      <td>9587.0</td>\n",
       "      <td>7383.0</td>\n",
       "      <td>2204.0</td>\n",
       "      <td>32047.0</td>\n",
       "      <td>19280.0</td>\n",
       "      <td>12767.0</td>\n",
       "      <td>33848.0</td>\n",
       "      <td>8785.0</td>\n",
       "      <td>10594.0</td>\n",
       "      <td>2872.0</td>\n",
       "      <td>10633.0</td>\n",
       "      <td>964.0</td>\n",
       "      <td>10832.0</td>\n",
       "    </tr>\n",
       "    <tr>\n",
       "      <th>Annadale-Huguenot-Prince's Bay-Eltingville</th>\n",
       "      <td>4878</td>\n",
       "      <td>9885.0</td>\n",
       "      <td>19861.0</td>\n",
       "      <td>6072.0</td>\n",
       "      <td>4189.0</td>\n",
       "      <td>1670.0</td>\n",
       "      <td>149.0</td>\n",
       "      <td>9885.0</td>\n",
       "      <td>7896.0</td>\n",
       "      <td>1989.0</td>\n",
       "      <td>28698.0</td>\n",
       "      <td>24134.0</td>\n",
       "      <td>4564.0</td>\n",
       "      <td>28853.0</td>\n",
       "      <td>25831.0</td>\n",
       "      <td>151.0</td>\n",
       "      <td>854.0</td>\n",
       "      <td>1820.0</td>\n",
       "      <td>197.0</td>\n",
       "      <td>18371.0</td>\n",
       "    </tr>\n",
       "    <tr>\n",
       "      <th>Arden Heights</th>\n",
       "      <td>3766</td>\n",
       "      <td>8960.0</td>\n",
       "      <td>17883.0</td>\n",
       "      <td>4817.0</td>\n",
       "      <td>3895.0</td>\n",
       "      <td>1782.0</td>\n",
       "      <td>141.0</td>\n",
       "      <td>8960.0</td>\n",
       "      <td>7147.0</td>\n",
       "      <td>1813.0</td>\n",
       "      <td>25580.0</td>\n",
       "      <td>23227.0</td>\n",
       "      <td>2353.0</td>\n",
       "      <td>25602.0</td>\n",
       "      <td>20381.0</td>\n",
       "      <td>362.0</td>\n",
       "      <td>1605.0</td>\n",
       "      <td>3040.0</td>\n",
       "      <td>214.0</td>\n",
       "      <td>15606.0</td>\n",
       "    </tr>\n",
       "    <tr>\n",
       "      <th>Astoria</th>\n",
       "      <td>14200</td>\n",
       "      <td>34310.0</td>\n",
       "      <td>59888.0</td>\n",
       "      <td>10883.0</td>\n",
       "      <td>16794.0</td>\n",
       "      <td>6921.0</td>\n",
       "      <td>848.0</td>\n",
       "      <td>34310.0</td>\n",
       "      <td>16041.0</td>\n",
       "      <td>18269.0</td>\n",
       "      <td>76993.0</td>\n",
       "      <td>13114.0</td>\n",
       "      <td>63879.0</td>\n",
       "      <td>77095.0</td>\n",
       "      <td>39620.0</td>\n",
       "      <td>3555.0</td>\n",
       "      <td>10772.0</td>\n",
       "      <td>21201.0</td>\n",
       "      <td>1947.0</td>\n",
       "      <td>14487.0</td>\n",
       "    </tr>\n",
       "  </tbody>\n",
       "</table>\n",
       "</div>"
      ],
      "text/plain": [
       "                                            311 calls  Total Households  \\\n",
       "Neighborhood                                                              \n",
       "Airport                                          1038               0.0   \n",
       "Allerton-Pelham Gardens                          4727            9587.0   \n",
       "Annadale-Huguenot-Prince's Bay-Eltingville       4878            9885.0   \n",
       "Arden Heights                                    3766            8960.0   \n",
       "Astoria                                         14200           34310.0   \n",
       "\n",
       "                                            Total educated  Total High School  \\\n",
       "Neighborhood                                                                    \n",
       "Airport                                                0.0                0.0   \n",
       "Allerton-Pelham Gardens                            23541.0             5773.0   \n",
       "Annadale-Huguenot-Prince's Bay-Eltingville         19861.0             6072.0   \n",
       "Arden Heights                                      17883.0             4817.0   \n",
       "Astoria                                            59888.0            10883.0   \n",
       "\n",
       "                                            Total bachelors  Total masters  \\\n",
       "Neighborhood                                                                 \n",
       "Airport                                                 0.0            0.0   \n",
       "Allerton-Pelham Gardens                              3512.0         1779.0   \n",
       "Annadale-Huguenot-Prince's Bay-Eltingville           4189.0         1670.0   \n",
       "Arden Heights                                        3895.0         1782.0   \n",
       "Astoria                                             16794.0         6921.0   \n",
       "\n",
       "                                            Total PHD  Total households  \\\n",
       "Neighborhood                                                              \n",
       "Airport                                           0.0               0.0   \n",
       "Allerton-Pelham Gardens                         249.0            9587.0   \n",
       "Annadale-Huguenot-Prince's Bay-Eltingville      149.0            9885.0   \n",
       "Arden Heights                                   141.0            8960.0   \n",
       "Astoria                                         848.0           34310.0   \n",
       "\n",
       "                                            Total family households  \\\n",
       "Neighborhood                                                          \n",
       "Airport                                                         0.0   \n",
       "Allerton-Pelham Gardens                                      7383.0   \n",
       "Annadale-Huguenot-Prince's Bay-Eltingville                   7896.0   \n",
       "Arden Heights                                                7147.0   \n",
       "Astoria                                                     16041.0   \n",
       "\n",
       "                                            Total non-family households  \\\n",
       "Neighborhood                                                              \n",
       "Airport                                                             0.0   \n",
       "Allerton-Pelham Gardens                                          2204.0   \n",
       "Annadale-Huguenot-Prince's Bay-Eltingville                       1989.0   \n",
       "Arden Heights                                                    1813.0   \n",
       "Astoria                                                         18269.0   \n",
       "\n",
       "                                            Total Hunits  Owner Occupied  \\\n",
       "Neighborhood                                                               \n",
       "Airport                                              0.0             0.0   \n",
       "Allerton-Pelham Gardens                          32047.0         19280.0   \n",
       "Annadale-Huguenot-Prince's Bay-Eltingville       28698.0         24134.0   \n",
       "Arden Heights                                    25580.0         23227.0   \n",
       "Astoria                                          76993.0         13114.0   \n",
       "\n",
       "                                            Renter Occupied  Total Population  \\\n",
       "Neighborhood                                                                    \n",
       "Airport                                                 0.0               0.0   \n",
       "Allerton-Pelham Gardens                             12767.0           33848.0   \n",
       "Annadale-Huguenot-Prince's Bay-Eltingville           4564.0           28853.0   \n",
       "Arden Heights                                        2353.0           25602.0   \n",
       "Astoria                                             63879.0           77095.0   \n",
       "\n",
       "                                            White only  Black only  \\\n",
       "Neighborhood                                                         \n",
       "Airport                                            0.0         0.0   \n",
       "Allerton-Pelham Gardens                         8785.0     10594.0   \n",
       "Annadale-Huguenot-Prince's Bay-Eltingville     25831.0       151.0   \n",
       "Arden Heights                                  20381.0       362.0   \n",
       "Astoria                                        39620.0      3555.0   \n",
       "\n",
       "                                            Asian only  Hispanic only  \\\n",
       "Neighborhood                                                            \n",
       "Airport                                            0.0            0.0   \n",
       "Allerton-Pelham Gardens                         2872.0        10633.0   \n",
       "Annadale-Huguenot-Prince's Bay-Eltingville       854.0         1820.0   \n",
       "Arden Heights                                   1605.0         3040.0   \n",
       "Astoria                                        10772.0        21201.0   \n",
       "\n",
       "                                            Other Only  Total cars  \n",
       "Neighborhood                                                        \n",
       "Airport                                            0.0         NaN  \n",
       "Allerton-Pelham Gardens                          964.0     10832.0  \n",
       "Annadale-Huguenot-Prince's Bay-Eltingville       197.0     18371.0  \n",
       "Arden Heights                                    214.0     15606.0  \n",
       "Astoria                                         1947.0     14487.0  "
      ]
     },
     "execution_count": 244,
     "metadata": {},
     "output_type": "execute_result"
    }
   ],
   "source": [
    "Totalsum.head()"
   ]
  },
  {
   "cell_type": "code",
   "execution_count": 245,
   "metadata": {
    "collapsed": true
   },
   "outputs": [],
   "source": [
    "Totalmedian =  (merged2.groupby(merged2['Neighborhood']).median())"
   ]
  },
  {
   "cell_type": "code",
   "execution_count": 246,
   "metadata": {
    "collapsed": false
   },
   "outputs": [
    {
     "data": {
      "text/plain": [
       "Index([u'311 calls', u'Total Households', u'Median Income', u'Total educated',\n",
       "       u'Total High School', u'Total bachelors', u'Total masters',\n",
       "       u'Total PHD', u'Median Age', u'Total households',\n",
       "       u'Total family households', u'Total non-family households',\n",
       "       u'Median House Value', u'Total Hunits', u'Owner Occupied',\n",
       "       u'Renter Occupied', u'Total Population', u'White only', u'Black only',\n",
       "       u'Asian only', u'Hispanic only', u'Other Only', u'Median Rent',\n",
       "       u'Total cars'],\n",
       "      dtype='object')"
      ]
     },
     "execution_count": 246,
     "metadata": {},
     "output_type": "execute_result"
    }
   ],
   "source": [
    "Totalmedian.columns"
   ]
  },
  {
   "cell_type": "code",
   "execution_count": 247,
   "metadata": {
    "collapsed": true
   },
   "outputs": [],
   "source": [
    "Totalmedian = Totalmedian[['Median Income', 'Median House Value', 'Median Rent', 'Median Age']]"
   ]
  },
  {
   "cell_type": "code",
   "execution_count": 248,
   "metadata": {
    "collapsed": false
   },
   "outputs": [
    {
     "data": {
      "text/html": [
       "<div>\n",
       "<table border=\"1\" class=\"dataframe\">\n",
       "  <thead>\n",
       "    <tr style=\"text-align: right;\">\n",
       "      <th></th>\n",
       "      <th>Median Income</th>\n",
       "      <th>Median House Value</th>\n",
       "      <th>Median Rent</th>\n",
       "      <th>Median Age</th>\n",
       "    </tr>\n",
       "    <tr>\n",
       "      <th>Neighborhood</th>\n",
       "      <th></th>\n",
       "      <th></th>\n",
       "      <th></th>\n",
       "      <th></th>\n",
       "    </tr>\n",
       "  </thead>\n",
       "  <tbody>\n",
       "    <tr>\n",
       "      <th>Airport</th>\n",
       "      <td>NaN</td>\n",
       "      <td>NaN</td>\n",
       "      <td>NaN</td>\n",
       "      <td>NaN</td>\n",
       "    </tr>\n",
       "    <tr>\n",
       "      <th>Allerton-Pelham Gardens</th>\n",
       "      <td>64702.0</td>\n",
       "      <td>445200.0</td>\n",
       "      <td>1538.0</td>\n",
       "      <td>39.70</td>\n",
       "    </tr>\n",
       "    <tr>\n",
       "      <th>Annadale-Huguenot-Prince's Bay-Eltingville</th>\n",
       "      <td>91354.5</td>\n",
       "      <td>527900.0</td>\n",
       "      <td>1342.0</td>\n",
       "      <td>41.60</td>\n",
       "    </tr>\n",
       "    <tr>\n",
       "      <th>Arden Heights</th>\n",
       "      <td>88864.5</td>\n",
       "      <td>409750.0</td>\n",
       "      <td>1299.0</td>\n",
       "      <td>40.45</td>\n",
       "    </tr>\n",
       "    <tr>\n",
       "      <th>Astoria</th>\n",
       "      <td>57798.0</td>\n",
       "      <td>637150.0</td>\n",
       "      <td>1432.0</td>\n",
       "      <td>34.10</td>\n",
       "    </tr>\n",
       "  </tbody>\n",
       "</table>\n",
       "</div>"
      ],
      "text/plain": [
       "                                            Median Income  Median House Value  \\\n",
       "Neighborhood                                                                    \n",
       "Airport                                               NaN                 NaN   \n",
       "Allerton-Pelham Gardens                           64702.0            445200.0   \n",
       "Annadale-Huguenot-Prince's Bay-Eltingville        91354.5            527900.0   \n",
       "Arden Heights                                     88864.5            409750.0   \n",
       "Astoria                                           57798.0            637150.0   \n",
       "\n",
       "                                            Median Rent  Median Age  \n",
       "Neighborhood                                                         \n",
       "Airport                                             NaN         NaN  \n",
       "Allerton-Pelham Gardens                          1538.0       39.70  \n",
       "Annadale-Huguenot-Prince's Bay-Eltingville       1342.0       41.60  \n",
       "Arden Heights                                    1299.0       40.45  \n",
       "Astoria                                          1432.0       34.10  "
      ]
     },
     "execution_count": 248,
     "metadata": {},
     "output_type": "execute_result"
    }
   ],
   "source": [
    "Totalmedian.head()"
   ]
  },
  {
   "cell_type": "code",
   "execution_count": 249,
   "metadata": {
    "collapsed": true
   },
   "outputs": [],
   "source": [
    "Neighframe =  pd.concat([Totalsum, Totalmedian], axis=1)"
   ]
  },
  {
   "cell_type": "code",
   "execution_count": 250,
   "metadata": {
    "collapsed": false
   },
   "outputs": [
    {
     "data": {
      "text/plain": [
       "Index([u'311 calls', u'Total Households', u'Total educated',\n",
       "       u'Total High School', u'Total bachelors', u'Total masters',\n",
       "       u'Total PHD', u'Total households', u'Total family households',\n",
       "       u'Total non-family households', u'Total Hunits', u'Owner Occupied',\n",
       "       u'Renter Occupied', u'Total Population', u'White only', u'Black only',\n",
       "       u'Asian only', u'Hispanic only', u'Other Only', u'Total cars',\n",
       "       u'Median Income', u'Median House Value', u'Median Rent', u'Median Age'],\n",
       "      dtype='object')"
      ]
     },
     "execution_count": 250,
     "metadata": {},
     "output_type": "execute_result"
    }
   ],
   "source": [
    "Neighframe.columns"
   ]
  },
  {
   "cell_type": "code",
   "execution_count": 251,
   "metadata": {
    "collapsed": false
   },
   "outputs": [
    {
     "data": {
      "text/html": [
       "<div>\n",
       "<table border=\"1\" class=\"dataframe\">\n",
       "  <thead>\n",
       "    <tr style=\"text-align: right;\">\n",
       "      <th></th>\n",
       "      <th>311 calls</th>\n",
       "      <th>Total Households</th>\n",
       "      <th>Total educated</th>\n",
       "      <th>Total High School</th>\n",
       "      <th>Total bachelors</th>\n",
       "      <th>Total masters</th>\n",
       "      <th>Total PHD</th>\n",
       "      <th>Total households</th>\n",
       "      <th>Total family households</th>\n",
       "      <th>Total non-family households</th>\n",
       "      <th>...</th>\n",
       "      <th>White only</th>\n",
       "      <th>Black only</th>\n",
       "      <th>Asian only</th>\n",
       "      <th>Hispanic only</th>\n",
       "      <th>Other Only</th>\n",
       "      <th>Total cars</th>\n",
       "      <th>Median Income</th>\n",
       "      <th>Median House Value</th>\n",
       "      <th>Median Rent</th>\n",
       "      <th>Median Age</th>\n",
       "    </tr>\n",
       "    <tr>\n",
       "      <th>Neighborhood</th>\n",
       "      <th></th>\n",
       "      <th></th>\n",
       "      <th></th>\n",
       "      <th></th>\n",
       "      <th></th>\n",
       "      <th></th>\n",
       "      <th></th>\n",
       "      <th></th>\n",
       "      <th></th>\n",
       "      <th></th>\n",
       "      <th></th>\n",
       "      <th></th>\n",
       "      <th></th>\n",
       "      <th></th>\n",
       "      <th></th>\n",
       "      <th></th>\n",
       "      <th></th>\n",
       "      <th></th>\n",
       "      <th></th>\n",
       "      <th></th>\n",
       "      <th></th>\n",
       "    </tr>\n",
       "  </thead>\n",
       "  <tbody>\n",
       "    <tr>\n",
       "      <th>Airport</th>\n",
       "      <td>1038</td>\n",
       "      <td>0.0</td>\n",
       "      <td>0.0</td>\n",
       "      <td>0.0</td>\n",
       "      <td>0.0</td>\n",
       "      <td>0.0</td>\n",
       "      <td>0.0</td>\n",
       "      <td>0.0</td>\n",
       "      <td>0.0</td>\n",
       "      <td>0.0</td>\n",
       "      <td>...</td>\n",
       "      <td>0.0</td>\n",
       "      <td>0.0</td>\n",
       "      <td>0.0</td>\n",
       "      <td>0.0</td>\n",
       "      <td>0.0</td>\n",
       "      <td>NaN</td>\n",
       "      <td>NaN</td>\n",
       "      <td>NaN</td>\n",
       "      <td>NaN</td>\n",
       "      <td>NaN</td>\n",
       "    </tr>\n",
       "    <tr>\n",
       "      <th>Allerton-Pelham Gardens</th>\n",
       "      <td>4727</td>\n",
       "      <td>9587.0</td>\n",
       "      <td>23541.0</td>\n",
       "      <td>5773.0</td>\n",
       "      <td>3512.0</td>\n",
       "      <td>1779.0</td>\n",
       "      <td>249.0</td>\n",
       "      <td>9587.0</td>\n",
       "      <td>7383.0</td>\n",
       "      <td>2204.0</td>\n",
       "      <td>...</td>\n",
       "      <td>8785.0</td>\n",
       "      <td>10594.0</td>\n",
       "      <td>2872.0</td>\n",
       "      <td>10633.0</td>\n",
       "      <td>964.0</td>\n",
       "      <td>10832.0</td>\n",
       "      <td>64702.0</td>\n",
       "      <td>445200.0</td>\n",
       "      <td>1538.0</td>\n",
       "      <td>39.70</td>\n",
       "    </tr>\n",
       "    <tr>\n",
       "      <th>Annadale-Huguenot-Prince's Bay-Eltingville</th>\n",
       "      <td>4878</td>\n",
       "      <td>9885.0</td>\n",
       "      <td>19861.0</td>\n",
       "      <td>6072.0</td>\n",
       "      <td>4189.0</td>\n",
       "      <td>1670.0</td>\n",
       "      <td>149.0</td>\n",
       "      <td>9885.0</td>\n",
       "      <td>7896.0</td>\n",
       "      <td>1989.0</td>\n",
       "      <td>...</td>\n",
       "      <td>25831.0</td>\n",
       "      <td>151.0</td>\n",
       "      <td>854.0</td>\n",
       "      <td>1820.0</td>\n",
       "      <td>197.0</td>\n",
       "      <td>18371.0</td>\n",
       "      <td>91354.5</td>\n",
       "      <td>527900.0</td>\n",
       "      <td>1342.0</td>\n",
       "      <td>41.60</td>\n",
       "    </tr>\n",
       "    <tr>\n",
       "      <th>Arden Heights</th>\n",
       "      <td>3766</td>\n",
       "      <td>8960.0</td>\n",
       "      <td>17883.0</td>\n",
       "      <td>4817.0</td>\n",
       "      <td>3895.0</td>\n",
       "      <td>1782.0</td>\n",
       "      <td>141.0</td>\n",
       "      <td>8960.0</td>\n",
       "      <td>7147.0</td>\n",
       "      <td>1813.0</td>\n",
       "      <td>...</td>\n",
       "      <td>20381.0</td>\n",
       "      <td>362.0</td>\n",
       "      <td>1605.0</td>\n",
       "      <td>3040.0</td>\n",
       "      <td>214.0</td>\n",
       "      <td>15606.0</td>\n",
       "      <td>88864.5</td>\n",
       "      <td>409750.0</td>\n",
       "      <td>1299.0</td>\n",
       "      <td>40.45</td>\n",
       "    </tr>\n",
       "    <tr>\n",
       "      <th>Astoria</th>\n",
       "      <td>14200</td>\n",
       "      <td>34310.0</td>\n",
       "      <td>59888.0</td>\n",
       "      <td>10883.0</td>\n",
       "      <td>16794.0</td>\n",
       "      <td>6921.0</td>\n",
       "      <td>848.0</td>\n",
       "      <td>34310.0</td>\n",
       "      <td>16041.0</td>\n",
       "      <td>18269.0</td>\n",
       "      <td>...</td>\n",
       "      <td>39620.0</td>\n",
       "      <td>3555.0</td>\n",
       "      <td>10772.0</td>\n",
       "      <td>21201.0</td>\n",
       "      <td>1947.0</td>\n",
       "      <td>14487.0</td>\n",
       "      <td>57798.0</td>\n",
       "      <td>637150.0</td>\n",
       "      <td>1432.0</td>\n",
       "      <td>34.10</td>\n",
       "    </tr>\n",
       "  </tbody>\n",
       "</table>\n",
       "<p>5 rows × 24 columns</p>\n",
       "</div>"
      ],
      "text/plain": [
       "                                            311 calls  Total Households  \\\n",
       "Neighborhood                                                              \n",
       "Airport                                          1038               0.0   \n",
       "Allerton-Pelham Gardens                          4727            9587.0   \n",
       "Annadale-Huguenot-Prince's Bay-Eltingville       4878            9885.0   \n",
       "Arden Heights                                    3766            8960.0   \n",
       "Astoria                                         14200           34310.0   \n",
       "\n",
       "                                            Total educated  Total High School  \\\n",
       "Neighborhood                                                                    \n",
       "Airport                                                0.0                0.0   \n",
       "Allerton-Pelham Gardens                            23541.0             5773.0   \n",
       "Annadale-Huguenot-Prince's Bay-Eltingville         19861.0             6072.0   \n",
       "Arden Heights                                      17883.0             4817.0   \n",
       "Astoria                                            59888.0            10883.0   \n",
       "\n",
       "                                            Total bachelors  Total masters  \\\n",
       "Neighborhood                                                                 \n",
       "Airport                                                 0.0            0.0   \n",
       "Allerton-Pelham Gardens                              3512.0         1779.0   \n",
       "Annadale-Huguenot-Prince's Bay-Eltingville           4189.0         1670.0   \n",
       "Arden Heights                                        3895.0         1782.0   \n",
       "Astoria                                             16794.0         6921.0   \n",
       "\n",
       "                                            Total PHD  Total households  \\\n",
       "Neighborhood                                                              \n",
       "Airport                                           0.0               0.0   \n",
       "Allerton-Pelham Gardens                         249.0            9587.0   \n",
       "Annadale-Huguenot-Prince's Bay-Eltingville      149.0            9885.0   \n",
       "Arden Heights                                   141.0            8960.0   \n",
       "Astoria                                         848.0           34310.0   \n",
       "\n",
       "                                            Total family households  \\\n",
       "Neighborhood                                                          \n",
       "Airport                                                         0.0   \n",
       "Allerton-Pelham Gardens                                      7383.0   \n",
       "Annadale-Huguenot-Prince's Bay-Eltingville                   7896.0   \n",
       "Arden Heights                                                7147.0   \n",
       "Astoria                                                     16041.0   \n",
       "\n",
       "                                            Total non-family households  \\\n",
       "Neighborhood                                                              \n",
       "Airport                                                             0.0   \n",
       "Allerton-Pelham Gardens                                          2204.0   \n",
       "Annadale-Huguenot-Prince's Bay-Eltingville                       1989.0   \n",
       "Arden Heights                                                    1813.0   \n",
       "Astoria                                                         18269.0   \n",
       "\n",
       "                                               ...      White only  \\\n",
       "Neighborhood                                   ...                   \n",
       "Airport                                        ...             0.0   \n",
       "Allerton-Pelham Gardens                        ...          8785.0   \n",
       "Annadale-Huguenot-Prince's Bay-Eltingville     ...         25831.0   \n",
       "Arden Heights                                  ...         20381.0   \n",
       "Astoria                                        ...         39620.0   \n",
       "\n",
       "                                            Black only  Asian only  \\\n",
       "Neighborhood                                                         \n",
       "Airport                                            0.0         0.0   \n",
       "Allerton-Pelham Gardens                        10594.0      2872.0   \n",
       "Annadale-Huguenot-Prince's Bay-Eltingville       151.0       854.0   \n",
       "Arden Heights                                    362.0      1605.0   \n",
       "Astoria                                         3555.0     10772.0   \n",
       "\n",
       "                                            Hispanic only  Other Only  \\\n",
       "Neighborhood                                                            \n",
       "Airport                                               0.0         0.0   \n",
       "Allerton-Pelham Gardens                           10633.0       964.0   \n",
       "Annadale-Huguenot-Prince's Bay-Eltingville         1820.0       197.0   \n",
       "Arden Heights                                      3040.0       214.0   \n",
       "Astoria                                           21201.0      1947.0   \n",
       "\n",
       "                                            Total cars  Median Income  \\\n",
       "Neighborhood                                                            \n",
       "Airport                                            NaN            NaN   \n",
       "Allerton-Pelham Gardens                        10832.0        64702.0   \n",
       "Annadale-Huguenot-Prince's Bay-Eltingville     18371.0        91354.5   \n",
       "Arden Heights                                  15606.0        88864.5   \n",
       "Astoria                                        14487.0        57798.0   \n",
       "\n",
       "                                            Median House Value  Median Rent  \\\n",
       "Neighborhood                                                                  \n",
       "Airport                                                    NaN          NaN   \n",
       "Allerton-Pelham Gardens                               445200.0       1538.0   \n",
       "Annadale-Huguenot-Prince's Bay-Eltingville            527900.0       1342.0   \n",
       "Arden Heights                                         409750.0       1299.0   \n",
       "Astoria                                               637150.0       1432.0   \n",
       "\n",
       "                                            Median Age  \n",
       "Neighborhood                                            \n",
       "Airport                                            NaN  \n",
       "Allerton-Pelham Gardens                          39.70  \n",
       "Annadale-Huguenot-Prince's Bay-Eltingville       41.60  \n",
       "Arden Heights                                    40.45  \n",
       "Astoria                                          34.10  \n",
       "\n",
       "[5 rows x 24 columns]"
      ]
     },
     "execution_count": 251,
     "metadata": {},
     "output_type": "execute_result"
    }
   ],
   "source": [
    "Neighframe.head()"
   ]
  },
  {
   "cell_type": "code",
   "execution_count": 252,
   "metadata": {
    "collapsed": true
   },
   "outputs": [],
   "source": [
    "Neighcorr = Neighframe.corr(method='pearson', min_periods=1)"
   ]
  },
  {
   "cell_type": "code",
   "execution_count": 253,
   "metadata": {
    "collapsed": false
   },
   "outputs": [
    {
     "data": {
      "text/plain": [
       "311 calls                      1.000000\n",
       "Total Households               0.756739\n",
       "Total educated                 0.770677\n",
       "Total High School              0.617981\n",
       "Total bachelors                0.500806\n",
       "Total masters                  0.401179\n",
       "Total PHD                      0.300166\n",
       "Total households               0.756739\n",
       "Total family households        0.747840\n",
       "Total non-family households    0.600137\n",
       "Total Hunits                   0.805907\n",
       "Owner Occupied                 0.218192\n",
       "Renter Occupied                0.828035\n",
       "Total Population               0.808405\n",
       "White only                     0.254321\n",
       "Black only                     0.463877\n",
       "Asian only                     0.149560\n",
       "Hispanic only                  0.525543\n",
       "Other Only                     0.343802\n",
       "Total cars                     0.191377\n",
       "Median Income                 -0.142043\n",
       "Median House Value             0.197001\n",
       "Median Rent                   -0.017759\n",
       "Median Age                    -0.257040\n",
       "Name: 311 calls, dtype: float64"
      ]
     },
     "execution_count": 253,
     "metadata": {},
     "output_type": "execute_result"
    }
   ],
   "source": [
    "Neighcorr.iloc[0]"
   ]
  },
  {
   "cell_type": "code",
   "execution_count": 254,
   "metadata": {
    "collapsed": true
   },
   "outputs": [],
   "source": [
    "#The next lines are going to be used to define the normalization of the demographic\n",
    "#variables by the factor we decided\n",
    "\n",
    "#Number of normalized 311 calls (total calls by census tracts / total population by census tracts)\n",
    "Neighframe['Normalized 311 calls'] =  Neighframe['311 calls']/Neighframe['Total Population']\n",
    "\n",
    "#Number of normalized cars in each area (total cars by census tracts / total population by census tracts)\n",
    "Neighframe['Normalized cars'] = Neighframe['Total cars']/Neighframe['Total households']\n",
    "\n",
    "#Number of normalized educated people by level of education in each area by 1000 people\n",
    "#(total educated people by level of education by census tracts / total population by census tracts)\n",
    "# multiplied by 1000\n",
    "Neighframe['Normalized High school'] = Neighframe['Total High School']/Neighframe['Total Population']*1000\n",
    "Neighframe['Normalized bachelors'] = Neighframe['Total bachelors']/Neighframe['Total Population']*1000\n",
    "Neighframe['Normalized masters'] = Neighframe['Total masters']/Neighframe['Total Population']*1000\n",
    "Neighframe['Normalized PHD'] = Neighframe['Total PHD']/Neighframe['Total Population']*1000\n",
    "\n",
    "#Number of normalized type of households in each area (total type of household by census tracts / \n",
    "#total number of households by census tracts)\n",
    "Neighframe['Normalized familiy household'] = Neighframe['Total family households']/Neighframe['Total households']\n",
    "Neighframe['Normalized non-family household'] = Neighframe['Total non-family households']/Neighframe['Total households']\n",
    "\n",
    "#Number of normalized type of house units in each area (total type of house units by census tracts / \n",
    "#total number of house units by census tracts)\n",
    "Neighframe['Normalized owner ocuppied'] = Neighframe['Owner Occupied']/Neighframe['Total Hunits']\n",
    "Neighframe['Normalized renter ocuppied'] = Neighframe['Renter Occupied']/Neighframe['Total Hunits']\n",
    "\n",
    "#Number of normalized type of house units in each area (total type of house units by census tracts / \n",
    "#total number of house units by census tracts)\n",
    "Neighframe['Normalized owner ocuppied'] = Neighframe['Owner Occupied']/Neighframe['Total Hunits']\n",
    "Neighframe['Normalized renter ocuppied'] = Neighframe['Renter Occupied']/Neighframe['Total Hunits']\n",
    "\n",
    "#Race normalization based on total population\n",
    "Neighframe['Normalized white only'] = Neighframe['White only']/Neighframe['Total Population']\n",
    "Neighframe['Normalized black only'] = Neighframe['Black only']/Neighframe['Total Population']\n",
    "Neighframe['Normalized asian only'] = Neighframe['Asian only']/Neighframe['Total Population']\n",
    "Neighframe['Normalized hispanic only'] = Neighframe['Hispanic only']/Neighframe['Total Population']\n",
    "Neighframe['Normalized other only'] = Neighframe['Other Only']/Neighframe['Total Population']"
   ]
  },
  {
   "cell_type": "code",
   "execution_count": 255,
   "metadata": {
    "collapsed": true
   },
   "outputs": [],
   "source": [
    "Neighframe.to_csv('Demographic and 311 calls merged - NTA level - all features.csv')"
   ]
  },
  {
   "cell_type": "code",
   "execution_count": 166,
   "metadata": {
    "collapsed": false
   },
   "outputs": [],
   "source": [
    "Neighframe = Neighframe[['Normalized 311 calls', 'Median House Value', 'Median Age', 'Median Rent', \n",
    "                         'Median Income', 'Normalized cars', 'Normalized High school', \n",
    "                         'Normalized bachelors', 'Normalized masters', 'Normalized PHD', 'Normalized familiy household',\n",
    "                         'Normalized non-family household', 'Normalized owner ocuppied', 'Normalized renter ocuppied',\n",
    "                         'Total Population', 'Total households', 'Normalized white only', 'Normalized black only', \n",
    "                         'Normalized asian only', 'Normalized hispanic only', 'Normalized other only']]"
   ]
  },
  {
   "cell_type": "code",
   "execution_count": 167,
   "metadata": {
    "collapsed": false
   },
   "outputs": [
    {
     "data": {
      "text/html": [
       "<div>\n",
       "<table border=\"1\" class=\"dataframe\">\n",
       "  <thead>\n",
       "    <tr style=\"text-align: right;\">\n",
       "      <th></th>\n",
       "      <th>Normalized 311 calls</th>\n",
       "      <th>Median House Value</th>\n",
       "      <th>Median Age</th>\n",
       "      <th>Median Rent</th>\n",
       "      <th>Median Income</th>\n",
       "      <th>Normalized cars</th>\n",
       "      <th>Normalized High school</th>\n",
       "      <th>Normalized bachelors</th>\n",
       "      <th>Normalized masters</th>\n",
       "      <th>Normalized PHD</th>\n",
       "      <th>...</th>\n",
       "      <th>Normalized non-family household</th>\n",
       "      <th>Normalized owner ocuppied</th>\n",
       "      <th>Normalized renter ocuppied</th>\n",
       "      <th>Total Population</th>\n",
       "      <th>Total households</th>\n",
       "      <th>Normalized white only</th>\n",
       "      <th>Normalized black only</th>\n",
       "      <th>Normalized asian only</th>\n",
       "      <th>Normalized hispanic only</th>\n",
       "      <th>Normalized other only</th>\n",
       "    </tr>\n",
       "    <tr>\n",
       "      <th>Neighborhood</th>\n",
       "      <th></th>\n",
       "      <th></th>\n",
       "      <th></th>\n",
       "      <th></th>\n",
       "      <th></th>\n",
       "      <th></th>\n",
       "      <th></th>\n",
       "      <th></th>\n",
       "      <th></th>\n",
       "      <th></th>\n",
       "      <th></th>\n",
       "      <th></th>\n",
       "      <th></th>\n",
       "      <th></th>\n",
       "      <th></th>\n",
       "      <th></th>\n",
       "      <th></th>\n",
       "      <th></th>\n",
       "      <th></th>\n",
       "      <th></th>\n",
       "      <th></th>\n",
       "    </tr>\n",
       "  </thead>\n",
       "  <tbody>\n",
       "    <tr>\n",
       "      <th>Airport</th>\n",
       "      <td>inf</td>\n",
       "      <td>NaN</td>\n",
       "      <td>NaN</td>\n",
       "      <td>NaN</td>\n",
       "      <td>NaN</td>\n",
       "      <td>NaN</td>\n",
       "      <td>NaN</td>\n",
       "      <td>NaN</td>\n",
       "      <td>NaN</td>\n",
       "      <td>NaN</td>\n",
       "      <td>...</td>\n",
       "      <td>NaN</td>\n",
       "      <td>NaN</td>\n",
       "      <td>NaN</td>\n",
       "      <td>0.0</td>\n",
       "      <td>0.0</td>\n",
       "      <td>NaN</td>\n",
       "      <td>NaN</td>\n",
       "      <td>NaN</td>\n",
       "      <td>NaN</td>\n",
       "      <td>NaN</td>\n",
       "    </tr>\n",
       "    <tr>\n",
       "      <th>Allerton-Pelham Gardens</th>\n",
       "      <td>0.139654</td>\n",
       "      <td>445200.0</td>\n",
       "      <td>39.70</td>\n",
       "      <td>1538.0</td>\n",
       "      <td>64702.0</td>\n",
       "      <td>1.129863</td>\n",
       "      <td>170.556606</td>\n",
       "      <td>103.757977</td>\n",
       "      <td>52.558497</td>\n",
       "      <td>7.356417</td>\n",
       "      <td>...</td>\n",
       "      <td>0.229895</td>\n",
       "      <td>0.601616</td>\n",
       "      <td>0.398384</td>\n",
       "      <td>33848.0</td>\n",
       "      <td>9587.0</td>\n",
       "      <td>0.259543</td>\n",
       "      <td>0.312987</td>\n",
       "      <td>0.084850</td>\n",
       "      <td>0.314140</td>\n",
       "      <td>0.028480</td>\n",
       "    </tr>\n",
       "    <tr>\n",
       "      <th>Annadale-Huguenot-Prince's Bay-Eltingville</th>\n",
       "      <td>0.169064</td>\n",
       "      <td>527900.0</td>\n",
       "      <td>41.60</td>\n",
       "      <td>1342.0</td>\n",
       "      <td>91354.5</td>\n",
       "      <td>1.858472</td>\n",
       "      <td>210.446054</td>\n",
       "      <td>145.184210</td>\n",
       "      <td>57.879597</td>\n",
       "      <td>5.164108</td>\n",
       "      <td>...</td>\n",
       "      <td>0.201214</td>\n",
       "      <td>0.840965</td>\n",
       "      <td>0.159035</td>\n",
       "      <td>28853.0</td>\n",
       "      <td>9885.0</td>\n",
       "      <td>0.895262</td>\n",
       "      <td>0.005233</td>\n",
       "      <td>0.029598</td>\n",
       "      <td>0.063078</td>\n",
       "      <td>0.006828</td>\n",
       "    </tr>\n",
       "    <tr>\n",
       "      <th>Arden Heights</th>\n",
       "      <td>0.147098</td>\n",
       "      <td>409750.0</td>\n",
       "      <td>40.45</td>\n",
       "      <td>1299.0</td>\n",
       "      <td>88864.5</td>\n",
       "      <td>1.741741</td>\n",
       "      <td>188.149363</td>\n",
       "      <td>152.136552</td>\n",
       "      <td>69.603937</td>\n",
       "      <td>5.507382</td>\n",
       "      <td>...</td>\n",
       "      <td>0.202344</td>\n",
       "      <td>0.908014</td>\n",
       "      <td>0.091986</td>\n",
       "      <td>25602.0</td>\n",
       "      <td>8960.0</td>\n",
       "      <td>0.796071</td>\n",
       "      <td>0.014140</td>\n",
       "      <td>0.062690</td>\n",
       "      <td>0.118741</td>\n",
       "      <td>0.008359</td>\n",
       "    </tr>\n",
       "    <tr>\n",
       "      <th>Astoria</th>\n",
       "      <td>0.184188</td>\n",
       "      <td>637150.0</td>\n",
       "      <td>34.10</td>\n",
       "      <td>1432.0</td>\n",
       "      <td>57798.0</td>\n",
       "      <td>0.422238</td>\n",
       "      <td>141.163500</td>\n",
       "      <td>217.835138</td>\n",
       "      <td>89.772359</td>\n",
       "      <td>10.999416</td>\n",
       "      <td>...</td>\n",
       "      <td>0.532469</td>\n",
       "      <td>0.170327</td>\n",
       "      <td>0.829673</td>\n",
       "      <td>77095.0</td>\n",
       "      <td>34310.0</td>\n",
       "      <td>0.513911</td>\n",
       "      <td>0.046112</td>\n",
       "      <td>0.139724</td>\n",
       "      <td>0.274998</td>\n",
       "      <td>0.025255</td>\n",
       "    </tr>\n",
       "  </tbody>\n",
       "</table>\n",
       "<p>5 rows × 21 columns</p>\n",
       "</div>"
      ],
      "text/plain": [
       "                                            Normalized 311 calls  \\\n",
       "Neighborhood                                                       \n",
       "Airport                                                      inf   \n",
       "Allerton-Pelham Gardens                                 0.139654   \n",
       "Annadale-Huguenot-Prince's Bay-Eltingville              0.169064   \n",
       "Arden Heights                                           0.147098   \n",
       "Astoria                                                 0.184188   \n",
       "\n",
       "                                            Median House Value  Median Age  \\\n",
       "Neighborhood                                                                 \n",
       "Airport                                                    NaN         NaN   \n",
       "Allerton-Pelham Gardens                               445200.0       39.70   \n",
       "Annadale-Huguenot-Prince's Bay-Eltingville            527900.0       41.60   \n",
       "Arden Heights                                         409750.0       40.45   \n",
       "Astoria                                               637150.0       34.10   \n",
       "\n",
       "                                            Median Rent  Median Income  \\\n",
       "Neighborhood                                                             \n",
       "Airport                                             NaN            NaN   \n",
       "Allerton-Pelham Gardens                          1538.0        64702.0   \n",
       "Annadale-Huguenot-Prince's Bay-Eltingville       1342.0        91354.5   \n",
       "Arden Heights                                    1299.0        88864.5   \n",
       "Astoria                                          1432.0        57798.0   \n",
       "\n",
       "                                            Normalized cars  \\\n",
       "Neighborhood                                                  \n",
       "Airport                                                 NaN   \n",
       "Allerton-Pelham Gardens                            1.129863   \n",
       "Annadale-Huguenot-Prince's Bay-Eltingville         1.858472   \n",
       "Arden Heights                                      1.741741   \n",
       "Astoria                                            0.422238   \n",
       "\n",
       "                                            Normalized High school  \\\n",
       "Neighborhood                                                         \n",
       "Airport                                                        NaN   \n",
       "Allerton-Pelham Gardens                                 170.556606   \n",
       "Annadale-Huguenot-Prince's Bay-Eltingville              210.446054   \n",
       "Arden Heights                                           188.149363   \n",
       "Astoria                                                 141.163500   \n",
       "\n",
       "                                            Normalized bachelors  \\\n",
       "Neighborhood                                                       \n",
       "Airport                                                      NaN   \n",
       "Allerton-Pelham Gardens                               103.757977   \n",
       "Annadale-Huguenot-Prince's Bay-Eltingville            145.184210   \n",
       "Arden Heights                                         152.136552   \n",
       "Astoria                                               217.835138   \n",
       "\n",
       "                                            Normalized masters  \\\n",
       "Neighborhood                                                     \n",
       "Airport                                                    NaN   \n",
       "Allerton-Pelham Gardens                              52.558497   \n",
       "Annadale-Huguenot-Prince's Bay-Eltingville           57.879597   \n",
       "Arden Heights                                        69.603937   \n",
       "Astoria                                              89.772359   \n",
       "\n",
       "                                            Normalized PHD  \\\n",
       "Neighborhood                                                 \n",
       "Airport                                                NaN   \n",
       "Allerton-Pelham Gardens                           7.356417   \n",
       "Annadale-Huguenot-Prince's Bay-Eltingville        5.164108   \n",
       "Arden Heights                                     5.507382   \n",
       "Astoria                                          10.999416   \n",
       "\n",
       "                                                    ...            \\\n",
       "Neighborhood                                        ...             \n",
       "Airport                                             ...             \n",
       "Allerton-Pelham Gardens                             ...             \n",
       "Annadale-Huguenot-Prince's Bay-Eltingville          ...             \n",
       "Arden Heights                                       ...             \n",
       "Astoria                                             ...             \n",
       "\n",
       "                                            Normalized non-family household  \\\n",
       "Neighborhood                                                                  \n",
       "Airport                                                                 NaN   \n",
       "Allerton-Pelham Gardens                                            0.229895   \n",
       "Annadale-Huguenot-Prince's Bay-Eltingville                         0.201214   \n",
       "Arden Heights                                                      0.202344   \n",
       "Astoria                                                            0.532469   \n",
       "\n",
       "                                            Normalized owner ocuppied  \\\n",
       "Neighborhood                                                            \n",
       "Airport                                                           NaN   \n",
       "Allerton-Pelham Gardens                                      0.601616   \n",
       "Annadale-Huguenot-Prince's Bay-Eltingville                   0.840965   \n",
       "Arden Heights                                                0.908014   \n",
       "Astoria                                                      0.170327   \n",
       "\n",
       "                                            Normalized renter ocuppied  \\\n",
       "Neighborhood                                                             \n",
       "Airport                                                            NaN   \n",
       "Allerton-Pelham Gardens                                       0.398384   \n",
       "Annadale-Huguenot-Prince's Bay-Eltingville                    0.159035   \n",
       "Arden Heights                                                 0.091986   \n",
       "Astoria                                                       0.829673   \n",
       "\n",
       "                                            Total Population  \\\n",
       "Neighborhood                                                   \n",
       "Airport                                                  0.0   \n",
       "Allerton-Pelham Gardens                              33848.0   \n",
       "Annadale-Huguenot-Prince's Bay-Eltingville           28853.0   \n",
       "Arden Heights                                        25602.0   \n",
       "Astoria                                              77095.0   \n",
       "\n",
       "                                            Total households  \\\n",
       "Neighborhood                                                   \n",
       "Airport                                                  0.0   \n",
       "Allerton-Pelham Gardens                               9587.0   \n",
       "Annadale-Huguenot-Prince's Bay-Eltingville            9885.0   \n",
       "Arden Heights                                         8960.0   \n",
       "Astoria                                              34310.0   \n",
       "\n",
       "                                            Normalized white only  \\\n",
       "Neighborhood                                                        \n",
       "Airport                                                       NaN   \n",
       "Allerton-Pelham Gardens                                  0.259543   \n",
       "Annadale-Huguenot-Prince's Bay-Eltingville               0.895262   \n",
       "Arden Heights                                            0.796071   \n",
       "Astoria                                                  0.513911   \n",
       "\n",
       "                                            Normalized black only  \\\n",
       "Neighborhood                                                        \n",
       "Airport                                                       NaN   \n",
       "Allerton-Pelham Gardens                                  0.312987   \n",
       "Annadale-Huguenot-Prince's Bay-Eltingville               0.005233   \n",
       "Arden Heights                                            0.014140   \n",
       "Astoria                                                  0.046112   \n",
       "\n",
       "                                            Normalized asian only  \\\n",
       "Neighborhood                                                        \n",
       "Airport                                                       NaN   \n",
       "Allerton-Pelham Gardens                                  0.084850   \n",
       "Annadale-Huguenot-Prince's Bay-Eltingville               0.029598   \n",
       "Arden Heights                                            0.062690   \n",
       "Astoria                                                  0.139724   \n",
       "\n",
       "                                            Normalized hispanic only  \\\n",
       "Neighborhood                                                           \n",
       "Airport                                                          NaN   \n",
       "Allerton-Pelham Gardens                                     0.314140   \n",
       "Annadale-Huguenot-Prince's Bay-Eltingville                  0.063078   \n",
       "Arden Heights                                               0.118741   \n",
       "Astoria                                                     0.274998   \n",
       "\n",
       "                                            Normalized other only  \n",
       "Neighborhood                                                       \n",
       "Airport                                                       NaN  \n",
       "Allerton-Pelham Gardens                                  0.028480  \n",
       "Annadale-Huguenot-Prince's Bay-Eltingville               0.006828  \n",
       "Arden Heights                                            0.008359  \n",
       "Astoria                                                  0.025255  \n",
       "\n",
       "[5 rows x 21 columns]"
      ]
     },
     "execution_count": 167,
     "metadata": {},
     "output_type": "execute_result"
    }
   ],
   "source": [
    "Neighframe.head()"
   ]
  },
  {
   "cell_type": "code",
   "execution_count": 168,
   "metadata": {
    "collapsed": true
   },
   "outputs": [],
   "source": [
    "Neighcorr1 = Neighframe.corr(method='pearson', min_periods=1)"
   ]
  },
  {
   "cell_type": "code",
   "execution_count": 169,
   "metadata": {
    "collapsed": false
   },
   "outputs": [
    {
     "data": {
      "text/plain": [
       "Normalized 311 calls               1.000000\n",
       "Median House Value                -0.072375\n",
       "Median Age                         0.270970\n",
       "Median Rent                        0.101681\n",
       "Median Income                      0.007767\n",
       "Normalized cars                   -0.123643\n",
       "Normalized High school            -0.040563\n",
       "Normalized bachelors               0.155640\n",
       "Normalized masters                -0.006256\n",
       "Normalized PHD                    -0.089985\n",
       "Normalized familiy household      -0.113441\n",
       "Normalized non-family household    0.113441\n",
       "Normalized owner ocuppied         -0.050393\n",
       "Normalized renter ocuppied         0.050393\n",
       "Total Population                  -0.199510\n",
       "Total households                  -0.172472\n",
       "Normalized white only              0.055199\n",
       "Normalized black only             -0.010911\n",
       "Normalized asian only             -0.091525\n",
       "Normalized hispanic only          -0.006725\n",
       "Normalized other only              0.069754\n",
       "Name: Normalized 311 calls, dtype: float64"
      ]
     },
     "execution_count": 169,
     "metadata": {},
     "output_type": "execute_result"
    }
   ],
   "source": [
    "Neighcorr1.iloc[0]"
   ]
  },
  {
   "cell_type": "code",
   "execution_count": 170,
   "metadata": {
    "collapsed": true
   },
   "outputs": [],
   "source": [
    "Neighframe.to_csv('Demographics and 311 calls merged by NTA - Normalized.csv')"
   ]
  },
  {
   "cell_type": "code",
   "execution_count": null,
   "metadata": {
    "collapsed": true
   },
   "outputs": [],
   "source": []
  }
 ],
 "metadata": {
  "kernelspec": {
   "display_name": "Python 2",
   "language": "python",
   "name": "python2"
  },
  "language_info": {
   "codemirror_mode": {
    "name": "ipython",
    "version": 2
   },
   "file_extension": ".py",
   "mimetype": "text/x-python",
   "name": "python",
   "nbconvert_exporter": "python",
   "pygments_lexer": "ipython2",
   "version": "2.7.11"
  }
 },
 "nbformat": 4,
 "nbformat_minor": 0
}
