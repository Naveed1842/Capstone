{
 "cells": [
  {
   "cell_type": "code",
   "execution_count": 1,
   "metadata": {
    "collapsed": true
   },
   "outputs": [],
   "source": [
    "import pandas as pd\n",
    "import geopandas as gpd\n",
    "import numpy as np\n",
    "import matplotlib\n",
    "%matplotlib inline\n",
    "import matplotlib.pyplot as plt\n",
    "from geopandas.tools import sjoin\n",
    "from shapely.geometry import Point, mapping,shape"
   ]
  },
  {
   "cell_type": "code",
   "execution_count": 2,
   "metadata": {
    "collapsed": true
   },
   "outputs": [],
   "source": [
    "mhincome = pd.read_csv('2014 Median Household Income.csv', skiprows=[0])"
   ]
  },
  {
   "cell_type": "code",
   "execution_count": 3,
   "metadata": {
    "collapsed": false
   },
   "outputs": [
    {
     "data": {
      "text/plain": [
       "Index([u'Id', u'Id2', u'Geography', u'Total; Estimate; Households',\n",
       "       u'Total; Margin of Error; Households',\n",
       "       u'Median income (dollars); Estimate; Households',\n",
       "       u'Median income (dollars); Margin of Error; Households',\n",
       "       u'Total; Estimate; Households - One race-- - White',\n",
       "       u'Total; Margin of Error; Households - One race-- - White',\n",
       "       u'Median income (dollars); Estimate; Households - One race-- - White', \n",
       "       ...\n",
       "       u'Median income (dollars); Estimate; PERCENT IMPUTED - Household income in the past 12 months',\n",
       "       u'Median income (dollars); Margin of Error; PERCENT IMPUTED - Household income in the past 12 months',\n",
       "       u'Total; Estimate; PERCENT IMPUTED - Family income in the past 12 months',\n",
       "       u'Total; Margin of Error; PERCENT IMPUTED - Family income in the past 12 months',\n",
       "       u'Median income (dollars); Estimate; PERCENT IMPUTED - Family income in the past 12 months',\n",
       "       u'Median income (dollars); Margin of Error; PERCENT IMPUTED - Family income in the past 12 months',\n",
       "       u'Total; Estimate; PERCENT IMPUTED - Nonfamily income in the past 12 months',\n",
       "       u'Total; Margin of Error; PERCENT IMPUTED - Nonfamily income in the past 12 months',\n",
       "       u'Median income (dollars); Estimate; PERCENT IMPUTED - Nonfamily income in the past 12 months',\n",
       "       u'Median income (dollars); Margin of Error; PERCENT IMPUTED - Nonfamily income in the past 12 months'],\n",
       "      dtype='object', length=123)"
      ]
     },
     "execution_count": 3,
     "metadata": {},
     "output_type": "execute_result"
    }
   ],
   "source": [
    "mhincome.columns"
   ]
  },
  {
   "cell_type": "code",
   "execution_count": 4,
   "metadata": {
    "collapsed": false
   },
   "outputs": [
    {
     "data": {
      "text/plain": [
       "2167"
      ]
     },
     "execution_count": 4,
     "metadata": {},
     "output_type": "execute_result"
    }
   ],
   "source": [
    "len(mhincome)"
   ]
  },
  {
   "cell_type": "code",
   "execution_count": 5,
   "metadata": {
    "collapsed": true
   },
   "outputs": [],
   "source": [
    "mhincome = mhincome[['Id2','Total; Estimate; Households', 'Median income (dollars); Estimate; Households']]"
   ]
  },
  {
   "cell_type": "code",
   "execution_count": 6,
   "metadata": {
    "collapsed": false
   },
   "outputs": [],
   "source": [
    "mhincome.columns = [['BoroCT2010', 'Total Households', 'Median Income']]"
   ]
  },
  {
   "cell_type": "code",
   "execution_count": 7,
   "metadata": {
    "collapsed": false
   },
   "outputs": [],
   "source": [
    "mhincome['BoroCT2010'] = mhincome['BoroCT2010'].map(lambda x: str(x)[3:])"
   ]
  },
  {
   "cell_type": "code",
   "execution_count": 8,
   "metadata": {
    "collapsed": true
   },
   "outputs": [],
   "source": [
    "mhincome['Borocode'] = mhincome['BoroCT2010'].str[:2]"
   ]
  },
  {
   "cell_type": "code",
   "execution_count": 9,
   "metadata": {
    "collapsed": true
   },
   "outputs": [],
   "source": [
    "mhincome['Median Income'].replace(regex=True,inplace=True,to_replace=r'\\D',value=r'')"
   ]
  },
  {
   "cell_type": "code",
   "execution_count": 10,
   "metadata": {
    "collapsed": false
   },
   "outputs": [],
   "source": [
    "mhincome['Median Income'] = mhincome['Median Income'].replace('', 'NaN')"
   ]
  },
  {
   "cell_type": "code",
   "execution_count": 11,
   "metadata": {
    "collapsed": false
   },
   "outputs": [],
   "source": [
    "mhincome['Median Income'] = mhincome['Median Income'].astype(float)"
   ]
  },
  {
   "cell_type": "code",
   "execution_count": 12,
   "metadata": {
    "collapsed": true
   },
   "outputs": [],
   "source": [
    "mhincome['Total Households'] = mhincome['Total Households'].astype(float)"
   ]
  },
  {
   "cell_type": "code",
   "execution_count": 13,
   "metadata": {
    "collapsed": false
   },
   "outputs": [],
   "source": [
    "bcorr = {'05': '2', '47': '3', '61' : '1', '81': '4', '85' : '5'}"
   ]
  },
  {
   "cell_type": "code",
   "execution_count": 14,
   "metadata": {
    "collapsed": false
   },
   "outputs": [],
   "source": [
    "mhincome['Borocode2'] = mhincome['Borocode'].map(bcorr)"
   ]
  },
  {
   "cell_type": "code",
   "execution_count": 15,
   "metadata": {
    "collapsed": true
   },
   "outputs": [],
   "source": [
    "mhincome['BoroCT2010'] = mhincome['BoroCT2010'].map(lambda x: str(x)[2:])"
   ]
  },
  {
   "cell_type": "code",
   "execution_count": 16,
   "metadata": {
    "collapsed": false
   },
   "outputs": [],
   "source": [
    "mhincome['BoroCT2010'] = mhincome.Borocode2 + mhincome.BoroCT2010.astype(str)"
   ]
  },
  {
   "cell_type": "code",
   "execution_count": 17,
   "metadata": {
    "collapsed": false
   },
   "outputs": [],
   "source": [
    "mhincome = mhincome[['BoroCT2010', 'Total Households', 'Median Income']]"
   ]
  },
  {
   "cell_type": "code",
   "execution_count": 18,
   "metadata": {
    "collapsed": false
   },
   "outputs": [
    {
     "data": {
      "text/html": [
       "<div>\n",
       "<table border=\"1\" class=\"dataframe\">\n",
       "  <thead>\n",
       "    <tr style=\"text-align: right;\">\n",
       "      <th></th>\n",
       "      <th>BoroCT2010</th>\n",
       "      <th>Total Households</th>\n",
       "      <th>Median Income</th>\n",
       "    </tr>\n",
       "  </thead>\n",
       "  <tbody>\n",
       "    <tr>\n",
       "      <th>2162</th>\n",
       "      <td>5030302</td>\n",
       "      <td>1938</td>\n",
       "      <td>80887</td>\n",
       "    </tr>\n",
       "    <tr>\n",
       "      <th>2163</th>\n",
       "      <td>5031901</td>\n",
       "      <td>1086</td>\n",
       "      <td>27031</td>\n",
       "    </tr>\n",
       "    <tr>\n",
       "      <th>2164</th>\n",
       "      <td>5031902</td>\n",
       "      <td>1619</td>\n",
       "      <td>31750</td>\n",
       "    </tr>\n",
       "    <tr>\n",
       "      <th>2165</th>\n",
       "      <td>5032300</td>\n",
       "      <td>464</td>\n",
       "      <td>58804</td>\n",
       "    </tr>\n",
       "    <tr>\n",
       "      <th>2166</th>\n",
       "      <td>5990100</td>\n",
       "      <td>0</td>\n",
       "      <td>NaN</td>\n",
       "    </tr>\n",
       "  </tbody>\n",
       "</table>\n",
       "</div>"
      ],
      "text/plain": [
       "     BoroCT2010  Total Households  Median Income\n",
       "2162    5030302              1938          80887\n",
       "2163    5031901              1086          27031\n",
       "2164    5031902              1619          31750\n",
       "2165    5032300               464          58804\n",
       "2166    5990100                 0            NaN"
      ]
     },
     "execution_count": 18,
     "metadata": {},
     "output_type": "execute_result"
    }
   ],
   "source": [
    "mhincome.tail()"
   ]
  },
  {
   "cell_type": "code",
   "execution_count": 19,
   "metadata": {
    "collapsed": false,
    "scrolled": true
   },
   "outputs": [],
   "source": [
    "carowner = pd.read_csv('2014 Car Ownership.csv', skiprows=[0])"
   ]
  },
  {
   "cell_type": "code",
   "execution_count": 20,
   "metadata": {
    "collapsed": false
   },
   "outputs": [
    {
     "data": {
      "text/plain": [
       "Index([u'Id', u'Id2', u'Geography',\n",
       "       u'Estimate; Aggregate number of vehicles available:',\n",
       "       u'Margin of Error; Aggregate number of vehicles available:',\n",
       "       u'Estimate; Aggregate number of vehicles available: - Owner occupied',\n",
       "       u'Margin of Error; Aggregate number of vehicles available: - Owner occupied',\n",
       "       u'Estimate; Aggregate number of vehicles available: - Renter occupied',\n",
       "       u'Margin of Error; Aggregate number of vehicles available: - Renter occupied'],\n",
       "      dtype='object')"
      ]
     },
     "execution_count": 20,
     "metadata": {},
     "output_type": "execute_result"
    }
   ],
   "source": [
    "carowner.columns"
   ]
  },
  {
   "cell_type": "code",
   "execution_count": 21,
   "metadata": {
    "collapsed": false
   },
   "outputs": [],
   "source": [
    "carowner = carowner[['Id2','Estimate; Aggregate number of vehicles available:', 'Estimate; Aggregate number of \\\n",
    "vehicles available: - Owner occupied', 'Estimate; Aggregate number of vehicles available: - Renter occupied']]"
   ]
  },
  {
   "cell_type": "code",
   "execution_count": 22,
   "metadata": {
    "collapsed": false
   },
   "outputs": [],
   "source": [
    "carowner.columns = [['BoroCT2010', 'Total cars', 'Total cars owners', 'Total cars renters']]"
   ]
  },
  {
   "cell_type": "code",
   "execution_count": 23,
   "metadata": {
    "collapsed": true
   },
   "outputs": [],
   "source": [
    "carowner['BoroCT2010'] = carowner['BoroCT2010'].map(lambda x: str(x)[3:])"
   ]
  },
  {
   "cell_type": "code",
   "execution_count": 24,
   "metadata": {
    "collapsed": true
   },
   "outputs": [],
   "source": [
    "carowner['Borocode'] = carowner['BoroCT2010'].str[:2]"
   ]
  },
  {
   "cell_type": "code",
   "execution_count": 25,
   "metadata": {
    "collapsed": true
   },
   "outputs": [],
   "source": [
    "carowner.replace(regex=True,inplace=True,to_replace=r'\\D',value=r'')"
   ]
  },
  {
   "cell_type": "code",
   "execution_count": 26,
   "metadata": {
    "collapsed": true
   },
   "outputs": [],
   "source": [
    "carowner = carowner.replace('', 'NaN')"
   ]
  },
  {
   "cell_type": "code",
   "execution_count": 27,
   "metadata": {
    "collapsed": true
   },
   "outputs": [],
   "source": [
    "carowner['Borocode2'] = carowner['Borocode'].map(bcorr)"
   ]
  },
  {
   "cell_type": "code",
   "execution_count": 28,
   "metadata": {
    "collapsed": false
   },
   "outputs": [
    {
     "data": {
      "text/html": [
       "<div>\n",
       "<table border=\"1\" class=\"dataframe\">\n",
       "  <thead>\n",
       "    <tr style=\"text-align: right;\">\n",
       "      <th></th>\n",
       "      <th>BoroCT2010</th>\n",
       "      <th>Total cars</th>\n",
       "      <th>Total cars owners</th>\n",
       "      <th>Total cars renters</th>\n",
       "      <th>Borocode</th>\n",
       "      <th>Borocode2</th>\n",
       "    </tr>\n",
       "  </thead>\n",
       "  <tbody>\n",
       "    <tr>\n",
       "      <th>0</th>\n",
       "      <td>05000100</td>\n",
       "      <td>NaN</td>\n",
       "      <td>NaN</td>\n",
       "      <td>NaN</td>\n",
       "      <td>05</td>\n",
       "      <td>2</td>\n",
       "    </tr>\n",
       "    <tr>\n",
       "      <th>1</th>\n",
       "      <td>05000200</td>\n",
       "      <td>1709</td>\n",
       "      <td>1160</td>\n",
       "      <td>549</td>\n",
       "      <td>05</td>\n",
       "      <td>2</td>\n",
       "    </tr>\n",
       "    <tr>\n",
       "      <th>2</th>\n",
       "      <td>05000400</td>\n",
       "      <td>1872</td>\n",
       "      <td>1599</td>\n",
       "      <td>273</td>\n",
       "      <td>05</td>\n",
       "      <td>2</td>\n",
       "    </tr>\n",
       "    <tr>\n",
       "      <th>3</th>\n",
       "      <td>05001600</td>\n",
       "      <td>1294</td>\n",
       "      <td>560</td>\n",
       "      <td>734</td>\n",
       "      <td>05</td>\n",
       "      <td>2</td>\n",
       "    </tr>\n",
       "    <tr>\n",
       "      <th>4</th>\n",
       "      <td>05001900</td>\n",
       "      <td>354</td>\n",
       "      <td>37</td>\n",
       "      <td>317</td>\n",
       "      <td>05</td>\n",
       "      <td>2</td>\n",
       "    </tr>\n",
       "  </tbody>\n",
       "</table>\n",
       "</div>"
      ],
      "text/plain": [
       "  BoroCT2010 Total cars Total cars owners Total cars renters Borocode  \\\n",
       "0   05000100        NaN               NaN                NaN       05   \n",
       "1   05000200       1709              1160                549       05   \n",
       "2   05000400       1872              1599                273       05   \n",
       "3   05001600       1294               560                734       05   \n",
       "4   05001900        354                37                317       05   \n",
       "\n",
       "  Borocode2  \n",
       "0         2  \n",
       "1         2  \n",
       "2         2  \n",
       "3         2  \n",
       "4         2  "
      ]
     },
     "execution_count": 28,
     "metadata": {},
     "output_type": "execute_result"
    }
   ],
   "source": [
    "carowner.head()"
   ]
  },
  {
   "cell_type": "code",
   "execution_count": 29,
   "metadata": {
    "collapsed": true
   },
   "outputs": [],
   "source": [
    "carowner['BoroCT2010'] = carowner['BoroCT2010'].map(lambda x: str(x)[2:])"
   ]
  },
  {
   "cell_type": "code",
   "execution_count": 30,
   "metadata": {
    "collapsed": false
   },
   "outputs": [],
   "source": [
    "carowner['BoroCT2010'] = carowner.Borocode2.astype(str) + carowner.BoroCT2010.astype(str)"
   ]
  },
  {
   "cell_type": "code",
   "execution_count": 31,
   "metadata": {
    "collapsed": false
   },
   "outputs": [],
   "source": [
    "carowner = carowner[['BoroCT2010', 'Total cars', 'Total cars owners', 'Total cars renters']]"
   ]
  },
  {
   "cell_type": "code",
   "execution_count": 32,
   "metadata": {
    "collapsed": false
   },
   "outputs": [
    {
     "data": {
      "text/plain": [
       "2083"
      ]
     },
     "execution_count": 32,
     "metadata": {},
     "output_type": "execute_result"
    }
   ],
   "source": [
    "len(carowner)"
   ]
  },
  {
   "cell_type": "code",
   "execution_count": 33,
   "metadata": {
    "collapsed": false
   },
   "outputs": [],
   "source": [
    "carowner['Total cars'] = carowner['Total cars'].astype(float)\n",
    "carowner['Total cars owners'] = carowner['Total cars'].astype(float)\n",
    "carowner['Total cars renters'] = carowner['Total cars'].astype(float)"
   ]
  },
  {
   "cell_type": "code",
   "execution_count": 34,
   "metadata": {
    "collapsed": false
   },
   "outputs": [
    {
     "data": {
      "text/html": [
       "<div>\n",
       "<table border=\"1\" class=\"dataframe\">\n",
       "  <thead>\n",
       "    <tr style=\"text-align: right;\">\n",
       "      <th></th>\n",
       "      <th>BoroCT2010</th>\n",
       "      <th>Total cars</th>\n",
       "      <th>Total cars owners</th>\n",
       "      <th>Total cars renters</th>\n",
       "    </tr>\n",
       "  </thead>\n",
       "  <tbody>\n",
       "    <tr>\n",
       "      <th>2078</th>\n",
       "      <td>5030302</td>\n",
       "      <td>2860</td>\n",
       "      <td>2860</td>\n",
       "      <td>2860</td>\n",
       "    </tr>\n",
       "    <tr>\n",
       "      <th>2079</th>\n",
       "      <td>5031901</td>\n",
       "      <td>691</td>\n",
       "      <td>691</td>\n",
       "      <td>691</td>\n",
       "    </tr>\n",
       "    <tr>\n",
       "      <th>2080</th>\n",
       "      <td>5031902</td>\n",
       "      <td>1396</td>\n",
       "      <td>1396</td>\n",
       "      <td>1396</td>\n",
       "    </tr>\n",
       "    <tr>\n",
       "      <th>2081</th>\n",
       "      <td>5032300</td>\n",
       "      <td>578</td>\n",
       "      <td>578</td>\n",
       "      <td>578</td>\n",
       "    </tr>\n",
       "    <tr>\n",
       "      <th>2082</th>\n",
       "      <td>5990100</td>\n",
       "      <td>NaN</td>\n",
       "      <td>NaN</td>\n",
       "      <td>NaN</td>\n",
       "    </tr>\n",
       "  </tbody>\n",
       "</table>\n",
       "</div>"
      ],
      "text/plain": [
       "     BoroCT2010  Total cars  Total cars owners  Total cars renters\n",
       "2078    5030302        2860               2860                2860\n",
       "2079    5031901         691                691                 691\n",
       "2080    5031902        1396               1396                1396\n",
       "2081    5032300         578                578                 578\n",
       "2082    5990100         NaN                NaN                 NaN"
      ]
     },
     "execution_count": 34,
     "metadata": {},
     "output_type": "execute_result"
    }
   ],
   "source": [
    "carowner.tail()"
   ]
  },
  {
   "cell_type": "code",
   "execution_count": 35,
   "metadata": {
    "collapsed": true
   },
   "outputs": [],
   "source": [
    "education = pd.read_csv('2014 Education level.csv', skiprows=[0])"
   ]
  },
  {
   "cell_type": "code",
   "execution_count": 36,
   "metadata": {
    "collapsed": false
   },
   "outputs": [
    {
     "data": {
      "text/plain": [
       "Index([u'Id', u'Id2', u'Geography', u'Estimate; Total:',\n",
       "       u'Margin of Error; Total:',\n",
       "       u'Estimate; Total: - No schooling completed',\n",
       "       u'Margin of Error; Total: - No schooling completed',\n",
       "       u'Estimate; Total: - Nursery school',\n",
       "       u'Margin of Error; Total: - Nursery school',\n",
       "       u'Estimate; Total: - Kindergarten',\n",
       "       u'Margin of Error; Total: - Kindergarten',\n",
       "       u'Estimate; Total: - 1st grade', u'Margin of Error; Total: - 1st grade',\n",
       "       u'Estimate; Total: - 2nd grade', u'Margin of Error; Total: - 2nd grade',\n",
       "       u'Estimate; Total: - 3rd grade', u'Margin of Error; Total: - 3rd grade',\n",
       "       u'Estimate; Total: - 4th grade', u'Margin of Error; Total: - 4th grade',\n",
       "       u'Estimate; Total: - 5th grade', u'Margin of Error; Total: - 5th grade',\n",
       "       u'Estimate; Total: - 6th grade', u'Margin of Error; Total: - 6th grade',\n",
       "       u'Estimate; Total: - 7th grade', u'Margin of Error; Total: - 7th grade',\n",
       "       u'Estimate; Total: - 8th grade', u'Margin of Error; Total: - 8th grade',\n",
       "       u'Estimate; Total: - 9th grade', u'Margin of Error; Total: - 9th grade',\n",
       "       u'Estimate; Total: - 10th grade',\n",
       "       u'Margin of Error; Total: - 10th grade',\n",
       "       u'Estimate; Total: - 11th grade',\n",
       "       u'Margin of Error; Total: - 11th grade',\n",
       "       u'Estimate; Total: - 12th grade, no diploma',\n",
       "       u'Margin of Error; Total: - 12th grade, no diploma',\n",
       "       u'Estimate; Total: - Regular high school diploma',\n",
       "       u'Margin of Error; Total: - Regular high school diploma',\n",
       "       u'Estimate; Total: - GED or alternative credential',\n",
       "       u'Margin of Error; Total: - GED or alternative credential',\n",
       "       u'Estimate; Total: - Some college, less than 1 year',\n",
       "       u'Margin of Error; Total: - Some college, less than 1 year',\n",
       "       u'Estimate; Total: - Some college, 1 or more years, no degree',\n",
       "       u'Margin of Error; Total: - Some college, 1 or more years, no degree',\n",
       "       u'Estimate; Total: - Associate's degree',\n",
       "       u'Margin of Error; Total: - Associate's degree',\n",
       "       u'Estimate; Total: - Bachelor's degree',\n",
       "       u'Margin of Error; Total: - Bachelor's degree',\n",
       "       u'Estimate; Total: - Master's degree',\n",
       "       u'Margin of Error; Total: - Master's degree',\n",
       "       u'Estimate; Total: - Professional school degree',\n",
       "       u'Margin of Error; Total: - Professional school degree',\n",
       "       u'Estimate; Total: - Doctorate degree',\n",
       "       u'Margin of Error; Total: - Doctorate degree'],\n",
       "      dtype='object')"
      ]
     },
     "execution_count": 36,
     "metadata": {},
     "output_type": "execute_result"
    }
   ],
   "source": [
    "education.columns"
   ]
  },
  {
   "cell_type": "code",
   "execution_count": 37,
   "metadata": {
    "collapsed": false
   },
   "outputs": [],
   "source": [
    "education = education[[1, 3, 35, 45, 47]]"
   ]
  },
  {
   "cell_type": "code",
   "execution_count": 38,
   "metadata": {
    "collapsed": false
   },
   "outputs": [],
   "source": [
    "education.columns = [['BoroCT2010', 'Total', 'Total High School', 'Total bachelors', \"Total masters\"]]"
   ]
  },
  {
   "cell_type": "code",
   "execution_count": 39,
   "metadata": {
    "collapsed": false
   },
   "outputs": [
    {
     "data": {
      "text/plain": [
       "2167"
      ]
     },
     "execution_count": 39,
     "metadata": {},
     "output_type": "execute_result"
    }
   ],
   "source": [
    "len(education)"
   ]
  },
  {
   "cell_type": "code",
   "execution_count": 40,
   "metadata": {
    "collapsed": true
   },
   "outputs": [],
   "source": [
    "education.replace(regex=True,inplace=True,to_replace=r'\\D',value=r'')"
   ]
  },
  {
   "cell_type": "code",
   "execution_count": 41,
   "metadata": {
    "collapsed": true
   },
   "outputs": [],
   "source": [
    "education = education.replace('', 'NaN')"
   ]
  },
  {
   "cell_type": "code",
   "execution_count": 42,
   "metadata": {
    "collapsed": true
   },
   "outputs": [],
   "source": [
    "education = education.astype(float)"
   ]
  },
  {
   "cell_type": "code",
   "execution_count": 43,
   "metadata": {
    "collapsed": false
   },
   "outputs": [],
   "source": [
    "education['BoroCT2010'] = mhincome['BoroCT2010']"
   ]
  },
  {
   "cell_type": "code",
   "execution_count": 44,
   "metadata": {
    "collapsed": false
   },
   "outputs": [
    {
     "data": {
      "text/html": [
       "<div>\n",
       "<table border=\"1\" class=\"dataframe\">\n",
       "  <thead>\n",
       "    <tr style=\"text-align: right;\">\n",
       "      <th></th>\n",
       "      <th>BoroCT2010</th>\n",
       "      <th>Total</th>\n",
       "      <th>Total High School</th>\n",
       "      <th>Total bachelors</th>\n",
       "      <th>Total masters</th>\n",
       "    </tr>\n",
       "  </thead>\n",
       "  <tbody>\n",
       "    <tr>\n",
       "      <th>2162</th>\n",
       "      <td>5030302</td>\n",
       "      <td>4038</td>\n",
       "      <td>1065</td>\n",
       "      <td>746</td>\n",
       "      <td>393</td>\n",
       "    </tr>\n",
       "    <tr>\n",
       "      <th>2163</th>\n",
       "      <td>5031901</td>\n",
       "      <td>1709</td>\n",
       "      <td>395</td>\n",
       "      <td>240</td>\n",
       "      <td>24</td>\n",
       "    </tr>\n",
       "    <tr>\n",
       "      <th>2164</th>\n",
       "      <td>5031902</td>\n",
       "      <td>2664</td>\n",
       "      <td>835</td>\n",
       "      <td>435</td>\n",
       "      <td>129</td>\n",
       "    </tr>\n",
       "    <tr>\n",
       "      <th>2165</th>\n",
       "      <td>5032300</td>\n",
       "      <td>826</td>\n",
       "      <td>195</td>\n",
       "      <td>111</td>\n",
       "      <td>19</td>\n",
       "    </tr>\n",
       "    <tr>\n",
       "      <th>2166</th>\n",
       "      <td>5990100</td>\n",
       "      <td>0</td>\n",
       "      <td>0</td>\n",
       "      <td>0</td>\n",
       "      <td>0</td>\n",
       "    </tr>\n",
       "  </tbody>\n",
       "</table>\n",
       "</div>"
      ],
      "text/plain": [
       "     BoroCT2010  Total  Total High School  Total bachelors  Total masters\n",
       "2162    5030302   4038               1065              746            393\n",
       "2163    5031901   1709                395              240             24\n",
       "2164    5031902   2664                835              435            129\n",
       "2165    5032300    826                195              111             19\n",
       "2166    5990100      0                  0                0              0"
      ]
     },
     "execution_count": 44,
     "metadata": {},
     "output_type": "execute_result"
    }
   ],
   "source": [
    "education.tail()"
   ]
  },
  {
   "cell_type": "code",
   "execution_count": 45,
   "metadata": {
    "collapsed": false
   },
   "outputs": [
    {
     "data": {
      "text/plain": [
       "Index([u'Id', u'Id2', u'Geography', u'Total; Estimate; Total population',\n",
       "       u'Total; Margin of Error; Total population',\n",
       "       u'Male; Estimate; Total population',\n",
       "       u'Male; Margin of Error; Total population',\n",
       "       u'Female; Estimate; Total population',\n",
       "       u'Female; Margin of Error; Total population',\n",
       "       u'Total; Estimate; AGE - Under 5 years', \n",
       "       ...\n",
       "       u'Male; Estimate; PERCENT IMPUTED - Sex',\n",
       "       u'Male; Margin of Error; PERCENT IMPUTED - Sex',\n",
       "       u'Female; Estimate; PERCENT IMPUTED - Sex',\n",
       "       u'Female; Margin of Error; PERCENT IMPUTED - Sex',\n",
       "       u'Total; Estimate; PERCENT IMPUTED - Age',\n",
       "       u'Total; Margin of Error; PERCENT IMPUTED - Age',\n",
       "       u'Male; Estimate; PERCENT IMPUTED - Age',\n",
       "       u'Male; Margin of Error; PERCENT IMPUTED - Age',\n",
       "       u'Female; Estimate; PERCENT IMPUTED - Age',\n",
       "       u'Female; Margin of Error; PERCENT IMPUTED - Age'],\n",
       "      dtype='object', length=219)"
      ]
     },
     "execution_count": 45,
     "metadata": {},
     "output_type": "execute_result"
    }
   ],
   "source": [
    "age = pd.read_csv('2014 estimated age.csv', skiprows=[0])\n",
    "age.columns"
   ]
  },
  {
   "cell_type": "code",
   "execution_count": 46,
   "metadata": {
    "collapsed": true
   },
   "outputs": [],
   "source": [
    "age = age[['Id2', 'Total; Estimate; SUMMARY INDICATORS - Median age (years)']]"
   ]
  },
  {
   "cell_type": "code",
   "execution_count": 47,
   "metadata": {
    "collapsed": false
   },
   "outputs": [],
   "source": [
    "age.columns = [['BoroCT2010', 'Median Age']]"
   ]
  },
  {
   "cell_type": "code",
   "execution_count": 48,
   "metadata": {
    "collapsed": false
   },
   "outputs": [
    {
     "data": {
      "text/plain": [
       "2167"
      ]
     },
     "execution_count": 48,
     "metadata": {},
     "output_type": "execute_result"
    }
   ],
   "source": [
    "len(age)"
   ]
  },
  {
   "cell_type": "code",
   "execution_count": 49,
   "metadata": {
    "collapsed": true
   },
   "outputs": [],
   "source": [
    "age.replace(regex=True,inplace=True,to_replace=r'\\D',value=r'')"
   ]
  },
  {
   "cell_type": "code",
   "execution_count": 50,
   "metadata": {
    "collapsed": true
   },
   "outputs": [],
   "source": [
    "age = age.replace('', 'NaN')"
   ]
  },
  {
   "cell_type": "code",
   "execution_count": 51,
   "metadata": {
    "collapsed": false
   },
   "outputs": [],
   "source": [
    "age = age.astype(float)/10"
   ]
  },
  {
   "cell_type": "code",
   "execution_count": 52,
   "metadata": {
    "collapsed": true
   },
   "outputs": [],
   "source": [
    "age['BoroCT2010'] = mhincome['BoroCT2010']"
   ]
  },
  {
   "cell_type": "code",
   "execution_count": 53,
   "metadata": {
    "collapsed": false
   },
   "outputs": [
    {
     "data": {
      "text/html": [
       "<div>\n",
       "<table border=\"1\" class=\"dataframe\">\n",
       "  <thead>\n",
       "    <tr style=\"text-align: right;\">\n",
       "      <th></th>\n",
       "      <th>BoroCT2010</th>\n",
       "      <th>Median Age</th>\n",
       "    </tr>\n",
       "  </thead>\n",
       "  <tbody>\n",
       "    <tr>\n",
       "      <th>2162</th>\n",
       "      <td>5030302</td>\n",
       "      <td>36.5</td>\n",
       "    </tr>\n",
       "    <tr>\n",
       "      <th>2163</th>\n",
       "      <td>5031901</td>\n",
       "      <td>30.8</td>\n",
       "    </tr>\n",
       "    <tr>\n",
       "      <th>2164</th>\n",
       "      <td>5031902</td>\n",
       "      <td>30.6</td>\n",
       "    </tr>\n",
       "    <tr>\n",
       "      <th>2165</th>\n",
       "      <td>5032300</td>\n",
       "      <td>42.0</td>\n",
       "    </tr>\n",
       "    <tr>\n",
       "      <th>2166</th>\n",
       "      <td>5990100</td>\n",
       "      <td>NaN</td>\n",
       "    </tr>\n",
       "  </tbody>\n",
       "</table>\n",
       "</div>"
      ],
      "text/plain": [
       "     BoroCT2010  Median Age\n",
       "2162    5030302        36.5\n",
       "2163    5031901        30.8\n",
       "2164    5031902        30.6\n",
       "2165    5032300        42.0\n",
       "2166    5990100         NaN"
      ]
     },
     "execution_count": 53,
     "metadata": {},
     "output_type": "execute_result"
    }
   ],
   "source": [
    "age.tail()"
   ]
  },
  {
   "cell_type": "code",
   "execution_count": 54,
   "metadata": {
    "collapsed": false
   },
   "outputs": [
    {
     "data": {
      "text/plain": [
       "Index([u'Id', u'Id2', u'Geography', u'Estimate; Total:',\n",
       "       u'Margin of Error; Total:', u'Estimate; Family households:',\n",
       "       u'Margin of Error; Family households:',\n",
       "       u'Estimate; Family households: - 2-person household',\n",
       "       u'Margin of Error; Family households: - 2-person household',\n",
       "       u'Estimate; Family households: - 3-person household',\n",
       "       u'Margin of Error; Family households: - 3-person household',\n",
       "       u'Estimate; Family households: - 4-person household',\n",
       "       u'Margin of Error; Family households: - 4-person household',\n",
       "       u'Estimate; Family households: - 5-person household',\n",
       "       u'Margin of Error; Family households: - 5-person household',\n",
       "       u'Estimate; Family households: - 6-person household',\n",
       "       u'Margin of Error; Family households: - 6-person household',\n",
       "       u'Estimate; Family households: - 7-or-more person household',\n",
       "       u'Margin of Error; Family households: - 7-or-more person household',\n",
       "       u'Estimate; Nonfamily households:',\n",
       "       u'Margin of Error; Nonfamily households:',\n",
       "       u'Estimate; Nonfamily households: - 1-person household',\n",
       "       u'Margin of Error; Nonfamily households: - 1-person household',\n",
       "       u'Estimate; Nonfamily households: - 2-person household',\n",
       "       u'Margin of Error; Nonfamily households: - 2-person household',\n",
       "       u'Estimate; Nonfamily households: - 3-person household',\n",
       "       u'Margin of Error; Nonfamily households: - 3-person household',\n",
       "       u'Estimate; Nonfamily households: - 4-person household',\n",
       "       u'Margin of Error; Nonfamily households: - 4-person household',\n",
       "       u'Estimate; Nonfamily households: - 5-person household',\n",
       "       u'Margin of Error; Nonfamily households: - 5-person household',\n",
       "       u'Estimate; Nonfamily households: - 6-person household',\n",
       "       u'Margin of Error; Nonfamily households: - 6-person household',\n",
       "       u'Estimate; Nonfamily households: - 7-or-more person household',\n",
       "       u'Margin of Error; Nonfamily households: - 7-or-more person household'],\n",
       "      dtype='object')"
      ]
     },
     "execution_count": 54,
     "metadata": {},
     "output_type": "execute_result"
    }
   ],
   "source": [
    "housetype = pd.read_csv('2014 Household Type.csv', skiprows=[0])\n",
    "housetype.columns"
   ]
  },
  {
   "cell_type": "code",
   "execution_count": 55,
   "metadata": {
    "collapsed": false
   },
   "outputs": [],
   "source": [
    "housetype = housetype[['Id2', 'Estimate; Total:', 'Estimate; Family households:', 'Estimate; Nonfamily households:']]"
   ]
  },
  {
   "cell_type": "code",
   "execution_count": 56,
   "metadata": {
    "collapsed": false
   },
   "outputs": [],
   "source": [
    "housetype.columns = ['BoroCT2010', 'Total households' , 'Total family households', 'Total non-family households']"
   ]
  },
  {
   "cell_type": "code",
   "execution_count": 57,
   "metadata": {
    "collapsed": false
   },
   "outputs": [
    {
     "data": {
      "text/plain": [
       "2167"
      ]
     },
     "execution_count": 57,
     "metadata": {},
     "output_type": "execute_result"
    }
   ],
   "source": [
    "len(housetype)"
   ]
  },
  {
   "cell_type": "code",
   "execution_count": 58,
   "metadata": {
    "collapsed": true
   },
   "outputs": [],
   "source": [
    "housetype.replace(regex=True,inplace=True,to_replace=r'\\D',value=r'')"
   ]
  },
  {
   "cell_type": "code",
   "execution_count": 59,
   "metadata": {
    "collapsed": true
   },
   "outputs": [],
   "source": [
    "housetype = housetype.replace('', 'NaN')"
   ]
  },
  {
   "cell_type": "code",
   "execution_count": 60,
   "metadata": {
    "collapsed": true
   },
   "outputs": [],
   "source": [
    "housetype = housetype.astype(float)"
   ]
  },
  {
   "cell_type": "code",
   "execution_count": 61,
   "metadata": {
    "collapsed": false
   },
   "outputs": [],
   "source": [
    "housetype['BoroCT2010'] = mhincome['BoroCT2010']"
   ]
  },
  {
   "cell_type": "code",
   "execution_count": 62,
   "metadata": {
    "collapsed": false
   },
   "outputs": [
    {
     "data": {
      "text/html": [
       "<div>\n",
       "<table border=\"1\" class=\"dataframe\">\n",
       "  <thead>\n",
       "    <tr style=\"text-align: right;\">\n",
       "      <th></th>\n",
       "      <th>BoroCT2010</th>\n",
       "      <th>Total households</th>\n",
       "      <th>Total family households</th>\n",
       "      <th>Total non-family households</th>\n",
       "    </tr>\n",
       "  </thead>\n",
       "  <tbody>\n",
       "    <tr>\n",
       "      <th>2162</th>\n",
       "      <td>5030302</td>\n",
       "      <td>1938</td>\n",
       "      <td>1622</td>\n",
       "      <td>316</td>\n",
       "    </tr>\n",
       "    <tr>\n",
       "      <th>2163</th>\n",
       "      <td>5031901</td>\n",
       "      <td>1086</td>\n",
       "      <td>837</td>\n",
       "      <td>249</td>\n",
       "    </tr>\n",
       "    <tr>\n",
       "      <th>2164</th>\n",
       "      <td>5031902</td>\n",
       "      <td>1619</td>\n",
       "      <td>1171</td>\n",
       "      <td>448</td>\n",
       "    </tr>\n",
       "    <tr>\n",
       "      <th>2165</th>\n",
       "      <td>5032300</td>\n",
       "      <td>464</td>\n",
       "      <td>335</td>\n",
       "      <td>129</td>\n",
       "    </tr>\n",
       "    <tr>\n",
       "      <th>2166</th>\n",
       "      <td>5990100</td>\n",
       "      <td>0</td>\n",
       "      <td>0</td>\n",
       "      <td>0</td>\n",
       "    </tr>\n",
       "  </tbody>\n",
       "</table>\n",
       "</div>"
      ],
      "text/plain": [
       "     BoroCT2010  Total households  Total family households  \\\n",
       "2162    5030302              1938                     1622   \n",
       "2163    5031901              1086                      837   \n",
       "2164    5031902              1619                     1171   \n",
       "2165    5032300               464                      335   \n",
       "2166    5990100                 0                        0   \n",
       "\n",
       "      Total non-family households  \n",
       "2162                          316  \n",
       "2163                          249  \n",
       "2164                          448  \n",
       "2165                          129  \n",
       "2166                            0  "
      ]
     },
     "execution_count": 62,
     "metadata": {},
     "output_type": "execute_result"
    }
   ],
   "source": [
    "housetype.tail()"
   ]
  },
  {
   "cell_type": "code",
   "execution_count": 63,
   "metadata": {
    "collapsed": false
   },
   "outputs": [
    {
     "data": {
      "text/plain": [
       "Index([u'Id', u'Id2', u'Geography', u'Estimate; Median value (dollars)',\n",
       "       u'Margin of Error; Median value (dollars)'],\n",
       "      dtype='object')"
      ]
     },
     "execution_count": 63,
     "metadata": {},
     "output_type": "execute_result"
    }
   ],
   "source": [
    "housevalue = pd.read_csv('2014 Median House Value.csv', skiprows=[0])\n",
    "housevalue.columns"
   ]
  },
  {
   "cell_type": "code",
   "execution_count": 64,
   "metadata": {
    "collapsed": true
   },
   "outputs": [],
   "source": [
    "housevalue = housevalue[['Id2', 'Estimate; Median value (dollars)']]"
   ]
  },
  {
   "cell_type": "code",
   "execution_count": 65,
   "metadata": {
    "collapsed": true
   },
   "outputs": [],
   "source": [
    "housevalue.columns = ['BoroCT2010', 'Median House Value']"
   ]
  },
  {
   "cell_type": "code",
   "execution_count": 66,
   "metadata": {
    "collapsed": false
   },
   "outputs": [
    {
     "data": {
      "text/plain": [
       "2167"
      ]
     },
     "execution_count": 66,
     "metadata": {},
     "output_type": "execute_result"
    }
   ],
   "source": [
    "len(housevalue)"
   ]
  },
  {
   "cell_type": "code",
   "execution_count": 67,
   "metadata": {
    "collapsed": true
   },
   "outputs": [],
   "source": [
    "housevalue.replace(regex=True,inplace=True,to_replace=r'\\D',value=r'')"
   ]
  },
  {
   "cell_type": "code",
   "execution_count": 68,
   "metadata": {
    "collapsed": true
   },
   "outputs": [],
   "source": [
    "housevalue = housevalue.replace('', 'NaN')"
   ]
  },
  {
   "cell_type": "code",
   "execution_count": 69,
   "metadata": {
    "collapsed": true
   },
   "outputs": [],
   "source": [
    "housevalue = housevalue.astype(float)"
   ]
  },
  {
   "cell_type": "code",
   "execution_count": 70,
   "metadata": {
    "collapsed": true
   },
   "outputs": [],
   "source": [
    "housevalue['BoroCT2010'] = mhincome['BoroCT2010']"
   ]
  },
  {
   "cell_type": "code",
   "execution_count": 71,
   "metadata": {
    "collapsed": false
   },
   "outputs": [
    {
     "data": {
      "text/html": [
       "<div>\n",
       "<table border=\"1\" class=\"dataframe\">\n",
       "  <thead>\n",
       "    <tr style=\"text-align: right;\">\n",
       "      <th></th>\n",
       "      <th>BoroCT2010</th>\n",
       "      <th>Median House Value</th>\n",
       "    </tr>\n",
       "  </thead>\n",
       "  <tbody>\n",
       "    <tr>\n",
       "      <th>2162</th>\n",
       "      <td>5030302</td>\n",
       "      <td>321700</td>\n",
       "    </tr>\n",
       "    <tr>\n",
       "      <th>2163</th>\n",
       "      <td>5031901</td>\n",
       "      <td>344600</td>\n",
       "    </tr>\n",
       "    <tr>\n",
       "      <th>2164</th>\n",
       "      <td>5031902</td>\n",
       "      <td>312700</td>\n",
       "    </tr>\n",
       "    <tr>\n",
       "      <th>2165</th>\n",
       "      <td>5032300</td>\n",
       "      <td>186600</td>\n",
       "    </tr>\n",
       "    <tr>\n",
       "      <th>2166</th>\n",
       "      <td>5990100</td>\n",
       "      <td>NaN</td>\n",
       "    </tr>\n",
       "  </tbody>\n",
       "</table>\n",
       "</div>"
      ],
      "text/plain": [
       "     BoroCT2010  Median House Value\n",
       "2162    5030302              321700\n",
       "2163    5031901              344600\n",
       "2164    5031902              312700\n",
       "2165    5032300              186600\n",
       "2166    5990100                 NaN"
      ]
     },
     "execution_count": 71,
     "metadata": {},
     "output_type": "execute_result"
    }
   ],
   "source": [
    "housevalue.tail()"
   ]
  },
  {
   "cell_type": "code",
   "execution_count": 72,
   "metadata": {
    "collapsed": false
   },
   "outputs": [
    {
     "data": {
      "text/plain": [
       "Index([u'Id', u'Id2', u'Geography', u'Estimate; Total:',\n",
       "       u'Margin of Error; Total:', u'Estimate; Total: - Owner occupied',\n",
       "       u'Margin of Error; Total: - Owner occupied',\n",
       "       u'Estimate; Total: - Renter occupied',\n",
       "       u'Margin of Error; Total: - Renter occupied'],\n",
       "      dtype='object')"
      ]
     },
     "execution_count": 72,
     "metadata": {},
     "output_type": "execute_result"
    }
   ],
   "source": [
    "ownorrent = pd.read_csv('2014 Owner and renter units.csv', skiprows=[0])\n",
    "ownorrent.columns"
   ]
  },
  {
   "cell_type": "code",
   "execution_count": 73,
   "metadata": {
    "collapsed": true
   },
   "outputs": [],
   "source": [
    "ownorrent = ownorrent[['Id2', 'Estimate; Total:', 'Estimate; Total: - Owner occupied', 'Estimate; Total: - Renter occupied' ]]"
   ]
  },
  {
   "cell_type": "code",
   "execution_count": 74,
   "metadata": {
    "collapsed": true
   },
   "outputs": [],
   "source": [
    "ownorrent.columns = ['BoroCT2010', 'Total Hunits' , 'Owner Occupied' , 'Renter Occupied']"
   ]
  },
  {
   "cell_type": "code",
   "execution_count": 75,
   "metadata": {
    "collapsed": false
   },
   "outputs": [
    {
     "data": {
      "text/plain": [
       "2167"
      ]
     },
     "execution_count": 75,
     "metadata": {},
     "output_type": "execute_result"
    }
   ],
   "source": [
    "len(ownorrent)"
   ]
  },
  {
   "cell_type": "code",
   "execution_count": 76,
   "metadata": {
    "collapsed": true
   },
   "outputs": [],
   "source": [
    "ownorrent.replace(regex=True,inplace=True,to_replace=r'\\D',value=r'')"
   ]
  },
  {
   "cell_type": "code",
   "execution_count": 77,
   "metadata": {
    "collapsed": true
   },
   "outputs": [],
   "source": [
    "ownorrent = ownorrent.replace('', 'NaN')"
   ]
  },
  {
   "cell_type": "code",
   "execution_count": 78,
   "metadata": {
    "collapsed": true
   },
   "outputs": [],
   "source": [
    "ownorrent = ownorrent.astype(float)"
   ]
  },
  {
   "cell_type": "code",
   "execution_count": 79,
   "metadata": {
    "collapsed": true
   },
   "outputs": [],
   "source": [
    "ownorrent['BoroCT2010'] = mhincome['BoroCT2010']"
   ]
  },
  {
   "cell_type": "code",
   "execution_count": 80,
   "metadata": {
    "collapsed": false
   },
   "outputs": [
    {
     "data": {
      "text/html": [
       "<div>\n",
       "<table border=\"1\" class=\"dataframe\">\n",
       "  <thead>\n",
       "    <tr style=\"text-align: right;\">\n",
       "      <th></th>\n",
       "      <th>BoroCT2010</th>\n",
       "      <th>Total Hunits</th>\n",
       "      <th>Owner Occupied</th>\n",
       "      <th>Renter Occupied</th>\n",
       "    </tr>\n",
       "  </thead>\n",
       "  <tbody>\n",
       "    <tr>\n",
       "      <th>2162</th>\n",
       "      <td>5030302</td>\n",
       "      <td>6205</td>\n",
       "      <td>4159</td>\n",
       "      <td>2046</td>\n",
       "    </tr>\n",
       "    <tr>\n",
       "      <th>2163</th>\n",
       "      <td>5031901</td>\n",
       "      <td>2916</td>\n",
       "      <td>592</td>\n",
       "      <td>2324</td>\n",
       "    </tr>\n",
       "    <tr>\n",
       "      <th>2164</th>\n",
       "      <td>5031902</td>\n",
       "      <td>4514</td>\n",
       "      <td>2359</td>\n",
       "      <td>2155</td>\n",
       "    </tr>\n",
       "    <tr>\n",
       "      <th>2165</th>\n",
       "      <td>5032300</td>\n",
       "      <td>1106</td>\n",
       "      <td>853</td>\n",
       "      <td>253</td>\n",
       "    </tr>\n",
       "    <tr>\n",
       "      <th>2166</th>\n",
       "      <td>5990100</td>\n",
       "      <td>0</td>\n",
       "      <td>0</td>\n",
       "      <td>0</td>\n",
       "    </tr>\n",
       "  </tbody>\n",
       "</table>\n",
       "</div>"
      ],
      "text/plain": [
       "     BoroCT2010  Total Hunits  Owner Occupied  Renter Occupied\n",
       "2162    5030302          6205            4159             2046\n",
       "2163    5031901          2916             592             2324\n",
       "2164    5031902          4514            2359             2155\n",
       "2165    5032300          1106             853              253\n",
       "2166    5990100             0               0                0"
      ]
     },
     "execution_count": 80,
     "metadata": {},
     "output_type": "execute_result"
    }
   ],
   "source": [
    "ownorrent.tail()"
   ]
  },
  {
   "cell_type": "code",
   "execution_count": 81,
   "metadata": {
    "collapsed": false
   },
   "outputs": [
    {
     "data": {
      "text/plain": [
       "Index([u'Id', u'Id2', u'Geography', u'Estimate; Total',\n",
       "       u'Margin of Error; Total'],\n",
       "      dtype='object')"
      ]
     },
     "execution_count": 81,
     "metadata": {},
     "output_type": "execute_result"
    }
   ],
   "source": [
    "population = pd.read_csv('2014 population.csv', skiprows=[0])\n",
    "population.columns"
   ]
  },
  {
   "cell_type": "code",
   "execution_count": 82,
   "metadata": {
    "collapsed": true
   },
   "outputs": [],
   "source": [
    "population = population[['Id2', 'Estimate; Total']]"
   ]
  },
  {
   "cell_type": "code",
   "execution_count": 83,
   "metadata": {
    "collapsed": false
   },
   "outputs": [],
   "source": [
    "population.columns = ['BoroCT2010', 'Total Population']"
   ]
  },
  {
   "cell_type": "code",
   "execution_count": 84,
   "metadata": {
    "collapsed": true
   },
   "outputs": [],
   "source": [
    "population.replace(regex=True,inplace=True,to_replace=r'\\D',value=r'')"
   ]
  },
  {
   "cell_type": "code",
   "execution_count": 85,
   "metadata": {
    "collapsed": true
   },
   "outputs": [],
   "source": [
    "population = population.replace('', 'NaN')"
   ]
  },
  {
   "cell_type": "code",
   "execution_count": 86,
   "metadata": {
    "collapsed": true
   },
   "outputs": [],
   "source": [
    "population = population.astype(float)"
   ]
  },
  {
   "cell_type": "code",
   "execution_count": 87,
   "metadata": {
    "collapsed": true
   },
   "outputs": [],
   "source": [
    "population['BoroCT2010'] = mhincome['BoroCT2010']"
   ]
  },
  {
   "cell_type": "code",
   "execution_count": 88,
   "metadata": {
    "collapsed": false
   },
   "outputs": [
    {
     "data": {
      "text/html": [
       "<div>\n",
       "<table border=\"1\" class=\"dataframe\">\n",
       "  <thead>\n",
       "    <tr style=\"text-align: right;\">\n",
       "      <th></th>\n",
       "      <th>BoroCT2010</th>\n",
       "      <th>Total Population</th>\n",
       "    </tr>\n",
       "  </thead>\n",
       "  <tbody>\n",
       "    <tr>\n",
       "      <th>2162</th>\n",
       "      <td>5030302</td>\n",
       "      <td>6205</td>\n",
       "    </tr>\n",
       "    <tr>\n",
       "      <th>2163</th>\n",
       "      <td>5031901</td>\n",
       "      <td>2916</td>\n",
       "    </tr>\n",
       "    <tr>\n",
       "      <th>2164</th>\n",
       "      <td>5031902</td>\n",
       "      <td>4535</td>\n",
       "    </tr>\n",
       "    <tr>\n",
       "      <th>2165</th>\n",
       "      <td>5032300</td>\n",
       "      <td>1106</td>\n",
       "    </tr>\n",
       "    <tr>\n",
       "      <th>2166</th>\n",
       "      <td>5990100</td>\n",
       "      <td>0</td>\n",
       "    </tr>\n",
       "  </tbody>\n",
       "</table>\n",
       "</div>"
      ],
      "text/plain": [
       "     BoroCT2010  Total Population\n",
       "2162    5030302              6205\n",
       "2163    5031901              2916\n",
       "2164    5031902              4535\n",
       "2165    5032300              1106\n",
       "2166    5990100                 0"
      ]
     },
     "execution_count": 88,
     "metadata": {},
     "output_type": "execute_result"
    }
   ],
   "source": [
    "population.tail()"
   ]
  },
  {
   "cell_type": "code",
   "execution_count": 89,
   "metadata": {
    "collapsed": false
   },
   "outputs": [
    {
     "data": {
      "text/plain": [
       "Index([u'Id', u'Id2', u'Geography',\n",
       "       u'Estimate; SEX AND AGE - Total population',\n",
       "       u'Margin of Error; SEX AND AGE - Total population',\n",
       "       u'Percent; SEX AND AGE - Total population',\n",
       "       u'Percent Margin of Error; SEX AND AGE - Total population',\n",
       "       u'Estimate; SEX AND AGE - Total population - Male',\n",
       "       u'Margin of Error; SEX AND AGE - Total population - Male',\n",
       "       u'Percent; SEX AND AGE - Total population - Male', \n",
       "       ...\n",
       "       u'Percent; HISPANIC OR LATINO AND RACE - Total population - Not Hispanic or Latino - Two or more races - Two races including Some other race',\n",
       "       u'Percent Margin of Error; HISPANIC OR LATINO AND RACE - Total population - Not Hispanic or Latino - Two or more races - Two races including Some other race',\n",
       "       u'Estimate; HISPANIC OR LATINO AND RACE - Total population - Not Hispanic or Latino - Two or more races - Two races excluding Some other race, and Three or more races',\n",
       "       u'Margin of Error; HISPANIC OR LATINO AND RACE - Total population - Not Hispanic or Latino - Two or more races - Two races excluding Some other race, and Three or more races',\n",
       "       u'Percent; HISPANIC OR LATINO AND RACE - Total population - Not Hispanic or Latino - Two or more races - Two races excluding Some other race, and Three or more races',\n",
       "       u'Percent Margin of Error; HISPANIC OR LATINO AND RACE - Total population - Not Hispanic or Latino - Two or more races - Two races excluding Some other race, and Three or more races',\n",
       "       u'Estimate; HISPANIC OR LATINO AND RACE - Total housing units',\n",
       "       u'Margin of Error; HISPANIC OR LATINO AND RACE - Total housing units',\n",
       "       u'Percent; HISPANIC OR LATINO AND RACE - Total housing units',\n",
       "       u'Percent Margin of Error; HISPANIC OR LATINO AND RACE - Total housing units'],\n",
       "      dtype='object', length=327)"
      ]
     },
     "execution_count": 89,
     "metadata": {},
     "output_type": "execute_result"
    }
   ],
   "source": [
    "race = pd.read_csv('2014 Race and sex.csv', skiprows=[0])\n",
    "race.columns"
   ]
  },
  {
   "cell_type": "code",
   "execution_count": 90,
   "metadata": {
    "collapsed": false
   },
   "outputs": [],
   "source": [
    "race = race[['Id2', 'Percent; RACE - One race - White', 'Percent; RACE - One race - Black or African American']]"
   ]
  },
  {
   "cell_type": "code",
   "execution_count": 91,
   "metadata": {
    "collapsed": true
   },
   "outputs": [],
   "source": [
    "race.columns = ['BoroCT2010', 'White percentage', 'Black percentage']"
   ]
  },
  {
   "cell_type": "code",
   "execution_count": 92,
   "metadata": {
    "collapsed": true
   },
   "outputs": [],
   "source": [
    "race.replace(regex=True,inplace=True,to_replace=r'\\D',value=r'')"
   ]
  },
  {
   "cell_type": "code",
   "execution_count": 93,
   "metadata": {
    "collapsed": true
   },
   "outputs": [],
   "source": [
    "race = race.replace('', 'NaN')"
   ]
  },
  {
   "cell_type": "code",
   "execution_count": 94,
   "metadata": {
    "collapsed": true
   },
   "outputs": [],
   "source": [
    "race = race.astype(float)/100"
   ]
  },
  {
   "cell_type": "code",
   "execution_count": 95,
   "metadata": {
    "collapsed": false
   },
   "outputs": [
    {
     "data": {
      "text/plain": [
       "2167"
      ]
     },
     "execution_count": 95,
     "metadata": {},
     "output_type": "execute_result"
    }
   ],
   "source": [
    "len(race)"
   ]
  },
  {
   "cell_type": "code",
   "execution_count": 96,
   "metadata": {
    "collapsed": true
   },
   "outputs": [],
   "source": [
    "race['BoroCT2010'] = mhincome['BoroCT2010']"
   ]
  },
  {
   "cell_type": "code",
   "execution_count": 97,
   "metadata": {
    "collapsed": false
   },
   "outputs": [
    {
     "data": {
      "text/html": [
       "<div>\n",
       "<table border=\"1\" class=\"dataframe\">\n",
       "  <thead>\n",
       "    <tr style=\"text-align: right;\">\n",
       "      <th></th>\n",
       "      <th>BoroCT2010</th>\n",
       "      <th>White percentage</th>\n",
       "      <th>Black percentage</th>\n",
       "    </tr>\n",
       "  </thead>\n",
       "  <tbody>\n",
       "    <tr>\n",
       "      <th>2162</th>\n",
       "      <td>5030302</td>\n",
       "      <td>4.60</td>\n",
       "      <td>2.54</td>\n",
       "    </tr>\n",
       "    <tr>\n",
       "      <th>2163</th>\n",
       "      <td>5031901</td>\n",
       "      <td>2.39</td>\n",
       "      <td>6.28</td>\n",
       "    </tr>\n",
       "    <tr>\n",
       "      <th>2164</th>\n",
       "      <td>5031902</td>\n",
       "      <td>2.52</td>\n",
       "      <td>6.70</td>\n",
       "    </tr>\n",
       "    <tr>\n",
       "      <th>2165</th>\n",
       "      <td>5032300</td>\n",
       "      <td>5.95</td>\n",
       "      <td>2.41</td>\n",
       "    </tr>\n",
       "    <tr>\n",
       "      <th>2166</th>\n",
       "      <td>5990100</td>\n",
       "      <td>NaN</td>\n",
       "      <td>NaN</td>\n",
       "    </tr>\n",
       "  </tbody>\n",
       "</table>\n",
       "</div>"
      ],
      "text/plain": [
       "     BoroCT2010  White percentage  Black percentage\n",
       "2162    5030302              4.60              2.54\n",
       "2163    5031901              2.39              6.28\n",
       "2164    5031902              2.52              6.70\n",
       "2165    5032300              5.95              2.41\n",
       "2166    5990100               NaN               NaN"
      ]
     },
     "execution_count": 97,
     "metadata": {},
     "output_type": "execute_result"
    }
   ],
   "source": [
    "race.tail()"
   ]
  },
  {
   "cell_type": "code",
   "execution_count": 98,
   "metadata": {
    "collapsed": false
   },
   "outputs": [],
   "source": [
    "tcomplaints = pd.read_csv('2014 total complaints by CT.csv')\n",
    "tcomplaints.columns = ['BoroCT2010', '311 calls']\n",
    "tcomplaints.BoroCT2010 = tcomplaints.BoroCT2010.astype(str)"
   ]
  },
  {
   "cell_type": "code",
   "execution_count": 100,
   "metadata": {
    "collapsed": false
   },
   "outputs": [],
   "source": [
    "merged = pd.merge(tcomplaints, mhincome, on='BoroCT2010')"
   ]
  },
  {
   "cell_type": "code",
   "execution_count": 101,
   "metadata": {
    "collapsed": false
   },
   "outputs": [],
   "source": [
    "merged = pd.merge(merged, carowner, on='BoroCT2010')"
   ]
  },
  {
   "cell_type": "code",
   "execution_count": 102,
   "metadata": {
    "collapsed": false
   },
   "outputs": [],
   "source": [
    "merged = pd.merge(merged, education, on='BoroCT2010')"
   ]
  },
  {
   "cell_type": "code",
   "execution_count": 103,
   "metadata": {
    "collapsed": false
   },
   "outputs": [],
   "source": [
    "merged = pd.merge(merged, age , on='BoroCT2010')"
   ]
  },
  {
   "cell_type": "code",
   "execution_count": 104,
   "metadata": {
    "collapsed": false
   },
   "outputs": [],
   "source": [
    "merged = pd.merge(merged, housetype, on='BoroCT2010')"
   ]
  },
  {
   "cell_type": "code",
   "execution_count": 105,
   "metadata": {
    "collapsed": false
   },
   "outputs": [],
   "source": [
    "merged = pd.merge(merged, housevalue, on='BoroCT2010')"
   ]
  },
  {
   "cell_type": "code",
   "execution_count": 106,
   "metadata": {
    "collapsed": false
   },
   "outputs": [],
   "source": [
    "merged = pd.merge(merged, ownorrent, on='BoroCT2010')"
   ]
  },
  {
   "cell_type": "code",
   "execution_count": 107,
   "metadata": {
    "collapsed": false
   },
   "outputs": [],
   "source": [
    "merged = pd.merge(merged, population, on='BoroCT2010')"
   ]
  },
  {
   "cell_type": "code",
   "execution_count": 108,
   "metadata": {
    "collapsed": false
   },
   "outputs": [],
   "source": [
    "merged = pd.merge(merged, race, on='BoroCT2010')"
   ]
  },
  {
   "cell_type": "code",
   "execution_count": 110,
   "metadata": {
    "collapsed": false
   },
   "outputs": [
    {
     "data": {
      "text/html": [
       "<div>\n",
       "<table border=\"1\" class=\"dataframe\">\n",
       "  <thead>\n",
       "    <tr style=\"text-align: right;\">\n",
       "      <th></th>\n",
       "      <th>BoroCT2010</th>\n",
       "      <th>311 calls</th>\n",
       "      <th>Total Households</th>\n",
       "      <th>Median Income</th>\n",
       "      <th>Total cars</th>\n",
       "      <th>Total cars owners</th>\n",
       "      <th>Total cars renters</th>\n",
       "      <th>Total</th>\n",
       "      <th>Total High School</th>\n",
       "      <th>Total bachelors</th>\n",
       "      <th>...</th>\n",
       "      <th>Total households</th>\n",
       "      <th>Total family households</th>\n",
       "      <th>Total non-family households</th>\n",
       "      <th>Median House Value</th>\n",
       "      <th>Total Hunits</th>\n",
       "      <th>Owner Occupied</th>\n",
       "      <th>Renter Occupied</th>\n",
       "      <th>Total Population</th>\n",
       "      <th>White percentage</th>\n",
       "      <th>Black percentage</th>\n",
       "    </tr>\n",
       "  </thead>\n",
       "  <tbody>\n",
       "    <tr>\n",
       "      <th>0</th>\n",
       "      <td>1000202</td>\n",
       "      <td>580</td>\n",
       "      <td>3447</td>\n",
       "      <td>29418</td>\n",
       "      <td>744</td>\n",
       "      <td>744</td>\n",
       "      <td>744</td>\n",
       "      <td>6073</td>\n",
       "      <td>1481</td>\n",
       "      <td>959</td>\n",
       "      <td>...</td>\n",
       "      <td>3447</td>\n",
       "      <td>2025</td>\n",
       "      <td>1422</td>\n",
       "      <td>449400</td>\n",
       "      <td>8084</td>\n",
       "      <td>1701</td>\n",
       "      <td>6383</td>\n",
       "      <td>8308</td>\n",
       "      <td>4.41</td>\n",
       "      <td>1.15</td>\n",
       "    </tr>\n",
       "    <tr>\n",
       "      <th>1</th>\n",
       "      <td>1000500</td>\n",
       "      <td>8</td>\n",
       "      <td>0</td>\n",
       "      <td>NaN</td>\n",
       "      <td>NaN</td>\n",
       "      <td>NaN</td>\n",
       "      <td>NaN</td>\n",
       "      <td>0</td>\n",
       "      <td>0</td>\n",
       "      <td>0</td>\n",
       "      <td>...</td>\n",
       "      <td>0</td>\n",
       "      <td>0</td>\n",
       "      <td>0</td>\n",
       "      <td>NaN</td>\n",
       "      <td>0</td>\n",
       "      <td>0</td>\n",
       "      <td>0</td>\n",
       "      <td>0</td>\n",
       "      <td>NaN</td>\n",
       "      <td>NaN</td>\n",
       "    </tr>\n",
       "    <tr>\n",
       "      <th>2</th>\n",
       "      <td>1000600</td>\n",
       "      <td>1151</td>\n",
       "      <td>3954</td>\n",
       "      <td>18944</td>\n",
       "      <td>768</td>\n",
       "      <td>768</td>\n",
       "      <td>768</td>\n",
       "      <td>8360</td>\n",
       "      <td>1177</td>\n",
       "      <td>965</td>\n",
       "      <td>...</td>\n",
       "      <td>3954</td>\n",
       "      <td>2500</td>\n",
       "      <td>1454</td>\n",
       "      <td>519100</td>\n",
       "      <td>11149</td>\n",
       "      <td>332</td>\n",
       "      <td>10817</td>\n",
       "      <td>11354</td>\n",
       "      <td>1.25</td>\n",
       "      <td>0.91</td>\n",
       "    </tr>\n",
       "    <tr>\n",
       "      <th>3</th>\n",
       "      <td>1000700</td>\n",
       "      <td>1633</td>\n",
       "      <td>4610</td>\n",
       "      <td>114519</td>\n",
       "      <td>581</td>\n",
       "      <td>581</td>\n",
       "      <td>581</td>\n",
       "      <td>6758</td>\n",
       "      <td>103</td>\n",
       "      <td>3175</td>\n",
       "      <td>...</td>\n",
       "      <td>4610</td>\n",
       "      <td>1231</td>\n",
       "      <td>3379</td>\n",
       "      <td>911000</td>\n",
       "      <td>8582</td>\n",
       "      <td>1730</td>\n",
       "      <td>6852</td>\n",
       "      <td>8598</td>\n",
       "      <td>7.24</td>\n",
       "      <td>0.33</td>\n",
       "    </tr>\n",
       "    <tr>\n",
       "      <th>4</th>\n",
       "      <td>1000800</td>\n",
       "      <td>1105</td>\n",
       "      <td>3585</td>\n",
       "      <td>24366</td>\n",
       "      <td>685</td>\n",
       "      <td>685</td>\n",
       "      <td>685</td>\n",
       "      <td>7346</td>\n",
       "      <td>1165</td>\n",
       "      <td>861</td>\n",
       "      <td>...</td>\n",
       "      <td>3585</td>\n",
       "      <td>2411</td>\n",
       "      <td>1174</td>\n",
       "      <td>480600</td>\n",
       "      <td>9319</td>\n",
       "      <td>159</td>\n",
       "      <td>9160</td>\n",
       "      <td>9333</td>\n",
       "      <td>0.91</td>\n",
       "      <td>0.09</td>\n",
       "    </tr>\n",
       "  </tbody>\n",
       "</table>\n",
       "<p>5 rows × 22 columns</p>\n",
       "</div>"
      ],
      "text/plain": [
       "  BoroCT2010  311 calls  Total Households  Median Income  Total cars  \\\n",
       "0    1000202        580              3447          29418         744   \n",
       "1    1000500          8                 0            NaN         NaN   \n",
       "2    1000600       1151              3954          18944         768   \n",
       "3    1000700       1633              4610         114519         581   \n",
       "4    1000800       1105              3585          24366         685   \n",
       "\n",
       "   Total cars owners  Total cars renters  Total  Total High School  \\\n",
       "0                744                 744   6073               1481   \n",
       "1                NaN                 NaN      0                  0   \n",
       "2                768                 768   8360               1177   \n",
       "3                581                 581   6758                103   \n",
       "4                685                 685   7346               1165   \n",
       "\n",
       "   Total bachelors        ...         Total households  \\\n",
       "0              959        ...                     3447   \n",
       "1                0        ...                        0   \n",
       "2              965        ...                     3954   \n",
       "3             3175        ...                     4610   \n",
       "4              861        ...                     3585   \n",
       "\n",
       "   Total family households  Total non-family households  Median House Value  \\\n",
       "0                     2025                         1422              449400   \n",
       "1                        0                            0                 NaN   \n",
       "2                     2500                         1454              519100   \n",
       "3                     1231                         3379              911000   \n",
       "4                     2411                         1174              480600   \n",
       "\n",
       "   Total Hunits  Owner Occupied  Renter Occupied  Total Population  \\\n",
       "0          8084            1701             6383              8308   \n",
       "1             0               0                0                 0   \n",
       "2         11149             332            10817             11354   \n",
       "3          8582            1730             6852              8598   \n",
       "4          9319             159             9160              9333   \n",
       "\n",
       "   White percentage  Black percentage  \n",
       "0              4.41              1.15  \n",
       "1               NaN               NaN  \n",
       "2              1.25              0.91  \n",
       "3              7.24              0.33  \n",
       "4              0.91              0.09  \n",
       "\n",
       "[5 rows x 22 columns]"
      ]
     },
     "execution_count": 110,
     "metadata": {},
     "output_type": "execute_result"
    }
   ],
   "source": [
    "merged.head()"
   ]
  },
  {
   "cell_type": "code",
   "execution_count": 111,
   "metadata": {
    "collapsed": true
   },
   "outputs": [],
   "source": [
    "merged.to_csv('Demographic and 311 calls merged.csv')"
   ]
  },
  {
   "cell_type": "code",
   "execution_count": null,
   "metadata": {
    "collapsed": true
   },
   "outputs": [],
   "source": []
  }
 ],
 "metadata": {
  "kernelspec": {
   "display_name": "Python 2",
   "language": "python",
   "name": "python2"
  },
  "language_info": {
   "codemirror_mode": {
    "name": "ipython",
    "version": 2
   },
   "file_extension": ".py",
   "mimetype": "text/x-python",
   "name": "python",
   "nbconvert_exporter": "python",
   "pygments_lexer": "ipython2",
   "version": "2.7.10"
  }
 },
 "nbformat": 4,
 "nbformat_minor": 0
}
