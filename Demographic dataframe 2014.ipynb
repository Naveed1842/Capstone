{
 "cells": [
  {
   "cell_type": "code",
   "execution_count": 1,
   "metadata": {
    "collapsed": false
   },
   "outputs": [],
   "source": [
    "import pandas as pd\n",
    "import geopandas as gpd\n",
    "import numpy as np\n",
    "import matplotlib\n",
    "%matplotlib inline\n",
    "import matplotlib.pyplot as plt\n",
    "from geopandas.tools import sjoin\n",
    "from shapely.geometry import Point, mapping,shape"
   ]
  },
  {
   "cell_type": "code",
   "execution_count": 2,
   "metadata": {
    "collapsed": true
   },
   "outputs": [],
   "source": [
    "#Importing the median household income dataframe\n",
    "mhincome = pd.read_csv('2014 Median Household Income.csv', skiprows=[0])"
   ]
  },
  {
   "cell_type": "code",
   "execution_count": 3,
   "metadata": {
    "collapsed": false
   },
   "outputs": [
    {
     "data": {
      "text/plain": [
       "Index([u'Id', u'Id2', u'Geography', u'Total; Estimate; Households',\n",
       "       u'Total; Margin of Error; Households',\n",
       "       u'Median income (dollars); Estimate; Households',\n",
       "       u'Median income (dollars); Margin of Error; Households',\n",
       "       u'Total; Estimate; Households - One race-- - White',\n",
       "       u'Total; Margin of Error; Households - One race-- - White',\n",
       "       u'Median income (dollars); Estimate; Households - One race-- - White',\n",
       "       ...\n",
       "       u'Median income (dollars); Estimate; PERCENT IMPUTED - Household income in the past 12 months',\n",
       "       u'Median income (dollars); Margin of Error; PERCENT IMPUTED - Household income in the past 12 months',\n",
       "       u'Total; Estimate; PERCENT IMPUTED - Family income in the past 12 months',\n",
       "       u'Total; Margin of Error; PERCENT IMPUTED - Family income in the past 12 months',\n",
       "       u'Median income (dollars); Estimate; PERCENT IMPUTED - Family income in the past 12 months',\n",
       "       u'Median income (dollars); Margin of Error; PERCENT IMPUTED - Family income in the past 12 months',\n",
       "       u'Total; Estimate; PERCENT IMPUTED - Nonfamily income in the past 12 months',\n",
       "       u'Total; Margin of Error; PERCENT IMPUTED - Nonfamily income in the past 12 months',\n",
       "       u'Median income (dollars); Estimate; PERCENT IMPUTED - Nonfamily income in the past 12 months',\n",
       "       u'Median income (dollars); Margin of Error; PERCENT IMPUTED - Nonfamily income in the past 12 months'],\n",
       "      dtype='object', length=123)"
      ]
     },
     "execution_count": 3,
     "metadata": {},
     "output_type": "execute_result"
    }
   ],
   "source": [
    "mhincome.columns"
   ]
  },
  {
   "cell_type": "code",
   "execution_count": 4,
   "metadata": {
    "collapsed": false
   },
   "outputs": [
    {
     "data": {
      "text/plain": [
       "2167"
      ]
     },
     "execution_count": 4,
     "metadata": {},
     "output_type": "execute_result"
    }
   ],
   "source": [
    "len(mhincome)"
   ]
  },
  {
   "cell_type": "code",
   "execution_count": 5,
   "metadata": {
    "collapsed": true
   },
   "outputs": [],
   "source": [
    "mhincome = mhincome[['Id2','Total; Estimate; Households', 'Median income (dollars); Estimate; Households']]"
   ]
  },
  {
   "cell_type": "code",
   "execution_count": 6,
   "metadata": {
    "collapsed": false
   },
   "outputs": [],
   "source": [
    "mhincome.columns = [['BoroCT2010', 'Total Households', 'Median Income']]"
   ]
  },
  {
   "cell_type": "code",
   "execution_count": 7,
   "metadata": {
    "collapsed": false
   },
   "outputs": [],
   "source": [
    "#The next lines (bewteen 7 and 17) are used for procesing the census ttacys numbers\n",
    "#to match the shapefile numbers from NYCBytes\n",
    "mhincome['BoroCT2010'] = mhincome['BoroCT2010'].map(lambda x: str(x)[3:])"
   ]
  },
  {
   "cell_type": "code",
   "execution_count": 8,
   "metadata": {
    "collapsed": true
   },
   "outputs": [],
   "source": [
    "mhincome['Borocode'] = mhincome['BoroCT2010'].str[:2]"
   ]
  },
  {
   "cell_type": "code",
   "execution_count": 9,
   "metadata": {
    "collapsed": true
   },
   "outputs": [],
   "source": [
    "mhincome['Median Income'].replace(regex=True,inplace=True,to_replace=r'\\D',value=r'')"
   ]
  },
  {
   "cell_type": "code",
   "execution_count": 10,
   "metadata": {
    "collapsed": false
   },
   "outputs": [],
   "source": [
    "mhincome['Median Income'] = mhincome['Median Income'].replace('', 'NaN')"
   ]
  },
  {
   "cell_type": "code",
   "execution_count": 11,
   "metadata": {
    "collapsed": false
   },
   "outputs": [],
   "source": [
    "mhincome['Median Income'] = mhincome['Median Income'].astype(float)"
   ]
  },
  {
   "cell_type": "code",
   "execution_count": 12,
   "metadata": {
    "collapsed": true
   },
   "outputs": [],
   "source": [
    "mhincome['Total Households'] = mhincome['Total Households'].astype(float)"
   ]
  },
  {
   "cell_type": "code",
   "execution_count": 13,
   "metadata": {
    "collapsed": false
   },
   "outputs": [],
   "source": [
    "bcorr = {'05': '2', '47': '3', '61' : '1', '81': '4', '85' : '5'}"
   ]
  },
  {
   "cell_type": "code",
   "execution_count": 14,
   "metadata": {
    "collapsed": false
   },
   "outputs": [],
   "source": [
    "mhincome['Borocode2'] = mhincome['Borocode'].map(bcorr)"
   ]
  },
  {
   "cell_type": "code",
   "execution_count": 15,
   "metadata": {
    "collapsed": true
   },
   "outputs": [],
   "source": [
    "mhincome['BoroCT2010'] = mhincome['BoroCT2010'].map(lambda x: str(x)[2:])"
   ]
  },
  {
   "cell_type": "code",
   "execution_count": 16,
   "metadata": {
    "collapsed": false
   },
   "outputs": [],
   "source": [
    "mhincome['BoroCT2010'] = mhincome.Borocode2 + mhincome.BoroCT2010.astype(str)"
   ]
  },
  {
   "cell_type": "code",
   "execution_count": 17,
   "metadata": {
    "collapsed": false
   },
   "outputs": [],
   "source": [
    "mhincome = mhincome[['BoroCT2010', 'Total Households', 'Median Income']]"
   ]
  },
  {
   "cell_type": "code",
   "execution_count": 18,
   "metadata": {
    "collapsed": false
   },
   "outputs": [
    {
     "data": {
      "text/html": [
       "<div>\n",
       "<table border=\"1\" class=\"dataframe\">\n",
       "  <thead>\n",
       "    <tr style=\"text-align: right;\">\n",
       "      <th></th>\n",
       "      <th>BoroCT2010</th>\n",
       "      <th>Total Households</th>\n",
       "      <th>Median Income</th>\n",
       "    </tr>\n",
       "  </thead>\n",
       "  <tbody>\n",
       "    <tr>\n",
       "      <th>2162</th>\n",
       "      <td>5030302</td>\n",
       "      <td>1938.0</td>\n",
       "      <td>80887.0</td>\n",
       "    </tr>\n",
       "    <tr>\n",
       "      <th>2163</th>\n",
       "      <td>5031901</td>\n",
       "      <td>1086.0</td>\n",
       "      <td>27031.0</td>\n",
       "    </tr>\n",
       "    <tr>\n",
       "      <th>2164</th>\n",
       "      <td>5031902</td>\n",
       "      <td>1619.0</td>\n",
       "      <td>31750.0</td>\n",
       "    </tr>\n",
       "    <tr>\n",
       "      <th>2165</th>\n",
       "      <td>5032300</td>\n",
       "      <td>464.0</td>\n",
       "      <td>58804.0</td>\n",
       "    </tr>\n",
       "    <tr>\n",
       "      <th>2166</th>\n",
       "      <td>5990100</td>\n",
       "      <td>0.0</td>\n",
       "      <td>NaN</td>\n",
       "    </tr>\n",
       "  </tbody>\n",
       "</table>\n",
       "</div>"
      ],
      "text/plain": [
       "     BoroCT2010  Total Households  Median Income\n",
       "2162    5030302            1938.0        80887.0\n",
       "2163    5031901            1086.0        27031.0\n",
       "2164    5031902            1619.0        31750.0\n",
       "2165    5032300             464.0        58804.0\n",
       "2166    5990100               0.0            NaN"
      ]
     },
     "execution_count": 18,
     "metadata": {},
     "output_type": "execute_result"
    }
   ],
   "source": [
    "mhincome.tail()"
   ]
  },
  {
   "cell_type": "code",
   "execution_count": 19,
   "metadata": {
    "collapsed": false,
    "scrolled": true
   },
   "outputs": [],
   "source": [
    "#Importing the car ownership data\n",
    "carowner = pd.read_csv('2014 Car Ownership.csv', skiprows=[0])"
   ]
  },
  {
   "cell_type": "code",
   "execution_count": 20,
   "metadata": {
    "collapsed": false
   },
   "outputs": [
    {
     "data": {
      "text/plain": [
       "Index([u'Id', u'Id2', u'Geography',\n",
       "       u'Estimate; Aggregate number of vehicles available:',\n",
       "       u'Margin of Error; Aggregate number of vehicles available:',\n",
       "       u'Estimate; Aggregate number of vehicles available: - Owner occupied',\n",
       "       u'Margin of Error; Aggregate number of vehicles available: - Owner occupied',\n",
       "       u'Estimate; Aggregate number of vehicles available: - Renter occupied',\n",
       "       u'Margin of Error; Aggregate number of vehicles available: - Renter occupied'],\n",
       "      dtype='object')"
      ]
     },
     "execution_count": 20,
     "metadata": {},
     "output_type": "execute_result"
    }
   ],
   "source": [
    "carowner.columns"
   ]
  },
  {
   "cell_type": "code",
   "execution_count": 21,
   "metadata": {
    "collapsed": false
   },
   "outputs": [],
   "source": [
    "carowner = carowner[['Id2','Estimate; Aggregate number of vehicles available:']]"
   ]
  },
  {
   "cell_type": "code",
   "execution_count": 22,
   "metadata": {
    "collapsed": false
   },
   "outputs": [],
   "source": [
    "carowner.columns = [['BoroCT2010', 'Total cars']]"
   ]
  },
  {
   "cell_type": "code",
   "execution_count": 23,
   "metadata": {
    "collapsed": false
   },
   "outputs": [],
   "source": [
    "# Same procedure to match the census tracts numbers from census to the NYCbytes\n",
    "#numbers\n",
    "carowner['BoroCT2010'] = carowner['BoroCT2010'].map(lambda x: str(x)[3:])"
   ]
  },
  {
   "cell_type": "code",
   "execution_count": 24,
   "metadata": {
    "collapsed": false
   },
   "outputs": [],
   "source": [
    "carowner['Borocode'] = carowner['BoroCT2010'].str[:2]"
   ]
  },
  {
   "cell_type": "code",
   "execution_count": 25,
   "metadata": {
    "collapsed": true
   },
   "outputs": [],
   "source": [
    "carowner.replace(regex=True,inplace=True,to_replace=r'\\D',value=r'')"
   ]
  },
  {
   "cell_type": "code",
   "execution_count": 26,
   "metadata": {
    "collapsed": true
   },
   "outputs": [],
   "source": [
    "carowner = carowner.replace('', 'NaN')"
   ]
  },
  {
   "cell_type": "code",
   "execution_count": 27,
   "metadata": {
    "collapsed": true
   },
   "outputs": [],
   "source": [
    "carowner['Borocode2'] = carowner['Borocode'].map(bcorr)"
   ]
  },
  {
   "cell_type": "code",
   "execution_count": 28,
   "metadata": {
    "collapsed": false
   },
   "outputs": [
    {
     "data": {
      "text/html": [
       "<div>\n",
       "<table border=\"1\" class=\"dataframe\">\n",
       "  <thead>\n",
       "    <tr style=\"text-align: right;\">\n",
       "      <th></th>\n",
       "      <th>BoroCT2010</th>\n",
       "      <th>Total cars</th>\n",
       "      <th>Borocode</th>\n",
       "      <th>Borocode2</th>\n",
       "    </tr>\n",
       "  </thead>\n",
       "  <tbody>\n",
       "    <tr>\n",
       "      <th>0</th>\n",
       "      <td>05000100</td>\n",
       "      <td>NaN</td>\n",
       "      <td>05</td>\n",
       "      <td>2</td>\n",
       "    </tr>\n",
       "    <tr>\n",
       "      <th>1</th>\n",
       "      <td>05000200</td>\n",
       "      <td>1709</td>\n",
       "      <td>05</td>\n",
       "      <td>2</td>\n",
       "    </tr>\n",
       "    <tr>\n",
       "      <th>2</th>\n",
       "      <td>05000400</td>\n",
       "      <td>1872</td>\n",
       "      <td>05</td>\n",
       "      <td>2</td>\n",
       "    </tr>\n",
       "    <tr>\n",
       "      <th>3</th>\n",
       "      <td>05001600</td>\n",
       "      <td>1294</td>\n",
       "      <td>05</td>\n",
       "      <td>2</td>\n",
       "    </tr>\n",
       "    <tr>\n",
       "      <th>4</th>\n",
       "      <td>05001900</td>\n",
       "      <td>354</td>\n",
       "      <td>05</td>\n",
       "      <td>2</td>\n",
       "    </tr>\n",
       "  </tbody>\n",
       "</table>\n",
       "</div>"
      ],
      "text/plain": [
       "  BoroCT2010 Total cars Borocode Borocode2\n",
       "0   05000100        NaN       05         2\n",
       "1   05000200       1709       05         2\n",
       "2   05000400       1872       05         2\n",
       "3   05001600       1294       05         2\n",
       "4   05001900        354       05         2"
      ]
     },
     "execution_count": 28,
     "metadata": {},
     "output_type": "execute_result"
    }
   ],
   "source": [
    "carowner.head()"
   ]
  },
  {
   "cell_type": "code",
   "execution_count": 29,
   "metadata": {
    "collapsed": true
   },
   "outputs": [],
   "source": [
    "carowner['BoroCT2010'] = carowner['BoroCT2010'].map(lambda x: str(x)[2:])"
   ]
  },
  {
   "cell_type": "code",
   "execution_count": 30,
   "metadata": {
    "collapsed": false
   },
   "outputs": [],
   "source": [
    "carowner['BoroCT2010'] = carowner.Borocode2.astype(str) + carowner.BoroCT2010.astype(str)"
   ]
  },
  {
   "cell_type": "code",
   "execution_count": 31,
   "metadata": {
    "collapsed": false
   },
   "outputs": [],
   "source": [
    "carowner = carowner[['BoroCT2010', 'Total cars']]"
   ]
  },
  {
   "cell_type": "code",
   "execution_count": 32,
   "metadata": {
    "collapsed": false
   },
   "outputs": [
    {
     "data": {
      "text/plain": [
       "2083"
      ]
     },
     "execution_count": 32,
     "metadata": {},
     "output_type": "execute_result"
    }
   ],
   "source": [
    "len(carowner)"
   ]
  },
  {
   "cell_type": "code",
   "execution_count": 33,
   "metadata": {
    "collapsed": false
   },
   "outputs": [],
   "source": [
    "carowner['Total cars'] = carowner['Total cars'].astype(float)"
   ]
  },
  {
   "cell_type": "code",
   "execution_count": 34,
   "metadata": {
    "collapsed": false
   },
   "outputs": [
    {
     "data": {
      "text/html": [
       "<div>\n",
       "<table border=\"1\" class=\"dataframe\">\n",
       "  <thead>\n",
       "    <tr style=\"text-align: right;\">\n",
       "      <th></th>\n",
       "      <th>BoroCT2010</th>\n",
       "      <th>Total cars</th>\n",
       "    </tr>\n",
       "  </thead>\n",
       "  <tbody>\n",
       "    <tr>\n",
       "      <th>2078</th>\n",
       "      <td>5030302</td>\n",
       "      <td>2860.0</td>\n",
       "    </tr>\n",
       "    <tr>\n",
       "      <th>2079</th>\n",
       "      <td>5031901</td>\n",
       "      <td>691.0</td>\n",
       "    </tr>\n",
       "    <tr>\n",
       "      <th>2080</th>\n",
       "      <td>5031902</td>\n",
       "      <td>1396.0</td>\n",
       "    </tr>\n",
       "    <tr>\n",
       "      <th>2081</th>\n",
       "      <td>5032300</td>\n",
       "      <td>578.0</td>\n",
       "    </tr>\n",
       "    <tr>\n",
       "      <th>2082</th>\n",
       "      <td>5990100</td>\n",
       "      <td>NaN</td>\n",
       "    </tr>\n",
       "  </tbody>\n",
       "</table>\n",
       "</div>"
      ],
      "text/plain": [
       "     BoroCT2010  Total cars\n",
       "2078    5030302      2860.0\n",
       "2079    5031901       691.0\n",
       "2080    5031902      1396.0\n",
       "2081    5032300       578.0\n",
       "2082    5990100         NaN"
      ]
     },
     "execution_count": 34,
     "metadata": {},
     "output_type": "execute_result"
    }
   ],
   "source": [
    "carowner.tail()"
   ]
  },
  {
   "cell_type": "code",
   "execution_count": 35,
   "metadata": {
    "collapsed": true
   },
   "outputs": [],
   "source": [
    "#Importing education level data\n",
    "education = pd.read_csv('2014 Education level.csv', skiprows=[0])"
   ]
  },
  {
   "cell_type": "code",
   "execution_count": 36,
   "metadata": {
    "collapsed": false
   },
   "outputs": [
    {
     "data": {
      "text/plain": [
       "Index([u'Id', u'Id2', u'Geography', u'Estimate; Total:',\n",
       "       u'Margin of Error; Total:',\n",
       "       u'Estimate; Total: - No schooling completed',\n",
       "       u'Margin of Error; Total: - No schooling completed',\n",
       "       u'Estimate; Total: - Nursery school',\n",
       "       u'Margin of Error; Total: - Nursery school',\n",
       "       u'Estimate; Total: - Kindergarten',\n",
       "       u'Margin of Error; Total: - Kindergarten',\n",
       "       u'Estimate; Total: - 1st grade', u'Margin of Error; Total: - 1st grade',\n",
       "       u'Estimate; Total: - 2nd grade', u'Margin of Error; Total: - 2nd grade',\n",
       "       u'Estimate; Total: - 3rd grade', u'Margin of Error; Total: - 3rd grade',\n",
       "       u'Estimate; Total: - 4th grade', u'Margin of Error; Total: - 4th grade',\n",
       "       u'Estimate; Total: - 5th grade', u'Margin of Error; Total: - 5th grade',\n",
       "       u'Estimate; Total: - 6th grade', u'Margin of Error; Total: - 6th grade',\n",
       "       u'Estimate; Total: - 7th grade', u'Margin of Error; Total: - 7th grade',\n",
       "       u'Estimate; Total: - 8th grade', u'Margin of Error; Total: - 8th grade',\n",
       "       u'Estimate; Total: - 9th grade', u'Margin of Error; Total: - 9th grade',\n",
       "       u'Estimate; Total: - 10th grade',\n",
       "       u'Margin of Error; Total: - 10th grade',\n",
       "       u'Estimate; Total: - 11th grade',\n",
       "       u'Margin of Error; Total: - 11th grade',\n",
       "       u'Estimate; Total: - 12th grade, no diploma',\n",
       "       u'Margin of Error; Total: - 12th grade, no diploma',\n",
       "       u'Estimate; Total: - Regular high school diploma',\n",
       "       u'Margin of Error; Total: - Regular high school diploma',\n",
       "       u'Estimate; Total: - GED or alternative credential',\n",
       "       u'Margin of Error; Total: - GED or alternative credential',\n",
       "       u'Estimate; Total: - Some college, less than 1 year',\n",
       "       u'Margin of Error; Total: - Some college, less than 1 year',\n",
       "       u'Estimate; Total: - Some college, 1 or more years, no degree',\n",
       "       u'Margin of Error; Total: - Some college, 1 or more years, no degree',\n",
       "       u'Estimate; Total: - Associate's degree',\n",
       "       u'Margin of Error; Total: - Associate's degree',\n",
       "       u'Estimate; Total: - Bachelor's degree',\n",
       "       u'Margin of Error; Total: - Bachelor's degree',\n",
       "       u'Estimate; Total: - Master's degree',\n",
       "       u'Margin of Error; Total: - Master's degree',\n",
       "       u'Estimate; Total: - Professional school degree',\n",
       "       u'Margin of Error; Total: - Professional school degree',\n",
       "       u'Estimate; Total: - Doctorate degree',\n",
       "       u'Margin of Error; Total: - Doctorate degree'],\n",
       "      dtype='object')"
      ]
     },
     "execution_count": 36,
     "metadata": {},
     "output_type": "execute_result"
    }
   ],
   "source": [
    "education.columns"
   ]
  },
  {
   "cell_type": "code",
   "execution_count": 37,
   "metadata": {
    "collapsed": false
   },
   "outputs": [],
   "source": [
    "education = education[[1, 3, 35, 45, 47, 51]]"
   ]
  },
  {
   "cell_type": "code",
   "execution_count": 38,
   "metadata": {
    "collapsed": false
   },
   "outputs": [],
   "source": [
    "education.columns = [['BoroCT2010', 'Total educated', 'Total High School', 'Total bachelors', \"Total masters\", 'Total PHD']]"
   ]
  },
  {
   "cell_type": "code",
   "execution_count": 39,
   "metadata": {
    "collapsed": false
   },
   "outputs": [
    {
     "data": {
      "text/plain": [
       "2167"
      ]
     },
     "execution_count": 39,
     "metadata": {},
     "output_type": "execute_result"
    }
   ],
   "source": [
    "len(education)"
   ]
  },
  {
   "cell_type": "code",
   "execution_count": 40,
   "metadata": {
    "collapsed": true
   },
   "outputs": [],
   "source": [
    "education.replace(regex=True,inplace=True,to_replace=r'\\D',value=r'')"
   ]
  },
  {
   "cell_type": "code",
   "execution_count": 41,
   "metadata": {
    "collapsed": true
   },
   "outputs": [],
   "source": [
    "education = education.replace('', 'NaN')"
   ]
  },
  {
   "cell_type": "code",
   "execution_count": 42,
   "metadata": {
    "collapsed": true
   },
   "outputs": [],
   "source": [
    "education = education.astype(float)"
   ]
  },
  {
   "cell_type": "code",
   "execution_count": 43,
   "metadata": {
    "collapsed": false
   },
   "outputs": [],
   "source": [
    "education['BoroCT2010'] = mhincome['BoroCT2010']"
   ]
  },
  {
   "cell_type": "code",
   "execution_count": 44,
   "metadata": {
    "collapsed": false
   },
   "outputs": [
    {
     "data": {
      "text/html": [
       "<div>\n",
       "<table border=\"1\" class=\"dataframe\">\n",
       "  <thead>\n",
       "    <tr style=\"text-align: right;\">\n",
       "      <th></th>\n",
       "      <th>BoroCT2010</th>\n",
       "      <th>Total educated</th>\n",
       "      <th>Total High School</th>\n",
       "      <th>Total bachelors</th>\n",
       "      <th>Total masters</th>\n",
       "      <th>Total PHD</th>\n",
       "    </tr>\n",
       "  </thead>\n",
       "  <tbody>\n",
       "    <tr>\n",
       "      <th>2162</th>\n",
       "      <td>5030302</td>\n",
       "      <td>4038.0</td>\n",
       "      <td>1065.0</td>\n",
       "      <td>746.0</td>\n",
       "      <td>393.0</td>\n",
       "      <td>74.0</td>\n",
       "    </tr>\n",
       "    <tr>\n",
       "      <th>2163</th>\n",
       "      <td>5031901</td>\n",
       "      <td>1709.0</td>\n",
       "      <td>395.0</td>\n",
       "      <td>240.0</td>\n",
       "      <td>24.0</td>\n",
       "      <td>0.0</td>\n",
       "    </tr>\n",
       "    <tr>\n",
       "      <th>2164</th>\n",
       "      <td>5031902</td>\n",
       "      <td>2664.0</td>\n",
       "      <td>835.0</td>\n",
       "      <td>435.0</td>\n",
       "      <td>129.0</td>\n",
       "      <td>0.0</td>\n",
       "    </tr>\n",
       "    <tr>\n",
       "      <th>2165</th>\n",
       "      <td>5032300</td>\n",
       "      <td>826.0</td>\n",
       "      <td>195.0</td>\n",
       "      <td>111.0</td>\n",
       "      <td>19.0</td>\n",
       "      <td>0.0</td>\n",
       "    </tr>\n",
       "    <tr>\n",
       "      <th>2166</th>\n",
       "      <td>5990100</td>\n",
       "      <td>0.0</td>\n",
       "      <td>0.0</td>\n",
       "      <td>0.0</td>\n",
       "      <td>0.0</td>\n",
       "      <td>0.0</td>\n",
       "    </tr>\n",
       "  </tbody>\n",
       "</table>\n",
       "</div>"
      ],
      "text/plain": [
       "     BoroCT2010  Total educated  Total High School  Total bachelors  \\\n",
       "2162    5030302          4038.0             1065.0            746.0   \n",
       "2163    5031901          1709.0              395.0            240.0   \n",
       "2164    5031902          2664.0              835.0            435.0   \n",
       "2165    5032300           826.0              195.0            111.0   \n",
       "2166    5990100             0.0                0.0              0.0   \n",
       "\n",
       "      Total masters  Total PHD  \n",
       "2162          393.0       74.0  \n",
       "2163           24.0        0.0  \n",
       "2164          129.0        0.0  \n",
       "2165           19.0        0.0  \n",
       "2166            0.0        0.0  "
      ]
     },
     "execution_count": 44,
     "metadata": {},
     "output_type": "execute_result"
    }
   ],
   "source": [
    "education.tail()"
   ]
  },
  {
   "cell_type": "code",
   "execution_count": 45,
   "metadata": {
    "collapsed": false
   },
   "outputs": [
    {
     "data": {
      "text/plain": [
       "Index([u'Id', u'Id2', u'Geography', u'Total; Estimate; Total population',\n",
       "       u'Total; Margin of Error; Total population',\n",
       "       u'Male; Estimate; Total population',\n",
       "       u'Male; Margin of Error; Total population',\n",
       "       u'Female; Estimate; Total population',\n",
       "       u'Female; Margin of Error; Total population',\n",
       "       u'Total; Estimate; AGE - Under 5 years',\n",
       "       ...\n",
       "       u'Male; Estimate; PERCENT IMPUTED - Sex',\n",
       "       u'Male; Margin of Error; PERCENT IMPUTED - Sex',\n",
       "       u'Female; Estimate; PERCENT IMPUTED - Sex',\n",
       "       u'Female; Margin of Error; PERCENT IMPUTED - Sex',\n",
       "       u'Total; Estimate; PERCENT IMPUTED - Age',\n",
       "       u'Total; Margin of Error; PERCENT IMPUTED - Age',\n",
       "       u'Male; Estimate; PERCENT IMPUTED - Age',\n",
       "       u'Male; Margin of Error; PERCENT IMPUTED - Age',\n",
       "       u'Female; Estimate; PERCENT IMPUTED - Age',\n",
       "       u'Female; Margin of Error; PERCENT IMPUTED - Age'],\n",
       "      dtype='object', length=219)"
      ]
     },
     "execution_count": 45,
     "metadata": {},
     "output_type": "execute_result"
    }
   ],
   "source": [
    "#Import median age dataframe\n",
    "age = pd.read_csv('2014 estimated age.csv', skiprows=[0])\n",
    "age.columns"
   ]
  },
  {
   "cell_type": "code",
   "execution_count": 46,
   "metadata": {
    "collapsed": true
   },
   "outputs": [],
   "source": [
    "age = age[['Id2', 'Total; Estimate; SUMMARY INDICATORS - Median age (years)']]"
   ]
  },
  {
   "cell_type": "code",
   "execution_count": 47,
   "metadata": {
    "collapsed": false
   },
   "outputs": [],
   "source": [
    "age.columns = [['BoroCT2010', 'Median Age']]"
   ]
  },
  {
   "cell_type": "code",
   "execution_count": 48,
   "metadata": {
    "collapsed": false
   },
   "outputs": [
    {
     "data": {
      "text/plain": [
       "2167"
      ]
     },
     "execution_count": 48,
     "metadata": {},
     "output_type": "execute_result"
    }
   ],
   "source": [
    "len(age)"
   ]
  },
  {
   "cell_type": "code",
   "execution_count": 49,
   "metadata": {
    "collapsed": true
   },
   "outputs": [],
   "source": [
    "age.replace(regex=True,inplace=True,to_replace=r'\\D',value=r'')"
   ]
  },
  {
   "cell_type": "code",
   "execution_count": 50,
   "metadata": {
    "collapsed": true
   },
   "outputs": [],
   "source": [
    "age = age.replace('', 'NaN')"
   ]
  },
  {
   "cell_type": "code",
   "execution_count": 51,
   "metadata": {
    "collapsed": false
   },
   "outputs": [],
   "source": [
    "age = age.astype(float)/10"
   ]
  },
  {
   "cell_type": "code",
   "execution_count": 52,
   "metadata": {
    "collapsed": true
   },
   "outputs": [],
   "source": [
    "age['BoroCT2010'] = mhincome['BoroCT2010']"
   ]
  },
  {
   "cell_type": "code",
   "execution_count": 53,
   "metadata": {
    "collapsed": false
   },
   "outputs": [
    {
     "data": {
      "text/html": [
       "<div>\n",
       "<table border=\"1\" class=\"dataframe\">\n",
       "  <thead>\n",
       "    <tr style=\"text-align: right;\">\n",
       "      <th></th>\n",
       "      <th>BoroCT2010</th>\n",
       "      <th>Median Age</th>\n",
       "    </tr>\n",
       "  </thead>\n",
       "  <tbody>\n",
       "    <tr>\n",
       "      <th>2162</th>\n",
       "      <td>5030302</td>\n",
       "      <td>36.5</td>\n",
       "    </tr>\n",
       "    <tr>\n",
       "      <th>2163</th>\n",
       "      <td>5031901</td>\n",
       "      <td>30.8</td>\n",
       "    </tr>\n",
       "    <tr>\n",
       "      <th>2164</th>\n",
       "      <td>5031902</td>\n",
       "      <td>30.6</td>\n",
       "    </tr>\n",
       "    <tr>\n",
       "      <th>2165</th>\n",
       "      <td>5032300</td>\n",
       "      <td>42.0</td>\n",
       "    </tr>\n",
       "    <tr>\n",
       "      <th>2166</th>\n",
       "      <td>5990100</td>\n",
       "      <td>NaN</td>\n",
       "    </tr>\n",
       "  </tbody>\n",
       "</table>\n",
       "</div>"
      ],
      "text/plain": [
       "     BoroCT2010  Median Age\n",
       "2162    5030302        36.5\n",
       "2163    5031901        30.8\n",
       "2164    5031902        30.6\n",
       "2165    5032300        42.0\n",
       "2166    5990100         NaN"
      ]
     },
     "execution_count": 53,
     "metadata": {},
     "output_type": "execute_result"
    }
   ],
   "source": [
    "age.tail()"
   ]
  },
  {
   "cell_type": "code",
   "execution_count": 54,
   "metadata": {
    "collapsed": false
   },
   "outputs": [
    {
     "data": {
      "text/plain": [
       "Index([u'Id', u'Id2', u'Geography', u'Estimate; Total:',\n",
       "       u'Margin of Error; Total:', u'Estimate; Family households:',\n",
       "       u'Margin of Error; Family households:',\n",
       "       u'Estimate; Family households: - 2-person household',\n",
       "       u'Margin of Error; Family households: - 2-person household',\n",
       "       u'Estimate; Family households: - 3-person household',\n",
       "       u'Margin of Error; Family households: - 3-person household',\n",
       "       u'Estimate; Family households: - 4-person household',\n",
       "       u'Margin of Error; Family households: - 4-person household',\n",
       "       u'Estimate; Family households: - 5-person household',\n",
       "       u'Margin of Error; Family households: - 5-person household',\n",
       "       u'Estimate; Family households: - 6-person household',\n",
       "       u'Margin of Error; Family households: - 6-person household',\n",
       "       u'Estimate; Family households: - 7-or-more person household',\n",
       "       u'Margin of Error; Family households: - 7-or-more person household',\n",
       "       u'Estimate; Nonfamily households:',\n",
       "       u'Margin of Error; Nonfamily households:',\n",
       "       u'Estimate; Nonfamily households: - 1-person household',\n",
       "       u'Margin of Error; Nonfamily households: - 1-person household',\n",
       "       u'Estimate; Nonfamily households: - 2-person household',\n",
       "       u'Margin of Error; Nonfamily households: - 2-person household',\n",
       "       u'Estimate; Nonfamily households: - 3-person household',\n",
       "       u'Margin of Error; Nonfamily households: - 3-person household',\n",
       "       u'Estimate; Nonfamily households: - 4-person household',\n",
       "       u'Margin of Error; Nonfamily households: - 4-person household',\n",
       "       u'Estimate; Nonfamily households: - 5-person household',\n",
       "       u'Margin of Error; Nonfamily households: - 5-person household',\n",
       "       u'Estimate; Nonfamily households: - 6-person household',\n",
       "       u'Margin of Error; Nonfamily households: - 6-person household',\n",
       "       u'Estimate; Nonfamily households: - 7-or-more person household',\n",
       "       u'Margin of Error; Nonfamily households: - 7-or-more person household'],\n",
       "      dtype='object')"
      ]
     },
     "execution_count": 54,
     "metadata": {},
     "output_type": "execute_result"
    }
   ],
   "source": [
    "#Import type of household (family or non-family) \n",
    "housetype = pd.read_csv('2014 Household Type.csv', skiprows=[0])\n",
    "housetype.columns"
   ]
  },
  {
   "cell_type": "code",
   "execution_count": 55,
   "metadata": {
    "collapsed": false
   },
   "outputs": [],
   "source": [
    "housetype = housetype[['Id2', 'Estimate; Total:', 'Estimate; Family households:', 'Estimate; Nonfamily households:']]"
   ]
  },
  {
   "cell_type": "code",
   "execution_count": 56,
   "metadata": {
    "collapsed": false
   },
   "outputs": [],
   "source": [
    "housetype.columns = ['BoroCT2010', 'Total households' , 'Total family households', 'Total non-family households']"
   ]
  },
  {
   "cell_type": "code",
   "execution_count": 57,
   "metadata": {
    "collapsed": false
   },
   "outputs": [
    {
     "data": {
      "text/plain": [
       "2167"
      ]
     },
     "execution_count": 57,
     "metadata": {},
     "output_type": "execute_result"
    }
   ],
   "source": [
    "len(housetype)"
   ]
  },
  {
   "cell_type": "code",
   "execution_count": 58,
   "metadata": {
    "collapsed": true
   },
   "outputs": [],
   "source": [
    "housetype.replace(regex=True,inplace=True,to_replace=r'\\D',value=r'')"
   ]
  },
  {
   "cell_type": "code",
   "execution_count": 59,
   "metadata": {
    "collapsed": true
   },
   "outputs": [],
   "source": [
    "housetype = housetype.replace('', 'NaN')"
   ]
  },
  {
   "cell_type": "code",
   "execution_count": 60,
   "metadata": {
    "collapsed": true
   },
   "outputs": [],
   "source": [
    "housetype = housetype.astype(float)"
   ]
  },
  {
   "cell_type": "code",
   "execution_count": 61,
   "metadata": {
    "collapsed": false
   },
   "outputs": [],
   "source": [
    "housetype['BoroCT2010'] = mhincome['BoroCT2010']"
   ]
  },
  {
   "cell_type": "code",
   "execution_count": 62,
   "metadata": {
    "collapsed": false
   },
   "outputs": [
    {
     "data": {
      "text/html": [
       "<div>\n",
       "<table border=\"1\" class=\"dataframe\">\n",
       "  <thead>\n",
       "    <tr style=\"text-align: right;\">\n",
       "      <th></th>\n",
       "      <th>BoroCT2010</th>\n",
       "      <th>Total households</th>\n",
       "      <th>Total family households</th>\n",
       "      <th>Total non-family households</th>\n",
       "    </tr>\n",
       "  </thead>\n",
       "  <tbody>\n",
       "    <tr>\n",
       "      <th>2162</th>\n",
       "      <td>5030302</td>\n",
       "      <td>1938.0</td>\n",
       "      <td>1622.0</td>\n",
       "      <td>316.0</td>\n",
       "    </tr>\n",
       "    <tr>\n",
       "      <th>2163</th>\n",
       "      <td>5031901</td>\n",
       "      <td>1086.0</td>\n",
       "      <td>837.0</td>\n",
       "      <td>249.0</td>\n",
       "    </tr>\n",
       "    <tr>\n",
       "      <th>2164</th>\n",
       "      <td>5031902</td>\n",
       "      <td>1619.0</td>\n",
       "      <td>1171.0</td>\n",
       "      <td>448.0</td>\n",
       "    </tr>\n",
       "    <tr>\n",
       "      <th>2165</th>\n",
       "      <td>5032300</td>\n",
       "      <td>464.0</td>\n",
       "      <td>335.0</td>\n",
       "      <td>129.0</td>\n",
       "    </tr>\n",
       "    <tr>\n",
       "      <th>2166</th>\n",
       "      <td>5990100</td>\n",
       "      <td>0.0</td>\n",
       "      <td>0.0</td>\n",
       "      <td>0.0</td>\n",
       "    </tr>\n",
       "  </tbody>\n",
       "</table>\n",
       "</div>"
      ],
      "text/plain": [
       "     BoroCT2010  Total households  Total family households  \\\n",
       "2162    5030302            1938.0                   1622.0   \n",
       "2163    5031901            1086.0                    837.0   \n",
       "2164    5031902            1619.0                   1171.0   \n",
       "2165    5032300             464.0                    335.0   \n",
       "2166    5990100               0.0                      0.0   \n",
       "\n",
       "      Total non-family households  \n",
       "2162                        316.0  \n",
       "2163                        249.0  \n",
       "2164                        448.0  \n",
       "2165                        129.0  \n",
       "2166                          0.0  "
      ]
     },
     "execution_count": 62,
     "metadata": {},
     "output_type": "execute_result"
    }
   ],
   "source": [
    "housetype.tail()"
   ]
  },
  {
   "cell_type": "code",
   "execution_count": 63,
   "metadata": {
    "collapsed": false
   },
   "outputs": [
    {
     "data": {
      "text/plain": [
       "Index([u'Id', u'Id2', u'Geography', u'Estimate; Median value (dollars)',\n",
       "       u'Margin of Error; Median value (dollars)'],\n",
       "      dtype='object')"
      ]
     },
     "execution_count": 63,
     "metadata": {},
     "output_type": "execute_result"
    }
   ],
   "source": [
    "housevalue = pd.read_csv('2014 Median House Value.csv', skiprows=[0])\n",
    "housevalue.columns"
   ]
  },
  {
   "cell_type": "code",
   "execution_count": 64,
   "metadata": {
    "collapsed": true
   },
   "outputs": [],
   "source": [
    "housevalue = housevalue[['Id2', 'Estimate; Median value (dollars)']]"
   ]
  },
  {
   "cell_type": "code",
   "execution_count": 65,
   "metadata": {
    "collapsed": true
   },
   "outputs": [],
   "source": [
    "housevalue.columns = ['BoroCT2010', 'Median House Value']"
   ]
  },
  {
   "cell_type": "code",
   "execution_count": 66,
   "metadata": {
    "collapsed": false
   },
   "outputs": [
    {
     "data": {
      "text/plain": [
       "2167"
      ]
     },
     "execution_count": 66,
     "metadata": {},
     "output_type": "execute_result"
    }
   ],
   "source": [
    "len(housevalue)"
   ]
  },
  {
   "cell_type": "code",
   "execution_count": 67,
   "metadata": {
    "collapsed": true
   },
   "outputs": [],
   "source": [
    "housevalue.replace(regex=True,inplace=True,to_replace=r'\\D',value=r'')"
   ]
  },
  {
   "cell_type": "code",
   "execution_count": 68,
   "metadata": {
    "collapsed": true
   },
   "outputs": [],
   "source": [
    "housevalue = housevalue.replace('', 'NaN')"
   ]
  },
  {
   "cell_type": "code",
   "execution_count": 69,
   "metadata": {
    "collapsed": true
   },
   "outputs": [],
   "source": [
    "housevalue = housevalue.astype(float)"
   ]
  },
  {
   "cell_type": "code",
   "execution_count": 70,
   "metadata": {
    "collapsed": true
   },
   "outputs": [],
   "source": [
    "housevalue['BoroCT2010'] = mhincome['BoroCT2010']"
   ]
  },
  {
   "cell_type": "code",
   "execution_count": 71,
   "metadata": {
    "collapsed": false
   },
   "outputs": [
    {
     "data": {
      "text/html": [
       "<div>\n",
       "<table border=\"1\" class=\"dataframe\">\n",
       "  <thead>\n",
       "    <tr style=\"text-align: right;\">\n",
       "      <th></th>\n",
       "      <th>BoroCT2010</th>\n",
       "      <th>Median House Value</th>\n",
       "    </tr>\n",
       "  </thead>\n",
       "  <tbody>\n",
       "    <tr>\n",
       "      <th>2162</th>\n",
       "      <td>5030302</td>\n",
       "      <td>321700.0</td>\n",
       "    </tr>\n",
       "    <tr>\n",
       "      <th>2163</th>\n",
       "      <td>5031901</td>\n",
       "      <td>344600.0</td>\n",
       "    </tr>\n",
       "    <tr>\n",
       "      <th>2164</th>\n",
       "      <td>5031902</td>\n",
       "      <td>312700.0</td>\n",
       "    </tr>\n",
       "    <tr>\n",
       "      <th>2165</th>\n",
       "      <td>5032300</td>\n",
       "      <td>186600.0</td>\n",
       "    </tr>\n",
       "    <tr>\n",
       "      <th>2166</th>\n",
       "      <td>5990100</td>\n",
       "      <td>NaN</td>\n",
       "    </tr>\n",
       "  </tbody>\n",
       "</table>\n",
       "</div>"
      ],
      "text/plain": [
       "     BoroCT2010  Median House Value\n",
       "2162    5030302            321700.0\n",
       "2163    5031901            344600.0\n",
       "2164    5031902            312700.0\n",
       "2165    5032300            186600.0\n",
       "2166    5990100                 NaN"
      ]
     },
     "execution_count": 71,
     "metadata": {},
     "output_type": "execute_result"
    }
   ],
   "source": [
    "housevalue.tail()"
   ]
  },
  {
   "cell_type": "code",
   "execution_count": 72,
   "metadata": {
    "collapsed": false
   },
   "outputs": [
    {
     "data": {
      "text/plain": [
       "Index([u'Id', u'Id2', u'Geography', u'Estimate; Total:',\n",
       "       u'Margin of Error; Total:', u'Estimate; Total: - Owner occupied',\n",
       "       u'Margin of Error; Total: - Owner occupied',\n",
       "       u'Estimate; Total: - Renter occupied',\n",
       "       u'Margin of Error; Total: - Renter occupied'],\n",
       "      dtype='object')"
      ]
     },
     "execution_count": 72,
     "metadata": {},
     "output_type": "execute_result"
    }
   ],
   "source": [
    "#Importing type of resident data (owner vs renter)\n",
    "ownorrent = pd.read_csv('2014 Owner and renter units.csv', skiprows=[0])\n",
    "ownorrent.columns"
   ]
  },
  {
   "cell_type": "code",
   "execution_count": 73,
   "metadata": {
    "collapsed": true
   },
   "outputs": [],
   "source": [
    "ownorrent = ownorrent[['Id2', 'Estimate; Total:', 'Estimate; Total: - Owner occupied', 'Estimate; Total: - Renter occupied' ]]"
   ]
  },
  {
   "cell_type": "code",
   "execution_count": 74,
   "metadata": {
    "collapsed": true
   },
   "outputs": [],
   "source": [
    "ownorrent.columns = ['BoroCT2010', 'Total Hunits' , 'Owner Occupied' , 'Renter Occupied']"
   ]
  },
  {
   "cell_type": "code",
   "execution_count": 75,
   "metadata": {
    "collapsed": false
   },
   "outputs": [
    {
     "data": {
      "text/plain": [
       "2167"
      ]
     },
     "execution_count": 75,
     "metadata": {},
     "output_type": "execute_result"
    }
   ],
   "source": [
    "len(ownorrent)"
   ]
  },
  {
   "cell_type": "code",
   "execution_count": 76,
   "metadata": {
    "collapsed": true
   },
   "outputs": [],
   "source": [
    "ownorrent.replace(regex=True,inplace=True,to_replace=r'\\D',value=r'')"
   ]
  },
  {
   "cell_type": "code",
   "execution_count": 77,
   "metadata": {
    "collapsed": true
   },
   "outputs": [],
   "source": [
    "ownorrent = ownorrent.replace('', 'NaN')"
   ]
  },
  {
   "cell_type": "code",
   "execution_count": 78,
   "metadata": {
    "collapsed": true
   },
   "outputs": [],
   "source": [
    "ownorrent = ownorrent.astype(float)"
   ]
  },
  {
   "cell_type": "code",
   "execution_count": 79,
   "metadata": {
    "collapsed": true
   },
   "outputs": [],
   "source": [
    "ownorrent['BoroCT2010'] = mhincome['BoroCT2010']"
   ]
  },
  {
   "cell_type": "code",
   "execution_count": 80,
   "metadata": {
    "collapsed": false
   },
   "outputs": [
    {
     "data": {
      "text/html": [
       "<div>\n",
       "<table border=\"1\" class=\"dataframe\">\n",
       "  <thead>\n",
       "    <tr style=\"text-align: right;\">\n",
       "      <th></th>\n",
       "      <th>BoroCT2010</th>\n",
       "      <th>Total Hunits</th>\n",
       "      <th>Owner Occupied</th>\n",
       "      <th>Renter Occupied</th>\n",
       "    </tr>\n",
       "  </thead>\n",
       "  <tbody>\n",
       "    <tr>\n",
       "      <th>2162</th>\n",
       "      <td>5030302</td>\n",
       "      <td>6205.0</td>\n",
       "      <td>4159.0</td>\n",
       "      <td>2046.0</td>\n",
       "    </tr>\n",
       "    <tr>\n",
       "      <th>2163</th>\n",
       "      <td>5031901</td>\n",
       "      <td>2916.0</td>\n",
       "      <td>592.0</td>\n",
       "      <td>2324.0</td>\n",
       "    </tr>\n",
       "    <tr>\n",
       "      <th>2164</th>\n",
       "      <td>5031902</td>\n",
       "      <td>4514.0</td>\n",
       "      <td>2359.0</td>\n",
       "      <td>2155.0</td>\n",
       "    </tr>\n",
       "    <tr>\n",
       "      <th>2165</th>\n",
       "      <td>5032300</td>\n",
       "      <td>1106.0</td>\n",
       "      <td>853.0</td>\n",
       "      <td>253.0</td>\n",
       "    </tr>\n",
       "    <tr>\n",
       "      <th>2166</th>\n",
       "      <td>5990100</td>\n",
       "      <td>0.0</td>\n",
       "      <td>0.0</td>\n",
       "      <td>0.0</td>\n",
       "    </tr>\n",
       "  </tbody>\n",
       "</table>\n",
       "</div>"
      ],
      "text/plain": [
       "     BoroCT2010  Total Hunits  Owner Occupied  Renter Occupied\n",
       "2162    5030302        6205.0          4159.0           2046.0\n",
       "2163    5031901        2916.0           592.0           2324.0\n",
       "2164    5031902        4514.0          2359.0           2155.0\n",
       "2165    5032300        1106.0           853.0            253.0\n",
       "2166    5990100           0.0             0.0              0.0"
      ]
     },
     "execution_count": 80,
     "metadata": {},
     "output_type": "execute_result"
    }
   ],
   "source": [
    "ownorrent.tail()"
   ]
  },
  {
   "cell_type": "code",
   "execution_count": 81,
   "metadata": {
    "collapsed": false
   },
   "outputs": [
    {
     "data": {
      "text/plain": [
       "Index([u'Id', u'Id2', u'Geography', u'Estimate; Total',\n",
       "       u'Margin of Error; Total'],\n",
       "      dtype='object')"
      ]
     },
     "execution_count": 81,
     "metadata": {},
     "output_type": "execute_result"
    }
   ],
   "source": [
    "#Import population data\n",
    "population = pd.read_csv('2014 population.csv', skiprows=[0])\n",
    "population.columns"
   ]
  },
  {
   "cell_type": "code",
   "execution_count": 82,
   "metadata": {
    "collapsed": true
   },
   "outputs": [],
   "source": [
    "population = population[['Id2', 'Estimate; Total']]"
   ]
  },
  {
   "cell_type": "code",
   "execution_count": 83,
   "metadata": {
    "collapsed": false
   },
   "outputs": [],
   "source": [
    "population.columns = ['BoroCT2010', 'Total Population']"
   ]
  },
  {
   "cell_type": "code",
   "execution_count": 84,
   "metadata": {
    "collapsed": true
   },
   "outputs": [],
   "source": [
    "population.replace(regex=True,inplace=True,to_replace=r'\\D',value=r'')"
   ]
  },
  {
   "cell_type": "code",
   "execution_count": 85,
   "metadata": {
    "collapsed": true
   },
   "outputs": [],
   "source": [
    "population = population.replace('', 'NaN')"
   ]
  },
  {
   "cell_type": "code",
   "execution_count": 86,
   "metadata": {
    "collapsed": true
   },
   "outputs": [],
   "source": [
    "population = population.astype(float)"
   ]
  },
  {
   "cell_type": "code",
   "execution_count": 87,
   "metadata": {
    "collapsed": true
   },
   "outputs": [],
   "source": [
    "population['BoroCT2010'] = mhincome['BoroCT2010']"
   ]
  },
  {
   "cell_type": "code",
   "execution_count": 88,
   "metadata": {
    "collapsed": false
   },
   "outputs": [
    {
     "data": {
      "text/html": [
       "<div>\n",
       "<table border=\"1\" class=\"dataframe\">\n",
       "  <thead>\n",
       "    <tr style=\"text-align: right;\">\n",
       "      <th></th>\n",
       "      <th>BoroCT2010</th>\n",
       "      <th>Total Population</th>\n",
       "    </tr>\n",
       "  </thead>\n",
       "  <tbody>\n",
       "    <tr>\n",
       "      <th>2162</th>\n",
       "      <td>5030302</td>\n",
       "      <td>6205.0</td>\n",
       "    </tr>\n",
       "    <tr>\n",
       "      <th>2163</th>\n",
       "      <td>5031901</td>\n",
       "      <td>2916.0</td>\n",
       "    </tr>\n",
       "    <tr>\n",
       "      <th>2164</th>\n",
       "      <td>5031902</td>\n",
       "      <td>4535.0</td>\n",
       "    </tr>\n",
       "    <tr>\n",
       "      <th>2165</th>\n",
       "      <td>5032300</td>\n",
       "      <td>1106.0</td>\n",
       "    </tr>\n",
       "    <tr>\n",
       "      <th>2166</th>\n",
       "      <td>5990100</td>\n",
       "      <td>0.0</td>\n",
       "    </tr>\n",
       "  </tbody>\n",
       "</table>\n",
       "</div>"
      ],
      "text/plain": [
       "     BoroCT2010  Total Population\n",
       "2162    5030302            6205.0\n",
       "2163    5031901            2916.0\n",
       "2164    5031902            4535.0\n",
       "2165    5032300            1106.0\n",
       "2166    5990100               0.0"
      ]
     },
     "execution_count": 88,
     "metadata": {},
     "output_type": "execute_result"
    }
   ],
   "source": [
    "population.tail()"
   ]
  },
  {
   "cell_type": "code",
   "execution_count": 96,
   "metadata": {
    "collapsed": false
   },
   "outputs": [
    {
     "data": {
      "text/plain": [
       "Index([u'GEO.id', u'GEO.id2', u'GEO.display-label', u'HC01_VC03', u'HC02_VC03',\n",
       "       u'HC03_VC03', u'HC04_VC03', u'HC01_VC04', u'HC02_VC04', u'HC03_VC04',\n",
       "       ...\n",
       "       u'HC03_VC101', u'HC04_VC101', u'HC01_VC102', u'HC02_VC102',\n",
       "       u'HC03_VC102', u'HC04_VC102', u'HC01_VC104', u'HC02_VC104',\n",
       "       u'HC03_VC104', u'HC04_VC104'],\n",
       "      dtype='object', length=327)"
      ]
     },
     "execution_count": 96,
     "metadata": {},
     "output_type": "execute_result"
    }
   ],
   "source": [
    "#Import race data\n",
    "race = pd.read_csv('2014 Race and sex.csv', skiprows=[1])\n",
    "race.columns"
   ]
  },
  {
   "cell_type": "code",
   "execution_count": 97,
   "metadata": {
    "collapsed": false
   },
   "outputs": [],
   "source": [
    "race = race[['GEO.id2', 'HC03_VC87', 'HC01_VC94', 'HC01_VC95', 'HC01_VC97', 'HC01_VC88']]"
   ]
  },
  {
   "cell_type": "code",
   "execution_count": 98,
   "metadata": {
    "collapsed": true
   },
   "outputs": [],
   "source": [
    "race.columns = ['BoroCT2010', 'Total Population', 'White only', 'Black only', 'Asian only', 'Hispanic only']"
   ]
  },
  {
   "cell_type": "code",
   "execution_count": 99,
   "metadata": {
    "collapsed": true
   },
   "outputs": [],
   "source": [
    "race.replace(regex=True,inplace=True,to_replace=r'\\D',value=r'')"
   ]
  },
  {
   "cell_type": "code",
   "execution_count": 100,
   "metadata": {
    "collapsed": true
   },
   "outputs": [],
   "source": [
    "race = race.replace('', 'NaN')"
   ]
  },
  {
   "cell_type": "code",
   "execution_count": 101,
   "metadata": {
    "collapsed": true
   },
   "outputs": [],
   "source": [
    "race = race.astype(float)"
   ]
  },
  {
   "cell_type": "code",
   "execution_count": 102,
   "metadata": {
    "collapsed": false
   },
   "outputs": [
    {
     "data": {
      "text/plain": [
       "2167"
      ]
     },
     "execution_count": 102,
     "metadata": {},
     "output_type": "execute_result"
    }
   ],
   "source": [
    "len(race)"
   ]
  },
  {
   "cell_type": "code",
   "execution_count": 103,
   "metadata": {
    "collapsed": true
   },
   "outputs": [],
   "source": [
    "race['BoroCT2010'] = mhincome['BoroCT2010']"
   ]
  },
  {
   "cell_type": "code",
   "execution_count": 106,
   "metadata": {
    "collapsed": true
   },
   "outputs": [],
   "source": [
    "race['Other Only'] = race['Total Population'] - race['White only'] - race['Black only'] - race['Asian only'] - race['Hispanic only']"
   ]
  },
  {
   "cell_type": "code",
   "execution_count": 107,
   "metadata": {
    "collapsed": true
   },
   "outputs": [],
   "source": [
    "del(race['Total Population'])"
   ]
  },
  {
   "cell_type": "code",
   "execution_count": 108,
   "metadata": {
    "collapsed": false
   },
   "outputs": [
    {
     "data": {
      "text/html": [
       "<div>\n",
       "<table border=\"1\" class=\"dataframe\">\n",
       "  <thead>\n",
       "    <tr style=\"text-align: right;\">\n",
       "      <th></th>\n",
       "      <th>BoroCT2010</th>\n",
       "      <th>White only</th>\n",
       "      <th>Black only</th>\n",
       "      <th>Asian only</th>\n",
       "      <th>Hispanic only</th>\n",
       "      <th>Other Only</th>\n",
       "    </tr>\n",
       "  </thead>\n",
       "  <tbody>\n",
       "    <tr>\n",
       "      <th>2162</th>\n",
       "      <td>5030302</td>\n",
       "      <td>1480.0</td>\n",
       "      <td>1373.0</td>\n",
       "      <td>889.0</td>\n",
       "      <td>2293.0</td>\n",
       "      <td>170.0</td>\n",
       "    </tr>\n",
       "    <tr>\n",
       "      <th>2163</th>\n",
       "      <td>5031901</td>\n",
       "      <td>132.0</td>\n",
       "      <td>1743.0</td>\n",
       "      <td>140.0</td>\n",
       "      <td>888.0</td>\n",
       "      <td>13.0</td>\n",
       "    </tr>\n",
       "    <tr>\n",
       "      <th>2164</th>\n",
       "      <td>5031902</td>\n",
       "      <td>654.0</td>\n",
       "      <td>2900.0</td>\n",
       "      <td>16.0</td>\n",
       "      <td>920.0</td>\n",
       "      <td>45.0</td>\n",
       "    </tr>\n",
       "    <tr>\n",
       "      <th>2165</th>\n",
       "      <td>5032300</td>\n",
       "      <td>345.0</td>\n",
       "      <td>247.0</td>\n",
       "      <td>0.0</td>\n",
       "      <td>508.0</td>\n",
       "      <td>6.0</td>\n",
       "    </tr>\n",
       "    <tr>\n",
       "      <th>2166</th>\n",
       "      <td>5990100</td>\n",
       "      <td>0.0</td>\n",
       "      <td>0.0</td>\n",
       "      <td>0.0</td>\n",
       "      <td>0.0</td>\n",
       "      <td>0.0</td>\n",
       "    </tr>\n",
       "  </tbody>\n",
       "</table>\n",
       "</div>"
      ],
      "text/plain": [
       "     BoroCT2010  White only  Black only  Asian only  Hispanic only  Other Only\n",
       "2162    5030302      1480.0      1373.0       889.0         2293.0       170.0\n",
       "2163    5031901       132.0      1743.0       140.0          888.0        13.0\n",
       "2164    5031902       654.0      2900.0        16.0          920.0        45.0\n",
       "2165    5032300       345.0       247.0         0.0          508.0         6.0\n",
       "2166    5990100         0.0         0.0         0.0            0.0         0.0"
      ]
     },
     "execution_count": 108,
     "metadata": {},
     "output_type": "execute_result"
    }
   ],
   "source": [
    "race.tail()"
   ]
  },
  {
   "cell_type": "code",
   "execution_count": 109,
   "metadata": {
    "collapsed": false
   },
   "outputs": [
    {
     "data": {
      "text/plain": [
       "Index([u'GEO.id', u'GEO.id2', u'GEO.display-label', u'HC01_VC03', u'HC02_VC03',\n",
       "       u'HC03_VC03', u'HC04_VC03', u'HC01_VC04', u'HC02_VC04', u'HC03_VC04',\n",
       "       ...\n",
       "       u'HC03_VC201', u'HC04_VC201', u'HC01_VC202', u'HC02_VC202',\n",
       "       u'HC03_VC202', u'HC04_VC202', u'HC01_VC205', u'HC02_VC205',\n",
       "       u'HC03_VC205', u'HC04_VC205'],\n",
       "      dtype='object', length=567)"
      ]
     },
     "execution_count": 109,
     "metadata": {},
     "output_type": "execute_result"
    }
   ],
   "source": [
    "#Import median rent data\n",
    "mrent = pd.read_csv('2014 Median rent.csv', skiprows=[1])\n",
    "mrent.columns"
   ]
  },
  {
   "cell_type": "code",
   "execution_count": 110,
   "metadata": {
    "collapsed": false
   },
   "outputs": [],
   "source": [
    "mrent = mrent[['GEO.id2', 'HC01_VC189']]"
   ]
  },
  {
   "cell_type": "code",
   "execution_count": 111,
   "metadata": {
    "collapsed": false
   },
   "outputs": [],
   "source": [
    "mrent.columns = ['BoroCT2010', 'Median Rent']"
   ]
  },
  {
   "cell_type": "code",
   "execution_count": 112,
   "metadata": {
    "collapsed": true
   },
   "outputs": [],
   "source": [
    "mrent.replace(regex=True,inplace=True,to_replace=r'\\D',value=r'')"
   ]
  },
  {
   "cell_type": "code",
   "execution_count": 113,
   "metadata": {
    "collapsed": true
   },
   "outputs": [],
   "source": [
    "mrent = mrent.replace('', 'NaN')"
   ]
  },
  {
   "cell_type": "code",
   "execution_count": 114,
   "metadata": {
    "collapsed": true
   },
   "outputs": [],
   "source": [
    "mrent = mrent.astype(float)"
   ]
  },
  {
   "cell_type": "code",
   "execution_count": 115,
   "metadata": {
    "collapsed": false
   },
   "outputs": [
    {
     "data": {
      "text/plain": [
       "2167"
      ]
     },
     "execution_count": 115,
     "metadata": {},
     "output_type": "execute_result"
    }
   ],
   "source": [
    "len(mrent)"
   ]
  },
  {
   "cell_type": "code",
   "execution_count": 116,
   "metadata": {
    "collapsed": true
   },
   "outputs": [],
   "source": [
    "mrent['BoroCT2010'] = mhincome['BoroCT2010']"
   ]
  },
  {
   "cell_type": "code",
   "execution_count": 117,
   "metadata": {
    "collapsed": false
   },
   "outputs": [
    {
     "data": {
      "text/html": [
       "<div>\n",
       "<table border=\"1\" class=\"dataframe\">\n",
       "  <thead>\n",
       "    <tr style=\"text-align: right;\">\n",
       "      <th></th>\n",
       "      <th>BoroCT2010</th>\n",
       "      <th>Median Rent</th>\n",
       "    </tr>\n",
       "  </thead>\n",
       "  <tbody>\n",
       "    <tr>\n",
       "      <th>2162</th>\n",
       "      <td>5030302</td>\n",
       "      <td>1650.0</td>\n",
       "    </tr>\n",
       "    <tr>\n",
       "      <th>2163</th>\n",
       "      <td>5031901</td>\n",
       "      <td>603.0</td>\n",
       "    </tr>\n",
       "    <tr>\n",
       "      <th>2164</th>\n",
       "      <td>5031902</td>\n",
       "      <td>754.0</td>\n",
       "    </tr>\n",
       "    <tr>\n",
       "      <th>2165</th>\n",
       "      <td>5032300</td>\n",
       "      <td>1281.0</td>\n",
       "    </tr>\n",
       "    <tr>\n",
       "      <th>2166</th>\n",
       "      <td>5990100</td>\n",
       "      <td>NaN</td>\n",
       "    </tr>\n",
       "  </tbody>\n",
       "</table>\n",
       "</div>"
      ],
      "text/plain": [
       "     BoroCT2010  Median Rent\n",
       "2162    5030302       1650.0\n",
       "2163    5031901        603.0\n",
       "2164    5031902        754.0\n",
       "2165    5032300       1281.0\n",
       "2166    5990100          NaN"
      ]
     },
     "execution_count": 117,
     "metadata": {},
     "output_type": "execute_result"
    }
   ],
   "source": [
    "mrent.tail()"
   ]
  },
  {
   "cell_type": "code",
   "execution_count": 118,
   "metadata": {
    "collapsed": false
   },
   "outputs": [],
   "source": [
    "#Importing 311 total call by Census Tracts\n",
    "tcomplaints = pd.read_csv('2014 total complaints by CT.csv')\n",
    "tcomplaints.columns = ['BoroCT2010', '311 calls']\n",
    "tcomplaints.BoroCT2010 = tcomplaints.BoroCT2010.astype(str)"
   ]
  },
  {
   "cell_type": "code",
   "execution_count": 119,
   "metadata": {
    "collapsed": false
   },
   "outputs": [],
   "source": [
    "#The next lones (100 to 108) are created to merge all the demographic data sets\n",
    "#with the 311 call data\n",
    "merged = pd.merge(tcomplaints, mhincome, on='BoroCT2010')"
   ]
  },
  {
   "cell_type": "code",
   "execution_count": 120,
   "metadata": {
    "collapsed": false
   },
   "outputs": [],
   "source": [
    "merged = pd.merge(merged, carowner, on='BoroCT2010')"
   ]
  },
  {
   "cell_type": "code",
   "execution_count": 121,
   "metadata": {
    "collapsed": false
   },
   "outputs": [],
   "source": [
    "merged = pd.merge(merged, education, on='BoroCT2010')"
   ]
  },
  {
   "cell_type": "code",
   "execution_count": 122,
   "metadata": {
    "collapsed": false
   },
   "outputs": [],
   "source": [
    "merged = pd.merge(merged, age , on='BoroCT2010')"
   ]
  },
  {
   "cell_type": "code",
   "execution_count": 123,
   "metadata": {
    "collapsed": false
   },
   "outputs": [],
   "source": [
    "merged = pd.merge(merged, housetype, on='BoroCT2010')"
   ]
  },
  {
   "cell_type": "code",
   "execution_count": 124,
   "metadata": {
    "collapsed": false
   },
   "outputs": [],
   "source": [
    "merged = pd.merge(merged, housevalue, on='BoroCT2010')"
   ]
  },
  {
   "cell_type": "code",
   "execution_count": 125,
   "metadata": {
    "collapsed": false
   },
   "outputs": [],
   "source": [
    "merged = pd.merge(merged, ownorrent, on='BoroCT2010')"
   ]
  },
  {
   "cell_type": "code",
   "execution_count": 126,
   "metadata": {
    "collapsed": false
   },
   "outputs": [],
   "source": [
    "merged = pd.merge(merged, population, on='BoroCT2010')"
   ]
  },
  {
   "cell_type": "code",
   "execution_count": 127,
   "metadata": {
    "collapsed": false
   },
   "outputs": [],
   "source": [
    "merged = pd.merge(merged, race, on='BoroCT2010')"
   ]
  },
  {
   "cell_type": "code",
   "execution_count": 128,
   "metadata": {
    "collapsed": false
   },
   "outputs": [],
   "source": [
    "merged = pd.merge(merged, mrent, on='BoroCT2010')"
   ]
  },
  {
   "cell_type": "code",
   "execution_count": 129,
   "metadata": {
    "collapsed": false
   },
   "outputs": [
    {
     "data": {
      "text/html": [
       "<div>\n",
       "<table border=\"1\" class=\"dataframe\">\n",
       "  <thead>\n",
       "    <tr style=\"text-align: right;\">\n",
       "      <th></th>\n",
       "      <th>BoroCT2010</th>\n",
       "      <th>311 calls</th>\n",
       "      <th>Total Households</th>\n",
       "      <th>Median Income</th>\n",
       "      <th>Total cars</th>\n",
       "      <th>Total educated</th>\n",
       "      <th>Total High School</th>\n",
       "      <th>Total bachelors</th>\n",
       "      <th>Total masters</th>\n",
       "      <th>Total PHD</th>\n",
       "      <th>...</th>\n",
       "      <th>Total Hunits</th>\n",
       "      <th>Owner Occupied</th>\n",
       "      <th>Renter Occupied</th>\n",
       "      <th>Total Population</th>\n",
       "      <th>White only</th>\n",
       "      <th>Black only</th>\n",
       "      <th>Asian only</th>\n",
       "      <th>Hispanic only</th>\n",
       "      <th>Other Only</th>\n",
       "      <th>Median Rent</th>\n",
       "    </tr>\n",
       "  </thead>\n",
       "  <tbody>\n",
       "    <tr>\n",
       "      <th>0</th>\n",
       "      <td>1000202</td>\n",
       "      <td>580</td>\n",
       "      <td>3447.0</td>\n",
       "      <td>29418.0</td>\n",
       "      <td>744.0</td>\n",
       "      <td>6073.0</td>\n",
       "      <td>1481.0</td>\n",
       "      <td>959.0</td>\n",
       "      <td>326.0</td>\n",
       "      <td>30.0</td>\n",
       "      <td>...</td>\n",
       "      <td>8084.0</td>\n",
       "      <td>1701.0</td>\n",
       "      <td>6383.0</td>\n",
       "      <td>8308.0</td>\n",
       "      <td>2050.0</td>\n",
       "      <td>753.0</td>\n",
       "      <td>2044.0</td>\n",
       "      <td>3168.0</td>\n",
       "      <td>293.0</td>\n",
       "      <td>621.0</td>\n",
       "    </tr>\n",
       "    <tr>\n",
       "      <th>1</th>\n",
       "      <td>1000500</td>\n",
       "      <td>8</td>\n",
       "      <td>0.0</td>\n",
       "      <td>NaN</td>\n",
       "      <td>NaN</td>\n",
       "      <td>0.0</td>\n",
       "      <td>0.0</td>\n",
       "      <td>0.0</td>\n",
       "      <td>0.0</td>\n",
       "      <td>0.0</td>\n",
       "      <td>...</td>\n",
       "      <td>0.0</td>\n",
       "      <td>0.0</td>\n",
       "      <td>0.0</td>\n",
       "      <td>0.0</td>\n",
       "      <td>0.0</td>\n",
       "      <td>0.0</td>\n",
       "      <td>0.0</td>\n",
       "      <td>0.0</td>\n",
       "      <td>0.0</td>\n",
       "      <td>NaN</td>\n",
       "    </tr>\n",
       "    <tr>\n",
       "      <th>2</th>\n",
       "      <td>1000600</td>\n",
       "      <td>1151</td>\n",
       "      <td>3954.0</td>\n",
       "      <td>18944.0</td>\n",
       "      <td>768.0</td>\n",
       "      <td>8360.0</td>\n",
       "      <td>1177.0</td>\n",
       "      <td>965.0</td>\n",
       "      <td>238.0</td>\n",
       "      <td>23.0</td>\n",
       "      <td>...</td>\n",
       "      <td>11149.0</td>\n",
       "      <td>332.0</td>\n",
       "      <td>10817.0</td>\n",
       "      <td>11354.0</td>\n",
       "      <td>521.0</td>\n",
       "      <td>983.0</td>\n",
       "      <td>6189.0</td>\n",
       "      <td>3500.0</td>\n",
       "      <td>161.0</td>\n",
       "      <td>589.0</td>\n",
       "    </tr>\n",
       "    <tr>\n",
       "      <th>3</th>\n",
       "      <td>1000700</td>\n",
       "      <td>1633</td>\n",
       "      <td>4610.0</td>\n",
       "      <td>114519.0</td>\n",
       "      <td>581.0</td>\n",
       "      <td>6758.0</td>\n",
       "      <td>103.0</td>\n",
       "      <td>3175.0</td>\n",
       "      <td>1714.0</td>\n",
       "      <td>277.0</td>\n",
       "      <td>...</td>\n",
       "      <td>8582.0</td>\n",
       "      <td>1730.0</td>\n",
       "      <td>6852.0</td>\n",
       "      <td>8598.0</td>\n",
       "      <td>5894.0</td>\n",
       "      <td>284.0</td>\n",
       "      <td>1683.0</td>\n",
       "      <td>574.0</td>\n",
       "      <td>163.0</td>\n",
       "      <td>2000.0</td>\n",
       "    </tr>\n",
       "    <tr>\n",
       "      <th>4</th>\n",
       "      <td>1000800</td>\n",
       "      <td>1105</td>\n",
       "      <td>3585.0</td>\n",
       "      <td>24366.0</td>\n",
       "      <td>685.0</td>\n",
       "      <td>7346.0</td>\n",
       "      <td>1165.0</td>\n",
       "      <td>861.0</td>\n",
       "      <td>330.0</td>\n",
       "      <td>59.0</td>\n",
       "      <td>...</td>\n",
       "      <td>9319.0</td>\n",
       "      <td>159.0</td>\n",
       "      <td>9160.0</td>\n",
       "      <td>9333.0</td>\n",
       "      <td>727.0</td>\n",
       "      <td>88.0</td>\n",
       "      <td>7814.0</td>\n",
       "      <td>262.0</td>\n",
       "      <td>442.0</td>\n",
       "      <td>906.0</td>\n",
       "    </tr>\n",
       "  </tbody>\n",
       "</table>\n",
       "<p>5 rows × 25 columns</p>\n",
       "</div>"
      ],
      "text/plain": [
       "  BoroCT2010  311 calls  Total Households  Median Income  Total cars  \\\n",
       "0    1000202        580            3447.0        29418.0       744.0   \n",
       "1    1000500          8               0.0            NaN         NaN   \n",
       "2    1000600       1151            3954.0        18944.0       768.0   \n",
       "3    1000700       1633            4610.0       114519.0       581.0   \n",
       "4    1000800       1105            3585.0        24366.0       685.0   \n",
       "\n",
       "   Total educated  Total High School  Total bachelors  Total masters  \\\n",
       "0          6073.0             1481.0            959.0          326.0   \n",
       "1             0.0                0.0              0.0            0.0   \n",
       "2          8360.0             1177.0            965.0          238.0   \n",
       "3          6758.0              103.0           3175.0         1714.0   \n",
       "4          7346.0             1165.0            861.0          330.0   \n",
       "\n",
       "   Total PHD     ...       Total Hunits  Owner Occupied  Renter Occupied  \\\n",
       "0       30.0     ...             8084.0          1701.0           6383.0   \n",
       "1        0.0     ...                0.0             0.0              0.0   \n",
       "2       23.0     ...            11149.0           332.0          10817.0   \n",
       "3      277.0     ...             8582.0          1730.0           6852.0   \n",
       "4       59.0     ...             9319.0           159.0           9160.0   \n",
       "\n",
       "   Total Population  White only  Black only  Asian only  Hispanic only  \\\n",
       "0            8308.0      2050.0       753.0      2044.0         3168.0   \n",
       "1               0.0         0.0         0.0         0.0            0.0   \n",
       "2           11354.0       521.0       983.0      6189.0         3500.0   \n",
       "3            8598.0      5894.0       284.0      1683.0          574.0   \n",
       "4            9333.0       727.0        88.0      7814.0          262.0   \n",
       "\n",
       "   Other Only  Median Rent  \n",
       "0       293.0        621.0  \n",
       "1         0.0          NaN  \n",
       "2       161.0        589.0  \n",
       "3       163.0       2000.0  \n",
       "4       442.0        906.0  \n",
       "\n",
       "[5 rows x 25 columns]"
      ]
     },
     "execution_count": 129,
     "metadata": {},
     "output_type": "execute_result"
    }
   ],
   "source": [
    "merged.head()"
   ]
  },
  {
   "cell_type": "code",
   "execution_count": 130,
   "metadata": {
    "collapsed": false
   },
   "outputs": [
    {
     "data": {
      "text/plain": [
       "<matplotlib.axes._subplots.AxesSubplot at 0x109b4c88>"
      ]
     },
     "execution_count": 130,
     "metadata": {},
     "output_type": "execute_result"
    },
    {
     "data": {
      "image/png": "[encoded data removed]",
      "text/plain": [
       "<matplotlib.figure.Figure at 0x12571668>"
      ]
     },
     "metadata": {},
     "output_type": "display_data"
    }
   ],
   "source": [
    "merged.plot(x='311 calls', y='Total Population', kind='scatter', grid=True, figsize=(12,8))"
   ]
  },
  {
   "cell_type": "code",
   "execution_count": 131,
   "metadata": {
    "collapsed": false
   },
   "outputs": [
    {
     "data": {
      "text/plain": [
       "<matplotlib.axes._subplots.AxesSubplot at 0x123d7400>"
      ]
     },
     "execution_count": 131,
     "metadata": {},
     "output_type": "execute_result"
    },
    {
     "data": {
      "image/png": "[encoded data removed]",
      "text/plain": [
       "<matplotlib.figure.Figure at 0x10a7c400>"
      ]
     },
     "metadata": {},
     "output_type": "display_data"
    }
   ],
   "source": [
    "merged.plot(x='311 calls', y='Total Hunits', kind='scatter', grid=True, figsize=(12,8))"
   ]
  },
  {
   "cell_type": "code",
   "execution_count": 132,
   "metadata": {
    "collapsed": true
   },
   "outputs": [],
   "source": [
    "#Number of normalized 311 calls (total calls by census tracts / total population by census tracts)\n",
    "merged['Normalized 311 calls'] = merged['311 calls']/merged['Total Population']"
   ]
  },
  {
   "cell_type": "code",
   "execution_count": 133,
   "metadata": {
    "collapsed": false
   },
   "outputs": [],
   "source": [
    "NNcorr = merged.corr(method='pearson', min_periods=1)"
   ]
  },
  {
   "cell_type": "code",
   "execution_count": 134,
   "metadata": {
    "collapsed": false
   },
   "outputs": [
    {
     "data": {
      "text/plain": [
       "311 calls                      0.483075\n",
       "Total Households               0.387775\n",
       "Median Income                 -0.389183\n",
       "Total cars                     0.025757\n",
       "Total educated                 0.481044\n",
       "Total High School              0.491076\n",
       "Total bachelors                0.047352\n",
       "Total masters                 -0.031236\n",
       "Total PHD                     -0.035201\n",
       "Median Age                    -0.301706\n",
       "Total households               0.387775\n",
       "Total family households        0.538924\n",
       "Total non-family households    0.187065\n",
       "Median House Value            -0.297204\n",
       "Total Hunits                   0.587977\n",
       "Owner Occupied                -0.121759\n",
       "Renter Occupied                0.710683\n",
       "Total Population               0.587995\n",
       "White only                    -0.151203\n",
       "Black only                     0.139863\n",
       "Asian only                     0.038928\n",
       "Hispanic only                  1.000000\n",
       "Other Only                     0.099419\n",
       "Median Rent                   -0.308702\n",
       "Normalized 311 calls          -0.025120\n",
       "Name: Hispanic only, dtype: float64"
      ]
     },
     "execution_count": 134,
     "metadata": {},
     "output_type": "execute_result"
    }
   ],
   "source": [
    "NNcorr.iloc[21]"
   ]
  },
  {
   "cell_type": "code",
   "execution_count": 135,
   "metadata": {
    "collapsed": false
   },
   "outputs": [
    {
     "data": {
      "text/plain": [
       "311 calls                      1.000000\n",
       "Total Households               0.555155\n",
       "Median Income                 -0.093044\n",
       "Total cars                     0.105361\n",
       "Total educated                 0.564145\n",
       "Total High School              0.366435\n",
       "Total bachelors                0.387903\n",
       "Total masters                  0.299839\n",
       "Total PHD                      0.182829\n",
       "Median Age                    -0.181184\n",
       "Total households               0.555155\n",
       "Total family households        0.501749\n",
       "Total non-family households    0.477760\n",
       "Median House Value             0.024578\n",
       "Total Hunits                   0.587996\n",
       "Owner Occupied                 0.035780\n",
       "Renter Occupied                0.621041\n",
       "Total Population               0.589112\n",
       "White only                     0.193078\n",
       "Black only                     0.242965\n",
       "Asian only                     0.038816\n",
       "Hispanic only                  0.483075\n",
       "Other Only                     0.184431\n",
       "Median Rent                   -0.012231\n",
       "Normalized 311 calls           0.027682\n",
       "Name: 311 calls, dtype: float64"
      ]
     },
     "execution_count": 135,
     "metadata": {},
     "output_type": "execute_result"
    }
   ],
   "source": [
    "NNcorr.iloc[0]"
   ]
  },
  {
   "cell_type": "code",
   "execution_count": 136,
   "metadata": {
    "collapsed": true
   },
   "outputs": [],
   "source": [
    "#merged.to_csv('Demographic and 311 calls merged - without normalization.csv')"
   ]
  },
  {
   "cell_type": "code",
   "execution_count": 137,
   "metadata": {
    "collapsed": true
   },
   "outputs": [],
   "source": [
    "#The next lines are going to be used to define the normalization of the demographic\n",
    "#variables by the factor we decided\n",
    "\n",
    "#Number of normalized 311 calls (total calls by census tracts / total population by census tracts)\n",
    "merged['Normalized 311 calls'] = merged['311 calls']/merged['Total Population']"
   ]
  },
  {
   "cell_type": "code",
   "execution_count": 138,
   "metadata": {
    "collapsed": true
   },
   "outputs": [],
   "source": [
    "#Number of normalized cars in each area (total cars by census tracts / total population by census tracts)\n",
    "merged['Normalized cars'] = merged['Total cars']/merged['Total households']"
   ]
  },
  {
   "cell_type": "code",
   "execution_count": 139,
   "metadata": {
    "collapsed": false
   },
   "outputs": [],
   "source": [
    "#Number of normalized educated people by level of education in each area by 1000 people\n",
    "#(total educated people by level of education by census tracts / total population by census tracts)\n",
    "# multiplied by 1000\n",
    "merged['Normalized High school'] = merged['Total High School']/merged['Total Population']*1000\n",
    "merged['Normalized bachelors'] = merged['Total bachelors']/merged['Total Population']*1000\n",
    "merged['Normalized masters'] = merged['Total masters']/merged['Total Population']*1000\n",
    "merged['Normalized PHD'] = merged['Total PHD']/merged['Total Population']*1000"
   ]
  },
  {
   "cell_type": "code",
   "execution_count": 140,
   "metadata": {
    "collapsed": false
   },
   "outputs": [],
   "source": [
    "#Number of normalized type of households in each area (total type of household by census tracts / \n",
    "#total number of households by census tracts)\n",
    "merged['Normalized familiy household'] = merged['Total family households']/merged['Total households']\n",
    "merged['Normalized non-family household'] = merged['Total non-family households']/merged['Total households']"
   ]
  },
  {
   "cell_type": "code",
   "execution_count": 141,
   "metadata": {
    "collapsed": false
   },
   "outputs": [],
   "source": [
    "#Number of normalized type of house units in each area (total type of house units by census tracts / \n",
    "#total number of house units by census tracts)\n",
    "merged['Normalized owner ocuppied'] = merged['Owner Occupied']/merged['Total Hunits']\n",
    "merged['Normalized renter ocuppied'] = merged['Renter Occupied']/merged['Total Hunits']"
   ]
  },
  {
   "cell_type": "code",
   "execution_count": 145,
   "metadata": {
    "collapsed": true
   },
   "outputs": [],
   "source": [
    "#Race normalization based on total population\n",
    "merged['Normalized white only'] = merged['White only']/merged['Total Population']\n",
    "merged['Normalized black only'] = merged['Black only']/merged['Total Population']\n",
    "merged['Normalized asian only'] = merged['Asian only']/merged['Total Population']\n",
    "merged['Normalized hispanic only'] = merged['Hispanic only']/merged['Total Population']\n",
    "merged['Normalized other only'] = merged['Other Only']/merged['Total Population']"
   ]
  },
  {
   "cell_type": "code",
   "execution_count": 146,
   "metadata": {
    "collapsed": false
   },
   "outputs": [
    {
     "data": {
      "text/plain": [
       "Index([u'BoroCT2010', u'311 calls', u'Total Households', u'Median Income',\n",
       "       u'Total cars', u'Total educated', u'Total High School',\n",
       "       u'Total bachelors', u'Total masters', u'Total PHD', u'Median Age',\n",
       "       u'Total households', u'Total family households',\n",
       "       u'Total non-family households', u'Median House Value', u'Total Hunits',\n",
       "       u'Owner Occupied', u'Renter Occupied', u'Total Population',\n",
       "       u'White only', u'Black only', u'Asian only', u'Hispanic only',\n",
       "       u'Other Only', u'Median Rent', u'Normalized 311 calls',\n",
       "       u'Normalized cars', u'Normalized High school', u'Normalized bachelors',\n",
       "       u'Normalized masters', u'Normalized PHD',\n",
       "       u'Normalized familiy household', u'Normalized non-family household',\n",
       "       u'Normalized owner ocuppied', u'Normalized renter ocuppied',\n",
       "       u'Normalized white only', u'Normalized black only',\n",
       "       u'Normalized asian only', u'Normalized hispanic only',\n",
       "       u'Normalized other only'],\n",
       "      dtype='object')"
      ]
     },
     "execution_count": 146,
     "metadata": {},
     "output_type": "execute_result"
    }
   ],
   "source": [
    "merged.columns"
   ]
  },
  {
   "cell_type": "code",
   "execution_count": 147,
   "metadata": {
    "collapsed": true
   },
   "outputs": [],
   "source": [
    "merged.to_csv('Demographic and 311 calls merged - Census tract level - all features.csv')"
   ]
  },
  {
   "cell_type": "code",
   "execution_count": 148,
   "metadata": {
    "collapsed": false
   },
   "outputs": [],
   "source": [
    "merged = merged[['Normalized 311 calls', 'Median House Value', 'Median Age', 'Median Rent', \n",
    "                         'Median Income', 'Normalized cars', 'Normalized High school', \n",
    "                         'Normalized bachelors', 'Normalized masters', 'Normalized PHD', 'Normalized familiy household',\n",
    "                         'Normalized non-family household', 'Normalized owner ocuppied', 'Normalized renter ocuppied',\n",
    "                         'Total Population', 'Total households', 'Normalized white only', 'Normalized black only', \n",
    "                         'Normalized asian only', 'Normalized hispanic only', 'Normalized other only']]"
   ]
  },
  {
   "cell_type": "code",
   "execution_count": 149,
   "metadata": {
    "collapsed": false
   },
   "outputs": [
    {
     "data": {
      "text/plain": [
       "Index([u'Normalized 311 calls', u'Median House Value', u'Median Age',\n",
       "       u'Median Rent', u'Median Income', u'Normalized cars',\n",
       "       u'Normalized High school', u'Normalized bachelors',\n",
       "       u'Normalized masters', u'Normalized PHD',\n",
       "       u'Normalized familiy household', u'Normalized non-family household',\n",
       "       u'Normalized owner ocuppied', u'Normalized renter ocuppied',\n",
       "       u'Total Population', u'Total households', u'Normalized white only',\n",
       "       u'Normalized black only', u'Normalized asian only',\n",
       "       u'Normalized hispanic only', u'Normalized other only'],\n",
       "      dtype='object')"
      ]
     },
     "execution_count": 149,
     "metadata": {},
     "output_type": "execute_result"
    }
   ],
   "source": [
    "merged.columns"
   ]
  },
  {
   "cell_type": "code",
   "execution_count": 150,
   "metadata": {
    "collapsed": false
   },
   "outputs": [
    {
     "data": {
      "text/html": [
       "<div>\n",
       "<table border=\"1\" class=\"dataframe\">\n",
       "  <thead>\n",
       "    <tr style=\"text-align: right;\">\n",
       "      <th></th>\n",
       "      <th>Normalized 311 calls</th>\n",
       "      <th>Median House Value</th>\n",
       "      <th>Median Age</th>\n",
       "      <th>Median Rent</th>\n",
       "      <th>Median Income</th>\n",
       "      <th>Normalized cars</th>\n",
       "      <th>Normalized High school</th>\n",
       "      <th>Normalized bachelors</th>\n",
       "      <th>Normalized masters</th>\n",
       "      <th>Normalized PHD</th>\n",
       "      <th>...</th>\n",
       "      <th>Normalized non-family household</th>\n",
       "      <th>Normalized owner ocuppied</th>\n",
       "      <th>Normalized renter ocuppied</th>\n",
       "      <th>Total Population</th>\n",
       "      <th>Total households</th>\n",
       "      <th>Normalized white only</th>\n",
       "      <th>Normalized black only</th>\n",
       "      <th>Normalized asian only</th>\n",
       "      <th>Normalized hispanic only</th>\n",
       "      <th>Normalized other only</th>\n",
       "    </tr>\n",
       "  </thead>\n",
       "  <tbody>\n",
       "    <tr>\n",
       "      <th>2073</th>\n",
       "      <td>0.145426</td>\n",
       "      <td>351700.0</td>\n",
       "      <td>32.2</td>\n",
       "      <td>1294.0</td>\n",
       "      <td>59625.0</td>\n",
       "      <td>1.278022</td>\n",
       "      <td>194.427979</td>\n",
       "      <td>89.903181</td>\n",
       "      <td>50.780478</td>\n",
       "      <td>3.951788</td>\n",
       "      <td>...</td>\n",
       "      <td>0.317582</td>\n",
       "      <td>0.574367</td>\n",
       "      <td>0.425633</td>\n",
       "      <td>5061.0</td>\n",
       "      <td>1820.0</td>\n",
       "      <td>0.472831</td>\n",
       "      <td>0.107686</td>\n",
       "      <td>0.129619</td>\n",
       "      <td>0.274847</td>\n",
       "      <td>0.015017</td>\n",
       "    </tr>\n",
       "    <tr>\n",
       "      <th>2074</th>\n",
       "      <td>0.138437</td>\n",
       "      <td>321700.0</td>\n",
       "      <td>36.5</td>\n",
       "      <td>1650.0</td>\n",
       "      <td>80887.0</td>\n",
       "      <td>1.475748</td>\n",
       "      <td>171.635778</td>\n",
       "      <td>120.225624</td>\n",
       "      <td>63.336019</td>\n",
       "      <td>11.925866</td>\n",
       "      <td>...</td>\n",
       "      <td>0.163055</td>\n",
       "      <td>0.670266</td>\n",
       "      <td>0.329734</td>\n",
       "      <td>6205.0</td>\n",
       "      <td>1938.0</td>\n",
       "      <td>0.238517</td>\n",
       "      <td>0.221273</td>\n",
       "      <td>0.143272</td>\n",
       "      <td>0.369541</td>\n",
       "      <td>0.027397</td>\n",
       "    </tr>\n",
       "    <tr>\n",
       "      <th>2075</th>\n",
       "      <td>0.120027</td>\n",
       "      <td>344600.0</td>\n",
       "      <td>30.8</td>\n",
       "      <td>603.0</td>\n",
       "      <td>27031.0</td>\n",
       "      <td>0.636280</td>\n",
       "      <td>135.459534</td>\n",
       "      <td>82.304527</td>\n",
       "      <td>8.230453</td>\n",
       "      <td>0.000000</td>\n",
       "      <td>...</td>\n",
       "      <td>0.229282</td>\n",
       "      <td>0.203018</td>\n",
       "      <td>0.796982</td>\n",
       "      <td>2916.0</td>\n",
       "      <td>1086.0</td>\n",
       "      <td>0.045267</td>\n",
       "      <td>0.597737</td>\n",
       "      <td>0.048011</td>\n",
       "      <td>0.304527</td>\n",
       "      <td>0.004458</td>\n",
       "    </tr>\n",
       "    <tr>\n",
       "      <th>2076</th>\n",
       "      <td>0.248291</td>\n",
       "      <td>312700.0</td>\n",
       "      <td>30.6</td>\n",
       "      <td>754.0</td>\n",
       "      <td>31750.0</td>\n",
       "      <td>0.862261</td>\n",
       "      <td>184.123484</td>\n",
       "      <td>95.920617</td>\n",
       "      <td>28.445424</td>\n",
       "      <td>0.000000</td>\n",
       "      <td>...</td>\n",
       "      <td>0.276714</td>\n",
       "      <td>0.522596</td>\n",
       "      <td>0.477404</td>\n",
       "      <td>4535.0</td>\n",
       "      <td>1619.0</td>\n",
       "      <td>0.144212</td>\n",
       "      <td>0.639471</td>\n",
       "      <td>0.003528</td>\n",
       "      <td>0.202867</td>\n",
       "      <td>0.009923</td>\n",
       "    </tr>\n",
       "    <tr>\n",
       "      <th>2077</th>\n",
       "      <td>0.289331</td>\n",
       "      <td>186600.0</td>\n",
       "      <td>42.0</td>\n",
       "      <td>1281.0</td>\n",
       "      <td>58804.0</td>\n",
       "      <td>1.245690</td>\n",
       "      <td>176.311031</td>\n",
       "      <td>100.361664</td>\n",
       "      <td>17.179024</td>\n",
       "      <td>0.000000</td>\n",
       "      <td>...</td>\n",
       "      <td>0.278017</td>\n",
       "      <td>0.771248</td>\n",
       "      <td>0.228752</td>\n",
       "      <td>1106.0</td>\n",
       "      <td>464.0</td>\n",
       "      <td>0.311935</td>\n",
       "      <td>0.223327</td>\n",
       "      <td>0.000000</td>\n",
       "      <td>0.459313</td>\n",
       "      <td>0.005425</td>\n",
       "    </tr>\n",
       "  </tbody>\n",
       "</table>\n",
       "<p>5 rows × 21 columns</p>\n",
       "</div>"
      ],
      "text/plain": [
       "      Normalized 311 calls  Median House Value  Median Age  Median Rent  \\\n",
       "2073              0.145426            351700.0        32.2       1294.0   \n",
       "2074              0.138437            321700.0        36.5       1650.0   \n",
       "2075              0.120027            344600.0        30.8        603.0   \n",
       "2076              0.248291            312700.0        30.6        754.0   \n",
       "2077              0.289331            186600.0        42.0       1281.0   \n",
       "\n",
       "      Median Income  Normalized cars  Normalized High school  \\\n",
       "2073        59625.0         1.278022              194.427979   \n",
       "2074        80887.0         1.475748              171.635778   \n",
       "2075        27031.0         0.636280              135.459534   \n",
       "2076        31750.0         0.862261              184.123484   \n",
       "2077        58804.0         1.245690              176.311031   \n",
       "\n",
       "      Normalized bachelors  Normalized masters  Normalized PHD  \\\n",
       "2073             89.903181           50.780478        3.951788   \n",
       "2074            120.225624           63.336019       11.925866   \n",
       "2075             82.304527            8.230453        0.000000   \n",
       "2076             95.920617           28.445424        0.000000   \n",
       "2077            100.361664           17.179024        0.000000   \n",
       "\n",
       "              ...            Normalized non-family household  \\\n",
       "2073          ...                                   0.317582   \n",
       "2074          ...                                   0.163055   \n",
       "2075          ...                                   0.229282   \n",
       "2076          ...                                   0.276714   \n",
       "2077          ...                                   0.278017   \n",
       "\n",
       "      Normalized owner ocuppied  Normalized renter ocuppied  Total Population  \\\n",
       "2073                   0.574367                    0.425633            5061.0   \n",
       "2074                   0.670266                    0.329734            6205.0   \n",
       "2075                   0.203018                    0.796982            2916.0   \n",
       "2076                   0.522596                    0.477404            4535.0   \n",
       "2077                   0.771248                    0.228752            1106.0   \n",
       "\n",
       "      Total households  Normalized white only  Normalized black only  \\\n",
       "2073            1820.0               0.472831               0.107686   \n",
       "2074            1938.0               0.238517               0.221273   \n",
       "2075            1086.0               0.045267               0.597737   \n",
       "2076            1619.0               0.144212               0.639471   \n",
       "2077             464.0               0.311935               0.223327   \n",
       "\n",
       "      Normalized asian only  Normalized hispanic only  Normalized other only  \n",
       "2073               0.129619                  0.274847               0.015017  \n",
       "2074               0.143272                  0.369541               0.027397  \n",
       "2075               0.048011                  0.304527               0.004458  \n",
       "2076               0.003528                  0.202867               0.009923  \n",
       "2077               0.000000                  0.459313               0.005425  \n",
       "\n",
       "[5 rows x 21 columns]"
      ]
     },
     "execution_count": 150,
     "metadata": {},
     "output_type": "execute_result"
    }
   ],
   "source": [
    "merged.tail()"
   ]
  },
  {
   "cell_type": "code",
   "execution_count": 151,
   "metadata": {
    "collapsed": true
   },
   "outputs": [],
   "source": [
    "Normcorr = merged.corr(method='pearson', min_periods=1)"
   ]
  },
  {
   "cell_type": "code",
   "execution_count": 152,
   "metadata": {
    "collapsed": false
   },
   "outputs": [
    {
     "data": {
      "text/plain": [
       "Normalized 311 calls               1.000000\n",
       "Median House Value                 0.039808\n",
       "Median Age                        -0.006998\n",
       "Median Rent                        0.015241\n",
       "Median Income                      0.015507\n",
       "Normalized cars                   -0.074097\n",
       "Normalized High school             0.035083\n",
       "Normalized bachelors              -0.032696\n",
       "Normalized masters                -0.020984\n",
       "Normalized PHD                    -0.015622\n",
       "Normalized familiy household      -0.110036\n",
       "Normalized non-family household    0.110036\n",
       "Normalized owner ocuppied         -0.082388\n",
       "Normalized renter ocuppied         0.082388\n",
       "Total Population                  -0.057227\n",
       "Total households                  -0.046488\n",
       "Normalized white only             -0.022699\n",
       "Normalized black only              0.006801\n",
       "Normalized asian only             -0.024157\n",
       "Normalized hispanic only           0.018103\n",
       "Normalized other only              0.115431\n",
       "Name: Normalized 311 calls, dtype: float64"
      ]
     },
     "execution_count": 152,
     "metadata": {},
     "output_type": "execute_result"
    }
   ],
   "source": [
    "Normcorr.iloc[0]"
   ]
  },
  {
   "cell_type": "code",
   "execution_count": null,
   "metadata": {
    "collapsed": false
   },
   "outputs": [],
   "source": [
    "#merged.to_csv('Demographic and 311 calls merged - 2.csv')"
   ]
  },
  {
   "cell_type": "code",
   "execution_count": null,
   "metadata": {
    "collapsed": true
   },
   "outputs": [],
   "source": []
  },
  {
   "cell_type": "code",
   "execution_count": null,
   "metadata": {
    "collapsed": true
   },
   "outputs": [],
   "source": []
  },
  {
   "cell_type": "code",
   "execution_count": null,
   "metadata": {
    "collapsed": true
   },
   "outputs": [],
   "source": []
  }
 ],
 "metadata": {
  "kernelspec": {
   "display_name": "Python 2",
   "language": "python",
   "name": "python2"
  },
  "language_info": {
   "codemirror_mode": {
    "name": "ipython",
    "version": 2
   },
   "file_extension": ".py",
   "mimetype": "text/x-python",
   "name": "python",
   "nbconvert_exporter": "python",
   "pygments_lexer": "ipython2",
   "version": "2.7.11"
  }
 },
 "nbformat": 4,
 "nbformat_minor": 0
}
