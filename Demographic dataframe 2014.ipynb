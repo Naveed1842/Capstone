{
 "cells": [
  {
   "cell_type": "code",
   "execution_count": 1,
   "metadata": {
    "collapsed": true
   },
   "outputs": [],
   "source": [
    "import pandas as pd\n",
    "import geopandas as gpd\n",
    "import numpy as np\n",
    "import matplotlib\n",
    "%matplotlib inline\n",
    "import matplotlib.pyplot as plt\n",
    "from geopandas.tools import sjoin\n",
    "from shapely.geometry import Point, mapping,shape"
   ]
  },
  {
   "cell_type": "code",
   "execution_count": 2,
   "metadata": {
    "collapsed": true
   },
   "outputs": [],
   "source": [
    "#Importing the median household income dataframe\n",
    "mhincome = pd.read_csv('2014 Median Household Income.csv', skiprows=[0])"
   ]
  },
  {
   "cell_type": "code",
   "execution_count": 3,
   "metadata": {
    "collapsed": false
   },
   "outputs": [
    {
     "data": {
      "text/plain": [
       "Index([u'Id', u'Id2', u'Geography', u'Total; Estimate; Households',\n",
       "       u'Total; Margin of Error; Households',\n",
       "       u'Median income (dollars); Estimate; Households',\n",
       "       u'Median income (dollars); Margin of Error; Households',\n",
       "       u'Total; Estimate; Households - One race-- - White',\n",
       "       u'Total; Margin of Error; Households - One race-- - White',\n",
       "       u'Median income (dollars); Estimate; Households - One race-- - White', \n",
       "       ...\n",
       "       u'Median income (dollars); Estimate; PERCENT IMPUTED - Household income in the past 12 months',\n",
       "       u'Median income (dollars); Margin of Error; PERCENT IMPUTED - Household income in the past 12 months',\n",
       "       u'Total; Estimate; PERCENT IMPUTED - Family income in the past 12 months',\n",
       "       u'Total; Margin of Error; PERCENT IMPUTED - Family income in the past 12 months',\n",
       "       u'Median income (dollars); Estimate; PERCENT IMPUTED - Family income in the past 12 months',\n",
       "       u'Median income (dollars); Margin of Error; PERCENT IMPUTED - Family income in the past 12 months',\n",
       "       u'Total; Estimate; PERCENT IMPUTED - Nonfamily income in the past 12 months',\n",
       "       u'Total; Margin of Error; PERCENT IMPUTED - Nonfamily income in the past 12 months',\n",
       "       u'Median income (dollars); Estimate; PERCENT IMPUTED - Nonfamily income in the past 12 months',\n",
       "       u'Median income (dollars); Margin of Error; PERCENT IMPUTED - Nonfamily income in the past 12 months'],\n",
       "      dtype='object', length=123)"
      ]
     },
     "execution_count": 3,
     "metadata": {},
     "output_type": "execute_result"
    }
   ],
   "source": [
    "mhincome.columns"
   ]
  },
  {
   "cell_type": "code",
   "execution_count": 4,
   "metadata": {
    "collapsed": false
   },
   "outputs": [
    {
     "data": {
      "text/plain": [
       "2167"
      ]
     },
     "execution_count": 4,
     "metadata": {},
     "output_type": "execute_result"
    }
   ],
   "source": [
    "len(mhincome)"
   ]
  },
  {
   "cell_type": "code",
   "execution_count": 5,
   "metadata": {
    "collapsed": true
   },
   "outputs": [],
   "source": [
    "mhincome = mhincome[['Id2','Total; Estimate; Households', 'Median income (dollars); Estimate; Households']]"
   ]
  },
  {
   "cell_type": "code",
   "execution_count": 6,
   "metadata": {
    "collapsed": false
   },
   "outputs": [],
   "source": [
    "mhincome.columns = [['BoroCT2010', 'Total Households', 'Median Income']]"
   ]
  },
  {
   "cell_type": "code",
   "execution_count": 7,
   "metadata": {
    "collapsed": false
   },
   "outputs": [],
   "source": [
    "#The next lines (bewteen 7 and 17) are used for procesing the census ttacys numbers\n",
    "#to match the shapefile numbers from NYCBytes\n",
    "mhincome['BoroCT2010'] = mhincome['BoroCT2010'].map(lambda x: str(x)[3:])"
   ]
  },
  {
   "cell_type": "code",
   "execution_count": 8,
   "metadata": {
    "collapsed": true
   },
   "outputs": [],
   "source": [
    "mhincome['Borocode'] = mhincome['BoroCT2010'].str[:2]"
   ]
  },
  {
   "cell_type": "code",
   "execution_count": 9,
   "metadata": {
    "collapsed": true
   },
   "outputs": [],
   "source": [
    "mhincome['Median Income'].replace(regex=True,inplace=True,to_replace=r'\\D',value=r'')"
   ]
  },
  {
   "cell_type": "code",
   "execution_count": 10,
   "metadata": {
    "collapsed": false
   },
   "outputs": [],
   "source": [
    "mhincome['Median Income'] = mhincome['Median Income'].replace('', 'NaN')"
   ]
  },
  {
   "cell_type": "code",
   "execution_count": 11,
   "metadata": {
    "collapsed": false
   },
   "outputs": [],
   "source": [
    "mhincome['Median Income'] = mhincome['Median Income'].astype(float)"
   ]
  },
  {
   "cell_type": "code",
   "execution_count": 12,
   "metadata": {
    "collapsed": true
   },
   "outputs": [],
   "source": [
    "mhincome['Total Households'] = mhincome['Total Households'].astype(float)"
   ]
  },
  {
   "cell_type": "code",
   "execution_count": 13,
   "metadata": {
    "collapsed": false
   },
   "outputs": [],
   "source": [
    "bcorr = {'05': '2', '47': '3', '61' : '1', '81': '4', '85' : '5'}"
   ]
  },
  {
   "cell_type": "code",
   "execution_count": 14,
   "metadata": {
    "collapsed": false
   },
   "outputs": [],
   "source": [
    "mhincome['Borocode2'] = mhincome['Borocode'].map(bcorr)"
   ]
  },
  {
   "cell_type": "code",
   "execution_count": 15,
   "metadata": {
    "collapsed": true
   },
   "outputs": [],
   "source": [
    "mhincome['BoroCT2010'] = mhincome['BoroCT2010'].map(lambda x: str(x)[2:])"
   ]
  },
  {
   "cell_type": "code",
   "execution_count": 16,
   "metadata": {
    "collapsed": false
   },
   "outputs": [],
   "source": [
    "mhincome['BoroCT2010'] = mhincome.Borocode2 + mhincome.BoroCT2010.astype(str)"
   ]
  },
  {
   "cell_type": "code",
   "execution_count": 17,
   "metadata": {
    "collapsed": false
   },
   "outputs": [],
   "source": [
    "mhincome = mhincome[['BoroCT2010', 'Total Households', 'Median Income']]"
   ]
  },
  {
   "cell_type": "code",
   "execution_count": 18,
   "metadata": {
    "collapsed": false
   },
   "outputs": [
    {
     "data": {
      "text/html": [
       "<div>\n",
       "<table border=\"1\" class=\"dataframe\">\n",
       "  <thead>\n",
       "    <tr style=\"text-align: right;\">\n",
       "      <th></th>\n",
       "      <th>BoroCT2010</th>\n",
       "      <th>Total Households</th>\n",
       "      <th>Median Income</th>\n",
       "    </tr>\n",
       "  </thead>\n",
       "  <tbody>\n",
       "    <tr>\n",
       "      <th>2162</th>\n",
       "      <td>5030302</td>\n",
       "      <td>1938</td>\n",
       "      <td>80887</td>\n",
       "    </tr>\n",
       "    <tr>\n",
       "      <th>2163</th>\n",
       "      <td>5031901</td>\n",
       "      <td>1086</td>\n",
       "      <td>27031</td>\n",
       "    </tr>\n",
       "    <tr>\n",
       "      <th>2164</th>\n",
       "      <td>5031902</td>\n",
       "      <td>1619</td>\n",
       "      <td>31750</td>\n",
       "    </tr>\n",
       "    <tr>\n",
       "      <th>2165</th>\n",
       "      <td>5032300</td>\n",
       "      <td>464</td>\n",
       "      <td>58804</td>\n",
       "    </tr>\n",
       "    <tr>\n",
       "      <th>2166</th>\n",
       "      <td>5990100</td>\n",
       "      <td>0</td>\n",
       "      <td>NaN</td>\n",
       "    </tr>\n",
       "  </tbody>\n",
       "</table>\n",
       "</div>"
      ],
      "text/plain": [
       "     BoroCT2010  Total Households  Median Income\n",
       "2162    5030302              1938          80887\n",
       "2163    5031901              1086          27031\n",
       "2164    5031902              1619          31750\n",
       "2165    5032300               464          58804\n",
       "2166    5990100                 0            NaN"
      ]
     },
     "execution_count": 18,
     "metadata": {},
     "output_type": "execute_result"
    }
   ],
   "source": [
    "mhincome.tail()"
   ]
  },
  {
   "cell_type": "code",
   "execution_count": 19,
   "metadata": {
    "collapsed": false,
    "scrolled": true
   },
   "outputs": [],
   "source": [
    "#Importing the car ownership data\n",
    "carowner = pd.read_csv('2014 Car Ownership.csv', skiprows=[0])"
   ]
  },
  {
   "cell_type": "code",
   "execution_count": 20,
   "metadata": {
    "collapsed": false
   },
   "outputs": [
    {
     "data": {
      "text/plain": [
       "Index([u'Id', u'Id2', u'Geography',\n",
       "       u'Estimate; Aggregate number of vehicles available:',\n",
       "       u'Margin of Error; Aggregate number of vehicles available:',\n",
       "       u'Estimate; Aggregate number of vehicles available: - Owner occupied',\n",
       "       u'Margin of Error; Aggregate number of vehicles available: - Owner occupied',\n",
       "       u'Estimate; Aggregate number of vehicles available: - Renter occupied',\n",
       "       u'Margin of Error; Aggregate number of vehicles available: - Renter occupied'],\n",
       "      dtype='object')"
      ]
     },
     "execution_count": 20,
     "metadata": {},
     "output_type": "execute_result"
    }
   ],
   "source": [
    "carowner.columns"
   ]
  },
  {
   "cell_type": "code",
   "execution_count": 21,
   "metadata": {
    "collapsed": false
   },
   "outputs": [],
   "source": [
    "carowner = carowner[['Id2','Estimate; Aggregate number of vehicles available:']]"
   ]
  },
  {
   "cell_type": "code",
   "execution_count": 22,
   "metadata": {
    "collapsed": false
   },
   "outputs": [],
   "source": [
    "carowner.columns = [['BoroCT2010', 'Total cars']]"
   ]
  },
  {
   "cell_type": "code",
   "execution_count": 23,
   "metadata": {
    "collapsed": false
   },
   "outputs": [],
   "source": [
    "# Same procedure to match the census tracts numbers from census to the NYCbytes\n",
    "#numbers\n",
    "carowner['BoroCT2010'] = carowner['BoroCT2010'].map(lambda x: str(x)[3:])"
   ]
  },
  {
   "cell_type": "code",
   "execution_count": 24,
   "metadata": {
    "collapsed": false
   },
   "outputs": [],
   "source": [
    "carowner['Borocode'] = carowner['BoroCT2010'].str[:2]"
   ]
  },
  {
   "cell_type": "code",
   "execution_count": 25,
   "metadata": {
    "collapsed": true
   },
   "outputs": [],
   "source": [
    "carowner.replace(regex=True,inplace=True,to_replace=r'\\D',value=r'')"
   ]
  },
  {
   "cell_type": "code",
   "execution_count": 26,
   "metadata": {
    "collapsed": true
   },
   "outputs": [],
   "source": [
    "carowner = carowner.replace('', 'NaN')"
   ]
  },
  {
   "cell_type": "code",
   "execution_count": 27,
   "metadata": {
    "collapsed": true
   },
   "outputs": [],
   "source": [
    "carowner['Borocode2'] = carowner['Borocode'].map(bcorr)"
   ]
  },
  {
   "cell_type": "code",
   "execution_count": 28,
   "metadata": {
    "collapsed": false
   },
   "outputs": [
    {
     "data": {
      "text/html": [
       "<div>\n",
       "<table border=\"1\" class=\"dataframe\">\n",
       "  <thead>\n",
       "    <tr style=\"text-align: right;\">\n",
       "      <th></th>\n",
       "      <th>BoroCT2010</th>\n",
       "      <th>Total cars</th>\n",
       "      <th>Borocode</th>\n",
       "      <th>Borocode2</th>\n",
       "    </tr>\n",
       "  </thead>\n",
       "  <tbody>\n",
       "    <tr>\n",
       "      <th>0</th>\n",
       "      <td>05000100</td>\n",
       "      <td>NaN</td>\n",
       "      <td>05</td>\n",
       "      <td>2</td>\n",
       "    </tr>\n",
       "    <tr>\n",
       "      <th>1</th>\n",
       "      <td>05000200</td>\n",
       "      <td>1709</td>\n",
       "      <td>05</td>\n",
       "      <td>2</td>\n",
       "    </tr>\n",
       "    <tr>\n",
       "      <th>2</th>\n",
       "      <td>05000400</td>\n",
       "      <td>1872</td>\n",
       "      <td>05</td>\n",
       "      <td>2</td>\n",
       "    </tr>\n",
       "    <tr>\n",
       "      <th>3</th>\n",
       "      <td>05001600</td>\n",
       "      <td>1294</td>\n",
       "      <td>05</td>\n",
       "      <td>2</td>\n",
       "    </tr>\n",
       "    <tr>\n",
       "      <th>4</th>\n",
       "      <td>05001900</td>\n",
       "      <td>354</td>\n",
       "      <td>05</td>\n",
       "      <td>2</td>\n",
       "    </tr>\n",
       "  </tbody>\n",
       "</table>\n",
       "</div>"
      ],
      "text/plain": [
       "  BoroCT2010 Total cars Borocode Borocode2\n",
       "0   05000100        NaN       05         2\n",
       "1   05000200       1709       05         2\n",
       "2   05000400       1872       05         2\n",
       "3   05001600       1294       05         2\n",
       "4   05001900        354       05         2"
      ]
     },
     "execution_count": 28,
     "metadata": {},
     "output_type": "execute_result"
    }
   ],
   "source": [
    "carowner.head()"
   ]
  },
  {
   "cell_type": "code",
   "execution_count": 29,
   "metadata": {
    "collapsed": true
   },
   "outputs": [],
   "source": [
    "carowner['BoroCT2010'] = carowner['BoroCT2010'].map(lambda x: str(x)[2:])"
   ]
  },
  {
   "cell_type": "code",
   "execution_count": 30,
   "metadata": {
    "collapsed": false
   },
   "outputs": [],
   "source": [
    "carowner['BoroCT2010'] = carowner.Borocode2.astype(str) + carowner.BoroCT2010.astype(str)"
   ]
  },
  {
   "cell_type": "code",
   "execution_count": 31,
   "metadata": {
    "collapsed": false
   },
   "outputs": [],
   "source": [
    "carowner = carowner[['BoroCT2010', 'Total cars']]"
   ]
  },
  {
   "cell_type": "code",
   "execution_count": 32,
   "metadata": {
    "collapsed": false
   },
   "outputs": [
    {
     "data": {
      "text/plain": [
       "2083"
      ]
     },
     "execution_count": 32,
     "metadata": {},
     "output_type": "execute_result"
    }
   ],
   "source": [
    "len(carowner)"
   ]
  },
  {
   "cell_type": "code",
   "execution_count": 33,
   "metadata": {
    "collapsed": false
   },
   "outputs": [],
   "source": [
    "carowner['Total cars'] = carowner['Total cars'].astype(float)"
   ]
  },
  {
   "cell_type": "code",
   "execution_count": 34,
   "metadata": {
    "collapsed": false
   },
   "outputs": [
    {
     "data": {
      "text/html": [
       "<div>\n",
       "<table border=\"1\" class=\"dataframe\">\n",
       "  <thead>\n",
       "    <tr style=\"text-align: right;\">\n",
       "      <th></th>\n",
       "      <th>BoroCT2010</th>\n",
       "      <th>Total cars</th>\n",
       "    </tr>\n",
       "  </thead>\n",
       "  <tbody>\n",
       "    <tr>\n",
       "      <th>2078</th>\n",
       "      <td>5030302</td>\n",
       "      <td>2860</td>\n",
       "    </tr>\n",
       "    <tr>\n",
       "      <th>2079</th>\n",
       "      <td>5031901</td>\n",
       "      <td>691</td>\n",
       "    </tr>\n",
       "    <tr>\n",
       "      <th>2080</th>\n",
       "      <td>5031902</td>\n",
       "      <td>1396</td>\n",
       "    </tr>\n",
       "    <tr>\n",
       "      <th>2081</th>\n",
       "      <td>5032300</td>\n",
       "      <td>578</td>\n",
       "    </tr>\n",
       "    <tr>\n",
       "      <th>2082</th>\n",
       "      <td>5990100</td>\n",
       "      <td>NaN</td>\n",
       "    </tr>\n",
       "  </tbody>\n",
       "</table>\n",
       "</div>"
      ],
      "text/plain": [
       "     BoroCT2010  Total cars\n",
       "2078    5030302        2860\n",
       "2079    5031901         691\n",
       "2080    5031902        1396\n",
       "2081    5032300         578\n",
       "2082    5990100         NaN"
      ]
     },
     "execution_count": 34,
     "metadata": {},
     "output_type": "execute_result"
    }
   ],
   "source": [
    "carowner.tail()"
   ]
  },
  {
   "cell_type": "code",
   "execution_count": 35,
   "metadata": {
    "collapsed": true
   },
   "outputs": [],
   "source": [
    "#Importing education level data\n",
    "education = pd.read_csv('2014 Education level.csv', skiprows=[0])"
   ]
  },
  {
   "cell_type": "code",
   "execution_count": 36,
   "metadata": {
    "collapsed": false
   },
   "outputs": [
    {
     "data": {
      "text/plain": [
       "Index([u'Id', u'Id2', u'Geography', u'Estimate; Total:',\n",
       "       u'Margin of Error; Total:',\n",
       "       u'Estimate; Total: - No schooling completed',\n",
       "       u'Margin of Error; Total: - No schooling completed',\n",
       "       u'Estimate; Total: - Nursery school',\n",
       "       u'Margin of Error; Total: - Nursery school',\n",
       "       u'Estimate; Total: - Kindergarten',\n",
       "       u'Margin of Error; Total: - Kindergarten',\n",
       "       u'Estimate; Total: - 1st grade', u'Margin of Error; Total: - 1st grade',\n",
       "       u'Estimate; Total: - 2nd grade', u'Margin of Error; Total: - 2nd grade',\n",
       "       u'Estimate; Total: - 3rd grade', u'Margin of Error; Total: - 3rd grade',\n",
       "       u'Estimate; Total: - 4th grade', u'Margin of Error; Total: - 4th grade',\n",
       "       u'Estimate; Total: - 5th grade', u'Margin of Error; Total: - 5th grade',\n",
       "       u'Estimate; Total: - 6th grade', u'Margin of Error; Total: - 6th grade',\n",
       "       u'Estimate; Total: - 7th grade', u'Margin of Error; Total: - 7th grade',\n",
       "       u'Estimate; Total: - 8th grade', u'Margin of Error; Total: - 8th grade',\n",
       "       u'Estimate; Total: - 9th grade', u'Margin of Error; Total: - 9th grade',\n",
       "       u'Estimate; Total: - 10th grade',\n",
       "       u'Margin of Error; Total: - 10th grade',\n",
       "       u'Estimate; Total: - 11th grade',\n",
       "       u'Margin of Error; Total: - 11th grade',\n",
       "       u'Estimate; Total: - 12th grade, no diploma',\n",
       "       u'Margin of Error; Total: - 12th grade, no diploma',\n",
       "       u'Estimate; Total: - Regular high school diploma',\n",
       "       u'Margin of Error; Total: - Regular high school diploma',\n",
       "       u'Estimate; Total: - GED or alternative credential',\n",
       "       u'Margin of Error; Total: - GED or alternative credential',\n",
       "       u'Estimate; Total: - Some college, less than 1 year',\n",
       "       u'Margin of Error; Total: - Some college, less than 1 year',\n",
       "       u'Estimate; Total: - Some college, 1 or more years, no degree',\n",
       "       u'Margin of Error; Total: - Some college, 1 or more years, no degree',\n",
       "       u'Estimate; Total: - Associate's degree',\n",
       "       u'Margin of Error; Total: - Associate's degree',\n",
       "       u'Estimate; Total: - Bachelor's degree',\n",
       "       u'Margin of Error; Total: - Bachelor's degree',\n",
       "       u'Estimate; Total: - Master's degree',\n",
       "       u'Margin of Error; Total: - Master's degree',\n",
       "       u'Estimate; Total: - Professional school degree',\n",
       "       u'Margin of Error; Total: - Professional school degree',\n",
       "       u'Estimate; Total: - Doctorate degree',\n",
       "       u'Margin of Error; Total: - Doctorate degree'],\n",
       "      dtype='object')"
      ]
     },
     "execution_count": 36,
     "metadata": {},
     "output_type": "execute_result"
    }
   ],
   "source": [
    "education.columns"
   ]
  },
  {
   "cell_type": "code",
   "execution_count": 37,
   "metadata": {
    "collapsed": false
   },
   "outputs": [],
   "source": [
    "education = education[[1, 3, 35, 45, 47, 51]]"
   ]
  },
  {
   "cell_type": "code",
   "execution_count": 38,
   "metadata": {
    "collapsed": false
   },
   "outputs": [],
   "source": [
    "education.columns = [['BoroCT2010', 'Total educated', 'Total High School', 'Total bachelors', \"Total masters\", 'Total PHD']]"
   ]
  },
  {
   "cell_type": "code",
   "execution_count": 39,
   "metadata": {
    "collapsed": false
   },
   "outputs": [
    {
     "data": {
      "text/plain": [
       "2167"
      ]
     },
     "execution_count": 39,
     "metadata": {},
     "output_type": "execute_result"
    }
   ],
   "source": [
    "len(education)"
   ]
  },
  {
   "cell_type": "code",
   "execution_count": 40,
   "metadata": {
    "collapsed": true
   },
   "outputs": [],
   "source": [
    "education.replace(regex=True,inplace=True,to_replace=r'\\D',value=r'')"
   ]
  },
  {
   "cell_type": "code",
   "execution_count": 41,
   "metadata": {
    "collapsed": true
   },
   "outputs": [],
   "source": [
    "education = education.replace('', 'NaN')"
   ]
  },
  {
   "cell_type": "code",
   "execution_count": 42,
   "metadata": {
    "collapsed": true
   },
   "outputs": [],
   "source": [
    "education = education.astype(float)"
   ]
  },
  {
   "cell_type": "code",
   "execution_count": 43,
   "metadata": {
    "collapsed": false
   },
   "outputs": [],
   "source": [
    "education['BoroCT2010'] = mhincome['BoroCT2010']"
   ]
  },
  {
   "cell_type": "code",
   "execution_count": 44,
   "metadata": {
    "collapsed": false
   },
   "outputs": [
    {
     "data": {
      "text/html": [
       "<div>\n",
       "<table border=\"1\" class=\"dataframe\">\n",
       "  <thead>\n",
       "    <tr style=\"text-align: right;\">\n",
       "      <th></th>\n",
       "      <th>BoroCT2010</th>\n",
       "      <th>Total educated</th>\n",
       "      <th>Total High School</th>\n",
       "      <th>Total bachelors</th>\n",
       "      <th>Total masters</th>\n",
       "      <th>Total PHD</th>\n",
       "    </tr>\n",
       "  </thead>\n",
       "  <tbody>\n",
       "    <tr>\n",
       "      <th>2162</th>\n",
       "      <td>5030302</td>\n",
       "      <td>4038</td>\n",
       "      <td>1065</td>\n",
       "      <td>746</td>\n",
       "      <td>393</td>\n",
       "      <td>74</td>\n",
       "    </tr>\n",
       "    <tr>\n",
       "      <th>2163</th>\n",
       "      <td>5031901</td>\n",
       "      <td>1709</td>\n",
       "      <td>395</td>\n",
       "      <td>240</td>\n",
       "      <td>24</td>\n",
       "      <td>0</td>\n",
       "    </tr>\n",
       "    <tr>\n",
       "      <th>2164</th>\n",
       "      <td>5031902</td>\n",
       "      <td>2664</td>\n",
       "      <td>835</td>\n",
       "      <td>435</td>\n",
       "      <td>129</td>\n",
       "      <td>0</td>\n",
       "    </tr>\n",
       "    <tr>\n",
       "      <th>2165</th>\n",
       "      <td>5032300</td>\n",
       "      <td>826</td>\n",
       "      <td>195</td>\n",
       "      <td>111</td>\n",
       "      <td>19</td>\n",
       "      <td>0</td>\n",
       "    </tr>\n",
       "    <tr>\n",
       "      <th>2166</th>\n",
       "      <td>5990100</td>\n",
       "      <td>0</td>\n",
       "      <td>0</td>\n",
       "      <td>0</td>\n",
       "      <td>0</td>\n",
       "      <td>0</td>\n",
       "    </tr>\n",
       "  </tbody>\n",
       "</table>\n",
       "</div>"
      ],
      "text/plain": [
       "     BoroCT2010  Total educated  Total High School  Total bachelors  \\\n",
       "2162    5030302            4038               1065              746   \n",
       "2163    5031901            1709                395              240   \n",
       "2164    5031902            2664                835              435   \n",
       "2165    5032300             826                195              111   \n",
       "2166    5990100               0                  0                0   \n",
       "\n",
       "      Total masters  Total PHD  \n",
       "2162            393         74  \n",
       "2163             24          0  \n",
       "2164            129          0  \n",
       "2165             19          0  \n",
       "2166              0          0  "
      ]
     },
     "execution_count": 44,
     "metadata": {},
     "output_type": "execute_result"
    }
   ],
   "source": [
    "education.tail()"
   ]
  },
  {
   "cell_type": "code",
   "execution_count": 45,
   "metadata": {
    "collapsed": false
   },
   "outputs": [
    {
     "data": {
      "text/plain": [
       "Index([u'Id', u'Id2', u'Geography', u'Total; Estimate; Total population',\n",
       "       u'Total; Margin of Error; Total population',\n",
       "       u'Male; Estimate; Total population',\n",
       "       u'Male; Margin of Error; Total population',\n",
       "       u'Female; Estimate; Total population',\n",
       "       u'Female; Margin of Error; Total population',\n",
       "       u'Total; Estimate; AGE - Under 5 years', \n",
       "       ...\n",
       "       u'Male; Estimate; PERCENT IMPUTED - Sex',\n",
       "       u'Male; Margin of Error; PERCENT IMPUTED - Sex',\n",
       "       u'Female; Estimate; PERCENT IMPUTED - Sex',\n",
       "       u'Female; Margin of Error; PERCENT IMPUTED - Sex',\n",
       "       u'Total; Estimate; PERCENT IMPUTED - Age',\n",
       "       u'Total; Margin of Error; PERCENT IMPUTED - Age',\n",
       "       u'Male; Estimate; PERCENT IMPUTED - Age',\n",
       "       u'Male; Margin of Error; PERCENT IMPUTED - Age',\n",
       "       u'Female; Estimate; PERCENT IMPUTED - Age',\n",
       "       u'Female; Margin of Error; PERCENT IMPUTED - Age'],\n",
       "      dtype='object', length=219)"
      ]
     },
     "execution_count": 45,
     "metadata": {},
     "output_type": "execute_result"
    }
   ],
   "source": [
    "#Import median age dataframe\n",
    "age = pd.read_csv('2014 estimated age.csv', skiprows=[0])\n",
    "age.columns"
   ]
  },
  {
   "cell_type": "code",
   "execution_count": 46,
   "metadata": {
    "collapsed": true
   },
   "outputs": [],
   "source": [
    "age = age[['Id2', 'Total; Estimate; SUMMARY INDICATORS - Median age (years)']]"
   ]
  },
  {
   "cell_type": "code",
   "execution_count": 47,
   "metadata": {
    "collapsed": false
   },
   "outputs": [],
   "source": [
    "age.columns = [['BoroCT2010', 'Median Age']]"
   ]
  },
  {
   "cell_type": "code",
   "execution_count": 48,
   "metadata": {
    "collapsed": false
   },
   "outputs": [
    {
     "data": {
      "text/plain": [
       "2167"
      ]
     },
     "execution_count": 48,
     "metadata": {},
     "output_type": "execute_result"
    }
   ],
   "source": [
    "len(age)"
   ]
  },
  {
   "cell_type": "code",
   "execution_count": 49,
   "metadata": {
    "collapsed": true
   },
   "outputs": [],
   "source": [
    "age.replace(regex=True,inplace=True,to_replace=r'\\D',value=r'')"
   ]
  },
  {
   "cell_type": "code",
   "execution_count": 50,
   "metadata": {
    "collapsed": true
   },
   "outputs": [],
   "source": [
    "age = age.replace('', 'NaN')"
   ]
  },
  {
   "cell_type": "code",
   "execution_count": 51,
   "metadata": {
    "collapsed": false
   },
   "outputs": [],
   "source": [
    "age = age.astype(float)/10"
   ]
  },
  {
   "cell_type": "code",
   "execution_count": 52,
   "metadata": {
    "collapsed": true
   },
   "outputs": [],
   "source": [
    "age['BoroCT2010'] = mhincome['BoroCT2010']"
   ]
  },
  {
   "cell_type": "code",
   "execution_count": 53,
   "metadata": {
    "collapsed": false
   },
   "outputs": [
    {
     "data": {
      "text/html": [
       "<div>\n",
       "<table border=\"1\" class=\"dataframe\">\n",
       "  <thead>\n",
       "    <tr style=\"text-align: right;\">\n",
       "      <th></th>\n",
       "      <th>BoroCT2010</th>\n",
       "      <th>Median Age</th>\n",
       "    </tr>\n",
       "  </thead>\n",
       "  <tbody>\n",
       "    <tr>\n",
       "      <th>2162</th>\n",
       "      <td>5030302</td>\n",
       "      <td>36.5</td>\n",
       "    </tr>\n",
       "    <tr>\n",
       "      <th>2163</th>\n",
       "      <td>5031901</td>\n",
       "      <td>30.8</td>\n",
       "    </tr>\n",
       "    <tr>\n",
       "      <th>2164</th>\n",
       "      <td>5031902</td>\n",
       "      <td>30.6</td>\n",
       "    </tr>\n",
       "    <tr>\n",
       "      <th>2165</th>\n",
       "      <td>5032300</td>\n",
       "      <td>42.0</td>\n",
       "    </tr>\n",
       "    <tr>\n",
       "      <th>2166</th>\n",
       "      <td>5990100</td>\n",
       "      <td>NaN</td>\n",
       "    </tr>\n",
       "  </tbody>\n",
       "</table>\n",
       "</div>"
      ],
      "text/plain": [
       "     BoroCT2010  Median Age\n",
       "2162    5030302        36.5\n",
       "2163    5031901        30.8\n",
       "2164    5031902        30.6\n",
       "2165    5032300        42.0\n",
       "2166    5990100         NaN"
      ]
     },
     "execution_count": 53,
     "metadata": {},
     "output_type": "execute_result"
    }
   ],
   "source": [
    "age.tail()"
   ]
  },
  {
   "cell_type": "code",
   "execution_count": 54,
   "metadata": {
    "collapsed": false
   },
   "outputs": [
    {
     "data": {
      "text/plain": [
       "Index([u'Id', u'Id2', u'Geography', u'Estimate; Total:',\n",
       "       u'Margin of Error; Total:', u'Estimate; Family households:',\n",
       "       u'Margin of Error; Family households:',\n",
       "       u'Estimate; Family households: - 2-person household',\n",
       "       u'Margin of Error; Family households: - 2-person household',\n",
       "       u'Estimate; Family households: - 3-person household',\n",
       "       u'Margin of Error; Family households: - 3-person household',\n",
       "       u'Estimate; Family households: - 4-person household',\n",
       "       u'Margin of Error; Family households: - 4-person household',\n",
       "       u'Estimate; Family households: - 5-person household',\n",
       "       u'Margin of Error; Family households: - 5-person household',\n",
       "       u'Estimate; Family households: - 6-person household',\n",
       "       u'Margin of Error; Family households: - 6-person household',\n",
       "       u'Estimate; Family households: - 7-or-more person household',\n",
       "       u'Margin of Error; Family households: - 7-or-more person household',\n",
       "       u'Estimate; Nonfamily households:',\n",
       "       u'Margin of Error; Nonfamily households:',\n",
       "       u'Estimate; Nonfamily households: - 1-person household',\n",
       "       u'Margin of Error; Nonfamily households: - 1-person household',\n",
       "       u'Estimate; Nonfamily households: - 2-person household',\n",
       "       u'Margin of Error; Nonfamily households: - 2-person household',\n",
       "       u'Estimate; Nonfamily households: - 3-person household',\n",
       "       u'Margin of Error; Nonfamily households: - 3-person household',\n",
       "       u'Estimate; Nonfamily households: - 4-person household',\n",
       "       u'Margin of Error; Nonfamily households: - 4-person household',\n",
       "       u'Estimate; Nonfamily households: - 5-person household',\n",
       "       u'Margin of Error; Nonfamily households: - 5-person household',\n",
       "       u'Estimate; Nonfamily households: - 6-person household',\n",
       "       u'Margin of Error; Nonfamily households: - 6-person household',\n",
       "       u'Estimate; Nonfamily households: - 7-or-more person household',\n",
       "       u'Margin of Error; Nonfamily households: - 7-or-more person household'],\n",
       "      dtype='object')"
      ]
     },
     "execution_count": 54,
     "metadata": {},
     "output_type": "execute_result"
    }
   ],
   "source": [
    "#Import type of household (family or non-family) \n",
    "housetype = pd.read_csv('2014 Household Type.csv', skiprows=[0])\n",
    "housetype.columns"
   ]
  },
  {
   "cell_type": "code",
   "execution_count": 55,
   "metadata": {
    "collapsed": false
   },
   "outputs": [],
   "source": [
    "housetype = housetype[['Id2', 'Estimate; Total:', 'Estimate; Family households:', 'Estimate; Nonfamily households:']]"
   ]
  },
  {
   "cell_type": "code",
   "execution_count": 56,
   "metadata": {
    "collapsed": false
   },
   "outputs": [],
   "source": [
    "housetype.columns = ['BoroCT2010', 'Total households' , 'Total family households', 'Total non-family households']"
   ]
  },
  {
   "cell_type": "code",
   "execution_count": 57,
   "metadata": {
    "collapsed": false
   },
   "outputs": [
    {
     "data": {
      "text/plain": [
       "2167"
      ]
     },
     "execution_count": 57,
     "metadata": {},
     "output_type": "execute_result"
    }
   ],
   "source": [
    "len(housetype)"
   ]
  },
  {
   "cell_type": "code",
   "execution_count": 58,
   "metadata": {
    "collapsed": true
   },
   "outputs": [],
   "source": [
    "housetype.replace(regex=True,inplace=True,to_replace=r'\\D',value=r'')"
   ]
  },
  {
   "cell_type": "code",
   "execution_count": 59,
   "metadata": {
    "collapsed": true
   },
   "outputs": [],
   "source": [
    "housetype = housetype.replace('', 'NaN')"
   ]
  },
  {
   "cell_type": "code",
   "execution_count": 60,
   "metadata": {
    "collapsed": true
   },
   "outputs": [],
   "source": [
    "housetype = housetype.astype(float)"
   ]
  },
  {
   "cell_type": "code",
   "execution_count": 61,
   "metadata": {
    "collapsed": false
   },
   "outputs": [],
   "source": [
    "housetype['BoroCT2010'] = mhincome['BoroCT2010']"
   ]
  },
  {
   "cell_type": "code",
   "execution_count": 62,
   "metadata": {
    "collapsed": false
   },
   "outputs": [
    {
     "data": {
      "text/html": [
       "<div>\n",
       "<table border=\"1\" class=\"dataframe\">\n",
       "  <thead>\n",
       "    <tr style=\"text-align: right;\">\n",
       "      <th></th>\n",
       "      <th>BoroCT2010</th>\n",
       "      <th>Total households</th>\n",
       "      <th>Total family households</th>\n",
       "      <th>Total non-family households</th>\n",
       "    </tr>\n",
       "  </thead>\n",
       "  <tbody>\n",
       "    <tr>\n",
       "      <th>2162</th>\n",
       "      <td>5030302</td>\n",
       "      <td>1938</td>\n",
       "      <td>1622</td>\n",
       "      <td>316</td>\n",
       "    </tr>\n",
       "    <tr>\n",
       "      <th>2163</th>\n",
       "      <td>5031901</td>\n",
       "      <td>1086</td>\n",
       "      <td>837</td>\n",
       "      <td>249</td>\n",
       "    </tr>\n",
       "    <tr>\n",
       "      <th>2164</th>\n",
       "      <td>5031902</td>\n",
       "      <td>1619</td>\n",
       "      <td>1171</td>\n",
       "      <td>448</td>\n",
       "    </tr>\n",
       "    <tr>\n",
       "      <th>2165</th>\n",
       "      <td>5032300</td>\n",
       "      <td>464</td>\n",
       "      <td>335</td>\n",
       "      <td>129</td>\n",
       "    </tr>\n",
       "    <tr>\n",
       "      <th>2166</th>\n",
       "      <td>5990100</td>\n",
       "      <td>0</td>\n",
       "      <td>0</td>\n",
       "      <td>0</td>\n",
       "    </tr>\n",
       "  </tbody>\n",
       "</table>\n",
       "</div>"
      ],
      "text/plain": [
       "     BoroCT2010  Total households  Total family households  \\\n",
       "2162    5030302              1938                     1622   \n",
       "2163    5031901              1086                      837   \n",
       "2164    5031902              1619                     1171   \n",
       "2165    5032300               464                      335   \n",
       "2166    5990100                 0                        0   \n",
       "\n",
       "      Total non-family households  \n",
       "2162                          316  \n",
       "2163                          249  \n",
       "2164                          448  \n",
       "2165                          129  \n",
       "2166                            0  "
      ]
     },
     "execution_count": 62,
     "metadata": {},
     "output_type": "execute_result"
    }
   ],
   "source": [
    "housetype.tail()"
   ]
  },
  {
   "cell_type": "code",
   "execution_count": 63,
   "metadata": {
    "collapsed": false
   },
   "outputs": [
    {
     "data": {
      "text/plain": [
       "Index([u'Id', u'Id2', u'Geography', u'Estimate; Median value (dollars)',\n",
       "       u'Margin of Error; Median value (dollars)'],\n",
       "      dtype='object')"
      ]
     },
     "execution_count": 63,
     "metadata": {},
     "output_type": "execute_result"
    }
   ],
   "source": [
    "housevalue = pd.read_csv('2014 Median House Value.csv', skiprows=[0])\n",
    "housevalue.columns"
   ]
  },
  {
   "cell_type": "code",
   "execution_count": 64,
   "metadata": {
    "collapsed": true
   },
   "outputs": [],
   "source": [
    "housevalue = housevalue[['Id2', 'Estimate; Median value (dollars)']]"
   ]
  },
  {
   "cell_type": "code",
   "execution_count": 65,
   "metadata": {
    "collapsed": true
   },
   "outputs": [],
   "source": [
    "housevalue.columns = ['BoroCT2010', 'Median House Value']"
   ]
  },
  {
   "cell_type": "code",
   "execution_count": 66,
   "metadata": {
    "collapsed": false
   },
   "outputs": [
    {
     "data": {
      "text/plain": [
       "2167"
      ]
     },
     "execution_count": 66,
     "metadata": {},
     "output_type": "execute_result"
    }
   ],
   "source": [
    "len(housevalue)"
   ]
  },
  {
   "cell_type": "code",
   "execution_count": 67,
   "metadata": {
    "collapsed": true
   },
   "outputs": [],
   "source": [
    "housevalue.replace(regex=True,inplace=True,to_replace=r'\\D',value=r'')"
   ]
  },
  {
   "cell_type": "code",
   "execution_count": 68,
   "metadata": {
    "collapsed": true
   },
   "outputs": [],
   "source": [
    "housevalue = housevalue.replace('', 'NaN')"
   ]
  },
  {
   "cell_type": "code",
   "execution_count": 69,
   "metadata": {
    "collapsed": true
   },
   "outputs": [],
   "source": [
    "housevalue = housevalue.astype(float)"
   ]
  },
  {
   "cell_type": "code",
   "execution_count": 70,
   "metadata": {
    "collapsed": true
   },
   "outputs": [],
   "source": [
    "housevalue['BoroCT2010'] = mhincome['BoroCT2010']"
   ]
  },
  {
   "cell_type": "code",
   "execution_count": 71,
   "metadata": {
    "collapsed": false
   },
   "outputs": [
    {
     "data": {
      "text/html": [
       "<div>\n",
       "<table border=\"1\" class=\"dataframe\">\n",
       "  <thead>\n",
       "    <tr style=\"text-align: right;\">\n",
       "      <th></th>\n",
       "      <th>BoroCT2010</th>\n",
       "      <th>Median House Value</th>\n",
       "    </tr>\n",
       "  </thead>\n",
       "  <tbody>\n",
       "    <tr>\n",
       "      <th>2162</th>\n",
       "      <td>5030302</td>\n",
       "      <td>321700</td>\n",
       "    </tr>\n",
       "    <tr>\n",
       "      <th>2163</th>\n",
       "      <td>5031901</td>\n",
       "      <td>344600</td>\n",
       "    </tr>\n",
       "    <tr>\n",
       "      <th>2164</th>\n",
       "      <td>5031902</td>\n",
       "      <td>312700</td>\n",
       "    </tr>\n",
       "    <tr>\n",
       "      <th>2165</th>\n",
       "      <td>5032300</td>\n",
       "      <td>186600</td>\n",
       "    </tr>\n",
       "    <tr>\n",
       "      <th>2166</th>\n",
       "      <td>5990100</td>\n",
       "      <td>NaN</td>\n",
       "    </tr>\n",
       "  </tbody>\n",
       "</table>\n",
       "</div>"
      ],
      "text/plain": [
       "     BoroCT2010  Median House Value\n",
       "2162    5030302              321700\n",
       "2163    5031901              344600\n",
       "2164    5031902              312700\n",
       "2165    5032300              186600\n",
       "2166    5990100                 NaN"
      ]
     },
     "execution_count": 71,
     "metadata": {},
     "output_type": "execute_result"
    }
   ],
   "source": [
    "housevalue.tail()"
   ]
  },
  {
   "cell_type": "code",
   "execution_count": 72,
   "metadata": {
    "collapsed": false
   },
   "outputs": [
    {
     "data": {
      "text/plain": [
       "Index([u'Id', u'Id2', u'Geography', u'Estimate; Total:',\n",
       "       u'Margin of Error; Total:', u'Estimate; Total: - Owner occupied',\n",
       "       u'Margin of Error; Total: - Owner occupied',\n",
       "       u'Estimate; Total: - Renter occupied',\n",
       "       u'Margin of Error; Total: - Renter occupied'],\n",
       "      dtype='object')"
      ]
     },
     "execution_count": 72,
     "metadata": {},
     "output_type": "execute_result"
    }
   ],
   "source": [
    "#Importing type of resident data (owner vs renter)\n",
    "ownorrent = pd.read_csv('2014 Owner and renter units.csv', skiprows=[0])\n",
    "ownorrent.columns"
   ]
  },
  {
   "cell_type": "code",
   "execution_count": 73,
   "metadata": {
    "collapsed": true
   },
   "outputs": [],
   "source": [
    "ownorrent = ownorrent[['Id2', 'Estimate; Total:', 'Estimate; Total: - Owner occupied', 'Estimate; Total: - Renter occupied' ]]"
   ]
  },
  {
   "cell_type": "code",
   "execution_count": 74,
   "metadata": {
    "collapsed": true
   },
   "outputs": [],
   "source": [
    "ownorrent.columns = ['BoroCT2010', 'Total Hunits' , 'Owner Occupied' , 'Renter Occupied']"
   ]
  },
  {
   "cell_type": "code",
   "execution_count": 75,
   "metadata": {
    "collapsed": false
   },
   "outputs": [
    {
     "data": {
      "text/plain": [
       "2167"
      ]
     },
     "execution_count": 75,
     "metadata": {},
     "output_type": "execute_result"
    }
   ],
   "source": [
    "len(ownorrent)"
   ]
  },
  {
   "cell_type": "code",
   "execution_count": 76,
   "metadata": {
    "collapsed": true
   },
   "outputs": [],
   "source": [
    "ownorrent.replace(regex=True,inplace=True,to_replace=r'\\D',value=r'')"
   ]
  },
  {
   "cell_type": "code",
   "execution_count": 77,
   "metadata": {
    "collapsed": true
   },
   "outputs": [],
   "source": [
    "ownorrent = ownorrent.replace('', 'NaN')"
   ]
  },
  {
   "cell_type": "code",
   "execution_count": 78,
   "metadata": {
    "collapsed": true
   },
   "outputs": [],
   "source": [
    "ownorrent = ownorrent.astype(float)"
   ]
  },
  {
   "cell_type": "code",
   "execution_count": 79,
   "metadata": {
    "collapsed": true
   },
   "outputs": [],
   "source": [
    "ownorrent['BoroCT2010'] = mhincome['BoroCT2010']"
   ]
  },
  {
   "cell_type": "code",
   "execution_count": 80,
   "metadata": {
    "collapsed": false
   },
   "outputs": [
    {
     "data": {
      "text/html": [
       "<div>\n",
       "<table border=\"1\" class=\"dataframe\">\n",
       "  <thead>\n",
       "    <tr style=\"text-align: right;\">\n",
       "      <th></th>\n",
       "      <th>BoroCT2010</th>\n",
       "      <th>Total Hunits</th>\n",
       "      <th>Owner Occupied</th>\n",
       "      <th>Renter Occupied</th>\n",
       "    </tr>\n",
       "  </thead>\n",
       "  <tbody>\n",
       "    <tr>\n",
       "      <th>2162</th>\n",
       "      <td>5030302</td>\n",
       "      <td>6205</td>\n",
       "      <td>4159</td>\n",
       "      <td>2046</td>\n",
       "    </tr>\n",
       "    <tr>\n",
       "      <th>2163</th>\n",
       "      <td>5031901</td>\n",
       "      <td>2916</td>\n",
       "      <td>592</td>\n",
       "      <td>2324</td>\n",
       "    </tr>\n",
       "    <tr>\n",
       "      <th>2164</th>\n",
       "      <td>5031902</td>\n",
       "      <td>4514</td>\n",
       "      <td>2359</td>\n",
       "      <td>2155</td>\n",
       "    </tr>\n",
       "    <tr>\n",
       "      <th>2165</th>\n",
       "      <td>5032300</td>\n",
       "      <td>1106</td>\n",
       "      <td>853</td>\n",
       "      <td>253</td>\n",
       "    </tr>\n",
       "    <tr>\n",
       "      <th>2166</th>\n",
       "      <td>5990100</td>\n",
       "      <td>0</td>\n",
       "      <td>0</td>\n",
       "      <td>0</td>\n",
       "    </tr>\n",
       "  </tbody>\n",
       "</table>\n",
       "</div>"
      ],
      "text/plain": [
       "     BoroCT2010  Total Hunits  Owner Occupied  Renter Occupied\n",
       "2162    5030302          6205            4159             2046\n",
       "2163    5031901          2916             592             2324\n",
       "2164    5031902          4514            2359             2155\n",
       "2165    5032300          1106             853              253\n",
       "2166    5990100             0               0                0"
      ]
     },
     "execution_count": 80,
     "metadata": {},
     "output_type": "execute_result"
    }
   ],
   "source": [
    "ownorrent.tail()"
   ]
  },
  {
   "cell_type": "code",
   "execution_count": 81,
   "metadata": {
    "collapsed": false
   },
   "outputs": [
    {
     "data": {
      "text/plain": [
       "Index([u'Id', u'Id2', u'Geography', u'Estimate; Total',\n",
       "       u'Margin of Error; Total'],\n",
       "      dtype='object')"
      ]
     },
     "execution_count": 81,
     "metadata": {},
     "output_type": "execute_result"
    }
   ],
   "source": [
    "#Import population data\n",
    "population = pd.read_csv('2014 population.csv', skiprows=[0])\n",
    "population.columns"
   ]
  },
  {
   "cell_type": "code",
   "execution_count": 82,
   "metadata": {
    "collapsed": true
   },
   "outputs": [],
   "source": [
    "population = population[['Id2', 'Estimate; Total']]"
   ]
  },
  {
   "cell_type": "code",
   "execution_count": 83,
   "metadata": {
    "collapsed": false
   },
   "outputs": [],
   "source": [
    "population.columns = ['BoroCT2010', 'Total Population']"
   ]
  },
  {
   "cell_type": "code",
   "execution_count": 84,
   "metadata": {
    "collapsed": true
   },
   "outputs": [],
   "source": [
    "population.replace(regex=True,inplace=True,to_replace=r'\\D',value=r'')"
   ]
  },
  {
   "cell_type": "code",
   "execution_count": 85,
   "metadata": {
    "collapsed": true
   },
   "outputs": [],
   "source": [
    "population = population.replace('', 'NaN')"
   ]
  },
  {
   "cell_type": "code",
   "execution_count": 86,
   "metadata": {
    "collapsed": true
   },
   "outputs": [],
   "source": [
    "population = population.astype(float)"
   ]
  },
  {
   "cell_type": "code",
   "execution_count": 87,
   "metadata": {
    "collapsed": true
   },
   "outputs": [],
   "source": [
    "population['BoroCT2010'] = mhincome['BoroCT2010']"
   ]
  },
  {
   "cell_type": "code",
   "execution_count": 88,
   "metadata": {
    "collapsed": false
   },
   "outputs": [
    {
     "data": {
      "text/html": [
       "<div>\n",
       "<table border=\"1\" class=\"dataframe\">\n",
       "  <thead>\n",
       "    <tr style=\"text-align: right;\">\n",
       "      <th></th>\n",
       "      <th>BoroCT2010</th>\n",
       "      <th>Total Population</th>\n",
       "    </tr>\n",
       "  </thead>\n",
       "  <tbody>\n",
       "    <tr>\n",
       "      <th>2162</th>\n",
       "      <td>5030302</td>\n",
       "      <td>6205</td>\n",
       "    </tr>\n",
       "    <tr>\n",
       "      <th>2163</th>\n",
       "      <td>5031901</td>\n",
       "      <td>2916</td>\n",
       "    </tr>\n",
       "    <tr>\n",
       "      <th>2164</th>\n",
       "      <td>5031902</td>\n",
       "      <td>4535</td>\n",
       "    </tr>\n",
       "    <tr>\n",
       "      <th>2165</th>\n",
       "      <td>5032300</td>\n",
       "      <td>1106</td>\n",
       "    </tr>\n",
       "    <tr>\n",
       "      <th>2166</th>\n",
       "      <td>5990100</td>\n",
       "      <td>0</td>\n",
       "    </tr>\n",
       "  </tbody>\n",
       "</table>\n",
       "</div>"
      ],
      "text/plain": [
       "     BoroCT2010  Total Population\n",
       "2162    5030302              6205\n",
       "2163    5031901              2916\n",
       "2164    5031902              4535\n",
       "2165    5032300              1106\n",
       "2166    5990100                 0"
      ]
     },
     "execution_count": 88,
     "metadata": {},
     "output_type": "execute_result"
    }
   ],
   "source": [
    "population.tail()"
   ]
  },
  {
   "cell_type": "code",
   "execution_count": 89,
   "metadata": {
    "collapsed": false
   },
   "outputs": [
    {
     "data": {
      "text/plain": [
       "Index([u'Id', u'Id2', u'Geography',\n",
       "       u'Estimate; SEX AND AGE - Total population',\n",
       "       u'Margin of Error; SEX AND AGE - Total population',\n",
       "       u'Percent; SEX AND AGE - Total population',\n",
       "       u'Percent Margin of Error; SEX AND AGE - Total population',\n",
       "       u'Estimate; SEX AND AGE - Total population - Male',\n",
       "       u'Margin of Error; SEX AND AGE - Total population - Male',\n",
       "       u'Percent; SEX AND AGE - Total population - Male', \n",
       "       ...\n",
       "       u'Percent; HISPANIC OR LATINO AND RACE - Total population - Not Hispanic or Latino - Two or more races - Two races including Some other race',\n",
       "       u'Percent Margin of Error; HISPANIC OR LATINO AND RACE - Total population - Not Hispanic or Latino - Two or more races - Two races including Some other race',\n",
       "       u'Estimate; HISPANIC OR LATINO AND RACE - Total population - Not Hispanic or Latino - Two or more races - Two races excluding Some other race, and Three or more races',\n",
       "       u'Margin of Error; HISPANIC OR LATINO AND RACE - Total population - Not Hispanic or Latino - Two or more races - Two races excluding Some other race, and Three or more races',\n",
       "       u'Percent; HISPANIC OR LATINO AND RACE - Total population - Not Hispanic or Latino - Two or more races - Two races excluding Some other race, and Three or more races',\n",
       "       u'Percent Margin of Error; HISPANIC OR LATINO AND RACE - Total population - Not Hispanic or Latino - Two or more races - Two races excluding Some other race, and Three or more races',\n",
       "       u'Estimate; HISPANIC OR LATINO AND RACE - Total housing units',\n",
       "       u'Margin of Error; HISPANIC OR LATINO AND RACE - Total housing units',\n",
       "       u'Percent; HISPANIC OR LATINO AND RACE - Total housing units',\n",
       "       u'Percent Margin of Error; HISPANIC OR LATINO AND RACE - Total housing units'],\n",
       "      dtype='object', length=327)"
      ]
     },
     "execution_count": 89,
     "metadata": {},
     "output_type": "execute_result"
    }
   ],
   "source": [
    "#Import race data\n",
    "race = pd.read_csv('2014 Race and sex.csv', skiprows=[0])\n",
    "race.columns"
   ]
  },
  {
   "cell_type": "code",
   "execution_count": 90,
   "metadata": {
    "collapsed": false
   },
   "outputs": [],
   "source": [
    "race = race[['Id2', 'Percent; RACE - One race - White']]"
   ]
  },
  {
   "cell_type": "code",
   "execution_count": 91,
   "metadata": {
    "collapsed": true
   },
   "outputs": [],
   "source": [
    "race.columns = ['BoroCT2010', 'White only percentage']"
   ]
  },
  {
   "cell_type": "code",
   "execution_count": 92,
   "metadata": {
    "collapsed": true
   },
   "outputs": [],
   "source": [
    "race.replace(regex=True,inplace=True,to_replace=r'\\D',value=r'')"
   ]
  },
  {
   "cell_type": "code",
   "execution_count": 93,
   "metadata": {
    "collapsed": true
   },
   "outputs": [],
   "source": [
    "race = race.replace('', 'NaN')"
   ]
  },
  {
   "cell_type": "code",
   "execution_count": 94,
   "metadata": {
    "collapsed": true
   },
   "outputs": [],
   "source": [
    "race = race.astype(float)/10000"
   ]
  },
  {
   "cell_type": "code",
   "execution_count": 95,
   "metadata": {
    "collapsed": false
   },
   "outputs": [
    {
     "data": {
      "text/plain": [
       "2167"
      ]
     },
     "execution_count": 95,
     "metadata": {},
     "output_type": "execute_result"
    }
   ],
   "source": [
    "len(race)"
   ]
  },
  {
   "cell_type": "code",
   "execution_count": 96,
   "metadata": {
    "collapsed": true
   },
   "outputs": [],
   "source": [
    "race['BoroCT2010'] = mhincome['BoroCT2010']"
   ]
  },
  {
   "cell_type": "code",
   "execution_count": 97,
   "metadata": {
    "collapsed": true
   },
   "outputs": [],
   "source": [
    "race['Non-white percentage'] = 1-race['White only percentage']"
   ]
  },
  {
   "cell_type": "code",
   "execution_count": 98,
   "metadata": {
    "collapsed": false
   },
   "outputs": [
    {
     "data": {
      "text/html": [
       "<div>\n",
       "<table border=\"1\" class=\"dataframe\">\n",
       "  <thead>\n",
       "    <tr style=\"text-align: right;\">\n",
       "      <th></th>\n",
       "      <th>BoroCT2010</th>\n",
       "      <th>White only percentage</th>\n",
       "      <th>Non-white percentage</th>\n",
       "    </tr>\n",
       "  </thead>\n",
       "  <tbody>\n",
       "    <tr>\n",
       "      <th>2162</th>\n",
       "      <td>5030302</td>\n",
       "      <td>0.0460</td>\n",
       "      <td>0.9540</td>\n",
       "    </tr>\n",
       "    <tr>\n",
       "      <th>2163</th>\n",
       "      <td>5031901</td>\n",
       "      <td>0.0239</td>\n",
       "      <td>0.9761</td>\n",
       "    </tr>\n",
       "    <tr>\n",
       "      <th>2164</th>\n",
       "      <td>5031902</td>\n",
       "      <td>0.0252</td>\n",
       "      <td>0.9748</td>\n",
       "    </tr>\n",
       "    <tr>\n",
       "      <th>2165</th>\n",
       "      <td>5032300</td>\n",
       "      <td>0.0595</td>\n",
       "      <td>0.9405</td>\n",
       "    </tr>\n",
       "    <tr>\n",
       "      <th>2166</th>\n",
       "      <td>5990100</td>\n",
       "      <td>NaN</td>\n",
       "      <td>NaN</td>\n",
       "    </tr>\n",
       "  </tbody>\n",
       "</table>\n",
       "</div>"
      ],
      "text/plain": [
       "     BoroCT2010  White only percentage  Non-white percentage\n",
       "2162    5030302                 0.0460                0.9540\n",
       "2163    5031901                 0.0239                0.9761\n",
       "2164    5031902                 0.0252                0.9748\n",
       "2165    5032300                 0.0595                0.9405\n",
       "2166    5990100                    NaN                   NaN"
      ]
     },
     "execution_count": 98,
     "metadata": {},
     "output_type": "execute_result"
    }
   ],
   "source": [
    "race.tail()"
   ]
  },
  {
   "cell_type": "code",
   "execution_count": 99,
   "metadata": {
    "collapsed": false
   },
   "outputs": [
    {
     "data": {
      "text/plain": [
       "Index([u'GEO.id', u'GEO.id2', u'GEO.display-label', u'HC01_VC03', u'HC02_VC03',\n",
       "       u'HC03_VC03', u'HC04_VC03', u'HC01_VC04', u'HC02_VC04', u'HC03_VC04', \n",
       "       ...\n",
       "       u'HC03_VC201', u'HC04_VC201', u'HC01_VC202', u'HC02_VC202',\n",
       "       u'HC03_VC202', u'HC04_VC202', u'HC01_VC205', u'HC02_VC205',\n",
       "       u'HC03_VC205', u'HC04_VC205'],\n",
       "      dtype='object', length=567)"
      ]
     },
     "execution_count": 99,
     "metadata": {},
     "output_type": "execute_result"
    }
   ],
   "source": [
    "#Import median rent data\n",
    "mrent = pd.read_csv('2014 Median rent.csv', skiprows=[1])\n",
    "mrent.columns"
   ]
  },
  {
   "cell_type": "code",
   "execution_count": 100,
   "metadata": {
    "collapsed": false
   },
   "outputs": [],
   "source": [
    "mrent = mrent[['GEO.id2', 'HC01_VC189']]"
   ]
  },
  {
   "cell_type": "code",
   "execution_count": 101,
   "metadata": {
    "collapsed": false
   },
   "outputs": [],
   "source": [
    "mrent.columns = ['BoroCT2010', 'Median Rent']"
   ]
  },
  {
   "cell_type": "code",
   "execution_count": 102,
   "metadata": {
    "collapsed": true
   },
   "outputs": [],
   "source": [
    "mrent.replace(regex=True,inplace=True,to_replace=r'\\D',value=r'')"
   ]
  },
  {
   "cell_type": "code",
   "execution_count": 103,
   "metadata": {
    "collapsed": true
   },
   "outputs": [],
   "source": [
    "mrent = mrent.replace('', 'NaN')"
   ]
  },
  {
   "cell_type": "code",
   "execution_count": 104,
   "metadata": {
    "collapsed": true
   },
   "outputs": [],
   "source": [
    "mrent = mrent.astype(float)"
   ]
  },
  {
   "cell_type": "code",
   "execution_count": 105,
   "metadata": {
    "collapsed": false
   },
   "outputs": [
    {
     "data": {
      "text/plain": [
       "2167"
      ]
     },
     "execution_count": 105,
     "metadata": {},
     "output_type": "execute_result"
    }
   ],
   "source": [
    "len(mrent)"
   ]
  },
  {
   "cell_type": "code",
   "execution_count": 106,
   "metadata": {
    "collapsed": true
   },
   "outputs": [],
   "source": [
    "mrent['BoroCT2010'] = mhincome['BoroCT2010']"
   ]
  },
  {
   "cell_type": "code",
   "execution_count": 107,
   "metadata": {
    "collapsed": false
   },
   "outputs": [
    {
     "data": {
      "text/html": [
       "<div>\n",
       "<table border=\"1\" class=\"dataframe\">\n",
       "  <thead>\n",
       "    <tr style=\"text-align: right;\">\n",
       "      <th></th>\n",
       "      <th>BoroCT2010</th>\n",
       "      <th>Median Rent</th>\n",
       "    </tr>\n",
       "  </thead>\n",
       "  <tbody>\n",
       "    <tr>\n",
       "      <th>2162</th>\n",
       "      <td>5030302</td>\n",
       "      <td>1650</td>\n",
       "    </tr>\n",
       "    <tr>\n",
       "      <th>2163</th>\n",
       "      <td>5031901</td>\n",
       "      <td>603</td>\n",
       "    </tr>\n",
       "    <tr>\n",
       "      <th>2164</th>\n",
       "      <td>5031902</td>\n",
       "      <td>754</td>\n",
       "    </tr>\n",
       "    <tr>\n",
       "      <th>2165</th>\n",
       "      <td>5032300</td>\n",
       "      <td>1281</td>\n",
       "    </tr>\n",
       "    <tr>\n",
       "      <th>2166</th>\n",
       "      <td>5990100</td>\n",
       "      <td>NaN</td>\n",
       "    </tr>\n",
       "  </tbody>\n",
       "</table>\n",
       "</div>"
      ],
      "text/plain": [
       "     BoroCT2010  Median Rent\n",
       "2162    5030302         1650\n",
       "2163    5031901          603\n",
       "2164    5031902          754\n",
       "2165    5032300         1281\n",
       "2166    5990100          NaN"
      ]
     },
     "execution_count": 107,
     "metadata": {},
     "output_type": "execute_result"
    }
   ],
   "source": [
    "mrent.tail()"
   ]
  },
  {
   "cell_type": "code",
   "execution_count": 108,
   "metadata": {
    "collapsed": false
   },
   "outputs": [],
   "source": [
    "#Importing 311 total call by Census Tracts\n",
    "tcomplaints = pd.read_csv('2014 total complaints by CT.csv')\n",
    "tcomplaints.columns = ['BoroCT2010', '311 calls']\n",
    "tcomplaints.BoroCT2010 = tcomplaints.BoroCT2010.astype(str)"
   ]
  },
  {
   "cell_type": "code",
   "execution_count": 109,
   "metadata": {
    "collapsed": false
   },
   "outputs": [],
   "source": [
    "#The next lones (100 to 108) are created to merge all the demographic data sets\n",
    "#with the 311 call data\n",
    "merged = pd.merge(tcomplaints, mhincome, on='BoroCT2010')"
   ]
  },
  {
   "cell_type": "code",
   "execution_count": 110,
   "metadata": {
    "collapsed": false
   },
   "outputs": [],
   "source": [
    "merged = pd.merge(merged, carowner, on='BoroCT2010')"
   ]
  },
  {
   "cell_type": "code",
   "execution_count": 111,
   "metadata": {
    "collapsed": false
   },
   "outputs": [],
   "source": [
    "merged = pd.merge(merged, education, on='BoroCT2010')"
   ]
  },
  {
   "cell_type": "code",
   "execution_count": 112,
   "metadata": {
    "collapsed": false
   },
   "outputs": [],
   "source": [
    "merged = pd.merge(merged, age , on='BoroCT2010')"
   ]
  },
  {
   "cell_type": "code",
   "execution_count": 113,
   "metadata": {
    "collapsed": false
   },
   "outputs": [],
   "source": [
    "merged = pd.merge(merged, housetype, on='BoroCT2010')"
   ]
  },
  {
   "cell_type": "code",
   "execution_count": 114,
   "metadata": {
    "collapsed": false
   },
   "outputs": [],
   "source": [
    "merged = pd.merge(merged, housevalue, on='BoroCT2010')"
   ]
  },
  {
   "cell_type": "code",
   "execution_count": 115,
   "metadata": {
    "collapsed": false
   },
   "outputs": [],
   "source": [
    "merged = pd.merge(merged, ownorrent, on='BoroCT2010')"
   ]
  },
  {
   "cell_type": "code",
   "execution_count": 116,
   "metadata": {
    "collapsed": false
   },
   "outputs": [],
   "source": [
    "merged = pd.merge(merged, population, on='BoroCT2010')"
   ]
  },
  {
   "cell_type": "code",
   "execution_count": 117,
   "metadata": {
    "collapsed": false
   },
   "outputs": [],
   "source": [
    "merged = pd.merge(merged, race, on='BoroCT2010')"
   ]
  },
  {
   "cell_type": "code",
   "execution_count": 118,
   "metadata": {
    "collapsed": false
   },
   "outputs": [],
   "source": [
    "merged = pd.merge(merged, mrent, on='BoroCT2010')"
   ]
  },
  {
   "cell_type": "code",
   "execution_count": 119,
   "metadata": {
    "collapsed": false
   },
   "outputs": [
    {
     "data": {
      "text/html": [
       "<div>\n",
       "<table border=\"1\" class=\"dataframe\">\n",
       "  <thead>\n",
       "    <tr style=\"text-align: right;\">\n",
       "      <th></th>\n",
       "      <th>BoroCT2010</th>\n",
       "      <th>311 calls</th>\n",
       "      <th>Total Households</th>\n",
       "      <th>Median Income</th>\n",
       "      <th>Total cars</th>\n",
       "      <th>Total educated</th>\n",
       "      <th>Total High School</th>\n",
       "      <th>Total bachelors</th>\n",
       "      <th>Total masters</th>\n",
       "      <th>Total PHD</th>\n",
       "      <th>...</th>\n",
       "      <th>Total family households</th>\n",
       "      <th>Total non-family households</th>\n",
       "      <th>Median House Value</th>\n",
       "      <th>Total Hunits</th>\n",
       "      <th>Owner Occupied</th>\n",
       "      <th>Renter Occupied</th>\n",
       "      <th>Total Population</th>\n",
       "      <th>White only percentage</th>\n",
       "      <th>Non-white percentage</th>\n",
       "      <th>Median Rent</th>\n",
       "    </tr>\n",
       "  </thead>\n",
       "  <tbody>\n",
       "    <tr>\n",
       "      <th>0</th>\n",
       "      <td>1000202</td>\n",
       "      <td>580</td>\n",
       "      <td>3447</td>\n",
       "      <td>29418</td>\n",
       "      <td>744</td>\n",
       "      <td>6073</td>\n",
       "      <td>1481</td>\n",
       "      <td>959</td>\n",
       "      <td>326</td>\n",
       "      <td>30</td>\n",
       "      <td>...</td>\n",
       "      <td>2025</td>\n",
       "      <td>1422</td>\n",
       "      <td>449400</td>\n",
       "      <td>8084</td>\n",
       "      <td>1701</td>\n",
       "      <td>6383</td>\n",
       "      <td>8308</td>\n",
       "      <td>0.0441</td>\n",
       "      <td>0.9559</td>\n",
       "      <td>621</td>\n",
       "    </tr>\n",
       "    <tr>\n",
       "      <th>1</th>\n",
       "      <td>1000500</td>\n",
       "      <td>8</td>\n",
       "      <td>0</td>\n",
       "      <td>NaN</td>\n",
       "      <td>NaN</td>\n",
       "      <td>0</td>\n",
       "      <td>0</td>\n",
       "      <td>0</td>\n",
       "      <td>0</td>\n",
       "      <td>0</td>\n",
       "      <td>...</td>\n",
       "      <td>0</td>\n",
       "      <td>0</td>\n",
       "      <td>NaN</td>\n",
       "      <td>0</td>\n",
       "      <td>0</td>\n",
       "      <td>0</td>\n",
       "      <td>0</td>\n",
       "      <td>NaN</td>\n",
       "      <td>NaN</td>\n",
       "      <td>NaN</td>\n",
       "    </tr>\n",
       "    <tr>\n",
       "      <th>2</th>\n",
       "      <td>1000600</td>\n",
       "      <td>1151</td>\n",
       "      <td>3954</td>\n",
       "      <td>18944</td>\n",
       "      <td>768</td>\n",
       "      <td>8360</td>\n",
       "      <td>1177</td>\n",
       "      <td>965</td>\n",
       "      <td>238</td>\n",
       "      <td>23</td>\n",
       "      <td>...</td>\n",
       "      <td>2500</td>\n",
       "      <td>1454</td>\n",
       "      <td>519100</td>\n",
       "      <td>11149</td>\n",
       "      <td>332</td>\n",
       "      <td>10817</td>\n",
       "      <td>11354</td>\n",
       "      <td>0.0125</td>\n",
       "      <td>0.9875</td>\n",
       "      <td>589</td>\n",
       "    </tr>\n",
       "    <tr>\n",
       "      <th>3</th>\n",
       "      <td>1000700</td>\n",
       "      <td>1633</td>\n",
       "      <td>4610</td>\n",
       "      <td>114519</td>\n",
       "      <td>581</td>\n",
       "      <td>6758</td>\n",
       "      <td>103</td>\n",
       "      <td>3175</td>\n",
       "      <td>1714</td>\n",
       "      <td>277</td>\n",
       "      <td>...</td>\n",
       "      <td>1231</td>\n",
       "      <td>3379</td>\n",
       "      <td>911000</td>\n",
       "      <td>8582</td>\n",
       "      <td>1730</td>\n",
       "      <td>6852</td>\n",
       "      <td>8598</td>\n",
       "      <td>0.0724</td>\n",
       "      <td>0.9276</td>\n",
       "      <td>2000</td>\n",
       "    </tr>\n",
       "    <tr>\n",
       "      <th>4</th>\n",
       "      <td>1000800</td>\n",
       "      <td>1105</td>\n",
       "      <td>3585</td>\n",
       "      <td>24366</td>\n",
       "      <td>685</td>\n",
       "      <td>7346</td>\n",
       "      <td>1165</td>\n",
       "      <td>861</td>\n",
       "      <td>330</td>\n",
       "      <td>59</td>\n",
       "      <td>...</td>\n",
       "      <td>2411</td>\n",
       "      <td>1174</td>\n",
       "      <td>480600</td>\n",
       "      <td>9319</td>\n",
       "      <td>159</td>\n",
       "      <td>9160</td>\n",
       "      <td>9333</td>\n",
       "      <td>0.0091</td>\n",
       "      <td>0.9909</td>\n",
       "      <td>906</td>\n",
       "    </tr>\n",
       "  </tbody>\n",
       "</table>\n",
       "<p>5 rows × 22 columns</p>\n",
       "</div>"
      ],
      "text/plain": [
       "  BoroCT2010  311 calls  Total Households  Median Income  Total cars  \\\n",
       "0    1000202        580              3447          29418         744   \n",
       "1    1000500          8                 0            NaN         NaN   \n",
       "2    1000600       1151              3954          18944         768   \n",
       "3    1000700       1633              4610         114519         581   \n",
       "4    1000800       1105              3585          24366         685   \n",
       "\n",
       "   Total educated  Total High School  Total bachelors  Total masters  \\\n",
       "0            6073               1481              959            326   \n",
       "1               0                  0                0              0   \n",
       "2            8360               1177              965            238   \n",
       "3            6758                103             3175           1714   \n",
       "4            7346               1165              861            330   \n",
       "\n",
       "   Total PHD     ...       Total family households  \\\n",
       "0         30     ...                          2025   \n",
       "1          0     ...                             0   \n",
       "2         23     ...                          2500   \n",
       "3        277     ...                          1231   \n",
       "4         59     ...                          2411   \n",
       "\n",
       "   Total non-family households  Median House Value  Total Hunits  \\\n",
       "0                         1422              449400          8084   \n",
       "1                            0                 NaN             0   \n",
       "2                         1454              519100         11149   \n",
       "3                         3379              911000          8582   \n",
       "4                         1174              480600          9319   \n",
       "\n",
       "   Owner Occupied  Renter Occupied  Total Population  White only percentage  \\\n",
       "0            1701             6383              8308                 0.0441   \n",
       "1               0                0                 0                    NaN   \n",
       "2             332            10817             11354                 0.0125   \n",
       "3            1730             6852              8598                 0.0724   \n",
       "4             159             9160              9333                 0.0091   \n",
       "\n",
       "   Non-white percentage  Median Rent  \n",
       "0                0.9559          621  \n",
       "1                   NaN          NaN  \n",
       "2                0.9875          589  \n",
       "3                0.9276         2000  \n",
       "4                0.9909          906  \n",
       "\n",
       "[5 rows x 22 columns]"
      ]
     },
     "execution_count": 119,
     "metadata": {},
     "output_type": "execute_result"
    }
   ],
   "source": [
    "merged.head()"
   ]
  },
  {
   "cell_type": "code",
   "execution_count": 120,
   "metadata": {
    "collapsed": true
   },
   "outputs": [],
   "source": [
    "#The next lines are going to be used to define the normalization of the demographic\n",
    "#variables by the factor we decided\n",
    "\n",
    "#Number of normalized 311 calls (total calls by census tracts / total population by census tracts)\n",
    "merged['Normalized 311 calls'] = merged['311 calls']/merged['Total Population']"
   ]
  },
  {
   "cell_type": "code",
   "execution_count": 121,
   "metadata": {
    "collapsed": true
   },
   "outputs": [],
   "source": [
    "#Number of normalized cars in each area (total cars by census tracts / total population by census tracts)\n",
    "merged['Normalized cars'] = merged['Total cars']/merged['Total Population']"
   ]
  },
  {
   "cell_type": "code",
   "execution_count": 122,
   "metadata": {
    "collapsed": false
   },
   "outputs": [],
   "source": [
    "#Number of normalized educated people by level of education in each area by 1000 people\n",
    "#(total educated people by level of education by census tracts / total population with education by census tracts)\n",
    "# multiplied by 1000\n",
    "merged['Normalized High school'] = merged['Total High School']/merged['Total educated']*1000\n",
    "merged['Normalized bachelors'] = merged['Total bachelors']/merged['Total educated']*1000\n",
    "merged['Normalized masters'] = merged['Total masters']/merged['Total educated']*1000\n",
    "merged['Normalized PHD'] = merged['Total PHD']/merged['Total educated']*1000"
   ]
  },
  {
   "cell_type": "code",
   "execution_count": 123,
   "metadata": {
    "collapsed": false
   },
   "outputs": [],
   "source": [
    "#Number of normalized type of households in each area (total type of household by census tracts / \n",
    "#total number of households by census tracts)\n",
    "merged['Normalized familiy household'] = merged['Total family households']/merged['Total households']\n",
    "merged['Normalized non-family household'] = merged['Total non-family households']/merged['Total households']"
   ]
  },
  {
   "cell_type": "code",
   "execution_count": 124,
   "metadata": {
    "collapsed": false
   },
   "outputs": [],
   "source": [
    "#Number of normalized type of house units in each area (total type of house units by census tracts / \n",
    "#total number of house units by census tracts)\n",
    "merged['Normalized owner ocuppied'] = merged['Owner Occupied']/merged['Total Hunits']\n",
    "merged['Normalized renter ocuppied'] = merged['Renter Occupied']/merged['Total Hunits']"
   ]
  },
  {
   "cell_type": "code",
   "execution_count": 125,
   "metadata": {
    "collapsed": false
   },
   "outputs": [
    {
     "data": {
      "text/plain": [
       "Index([u'BoroCT2010', u'311 calls', u'Total Households', u'Median Income',\n",
       "       u'Total cars', u'Total educated', u'Total High School',\n",
       "       u'Total bachelors', u'Total masters', u'Total PHD', u'Median Age',\n",
       "       u'Total households', u'Total family households',\n",
       "       u'Total non-family households', u'Median House Value', u'Total Hunits',\n",
       "       u'Owner Occupied', u'Renter Occupied', u'Total Population',\n",
       "       u'White only percentage', u'Non-white percentage', u'Median Rent',\n",
       "       u'Normalized 311 calls', u'Normalized cars', u'Normalized High school',\n",
       "       u'Normalized bachelors', u'Normalized masters', u'Normalized PHD',\n",
       "       u'Normalized familiy household', u'Normalized non-family household',\n",
       "       u'Normalized owner ocuppied', u'Normalized renter ocuppied'],\n",
       "      dtype='object')"
      ]
     },
     "execution_count": 125,
     "metadata": {},
     "output_type": "execute_result"
    }
   ],
   "source": [
    "merged.columns"
   ]
  },
  {
   "cell_type": "code",
   "execution_count": 126,
   "metadata": {
    "collapsed": false
   },
   "outputs": [],
   "source": [
    "merged = merged[['BoroCT2010', u'Normalized 311 calls', 'Median House Value', 'Median Age', 'White only percentage', \n",
    "                 'Non-white percentage', 'Median Rent', 'Median Income', 'Normalized cars', \n",
    "                 'Normalized High school', 'Normalized bachelors', 'Normalized masters', 'Normalized PHD', \n",
    "                 'Normalized familiy household', 'Normalized non-family household', 'Normalized owner ocuppied',\n",
    "                 'Normalized renter ocuppied']]"
   ]
  },
  {
   "cell_type": "code",
   "execution_count": 127,
   "metadata": {
    "collapsed": false
   },
   "outputs": [
    {
     "data": {
      "text/plain": [
       "Index([u'BoroCT2010', u'Normalized 311 calls', u'Median House Value',\n",
       "       u'Median Age', u'White only percentage', u'Non-white percentage',\n",
       "       u'Median Rent', u'Median Income', u'Normalized cars',\n",
       "       u'Normalized High school', u'Normalized bachelors',\n",
       "       u'Normalized masters', u'Normalized PHD',\n",
       "       u'Normalized familiy household', u'Normalized non-family household',\n",
       "       u'Normalized owner ocuppied', u'Normalized renter ocuppied'],\n",
       "      dtype='object')"
      ]
     },
     "execution_count": 127,
     "metadata": {},
     "output_type": "execute_result"
    }
   ],
   "source": [
    "merged.columns"
   ]
  },
  {
   "cell_type": "code",
   "execution_count": 128,
   "metadata": {
    "collapsed": false
   },
   "outputs": [
    {
     "data": {
      "text/html": [
       "<div>\n",
       "<table border=\"1\" class=\"dataframe\">\n",
       "  <thead>\n",
       "    <tr style=\"text-align: right;\">\n",
       "      <th></th>\n",
       "      <th>BoroCT2010</th>\n",
       "      <th>Normalized 311 calls</th>\n",
       "      <th>Median House Value</th>\n",
       "      <th>Median Age</th>\n",
       "      <th>White only percentage</th>\n",
       "      <th>Non-white percentage</th>\n",
       "      <th>Median Rent</th>\n",
       "      <th>Median Income</th>\n",
       "      <th>Normalized cars</th>\n",
       "      <th>Normalized High school</th>\n",
       "      <th>Normalized bachelors</th>\n",
       "      <th>Normalized masters</th>\n",
       "      <th>Normalized PHD</th>\n",
       "      <th>Normalized familiy household</th>\n",
       "      <th>Normalized non-family household</th>\n",
       "      <th>Normalized owner ocuppied</th>\n",
       "      <th>Normalized renter ocuppied</th>\n",
       "    </tr>\n",
       "  </thead>\n",
       "  <tbody>\n",
       "    <tr>\n",
       "      <th>2073</th>\n",
       "      <td>5030301</td>\n",
       "      <td>0.145426</td>\n",
       "      <td>351700</td>\n",
       "      <td>32.2</td>\n",
       "      <td>0.0656</td>\n",
       "      <td>0.9344</td>\n",
       "      <td>1294</td>\n",
       "      <td>59625</td>\n",
       "      <td>0.459593</td>\n",
       "      <td>314.980794</td>\n",
       "      <td>145.646607</td>\n",
       "      <td>82.266325</td>\n",
       "      <td>6.402049</td>\n",
       "      <td>0.682418</td>\n",
       "      <td>0.317582</td>\n",
       "      <td>0.574367</td>\n",
       "      <td>0.425633</td>\n",
       "    </tr>\n",
       "    <tr>\n",
       "      <th>2074</th>\n",
       "      <td>5030302</td>\n",
       "      <td>0.138437</td>\n",
       "      <td>321700</td>\n",
       "      <td>36.5</td>\n",
       "      <td>0.0460</td>\n",
       "      <td>0.9540</td>\n",
       "      <td>1650</td>\n",
       "      <td>80887</td>\n",
       "      <td>0.460919</td>\n",
       "      <td>263.744428</td>\n",
       "      <td>184.744923</td>\n",
       "      <td>97.325409</td>\n",
       "      <td>18.325904</td>\n",
       "      <td>0.836945</td>\n",
       "      <td>0.163055</td>\n",
       "      <td>0.670266</td>\n",
       "      <td>0.329734</td>\n",
       "    </tr>\n",
       "    <tr>\n",
       "      <th>2075</th>\n",
       "      <td>5031901</td>\n",
       "      <td>0.120027</td>\n",
       "      <td>344600</td>\n",
       "      <td>30.8</td>\n",
       "      <td>0.0239</td>\n",
       "      <td>0.9761</td>\n",
       "      <td>603</td>\n",
       "      <td>27031</td>\n",
       "      <td>0.236968</td>\n",
       "      <td>231.129315</td>\n",
       "      <td>140.433002</td>\n",
       "      <td>14.043300</td>\n",
       "      <td>0.000000</td>\n",
       "      <td>0.770718</td>\n",
       "      <td>0.229282</td>\n",
       "      <td>0.203018</td>\n",
       "      <td>0.796982</td>\n",
       "    </tr>\n",
       "    <tr>\n",
       "      <th>2076</th>\n",
       "      <td>5031902</td>\n",
       "      <td>0.248291</td>\n",
       "      <td>312700</td>\n",
       "      <td>30.6</td>\n",
       "      <td>0.0252</td>\n",
       "      <td>0.9748</td>\n",
       "      <td>754</td>\n",
       "      <td>31750</td>\n",
       "      <td>0.307828</td>\n",
       "      <td>313.438438</td>\n",
       "      <td>163.288288</td>\n",
       "      <td>48.423423</td>\n",
       "      <td>0.000000</td>\n",
       "      <td>0.723286</td>\n",
       "      <td>0.276714</td>\n",
       "      <td>0.522596</td>\n",
       "      <td>0.477404</td>\n",
       "    </tr>\n",
       "    <tr>\n",
       "      <th>2077</th>\n",
       "      <td>5032300</td>\n",
       "      <td>0.289331</td>\n",
       "      <td>186600</td>\n",
       "      <td>42.0</td>\n",
       "      <td>0.0595</td>\n",
       "      <td>0.9405</td>\n",
       "      <td>1281</td>\n",
       "      <td>58804</td>\n",
       "      <td>0.522604</td>\n",
       "      <td>236.077482</td>\n",
       "      <td>134.382567</td>\n",
       "      <td>23.002421</td>\n",
       "      <td>0.000000</td>\n",
       "      <td>0.721983</td>\n",
       "      <td>0.278017</td>\n",
       "      <td>0.771248</td>\n",
       "      <td>0.228752</td>\n",
       "    </tr>\n",
       "  </tbody>\n",
       "</table>\n",
       "</div>"
      ],
      "text/plain": [
       "     BoroCT2010  Normalized 311 calls  Median House Value  Median Age  \\\n",
       "2073    5030301              0.145426              351700        32.2   \n",
       "2074    5030302              0.138437              321700        36.5   \n",
       "2075    5031901              0.120027              344600        30.8   \n",
       "2076    5031902              0.248291              312700        30.6   \n",
       "2077    5032300              0.289331              186600        42.0   \n",
       "\n",
       "      White only percentage  Non-white percentage  Median Rent  Median Income  \\\n",
       "2073                 0.0656                0.9344         1294          59625   \n",
       "2074                 0.0460                0.9540         1650          80887   \n",
       "2075                 0.0239                0.9761          603          27031   \n",
       "2076                 0.0252                0.9748          754          31750   \n",
       "2077                 0.0595                0.9405         1281          58804   \n",
       "\n",
       "      Normalized cars  Normalized High school  Normalized bachelors  \\\n",
       "2073         0.459593              314.980794            145.646607   \n",
       "2074         0.460919              263.744428            184.744923   \n",
       "2075         0.236968              231.129315            140.433002   \n",
       "2076         0.307828              313.438438            163.288288   \n",
       "2077         0.522604              236.077482            134.382567   \n",
       "\n",
       "      Normalized masters  Normalized PHD  Normalized familiy household  \\\n",
       "2073           82.266325        6.402049                      0.682418   \n",
       "2074           97.325409       18.325904                      0.836945   \n",
       "2075           14.043300        0.000000                      0.770718   \n",
       "2076           48.423423        0.000000                      0.723286   \n",
       "2077           23.002421        0.000000                      0.721983   \n",
       "\n",
       "      Normalized non-family household  Normalized owner ocuppied  \\\n",
       "2073                         0.317582                   0.574367   \n",
       "2074                         0.163055                   0.670266   \n",
       "2075                         0.229282                   0.203018   \n",
       "2076                         0.276714                   0.522596   \n",
       "2077                         0.278017                   0.771248   \n",
       "\n",
       "      Normalized renter ocuppied  \n",
       "2073                    0.425633  \n",
       "2074                    0.329734  \n",
       "2075                    0.796982  \n",
       "2076                    0.477404  \n",
       "2077                    0.228752  "
      ]
     },
     "execution_count": 128,
     "metadata": {},
     "output_type": "execute_result"
    }
   ],
   "source": [
    "merged.tail()"
   ]
  },
  {
   "cell_type": "code",
   "execution_count": 129,
   "metadata": {
    "collapsed": true
   },
   "outputs": [],
   "source": [
    "merged.to_csv('Demographic and 311 calls merged.csv')"
   ]
  },
  {
   "cell_type": "code",
   "execution_count": null,
   "metadata": {
    "collapsed": true
   },
   "outputs": [],
   "source": []
  }
 ],
 "metadata": {
  "kernelspec": {
   "display_name": "Python 2",
   "language": "python",
   "name": "python2"
  },
  "language_info": {
   "codemirror_mode": {
    "name": "ipython",
    "version": 2
   },
   "file_extension": ".py",
   "mimetype": "text/x-python",
   "name": "python",
   "nbconvert_exporter": "python",
   "pygments_lexer": "ipython2",
   "version": "2.7.10"
  }
 },
 "nbformat": 4,
 "nbformat_minor": 0
}
